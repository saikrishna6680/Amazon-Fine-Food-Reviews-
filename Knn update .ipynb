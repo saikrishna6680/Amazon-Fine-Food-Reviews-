{
 "cells": [
  {
   "cell_type": "markdown",
   "metadata": {},
   "source": [
    "# Assignment:-"
   ]
  },
  {
   "cell_type": "markdown",
   "metadata": {},
   "source": [
    "# Knn on Amazon Fine Food Reviews analysis"
   ]
  },
  {
   "cell_type": "markdown",
   "metadata": {},
   "source": [
    "## Amazon Fine Food Reviews Analysis\n",
    "\n",
    "\n",
    "Data Source: https://www.kaggle.com/snap/amazon-fine-food-reviews\n",
    "\n",
    "The Amazon Fine Food Reviews dataset consists of reviews of fine foods from Amazon.<br>\n",
    "\n",
    "Number of reviews: 568,454<br>\n",
    "Number of users: 256,059<br>\n",
    "Number of products: 74,258<br>\n",
    "Timespan: Oct 1999 - Oct 2012<br>\n",
    "Number of Attributes/Columns in data: 10 \n",
    "\n",
    "Attribute Information:\n",
    "\n",
    "1. Id\n",
    "2. ProductId - unique identifier for the product\n",
    "3. UserId - unqiue identifier for the user\n",
    "4. ProfileName\n",
    "5. HelpfulnessNumerator - number of users who found the review helpful\n",
    "6. HelpfulnessDenominator - number of users who indicated whether they found the review helpful or not\n",
    "7. Score - rating between 1 and 5\n",
    "8. Time - timestamp for the review\n",
    "9. Summary - brief summary of the review\n",
    "10. Text - text of the review"
   ]
  },
  {
   "cell_type": "markdown",
   "metadata": {},
   "source": [
    "## 1. Objective:\n",
    "\n",
    "Given a review, determine whether the review is positive (Rating of 4 or 5) or negative (rating of 1 or 2). Use BoW, TF-IDF, Avg-Word2Vec,TF-IDF-Word2Vec to vectorise the reviews.\n",
    "Make 70% of them as Train dataset and remaining 30% as Test dataset.\n",
    "Apply 10-fold cross validation on Train dataset to find K for K-NN.Find Test accuracy of Test data and confusion matrix.\n"
   ]
  },
  {
   "cell_type": "markdown",
   "metadata": {},
   "source": [
    "##  Loading the data\n",
    "\n",
    "The dataset is available in two forms\n",
    "1. .csv file\n",
    "2. SQLite Database\n",
    "\n",
    "In order to load the data, We have used the SQLITE dataset as it easier to query the data and visualise the data efficiently.\n",
    "<br> \n",
    "\n",
    "Here as we only want to get the global sentiment of the recommendations (positive or negative), we will purposefully ignore all Scores equal to 3. If the score id above 3, then the recommendation wil be set to \"positive\". Otherwise, it will be set to \"negative\"."
   ]
  },
  {
   "cell_type": "code",
   "execution_count": 1,
   "metadata": {},
   "outputs": [],
   "source": [
    "# loading required libraries \n",
    "%matplotlib inline\n",
    "\n",
    "import warnings\n",
    "warnings.filterwarnings('ignore')\n",
    "\n",
    "import sqlite3\n",
    "import pandas as pd\n",
    "import numpy as np\n",
    "import nltk\n",
    "import string\n",
    "import matplotlib.pyplot as plt\n",
    "import seaborn as sns\n",
    "from sklearn.feature_extraction.text import TfidfTransformer\n",
    "from sklearn.feature_extraction.text import TfidfVectorizer\n",
    "\n",
    "from sklearn.feature_extraction.text import CountVectorizer\n",
    "from sklearn.metrics import confusion_matrix\n",
    "from sklearn import metrics\n",
    "from sklearn.metrics import roc_curve, auc\n",
    "from nltk.stem.porter import PorterStemmer\n",
    "from sklearn.model_selection import train_test_split\n",
    "from sklearn.neighbors import KNeighborsClassifier\n",
    "from sklearn.metrics import accuracy_score\n",
    "from sklearn.model_selection import cross_val_score\n",
    "from collections import Counter\n",
    "from sklearn.metrics import accuracy_score\n",
    "from sklearn import model_selection\n",
    "import warnings\n",
    "warnings.filterwarnings('ignore')\n"
   ]
  },
  {
   "cell_type": "markdown",
   "metadata": {},
   "source": [
    "## 1.1 Connecting SQL File"
   ]
  },
  {
   "cell_type": "code",
   "execution_count": 2,
   "metadata": {},
   "outputs": [],
   "source": [
    "#Loading the data\n",
    "con = sqlite3.connect('./final.sqlite')\n",
    "\n",
    "data = pd.read_sql_query(\"\"\"\n",
    "SELECT *\n",
    "FROM Reviews\n",
    "\"\"\", con)"
   ]
  },
  {
   "cell_type": "code",
   "execution_count": 3,
   "metadata": {},
   "outputs": [
    {
     "name": "stdout",
     "output_type": "stream",
     "text": [
      "(364171, 12)\n"
     ]
    },
    {
     "data": {
      "text/html": [
       "<div>\n",
       "<style scoped>\n",
       "    .dataframe tbody tr th:only-of-type {\n",
       "        vertical-align: middle;\n",
       "    }\n",
       "\n",
       "    .dataframe tbody tr th {\n",
       "        vertical-align: top;\n",
       "    }\n",
       "\n",
       "    .dataframe thead th {\n",
       "        text-align: right;\n",
       "    }\n",
       "</style>\n",
       "<table border=\"1\" class=\"dataframe\">\n",
       "  <thead>\n",
       "    <tr style=\"text-align: right;\">\n",
       "      <th></th>\n",
       "      <th>index</th>\n",
       "      <th>Id</th>\n",
       "      <th>ProductId</th>\n",
       "      <th>UserId</th>\n",
       "      <th>ProfileName</th>\n",
       "      <th>HelpfulnessNumerator</th>\n",
       "      <th>HelpfulnessDenominator</th>\n",
       "      <th>Score</th>\n",
       "      <th>Time</th>\n",
       "      <th>Summary</th>\n",
       "      <th>Text</th>\n",
       "      <th>CleanedText</th>\n",
       "    </tr>\n",
       "  </thead>\n",
       "  <tbody>\n",
       "    <tr>\n",
       "      <th>0</th>\n",
       "      <td>138706</td>\n",
       "      <td>150524</td>\n",
       "      <td>0006641040</td>\n",
       "      <td>ACITT7DI6IDDL</td>\n",
       "      <td>shari zychinski</td>\n",
       "      <td>0</td>\n",
       "      <td>0</td>\n",
       "      <td>positive</td>\n",
       "      <td>939340800</td>\n",
       "      <td>EVERY book is educational</td>\n",
       "      <td>this witty little book makes my son laugh at l...</td>\n",
       "      <td>witti littl book make son laugh loud recit car...</td>\n",
       "    </tr>\n",
       "    <tr>\n",
       "      <th>1</th>\n",
       "      <td>138688</td>\n",
       "      <td>150506</td>\n",
       "      <td>0006641040</td>\n",
       "      <td>A2IW4PEEKO2R0U</td>\n",
       "      <td>Tracy</td>\n",
       "      <td>1</td>\n",
       "      <td>1</td>\n",
       "      <td>positive</td>\n",
       "      <td>1194739200</td>\n",
       "      <td>Love the book, miss the hard cover version</td>\n",
       "      <td>I grew up reading these Sendak books, and watc...</td>\n",
       "      <td>grew read sendak book watch realli rosi movi i...</td>\n",
       "    </tr>\n",
       "    <tr>\n",
       "      <th>2</th>\n",
       "      <td>138689</td>\n",
       "      <td>150507</td>\n",
       "      <td>0006641040</td>\n",
       "      <td>A1S4A3IQ2MU7V4</td>\n",
       "      <td>sally sue \"sally sue\"</td>\n",
       "      <td>1</td>\n",
       "      <td>1</td>\n",
       "      <td>positive</td>\n",
       "      <td>1191456000</td>\n",
       "      <td>chicken soup with rice months</td>\n",
       "      <td>This is a fun way for children to learn their ...</td>\n",
       "      <td>fun way children learn month year learn poem t...</td>\n",
       "    </tr>\n",
       "    <tr>\n",
       "      <th>3</th>\n",
       "      <td>138690</td>\n",
       "      <td>150508</td>\n",
       "      <td>0006641040</td>\n",
       "      <td>AZGXZ2UUK6X</td>\n",
       "      <td>Catherine Hallberg \"(Kate)\"</td>\n",
       "      <td>1</td>\n",
       "      <td>1</td>\n",
       "      <td>positive</td>\n",
       "      <td>1076025600</td>\n",
       "      <td>a good swingy rhythm for reading aloud</td>\n",
       "      <td>This is a great little book to read aloud- it ...</td>\n",
       "      <td>great littl book read nice rhythm well good re...</td>\n",
       "    </tr>\n",
       "    <tr>\n",
       "      <th>4</th>\n",
       "      <td>138691</td>\n",
       "      <td>150509</td>\n",
       "      <td>0006641040</td>\n",
       "      <td>A3CMRKGE0P909G</td>\n",
       "      <td>Teresa</td>\n",
       "      <td>3</td>\n",
       "      <td>4</td>\n",
       "      <td>positive</td>\n",
       "      <td>1018396800</td>\n",
       "      <td>A great way to learn the months</td>\n",
       "      <td>This is a book of poetry about the months of t...</td>\n",
       "      <td>book poetri month year goe month cute littl po...</td>\n",
       "    </tr>\n",
       "  </tbody>\n",
       "</table>\n",
       "</div>"
      ],
      "text/plain": [
       "    index      Id   ProductId          UserId                  ProfileName  \\\n",
       "0  138706  150524  0006641040   ACITT7DI6IDDL              shari zychinski   \n",
       "1  138688  150506  0006641040  A2IW4PEEKO2R0U                        Tracy   \n",
       "2  138689  150507  0006641040  A1S4A3IQ2MU7V4        sally sue \"sally sue\"   \n",
       "3  138690  150508  0006641040     AZGXZ2UUK6X  Catherine Hallberg \"(Kate)\"   \n",
       "4  138691  150509  0006641040  A3CMRKGE0P909G                       Teresa   \n",
       "\n",
       "   HelpfulnessNumerator  HelpfulnessDenominator     Score        Time  \\\n",
       "0                     0                       0  positive   939340800   \n",
       "1                     1                       1  positive  1194739200   \n",
       "2                     1                       1  positive  1191456000   \n",
       "3                     1                       1  positive  1076025600   \n",
       "4                     3                       4  positive  1018396800   \n",
       "\n",
       "                                      Summary  \\\n",
       "0                   EVERY book is educational   \n",
       "1  Love the book, miss the hard cover version   \n",
       "2               chicken soup with rice months   \n",
       "3      a good swingy rhythm for reading aloud   \n",
       "4             A great way to learn the months   \n",
       "\n",
       "                                                Text  \\\n",
       "0  this witty little book makes my son laugh at l...   \n",
       "1  I grew up reading these Sendak books, and watc...   \n",
       "2  This is a fun way for children to learn their ...   \n",
       "3  This is a great little book to read aloud- it ...   \n",
       "4  This is a book of poetry about the months of t...   \n",
       "\n",
       "                                         CleanedText  \n",
       "0  witti littl book make son laugh loud recit car...  \n",
       "1  grew read sendak book watch realli rosi movi i...  \n",
       "2  fun way children learn month year learn poem t...  \n",
       "3  great littl book read nice rhythm well good re...  \n",
       "4  book poetri month year goe month cute littl po...  "
      ]
     },
     "execution_count": 3,
     "metadata": {},
     "output_type": "execute_result"
    }
   ],
   "source": [
    "print(data.shape)\n",
    "data.head()"
   ]
  },
  {
   "cell_type": "markdown",
   "metadata": {},
   "source": [
    "## 1.2 Data Preprocessing"
   ]
  },
  {
   "cell_type": "code",
   "execution_count": 4,
   "metadata": {},
   "outputs": [
    {
     "data": {
      "text/plain": [
       "positive    307061\n",
       "negative     57110\n",
       "Name: Score, dtype: int64"
      ]
     },
     "execution_count": 4,
     "metadata": {},
     "output_type": "execute_result"
    }
   ],
   "source": [
    "data.Score.value_counts()\n",
    "#i had done data preprocessing i had stored in final.sqlite now loaded this file no need to do again data preprocessing"
   ]
  },
  {
   "cell_type": "markdown",
   "metadata": {},
   "source": [
    "## 1.3 Sorting the data"
   ]
  },
  {
   "cell_type": "code",
   "execution_count": 5,
   "metadata": {},
   "outputs": [
    {
     "data": {
      "text/html": [
       "<div>\n",
       "<style scoped>\n",
       "    .dataframe tbody tr th:only-of-type {\n",
       "        vertical-align: middle;\n",
       "    }\n",
       "\n",
       "    .dataframe tbody tr th {\n",
       "        vertical-align: top;\n",
       "    }\n",
       "\n",
       "    .dataframe thead th {\n",
       "        text-align: right;\n",
       "    }\n",
       "</style>\n",
       "<table border=\"1\" class=\"dataframe\">\n",
       "  <thead>\n",
       "    <tr style=\"text-align: right;\">\n",
       "      <th></th>\n",
       "      <th>index</th>\n",
       "      <th>Id</th>\n",
       "      <th>ProductId</th>\n",
       "      <th>UserId</th>\n",
       "      <th>ProfileName</th>\n",
       "      <th>HelpfulnessNumerator</th>\n",
       "      <th>HelpfulnessDenominator</th>\n",
       "      <th>Score</th>\n",
       "      <th>Time</th>\n",
       "      <th>Summary</th>\n",
       "      <th>Text</th>\n",
       "      <th>CleanedText</th>\n",
       "    </tr>\n",
       "  </thead>\n",
       "  <tbody>\n",
       "    <tr>\n",
       "      <th>0</th>\n",
       "      <td>138706</td>\n",
       "      <td>150524</td>\n",
       "      <td>0006641040</td>\n",
       "      <td>ACITT7DI6IDDL</td>\n",
       "      <td>shari zychinski</td>\n",
       "      <td>0</td>\n",
       "      <td>0</td>\n",
       "      <td>positive</td>\n",
       "      <td>939340800</td>\n",
       "      <td>EVERY book is educational</td>\n",
       "      <td>this witty little book makes my son laugh at l...</td>\n",
       "      <td>witti littl book make son laugh loud recit car...</td>\n",
       "    </tr>\n",
       "    <tr>\n",
       "      <th>30</th>\n",
       "      <td>138683</td>\n",
       "      <td>150501</td>\n",
       "      <td>0006641040</td>\n",
       "      <td>AJ46FKXOVC7NR</td>\n",
       "      <td>Nicholas A Mesiano</td>\n",
       "      <td>2</td>\n",
       "      <td>2</td>\n",
       "      <td>positive</td>\n",
       "      <td>940809600</td>\n",
       "      <td>This whole series is great way to spend time w...</td>\n",
       "      <td>I can remember seeing the show when it aired o...</td>\n",
       "      <td>rememb see show air televis year ago child sis...</td>\n",
       "    </tr>\n",
       "    <tr>\n",
       "      <th>424</th>\n",
       "      <td>417839</td>\n",
       "      <td>451856</td>\n",
       "      <td>B00004CXX9</td>\n",
       "      <td>AIUWLEQ1ADEG5</td>\n",
       "      <td>Elizabeth Medina</td>\n",
       "      <td>0</td>\n",
       "      <td>0</td>\n",
       "      <td>positive</td>\n",
       "      <td>944092800</td>\n",
       "      <td>Entertainingl Funny!</td>\n",
       "      <td>Beetlejuice is a well written movie ..... ever...</td>\n",
       "      <td>beetlejuic well written movi everyth excel act...</td>\n",
       "    </tr>\n",
       "    <tr>\n",
       "      <th>330</th>\n",
       "      <td>346055</td>\n",
       "      <td>374359</td>\n",
       "      <td>B00004CI84</td>\n",
       "      <td>A344SMIA5JECGM</td>\n",
       "      <td>Vincent P. Ross</td>\n",
       "      <td>1</td>\n",
       "      <td>2</td>\n",
       "      <td>positive</td>\n",
       "      <td>944438400</td>\n",
       "      <td>A modern day fairy tale</td>\n",
       "      <td>A twist of rumplestiskin captured on film, sta...</td>\n",
       "      <td>twist rumplestiskin captur film star michael k...</td>\n",
       "    </tr>\n",
       "    <tr>\n",
       "      <th>423</th>\n",
       "      <td>417838</td>\n",
       "      <td>451855</td>\n",
       "      <td>B00004CXX9</td>\n",
       "      <td>AJH6LUC1UT1ON</td>\n",
       "      <td>The Phantom of the Opera</td>\n",
       "      <td>0</td>\n",
       "      <td>0</td>\n",
       "      <td>positive</td>\n",
       "      <td>946857600</td>\n",
       "      <td>FANTASTIC!</td>\n",
       "      <td>Beetlejuice is an excellent and funny movie. K...</td>\n",
       "      <td>beetlejuic excel funni movi keaton hilari wack...</td>\n",
       "    </tr>\n",
       "  </tbody>\n",
       "</table>\n",
       "</div>"
      ],
      "text/plain": [
       "      index      Id   ProductId          UserId               ProfileName  \\\n",
       "0    138706  150524  0006641040   ACITT7DI6IDDL           shari zychinski   \n",
       "30   138683  150501  0006641040   AJ46FKXOVC7NR        Nicholas A Mesiano   \n",
       "424  417839  451856  B00004CXX9   AIUWLEQ1ADEG5          Elizabeth Medina   \n",
       "330  346055  374359  B00004CI84  A344SMIA5JECGM           Vincent P. Ross   \n",
       "423  417838  451855  B00004CXX9   AJH6LUC1UT1ON  The Phantom of the Opera   \n",
       "\n",
       "     HelpfulnessNumerator  HelpfulnessDenominator     Score       Time  \\\n",
       "0                       0                       0  positive  939340800   \n",
       "30                      2                       2  positive  940809600   \n",
       "424                     0                       0  positive  944092800   \n",
       "330                     1                       2  positive  944438400   \n",
       "423                     0                       0  positive  946857600   \n",
       "\n",
       "                                               Summary  \\\n",
       "0                            EVERY book is educational   \n",
       "30   This whole series is great way to spend time w...   \n",
       "424                               Entertainingl Funny!   \n",
       "330                            A modern day fairy tale   \n",
       "423                                         FANTASTIC!   \n",
       "\n",
       "                                                  Text  \\\n",
       "0    this witty little book makes my son laugh at l...   \n",
       "30   I can remember seeing the show when it aired o...   \n",
       "424  Beetlejuice is a well written movie ..... ever...   \n",
       "330  A twist of rumplestiskin captured on film, sta...   \n",
       "423  Beetlejuice is an excellent and funny movie. K...   \n",
       "\n",
       "                                           CleanedText  \n",
       "0    witti littl book make son laugh loud recit car...  \n",
       "30   rememb see show air televis year ago child sis...  \n",
       "424  beetlejuic well written movi everyth excel act...  \n",
       "330  twist rumplestiskin captur film star michael k...  \n",
       "423  beetlejuic excel funni movi keaton hilari wack...  "
      ]
     },
     "execution_count": 5,
     "metadata": {},
     "output_type": "execute_result"
    }
   ],
   "source": [
    "# Sorting the data according to the time-stamp\n",
    "sorted_data = data.sort_values('Time', axis=0, ascending=True, inplace=False, kind='quicksort', na_position='last')\n",
    "sorted_data.head()"
   ]
  },
  {
   "cell_type": "markdown",
   "metadata": {},
   "source": [
    "## 1.4 Taking first 100k rows"
   ]
  },
  {
   "cell_type": "code",
   "execution_count": 6,
   "metadata": {},
   "outputs": [
    {
     "name": "stdout",
     "output_type": "stream",
     "text": [
      "(100000, 12)\n"
     ]
    },
    {
     "data": {
      "text/html": [
       "<div>\n",
       "<style scoped>\n",
       "    .dataframe tbody tr th:only-of-type {\n",
       "        vertical-align: middle;\n",
       "    }\n",
       "\n",
       "    .dataframe tbody tr th {\n",
       "        vertical-align: top;\n",
       "    }\n",
       "\n",
       "    .dataframe thead th {\n",
       "        text-align: right;\n",
       "    }\n",
       "</style>\n",
       "<table border=\"1\" class=\"dataframe\">\n",
       "  <thead>\n",
       "    <tr style=\"text-align: right;\">\n",
       "      <th></th>\n",
       "      <th>index</th>\n",
       "      <th>Id</th>\n",
       "      <th>ProductId</th>\n",
       "      <th>UserId</th>\n",
       "      <th>ProfileName</th>\n",
       "      <th>HelpfulnessNumerator</th>\n",
       "      <th>HelpfulnessDenominator</th>\n",
       "      <th>Score</th>\n",
       "      <th>Time</th>\n",
       "      <th>Summary</th>\n",
       "      <th>Text</th>\n",
       "      <th>CleanedText</th>\n",
       "    </tr>\n",
       "  </thead>\n",
       "  <tbody>\n",
       "    <tr>\n",
       "      <th>0</th>\n",
       "      <td>138706</td>\n",
       "      <td>150524</td>\n",
       "      <td>0006641040</td>\n",
       "      <td>ACITT7DI6IDDL</td>\n",
       "      <td>shari zychinski</td>\n",
       "      <td>0</td>\n",
       "      <td>0</td>\n",
       "      <td>positive</td>\n",
       "      <td>939340800</td>\n",
       "      <td>EVERY book is educational</td>\n",
       "      <td>this witty little book makes my son laugh at l...</td>\n",
       "      <td>witti littl book make son laugh loud recit car...</td>\n",
       "    </tr>\n",
       "    <tr>\n",
       "      <th>30</th>\n",
       "      <td>138683</td>\n",
       "      <td>150501</td>\n",
       "      <td>0006641040</td>\n",
       "      <td>AJ46FKXOVC7NR</td>\n",
       "      <td>Nicholas A Mesiano</td>\n",
       "      <td>2</td>\n",
       "      <td>2</td>\n",
       "      <td>positive</td>\n",
       "      <td>940809600</td>\n",
       "      <td>This whole series is great way to spend time w...</td>\n",
       "      <td>I can remember seeing the show when it aired o...</td>\n",
       "      <td>rememb see show air televis year ago child sis...</td>\n",
       "    </tr>\n",
       "    <tr>\n",
       "      <th>424</th>\n",
       "      <td>417839</td>\n",
       "      <td>451856</td>\n",
       "      <td>B00004CXX9</td>\n",
       "      <td>AIUWLEQ1ADEG5</td>\n",
       "      <td>Elizabeth Medina</td>\n",
       "      <td>0</td>\n",
       "      <td>0</td>\n",
       "      <td>positive</td>\n",
       "      <td>944092800</td>\n",
       "      <td>Entertainingl Funny!</td>\n",
       "      <td>Beetlejuice is a well written movie ..... ever...</td>\n",
       "      <td>beetlejuic well written movi everyth excel act...</td>\n",
       "    </tr>\n",
       "    <tr>\n",
       "      <th>330</th>\n",
       "      <td>346055</td>\n",
       "      <td>374359</td>\n",
       "      <td>B00004CI84</td>\n",
       "      <td>A344SMIA5JECGM</td>\n",
       "      <td>Vincent P. Ross</td>\n",
       "      <td>1</td>\n",
       "      <td>2</td>\n",
       "      <td>positive</td>\n",
       "      <td>944438400</td>\n",
       "      <td>A modern day fairy tale</td>\n",
       "      <td>A twist of rumplestiskin captured on film, sta...</td>\n",
       "      <td>twist rumplestiskin captur film star michael k...</td>\n",
       "    </tr>\n",
       "    <tr>\n",
       "      <th>423</th>\n",
       "      <td>417838</td>\n",
       "      <td>451855</td>\n",
       "      <td>B00004CXX9</td>\n",
       "      <td>AJH6LUC1UT1ON</td>\n",
       "      <td>The Phantom of the Opera</td>\n",
       "      <td>0</td>\n",
       "      <td>0</td>\n",
       "      <td>positive</td>\n",
       "      <td>946857600</td>\n",
       "      <td>FANTASTIC!</td>\n",
       "      <td>Beetlejuice is an excellent and funny movie. K...</td>\n",
       "      <td>beetlejuic excel funni movi keaton hilari wack...</td>\n",
       "    </tr>\n",
       "  </tbody>\n",
       "</table>\n",
       "</div>"
      ],
      "text/plain": [
       "      index      Id   ProductId          UserId               ProfileName  \\\n",
       "0    138706  150524  0006641040   ACITT7DI6IDDL           shari zychinski   \n",
       "30   138683  150501  0006641040   AJ46FKXOVC7NR        Nicholas A Mesiano   \n",
       "424  417839  451856  B00004CXX9   AIUWLEQ1ADEG5          Elizabeth Medina   \n",
       "330  346055  374359  B00004CI84  A344SMIA5JECGM           Vincent P. Ross   \n",
       "423  417838  451855  B00004CXX9   AJH6LUC1UT1ON  The Phantom of the Opera   \n",
       "\n",
       "     HelpfulnessNumerator  HelpfulnessDenominator     Score       Time  \\\n",
       "0                       0                       0  positive  939340800   \n",
       "30                      2                       2  positive  940809600   \n",
       "424                     0                       0  positive  944092800   \n",
       "330                     1                       2  positive  944438400   \n",
       "423                     0                       0  positive  946857600   \n",
       "\n",
       "                                               Summary  \\\n",
       "0                            EVERY book is educational   \n",
       "30   This whole series is great way to spend time w...   \n",
       "424                               Entertainingl Funny!   \n",
       "330                            A modern day fairy tale   \n",
       "423                                         FANTASTIC!   \n",
       "\n",
       "                                                  Text  \\\n",
       "0    this witty little book makes my son laugh at l...   \n",
       "30   I can remember seeing the show when it aired o...   \n",
       "424  Beetlejuice is a well written movie ..... ever...   \n",
       "330  A twist of rumplestiskin captured on film, sta...   \n",
       "423  Beetlejuice is an excellent and funny movie. K...   \n",
       "\n",
       "                                           CleanedText  \n",
       "0    witti littl book make son laugh loud recit car...  \n",
       "30   rememb see show air televis year ago child sis...  \n",
       "424  beetlejuic well written movi everyth excel act...  \n",
       "330  twist rumplestiskin captur film star michael k...  \n",
       "423  beetlejuic excel funni movi keaton hilari wack...  "
      ]
     },
     "execution_count": 6,
     "metadata": {},
     "output_type": "execute_result"
    }
   ],
   "source": [
    "# We will collect different 100000 rows without repetition from time_sorted_data dataframe\n",
    "my_final = sorted_data[:100000]\n",
    "print(my_final.shape)\n",
    "my_final.head()"
   ]
  },
  {
   "cell_type": "markdown",
   "metadata": {},
   "source": [
    "## 1.5 Spliting data into train and test based on time (70:30)\n"
   ]
  },
  {
   "cell_type": "code",
   "execution_count": 7,
   "metadata": {},
   "outputs": [
    {
     "name": "stdout",
     "output_type": "stream",
     "text": [
      "(70000,)\n",
      "(30000,)\n",
      "(70000,)\n",
      "(30000,)\n"
     ]
    }
   ],
   "source": [
    "from sklearn.model_selection import train_test_split\n",
    "\n",
    "\n",
    "x=my_final['CleanedText'].values\n",
    "y=my_final['Score']\n",
    "\n",
    "#Splitting data into train test and cross validation \n",
    "x_train, x_test, y_train, y_test = train_test_split(x,y,test_size =0.3,random_state = 42)\n",
    "\n",
    "print(x_train.shape)\n",
    "print(x_test.shape)\n",
    "print(y_train.shape)\n",
    "print(y_test.shape)"
   ]
  },
  {
   "cell_type": "markdown",
   "metadata": {},
   "source": [
    "## 2. Techniques For Vectorization"
   ]
  },
  {
   "cell_type": "markdown",
   "metadata": {},
   "source": [
    "## Why we have to convert text to vector\n",
    "By converting text to vector we can use whole power of linear algebra.we can find a plane to seperate"
   ]
  },
  {
   "cell_type": "markdown",
   "metadata": {},
   "source": [
    "## 2.1 BOW"
   ]
  },
  {
   "cell_type": "code",
   "execution_count": 8,
   "metadata": {},
   "outputs": [
    {
     "name": "stdout",
     "output_type": "stream",
     "text": [
      "the type of count vectorizer  <class 'scipy.sparse.csr.csr_matrix'>\n",
      "the shape of out text BOW vectorizer  (70000, 2000)\n",
      "the number of unique words  2000\n",
      "the type of count vectorizer  <class 'scipy.sparse.csr.csr_matrix'>\n",
      "the shape of out text BOW vectorizer  (30000, 2000)\n"
     ]
    }
   ],
   "source": [
    "#Bow\n",
    "\n",
    "from sklearn.feature_extraction.text import CountVectorizer\n",
    "count_vect = CountVectorizer(max_features=2000,min_df=50) \n",
    "final_counts_Bow_tr= count_vect.fit_transform(x_train)# computing Bow\n",
    "print(\"the type of count vectorizer \",type(final_counts_Bow_tr))\n",
    "print(\"the shape of out text BOW vectorizer \",final_counts_Bow_tr.get_shape())\n",
    "print(\"the number of unique words \", final_counts_Bow_tr.get_shape()[1])\n",
    "final_counts_Bow_test= count_vect.transform(x_test)# computing Bow\n",
    "print(\"the type of count vectorizer \",type(final_counts_Bow_test))\n",
    "print(\"the shape of out text BOW vectorizer \",final_counts_Bow_test.get_shape())"
   ]
  },
  {
   "cell_type": "markdown",
   "metadata": {},
   "source": [
    "## 2.1.1 Standardizing Data"
   ]
  },
  {
   "cell_type": "code",
   "execution_count": 9,
   "metadata": {},
   "outputs": [
    {
     "name": "stdout",
     "output_type": "stream",
     "text": [
      "(70000, 2000)\n",
      "(30000, 2000)\n"
     ]
    }
   ],
   "source": [
    "# Data-preprocessing: Standardizing the data\n",
    "\n",
    "from sklearn import preprocessing\n",
    "standardized_data_train = preprocessing.normalize(final_counts_Bow_tr)\n",
    "print(standardized_data_train.shape)\n",
    "standardized_data_test = preprocessing.normalize(final_counts_Bow_test)\n",
    "print(standardized_data_test.shape)"
   ]
  },
  {
   "cell_type": "markdown",
   "metadata": {},
   "source": [
    "## 2.2 Applying 10-fold CV by using brute Algorithm"
   ]
  },
  {
   "cell_type": "code",
   "execution_count": 10,
   "metadata": {},
   "outputs": [
    {
     "name": "stdout",
     "output_type": "stream",
     "text": [
      "\n",
      "The optimal number of neighbors is 7.\n"
     ]
    }
   ],
   "source": [
    "\n",
    "myList = list(range(0,50))\n",
    "neighbors = list(filter(lambda x: x % 2 != 0, myList))\n",
    "\n",
    "# empty list that will hold cv scores\n",
    "cv_scores = []\n",
    "\n",
    "# perform 10-fold cross validation\n",
    "for k in neighbors:\n",
    "    knn = KNeighborsClassifier(n_neighbors=k,algorithm='brute',n_jobs=-1)\n",
    "    scores = cross_val_score(knn, standardized_data_train, y_train,cv=10, scoring='f1_weighted',n_jobs=-1)\n",
    "    cv_scores.append(scores.mean())\n",
    "    \n",
    "# changing to misclassification error\n",
    "MSE_bow = [1 - x for x in cv_scores]\n",
    "\n",
    "# determining best k\n",
    "optimal_k_bow = neighbors[MSE_bow.index(min(MSE_bow))]  \n",
    "print('\\nThe optimal number of neighbors is %d.' % optimal_k_bow)"
   ]
  },
  {
   "cell_type": "code",
   "execution_count": 11,
   "metadata": {},
   "outputs": [
    {
     "name": "stdout",
     "output_type": "stream",
     "text": [
      "\n",
      "The accuracy of the knn classifier in train for k = 7 is 89.758571%\n"
     ]
    },
    {
     "data": {
      "image/png": "[encoded data removed]",
      "text/plain": [
       "<Figure size 432x288 with 1 Axes>"
      ]
     },
     "metadata": {},
     "output_type": "display_data"
    },
    {
     "name": "stdout",
     "output_type": "stream",
     "text": [
      "the misclassification error for each k value is :  [0.165 0.152 0.15  0.15  0.152 0.155 0.156 0.157 0.159 0.16  0.161 0.162\n",
      " 0.163 0.163 0.164 0.165 0.165 0.166 0.167 0.167 0.167 0.168 0.169 0.169\n",
      " 0.169]\n"
     ]
    }
   ],
   "source": [
    "# ============================== KNN with k = optimal_k ===============================================\n",
    "# instantiate learning model k = optimal_k\n",
    "\n",
    "knn_optimal_bow = KNeighborsClassifier(n_neighbors=optimal_k_bow, algorithm='brute')\n",
    "\n",
    "# fitting the model\n",
    "knn_optimal_bow.fit(standardized_data_train,y_train)\n",
    "\n",
    "# predict the response\n",
    "pred_bow = knn_optimal_bow.predict(standardized_data_test)\n",
    "pred1_bow = knn_optimal_bow.predict(standardized_data_train)\n",
    "\n",
    "# evaluate accuracy\n",
    "acc_bow = accuracy_score(y_test, pred_bow) * 100\n",
    "acc1_bow = accuracy_score(y_train, pred1_bow) * 100\n",
    "\n",
    " \n",
    "print('\\nThe accuracy of the knn classifier in train for k = %d is %f%%' % (optimal_k_bow, acc1_bow))\n",
    "\n",
    "# plot misclassification error vs k \n",
    "plt.plot(neighbors, MSE_bow)\n",
    "\n",
    "for xy in zip(neighbors, np.round(MSE_bow,3)):\n",
    "    plt.annotate('(%s, %s)' % xy, xy=xy, textcoords='data')\n",
    "plt.xlabel('Number of Neighbors K')\n",
    "plt.ylabel('Misclassification Error')                \n",
    "plt.show()\n",
    "\n",
    "print(\"the misclassification error for each k value is : \", np.round(MSE_bow,3))"
   ]
  },
  {
   "cell_type": "markdown",
   "metadata": {},
   "source": [
    "## 2.3 Error on Test data"
   ]
  },
  {
   "cell_type": "code",
   "execution_count": 12,
   "metadata": {},
   "outputs": [
    {
     "name": "stdout",
     "output_type": "stream",
     "text": [
      "Test Error 11.226667%\n"
     ]
    }
   ],
   "source": [
    "# Error on test data\n",
    "test_error_bow = 100-acc_bow\n",
    "print(\"Test Error %f%%\" % (test_error_bow))"
   ]
  },
  {
   "cell_type": "markdown",
   "metadata": {},
   "source": [
    "## 2.4 Confusion matrix"
   ]
  },
  {
   "cell_type": "code",
   "execution_count": 13,
   "metadata": {},
   "outputs": [
    {
     "data": {
      "text/plain": [
       "array([[  458,  3159],\n",
       "       [  209, 26174]])"
      ]
     },
     "execution_count": 13,
     "metadata": {},
     "output_type": "execute_result"
    }
   ],
   "source": [
    "# Confusion Matrix\n",
    "\n",
    "from sklearn.metrics import confusion_matrix\n",
    "cm_bow = confusion_matrix(y_test,pred_bow)\n",
    "cm_bow"
   ]
  },
  {
   "cell_type": "code",
   "execution_count": 14,
   "metadata": {
    "scrolled": true
   },
   "outputs": [
    {
     "data": {
      "image/png": "[encoded data removed]",
      "text/plain": [
       "<Figure size 432x288 with 2 Axes>"
      ]
     },
     "metadata": {},
     "output_type": "display_data"
    }
   ],
   "source": [
    "# plot confusion matrix to describe the performance of classifier.\n",
    "\n",
    "# plot confusion matrix to describe the performance of classifier.\n",
    "import seaborn as sns\n",
    "class_label = [\"negative\", \"positive\"]\n",
    "df_cm = pd.DataFrame(cm_bow, index = class_label, columns = class_label)\n",
    "sns.heatmap(df_cm, annot = True, fmt = \"d\")\n",
    "plt.title(\"Confusion Matrix\")\n",
    "plt.xlabel(\"Predicted Label\")\n",
    "plt.ylabel(\"True Label\")\n",
    "plt.show()\n"
   ]
  },
  {
   "cell_type": "markdown",
   "metadata": {},
   "source": [
    "## 2.5 Classification Report"
   ]
  },
  {
   "cell_type": "code",
   "execution_count": 15,
   "metadata": {},
   "outputs": [
    {
     "name": "stdout",
     "output_type": "stream",
     "text": [
      "              precision    recall  f1-score   support\n",
      "\n",
      "    negative       0.69      0.13      0.21      3617\n",
      "    positive       0.89      0.99      0.94     26383\n",
      "\n",
      "   micro avg       0.89      0.89      0.89     30000\n",
      "   macro avg       0.79      0.56      0.58     30000\n",
      "weighted avg       0.87      0.89      0.85     30000\n",
      "\n"
     ]
    }
   ],
   "source": [
    "from sklearn.metrics import classification_report\n",
    "print(classification_report(y_test, pred_bow))"
   ]
  },
  {
   "cell_type": "markdown",
   "metadata": {},
   "source": [
    "## 2.6 Precision Score"
   ]
  },
  {
   "cell_type": "code",
   "execution_count": 16,
   "metadata": {},
   "outputs": [
    {
     "name": "stdout",
     "output_type": "stream",
     "text": [
      "precision_score for the BoW Knn model is = 0.887733\n"
     ]
    }
   ],
   "source": [
    "# Micro-average is preferable if there is a class imbalance problem.\n",
    "#In Micro-average method, you sum up the individual true positives, false positives, and false negatives of the system for different sets \n",
    "from sklearn.metrics import precision_score\n",
    "precision_score = precision_score(y_test,pred_bow,average='micro')\n",
    "print(\"precision_score for the BoW Knn model is = %f\" % (precision_score))"
   ]
  },
  {
   "cell_type": "markdown",
   "metadata": {},
   "source": [
    "## 2.7 Recall Score"
   ]
  },
  {
   "cell_type": "code",
   "execution_count": 17,
   "metadata": {},
   "outputs": [
    {
     "name": "stdout",
     "output_type": "stream",
     "text": [
      "recall_score for the BoW Knn model is = 0.887733\n"
     ]
    }
   ],
   "source": [
    "from sklearn.metrics import recall_score\n",
    "recall_score = recall_score(y_test,pred_bow,average='micro')\n",
    "print(\"recall_score for the BoW Knn model is = %f\" % (recall_score))"
   ]
  },
  {
   "cell_type": "code",
   "execution_count": 18,
   "metadata": {},
   "outputs": [
    {
     "name": "stdout",
     "output_type": "stream",
     "text": [
      " true negitves are 458 \n",
      " false positives are 3159 \n",
      " false negatives are 209\n",
      " true positives are 26174 \n",
      " \n"
     ]
    }
   ],
   "source": [
    "#finding out  true negative , false positive , false negative and true positve \n",
    "tn, fp, fn, tp = cm_bow.ravel()\n",
    "( tp, fp, fn, tp)\n",
    "print(\" true negitves are {} \\n false positives are {} \\n false negatives are {}\\n true positives are {} \\n \".format(tn,fp,fn,tp))"
   ]
  },
  {
   "cell_type": "markdown",
   "metadata": {},
   "source": [
    "## 3.  10-fold cv using kd-tree"
   ]
  },
  {
   "cell_type": "code",
   "execution_count": 19,
   "metadata": {},
   "outputs": [],
   "source": [
    "from sklearn.decomposition import TruncatedSVD\n",
    "final_counts_Bow_tr_svd = TruncatedSVD(n_components=90).fit_transform(final_counts_Bow_tr)\n",
    "final_counts_Bow_tr_svd1 = TruncatedSVD(n_components=90).fit_transform(final_counts_Bow_test)"
   ]
  },
  {
   "cell_type": "markdown",
   "metadata": {},
   "source": [
    "## 3.1 Standardizing Data"
   ]
  },
  {
   "cell_type": "code",
   "execution_count": 20,
   "metadata": {},
   "outputs": [
    {
     "name": "stdout",
     "output_type": "stream",
     "text": [
      "(70000, 90)\n",
      "(30000, 90)\n"
     ]
    }
   ],
   "source": [
    "# Data-preprocessing: Standardizing the data\n",
    "\n",
    "from sklearn import preprocessing\n",
    "standardized_data_train = preprocessing.normalize(final_counts_Bow_tr_svd)\n",
    "print(standardized_data_train.shape)\n",
    "standardized_data_test = preprocessing.normalize(final_counts_Bow_tr_svd1)\n",
    "print(standardized_data_test.shape)"
   ]
  },
  {
   "cell_type": "code",
   "execution_count": 21,
   "metadata": {},
   "outputs": [
    {
     "name": "stdout",
     "output_type": "stream",
     "text": [
      "\n",
      "The optimal number of neighbors is 9.\n"
     ]
    }
   ],
   "source": [
    "myList = list(range(0,50))\n",
    "neighbors = list(filter(lambda x: x % 2 != 0, myList))\n",
    "\n",
    "# empty list that will hold cv scores\n",
    "cv_scores = []\n",
    "\n",
    "# perform 10-fold cross validation\n",
    "for k in neighbors:\n",
    "    knn = KNeighborsClassifier(n_neighbors=k,algorithm='kd_tree', n_jobs=-1)\n",
    "    scores = cross_val_score(knn, standardized_data_train, y_train, cv=10, scoring='f1_weighted',n_jobs = -1)\n",
    "    cv_scores.append(scores.mean())\n",
    "\n",
    "# changing to misclassification error\n",
    "MSE_bow_kdtree = [1 - x for x in cv_scores]\n",
    "\n",
    "# determining best k\n",
    "optimal_k_bow_kdtree = neighbors[MSE_bow_kdtree.index(min(MSE_bow_kdtree))]\n",
    "print('\\nThe optimal number of neighbors is %d.' % optimal_k_bow_kdtree)"
   ]
  },
  {
   "cell_type": "code",
   "execution_count": 22,
   "metadata": {},
   "outputs": [
    {
     "name": "stdout",
     "output_type": "stream",
     "text": [
      "\n",
      "The accuracy of the knn classifier in test for k = 9 is 86.143333%\n",
      "\n",
      "The accuracy of the knn classifier in train for k = 9 is 89.177143%\n"
     ]
    }
   ],
   "source": [
    "# ============================== KNN with k = optimal_k ===============================================\n",
    "# instantiate learning model k = optimal_k\n",
    "knn_optimal_bow_kdtree = KNeighborsClassifier(n_neighbors=optimal_k_bow_kdtree, algorithm = 'kd_tree')\n",
    "\n",
    "# fitting the model\n",
    "knn_optimal_bow_kdtree.fit(standardized_data_train, y_train)\n",
    "\n",
    "# predict the response\n",
    "pred_bow_kdtree = knn_optimal_bow_kdtree.predict(standardized_data_test)\n",
    "pred1_bow_kdtree = knn_optimal_bow_kdtree.predict(standardized_data_train)\n",
    "\n",
    "\n",
    "# evaluate accuracy\n",
    "acc_bow_kdtree = accuracy_score(y_test, pred_bow_kdtree) * 100\n",
    "acc1_bow_kdtree = accuracy_score(y_train, pred1_bow_kdtree) * 100\n",
    "\n",
    "print('\\nThe accuracy of the knn classifier in test for k = %d is %f%%' % (optimal_k_bow_kdtree, acc_bow_kdtree))\n",
    "print('\\nThe accuracy of the knn classifier in train for k = %d is %f%%' % (optimal_k_bow_kdtree, acc1_bow_kdtree))"
   ]
  },
  {
   "cell_type": "markdown",
   "metadata": {},
   "source": [
    "## 3.2 Error on Test data"
   ]
  },
  {
   "cell_type": "code",
   "execution_count": 23,
   "metadata": {},
   "outputs": [
    {
     "name": "stdout",
     "output_type": "stream",
     "text": [
      "Test Error 13.856667%\n"
     ]
    }
   ],
   "source": [
    "# Error on test data\n",
    "test_error_bow = 100-acc_bow_kdtree\n",
    "print(\"Test Error %f%%\" % (test_error_bow))"
   ]
  },
  {
   "cell_type": "markdown",
   "metadata": {},
   "source": [
    "## 3.3 Confusion Matrix"
   ]
  },
  {
   "cell_type": "code",
   "execution_count": 24,
   "metadata": {},
   "outputs": [
    {
     "data": {
      "text/plain": [
       "array([[   92,  3525],\n",
       "       [  632, 25751]])"
      ]
     },
     "execution_count": 24,
     "metadata": {},
     "output_type": "execute_result"
    }
   ],
   "source": [
    "# Confusion Matrix\n",
    "from sklearn.metrics import confusion_matrix\n",
    "cm_bow_kdtree = confusion_matrix(y_test, pred_bow_kdtree)\n",
    "cm_bow_kdtree"
   ]
  },
  {
   "cell_type": "code",
   "execution_count": 25,
   "metadata": {},
   "outputs": [
    {
     "data": {
      "image/png": "[encoded data removed]",
      "text/plain": [
       "<Figure size 432x288 with 2 Axes>"
      ]
     },
     "metadata": {},
     "output_type": "display_data"
    }
   ],
   "source": [
    "# plot confusion matrix to describe the performance of classifier.\n",
    "import seaborn as sns\n",
    "class_label = [\"negative\", \"positive\"]\n",
    "df_cm = pd.DataFrame(cm_bow_kdtree, index = class_label, columns = class_label)\n",
    "sns.heatmap(df_cm, annot = True, fmt = \"d\")\n",
    "plt.title(\"Confusion Matrix\")\n",
    "plt.xlabel(\"Predicted Label\")\n",
    "plt.ylabel(\"True Label\")\n",
    "plt.show()"
   ]
  },
  {
   "cell_type": "markdown",
   "metadata": {},
   "source": [
    "## 3.4 Precision Score"
   ]
  },
  {
   "cell_type": "code",
   "execution_count": 26,
   "metadata": {},
   "outputs": [
    {
     "name": "stdout",
     "output_type": "stream",
     "text": [
      "precision_score for the BoW Knn model is = 0.861433\n"
     ]
    }
   ],
   "source": [
    "# Micro-average is preferable if there is a class imbalance problem.\n",
    "#In Micro-average method, you sum up the individual true positives, false positives, and false negatives of the system for different sets \n",
    "from sklearn.metrics import precision_score\n",
    "precision_score = precision_score(y_test,pred_bow_kdtree,average='micro')\n",
    "print(\"precision_score for the BoW Knn model is = %f\" % (precision_score))"
   ]
  },
  {
   "cell_type": "markdown",
   "metadata": {},
   "source": [
    "## 3.5 Recall Score"
   ]
  },
  {
   "cell_type": "code",
   "execution_count": 27,
   "metadata": {},
   "outputs": [
    {
     "name": "stdout",
     "output_type": "stream",
     "text": [
      "recall_score for the BoW Knn model is = 0.861433\n"
     ]
    }
   ],
   "source": [
    "from sklearn.metrics import recall_score\n",
    "recall_score = recall_score(y_test,pred_bow_kdtree,average='micro')\n",
    "print(\"recall_score for the BoW Knn model is = %f\" % (recall_score))"
   ]
  },
  {
   "cell_type": "code",
   "execution_count": 28,
   "metadata": {},
   "outputs": [
    {
     "name": "stdout",
     "output_type": "stream",
     "text": [
      " true negitves are 92 \n",
      " false positives are 3525 \n",
      " false negatives are 632\n",
      " true positives are 25751 \n",
      " \n"
     ]
    }
   ],
   "source": [
    "#finding out  true negative , false positive , false negative and true positve \n",
    "tn, fp, fn, tp = cm_bow_kdtree.ravel()\n",
    "( tp, fp, fn, tp)\n",
    "print(\" true negitves are {} \\n false positives are {} \\n false negatives are {}\\n true positives are {} \\n \".format(tn,fp,fn,tp))"
   ]
  },
  {
   "cell_type": "markdown",
   "metadata": {},
   "source": [
    "## 4. TF-IDF"
   ]
  },
  {
   "cell_type": "code",
   "execution_count": 29,
   "metadata": {},
   "outputs": [],
   "source": [
    "#tf-idf\n",
    "from sklearn.feature_extraction.text import TfidfVectorizer\n",
    "tf_idf_vect = TfidfVectorizer(max_features=2000,min_df=50)"
   ]
  },
  {
   "cell_type": "code",
   "execution_count": 30,
   "metadata": {},
   "outputs": [
    {
     "name": "stdout",
     "output_type": "stream",
     "text": [
      "the type of count vectorizer  <class 'scipy.sparse.csr.csr_matrix'>\n",
      "the shape of out text tfidf vectorizer  (70000, 2000)\n",
      "the number of unique words  2000\n",
      "the type of count vectorizer  <class 'scipy.sparse.csr.csr_matrix'>\n",
      "the shape of out text tfidf vectorizer  (30000, 2000)\n",
      "the number of unique words  2000\n"
     ]
    }
   ],
   "source": [
    "final_counts_tfidf_tr= tf_idf_vect.fit_transform(x_train)\n",
    "print(\"the type of count vectorizer \",type(final_counts_tfidf_tr))\n",
    "print(\"the shape of out text tfidf vectorizer \",final_counts_tfidf_tr.get_shape())\n",
    "print(\"the number of unique words \", final_counts_tfidf_tr.get_shape()[1])\n",
    "final_counts_tfidf_test= tf_idf_vect.transform(x_test)\n",
    "print(\"the type of count vectorizer \",type(final_counts_tfidf_test))\n",
    "print(\"the shape of out text tfidf vectorizer \",final_counts_tfidf_test.get_shape())\n",
    "print(\"the number of unique words \", final_counts_tfidf_test.get_shape()[1])"
   ]
  },
  {
   "cell_type": "markdown",
   "metadata": {},
   "source": [
    "## 4.1 Standardizing Data"
   ]
  },
  {
   "cell_type": "code",
   "execution_count": 31,
   "metadata": {},
   "outputs": [
    {
     "name": "stdout",
     "output_type": "stream",
     "text": [
      "(70000, 2000)\n",
      "(30000, 2000)\n"
     ]
    }
   ],
   "source": [
    "# Data-preprocessing: Standardizing the data\n",
    "from sklearn import preprocessing\n",
    "standardized_data_train = preprocessing.normalize(final_counts_tfidf_tr)\n",
    "print(standardized_data_train.shape)\n",
    "standardized_data_test = preprocessing.normalize(final_counts_tfidf_test)\n",
    "print(standardized_data_test.shape)"
   ]
  },
  {
   "cell_type": "markdown",
   "metadata": {},
   "source": [
    "## 4.2 Applying 10-fold CV by using brute algorithm"
   ]
  },
  {
   "cell_type": "code",
   "execution_count": 32,
   "metadata": {},
   "outputs": [
    {
     "name": "stdout",
     "output_type": "stream",
     "text": [
      "\n",
      "The optimal number of neighbors is 5.\n"
     ]
    }
   ],
   "source": [
    "#Calculating 10 fold CV \n",
    "\n",
    "# creating odd list of K for KNN\n",
    "myList_tfidf = list(range(0,50))\n",
    "neighbors_tfidf = list(filter(lambda x: x % 2 != 0, myList_tfidf))\n",
    "\n",
    "# empty list that will hold cv scores\n",
    "cv_scores_tfidf = []\n",
    "\n",
    "# perform 10-fold cross validation\n",
    "for k in neighbors_tfidf:\n",
    "    knn = KNeighborsClassifier(n_neighbors=k,algorithm='brute', n_jobs=-1)\n",
    "    scores = cross_val_score(knn, standardized_data_train, y_train, cv=10, scoring='f1_weighted',n_jobs=-1)\n",
    "    cv_scores_tfidf.append(scores.mean())\n",
    "\n",
    "# changing to misclassification error\n",
    "MSE_tfidf = [1 - x for x in cv_scores_tfidf]\n",
    "\n",
    "# determining best k\n",
    "optimal_k_tfidf = neighbors_tfidf[MSE_tfidf.index(min(MSE_tfidf))]\n",
    "print('\\nThe optimal number of neighbors is %d.' % optimal_k_tfidf)"
   ]
  },
  {
   "cell_type": "code",
   "execution_count": 33,
   "metadata": {},
   "outputs": [
    {
     "name": "stdout",
     "output_type": "stream",
     "text": [
      "\n",
      "The accuracy of the knn classifier in test for k = 5 is 88.690000%\n",
      "\n",
      "The accuracy of the knn classifier in train for k = 5 is 90.204286%\n"
     ]
    },
    {
     "data": {
      "image/png": "[encoded data removed]",
      "text/plain": [
       "<Figure size 432x288 with 1 Axes>"
      ]
     },
     "metadata": {},
     "output_type": "display_data"
    },
    {
     "name": "stdout",
     "output_type": "stream",
     "text": [
      "the misclassification error for each k value is :  [0.166 0.152 0.15  0.152 0.153 0.154 0.155 0.155 0.156 0.157 0.158 0.159\n",
      " 0.159 0.16  0.16  0.16  0.161 0.162 0.162 0.163 0.164 0.164 0.165 0.165\n",
      " 0.165]\n"
     ]
    }
   ],
   "source": [
    "# ============================== KNN with k = optimal_k ===============================================\n",
    "# instantiate learning model k = optimal_k\n",
    "knn_optimal_tfidf = KNeighborsClassifier(n_neighbors=optimal_k_tfidf, algorithm='brute')\n",
    "\n",
    "# fitting the model\n",
    "knn_optimal_tfidf.fit(standardized_data_train,y_train)\n",
    "\n",
    "# predict the response\n",
    "pred_tfidf = knn_optimal_tfidf.predict(standardized_data_test)\n",
    "pred1_tfidf = knn_optimal_tfidf.predict(standardized_data_train)\n",
    "\n",
    "# evaluate accuracy\n",
    "acc_tfidf = accuracy_score(y_test, pred_tfidf) * 100\n",
    "acc1_tfidf = accuracy_score(y_train, pred1_tfidf) * 100\n",
    "\n",
    "print('\\nThe accuracy of the knn classifier in test for k = %d is %f%%' % (optimal_k_tfidf, acc_tfidf))\n",
    "print('\\nThe accuracy of the knn classifier in train for k = %d is %f%%' % (optimal_k_tfidf, acc1_tfidf))\n",
    "\n",
    "# plot misclassification error vs k \n",
    "plt.plot(neighbors, MSE_tfidf)\n",
    "\n",
    "for xy in zip(neighbors, np.round(MSE_tfidf,3)):\n",
    "    plt.annotate('(%s, %s)' % xy, xy=xy, textcoords='data')\n",
    "\n",
    "plt.xlabel('Number of Neighbors K')\n",
    "plt.ylabel('Misclassification Error')\n",
    "plt.show()\n",
    "\n",
    "print(\"the misclassification error for each k value is : \", np.round(MSE_tfidf,3))"
   ]
  },
  {
   "cell_type": "markdown",
   "metadata": {},
   "source": [
    "## 4.3 Error on Test data"
   ]
  },
  {
   "cell_type": "code",
   "execution_count": 34,
   "metadata": {},
   "outputs": [
    {
     "name": "stdout",
     "output_type": "stream",
     "text": [
      "Test Error 11.310000%\n"
     ]
    }
   ],
   "source": [
    "# Error on test data\n",
    "test_error_tfidf = 100-acc_tfidf\n",
    "print(\"Test Error %f%%\" % (test_error_tfidf))"
   ]
  },
  {
   "cell_type": "markdown",
   "metadata": {},
   "source": [
    "## 4.4 Confusion matrix"
   ]
  },
  {
   "cell_type": "code",
   "execution_count": 35,
   "metadata": {},
   "outputs": [
    {
     "data": {
      "text/plain": [
       "array([[  534,  3083],\n",
       "       [  310, 26073]])"
      ]
     },
     "execution_count": 35,
     "metadata": {},
     "output_type": "execute_result"
    }
   ],
   "source": [
    "# Confusion Matrix\n",
    "from sklearn.metrics import confusion_matrix\n",
    "cm_tfidf = confusion_matrix(y_test, pred_tfidf)\n",
    "cm_tfidf"
   ]
  },
  {
   "cell_type": "code",
   "execution_count": 36,
   "metadata": {},
   "outputs": [
    {
     "data": {
      "image/png": "[encoded data removed]",
      "text/plain": [
       "<Figure size 432x288 with 2 Axes>"
      ]
     },
     "metadata": {},
     "output_type": "display_data"
    }
   ],
   "source": [
    "# plot confusion matrix to describe the performance of classifier.\n",
    "import seaborn as sns\n",
    "class_label = [\"negative\", \"positive\"]\n",
    "df_cm_tfidf = pd.DataFrame(cm_tfidf, index = class_label, columns = class_label)\n",
    "sns.heatmap(df_cm_tfidf, annot = True, fmt = \"d\")\n",
    "plt.title(\"Confusion Matrix\")\n",
    "plt.xlabel(\"Predicted Label\")\n",
    "plt.ylabel(\"True Label\")\n",
    "plt.show()"
   ]
  },
  {
   "cell_type": "markdown",
   "metadata": {},
   "source": [
    "## 4.5 Classification Report"
   ]
  },
  {
   "cell_type": "code",
   "execution_count": 37,
   "metadata": {},
   "outputs": [
    {
     "name": "stdout",
     "output_type": "stream",
     "text": [
      "              precision    recall  f1-score   support\n",
      "\n",
      "    negative       0.63      0.15      0.24      3617\n",
      "    positive       0.89      0.99      0.94     26383\n",
      "\n",
      "   micro avg       0.89      0.89      0.89     30000\n",
      "   macro avg       0.76      0.57      0.59     30000\n",
      "weighted avg       0.86      0.89      0.85     30000\n",
      "\n"
     ]
    }
   ],
   "source": [
    "from sklearn.metrics import classification_report\n",
    "print(classification_report(y_test, pred_tfidf))"
   ]
  },
  {
   "cell_type": "markdown",
   "metadata": {},
   "source": [
    "## 4.6 Precision Score"
   ]
  },
  {
   "cell_type": "code",
   "execution_count": 38,
   "metadata": {},
   "outputs": [
    {
     "name": "stdout",
     "output_type": "stream",
     "text": [
      "precision_score for the tfidf Knn model is = 0.886900\n"
     ]
    }
   ],
   "source": [
    "# Micro-average is preferable if there is a class imbalance problem.\n",
    "#In Micro-average method, you sum up the individual true positives, false positives, and false negatives of the system for different sets \n",
    "from sklearn.metrics import precision_score\n",
    "precision_score = precision_score(y_test,pred_tfidf,average='micro')\n",
    "print(\"precision_score for the tfidf Knn model is = %f\" % (precision_score))"
   ]
  },
  {
   "cell_type": "markdown",
   "metadata": {},
   "source": [
    "## 4.7 Recall Score"
   ]
  },
  {
   "cell_type": "code",
   "execution_count": 39,
   "metadata": {},
   "outputs": [
    {
     "name": "stdout",
     "output_type": "stream",
     "text": [
      "recall_score for the tfidf Knn model is = 0.886900\n"
     ]
    }
   ],
   "source": [
    "from sklearn.metrics import recall_score\n",
    "recall_score = recall_score(y_test,pred_tfidf,average='micro')\n",
    "print(\"recall_score for the tfidf Knn model is = %f\" % (recall_score))"
   ]
  },
  {
   "cell_type": "code",
   "execution_count": 40,
   "metadata": {},
   "outputs": [
    {
     "name": "stdout",
     "output_type": "stream",
     "text": [
      " true negitves are 534 \n",
      " false positives are 3083 \n",
      " false negatives are 310\n",
      " true positives are 26073 \n",
      " \n"
     ]
    }
   ],
   "source": [
    "#finding out  true negative , false positive , false negative and true positve \n",
    "tn, fp, fn, tp = cm_tfidf.ravel()\n",
    "( tp, fp, fn, tp)\n",
    "print(\" true negitves are {} \\n false positives are {} \\n false negatives are {}\\n true positives are {} \\n \".format(tn,fp,fn,tp))"
   ]
  },
  {
   "cell_type": "markdown",
   "metadata": {},
   "source": [
    "## 5.                             10-fold cv using kd-tree"
   ]
  },
  {
   "cell_type": "code",
   "execution_count": 41,
   "metadata": {},
   "outputs": [],
   "source": [
    "from sklearn.decomposition import TruncatedSVD\n",
    "final_counts_tfidf_svd = TruncatedSVD(n_components=90).fit_transform(final_counts_tfidf_tr)\n",
    "final_counts_tfidf_svd1 = TruncatedSVD(n_components=90).fit_transform(final_counts_tfidf_test)"
   ]
  },
  {
   "cell_type": "markdown",
   "metadata": {},
   "source": [
    "## 5.1 Standardizing the data"
   ]
  },
  {
   "cell_type": "code",
   "execution_count": 42,
   "metadata": {},
   "outputs": [
    {
     "name": "stdout",
     "output_type": "stream",
     "text": [
      "(70000, 90)\n",
      "(30000, 90)\n"
     ]
    }
   ],
   "source": [
    "# Data-preprocessing: Standardizing the data\n",
    "\n",
    "from sklearn import preprocessing\n",
    "standardized_data_train = preprocessing.normalize(final_counts_tfidf_svd)\n",
    "print(standardized_data_train.shape)\n",
    "standardized_data_test = preprocessing.normalize(final_counts_tfidf_svd1)\n",
    "print(standardized_data_test.shape)"
   ]
  },
  {
   "cell_type": "code",
   "execution_count": 43,
   "metadata": {},
   "outputs": [
    {
     "name": "stdout",
     "output_type": "stream",
     "text": [
      "\n",
      "The optimal number of neighbors is 9.\n"
     ]
    }
   ],
   "source": [
    "myList = list(range(0,50))\n",
    "neighbors = list(filter(lambda x: x % 2 != 0, myList))\n",
    "\n",
    "# empty list that will hold cv scores\n",
    "cv_scores = []\n",
    "\n",
    "# perform 10-fold cross validation\n",
    "for k in neighbors:\n",
    "    knn = KNeighborsClassifier(n_neighbors=k,algorithm='kd_tree', n_jobs=-1)\n",
    "    scores = cross_val_score(knn, standardized_data_train, y_train, cv=10, scoring='f1_weighted',n_jobs=-1)\n",
    "    cv_scores.append(scores.mean())\n",
    "\n",
    "# changing to misclassification error\n",
    "MSE_tfifd_kdtree = [1 - x for x in cv_scores]\n",
    "\n",
    "# determining best k\n",
    "optimal_k_tfifd_kdtree = neighbors[MSE_tfifd_kdtree.index(min(MSE_tfifd_kdtree))]\n",
    "print('\\nThe optimal number of neighbors is %d.' % optimal_k_tfifd_kdtree)"
   ]
  },
  {
   "cell_type": "code",
   "execution_count": 44,
   "metadata": {},
   "outputs": [
    {
     "name": "stdout",
     "output_type": "stream",
     "text": [
      "\n",
      "The accuracy of the knn classifier for k = 9 is 87.136667%\n",
      "\n",
      "The accuracy of the knn classifier for k = 9 is 89.754286%\n"
     ]
    }
   ],
   "source": [
    "# ============================== KNN with k = optimal_k ===============================================\n",
    "# instantiate learning model k = optimal_k\n",
    "knn_optimal = KNeighborsClassifier(n_neighbors=optimal_k_tfifd_kdtree, algorithm = 'kd_tree')\n",
    "\n",
    "# fitting the model\n",
    "knn_optimal.fit(standardized_data_train, y_train)\n",
    "\n",
    "# predict the response\n",
    "pred_tfifd_kdtree = knn_optimal.predict(standardized_data_test)\n",
    "pred1_tfifd_kdtree = knn_optimal.predict(standardized_data_train)\n",
    "\n",
    "\n",
    "# evaluate accuracy\n",
    "acc_tfifd_kdtree = accuracy_score(y_test, pred_tfifd_kdtree) * 100\n",
    "acc1_tfifd_kdtree = accuracy_score(y_train, pred1_tfifd_kdtree) * 100\n",
    "\n",
    "print('\\nThe accuracy of the knn classifier for k = %d is %f%%' % (optimal_k_tfifd_kdtree, acc_tfifd_kdtree))\n",
    "print('\\nThe accuracy of the knn classifier for k = %d is %f%%' % (optimal_k_tfifd_kdtree, acc1_tfifd_kdtree))"
   ]
  },
  {
   "cell_type": "markdown",
   "metadata": {},
   "source": [
    "## 5.2 Error on Test data"
   ]
  },
  {
   "cell_type": "code",
   "execution_count": 45,
   "metadata": {},
   "outputs": [
    {
     "name": "stdout",
     "output_type": "stream",
     "text": [
      "Test Error 12.863333%\n"
     ]
    }
   ],
   "source": [
    "# Error on test data\n",
    "test_error_tfidf_kdtree = 100-acc_tfifd_kdtree\n",
    "print(\"Test Error %f%%\" % (test_error_tfidf_kdtree))"
   ]
  },
  {
   "cell_type": "markdown",
   "metadata": {},
   "source": [
    "## 5.3 Confusion Matrix"
   ]
  },
  {
   "cell_type": "code",
   "execution_count": 46,
   "metadata": {},
   "outputs": [
    {
     "data": {
      "text/plain": [
       "array([[   78,  3539],\n",
       "       [  320, 26063]])"
      ]
     },
     "execution_count": 46,
     "metadata": {},
     "output_type": "execute_result"
    }
   ],
   "source": [
    "# Confusion Matrix\n",
    "from sklearn.metrics import confusion_matrix\n",
    "cm_tfifd_kdtree = confusion_matrix(y_test, pred_tfifd_kdtree)\n",
    "cm_tfifd_kdtree"
   ]
  },
  {
   "cell_type": "code",
   "execution_count": 47,
   "metadata": {},
   "outputs": [
    {
     "data": {
      "image/png": "[encoded data removed]",
      "text/plain": [
       "<Figure size 432x288 with 2 Axes>"
      ]
     },
     "metadata": {},
     "output_type": "display_data"
    }
   ],
   "source": [
    "# plot confusion matrix to describe the performance of classifier.\n",
    "import seaborn as sns\n",
    "class_label = [\"negative\", \"positive\"]\n",
    "df_cm_tfifd_kdtree = pd.DataFrame(cm_tfifd_kdtree, index = class_label, columns = class_label)\n",
    "sns.heatmap(df_cm_tfifd_kdtree, annot = True, fmt = \"d\")\n",
    "plt.title(\"Confusiion Matrix\")\n",
    "plt.xlabel(\"Predicted Label\")\n",
    "plt.ylabel(\"True Label\")\n",
    "plt.show()"
   ]
  },
  {
   "cell_type": "markdown",
   "metadata": {},
   "source": [
    "## 5.4 Classification Report"
   ]
  },
  {
   "cell_type": "code",
   "execution_count": 48,
   "metadata": {},
   "outputs": [
    {
     "name": "stdout",
     "output_type": "stream",
     "text": [
      "              precision    recall  f1-score   support\n",
      "\n",
      "    negative       0.20      0.02      0.04      3617\n",
      "    positive       0.88      0.99      0.93     26383\n",
      "\n",
      "   micro avg       0.87      0.87      0.87     30000\n",
      "   macro avg       0.54      0.50      0.48     30000\n",
      "weighted avg       0.80      0.87      0.82     30000\n",
      "\n"
     ]
    }
   ],
   "source": [
    "from sklearn.metrics import classification_report\n",
    "print(classification_report(y_test, pred_tfifd_kdtree))\n"
   ]
  },
  {
   "cell_type": "markdown",
   "metadata": {},
   "source": [
    "## 5.5 Precision Score"
   ]
  },
  {
   "cell_type": "code",
   "execution_count": 49,
   "metadata": {},
   "outputs": [
    {
     "name": "stdout",
     "output_type": "stream",
     "text": [
      "precision_score for the tfidf_kdtree Knn model is = 0.871367\n"
     ]
    }
   ],
   "source": [
    "# Micro-average is preferable if there is a class imbalance problem.\n",
    "#In Micro-average method, you sum up the individual true positives, false positives, and false negatives of the system for different sets \n",
    "from sklearn.metrics import precision_score\n",
    "precision_score = precision_score(y_test,pred_tfifd_kdtree,average='micro')\n",
    "print(\"precision_score for the tfidf_kdtree Knn model is = %f\" % (precision_score))"
   ]
  },
  {
   "cell_type": "markdown",
   "metadata": {},
   "source": [
    "## 5.6 Recall Score"
   ]
  },
  {
   "cell_type": "code",
   "execution_count": 50,
   "metadata": {},
   "outputs": [
    {
     "name": "stdout",
     "output_type": "stream",
     "text": [
      "recall_score for the tfidf_kdtree Knn model is = 0.871367\n"
     ]
    }
   ],
   "source": [
    "from sklearn.metrics import recall_score\n",
    "recall_score = recall_score(y_test,pred_tfifd_kdtree,average='micro')\n",
    "print(\"recall_score for the tfidf_kdtree Knn model is = %f\" % (recall_score))"
   ]
  },
  {
   "cell_type": "code",
   "execution_count": 51,
   "metadata": {},
   "outputs": [
    {
     "name": "stdout",
     "output_type": "stream",
     "text": [
      " true negitves are 78 \n",
      " false positives are 3539 \n",
      " false negatives are 320\n",
      " true positives are 26063 \n",
      " \n"
     ]
    }
   ],
   "source": [
    "#finding out  true negative , false positive , false negative and true positve \n",
    "tn, fp, fn, tp = cm_tfifd_kdtree.ravel()\n",
    "( tp, fp, fn, tp)\n",
    "print(\" true negitves are {} \\n false positives are {} \\n false negatives are {}\\n true positives are {} \\n \".format(tn,fp,fn,tp))"
   ]
  },
  {
   "cell_type": "markdown",
   "metadata": {},
   "source": [
    "## 6. WORD2VEC"
   ]
  },
  {
   "cell_type": "code",
   "execution_count": 52,
   "metadata": {},
   "outputs": [
    {
     "name": "stdout",
     "output_type": "stream",
     "text": [
      "number of words that occured minimum 5 times  10698\n"
     ]
    }
   ],
   "source": [
    "from gensim.models import Word2Vec\n",
    "# List of sentence in X_train text\n",
    "sent_of_train=[]\n",
    "for sent in x_train:\n",
    "    sent_of_train.append(sent.split())\n",
    "\n",
    "# List of sentence in X_est text\n",
    "sent_of_test=[]\n",
    "for sent in x_test:\n",
    "    sent_of_test.append(sent.split())   \n",
    "    \n",
    "# Train your own Word2Vec model using your own train text corpus \n",
    "# min_count = 5 considers only words that occured atleast 5 times\n",
    "w2v_model=Word2Vec(sent_of_train,min_count=5,size=50, workers=4)\n",
    "\n",
    "w2v_words = list(w2v_model.wv.vocab)\n",
    "print(\"number of words that occured minimum 5 times \",len(w2v_words))"
   ]
  },
  {
   "cell_type": "markdown",
   "metadata": {},
   "source": [
    "## 7. Avg Word2Vec"
   ]
  },
  {
   "cell_type": "code",
   "execution_count": 53,
   "metadata": {},
   "outputs": [],
   "source": [
    "# compute average word2vec for each review for X_train .\n",
    "train_vectors = []; \n",
    "for sent in sent_of_train:\n",
    "    sent_vec = np.zeros(50) \n",
    "    cnt_words =0; \n",
    "    for word in sent: # \n",
    "        if word in w2v_words:\n",
    "            vec = w2v_model.wv[word]\n",
    "            sent_vec += vec\n",
    "            cnt_words += 1\n",
    "    if cnt_words != 0:\n",
    "        sent_vec /= cnt_words\n",
    "    train_vectors.append(sent_vec)\n",
    "    \n",
    "# compute average word2vec for each review for X_test .\n",
    "test_vectors = []; \n",
    "for sent in sent_of_test:\n",
    "    sent_vec = np.zeros(50) \n",
    "    cnt_words =0; \n",
    "    for word in sent: # \n",
    "        if word in w2v_words:\n",
    "            vec = w2v_model.wv[word]\n",
    "            sent_vec += vec\n",
    "            cnt_words += 1\n",
    "    if cnt_words != 0:\n",
    "        sent_vec /= cnt_words\n",
    "    test_vectors.append(sent_vec)"
   ]
  },
  {
   "cell_type": "markdown",
   "metadata": {},
   "source": [
    "## 7.1 Standardizing Data"
   ]
  },
  {
   "cell_type": "code",
   "execution_count": 54,
   "metadata": {},
   "outputs": [
    {
     "name": "stdout",
     "output_type": "stream",
     "text": [
      "(70000, 50)\n",
      "(30000, 50)\n"
     ]
    }
   ],
   "source": [
    "# Data-preprocessing: Standardizing the data\n",
    "from sklearn import preprocessing\n",
    "standardized_data_train = preprocessing.normalize(train_vectors)\n",
    "print(standardized_data_train.shape)\n",
    "standardized_data_test = preprocessing.normalize(test_vectors)\n",
    "print(standardized_data_test.shape)"
   ]
  },
  {
   "cell_type": "markdown",
   "metadata": {},
   "source": [
    "## 7.2 Applying 10-fold CV by using Brute Algorithm"
   ]
  },
  {
   "cell_type": "code",
   "execution_count": 55,
   "metadata": {},
   "outputs": [
    {
     "name": "stdout",
     "output_type": "stream",
     "text": [
      "\n",
      "The optimal number of neighbors is 5.\n"
     ]
    }
   ],
   "source": [
    "# creating odd list of K for KNN\n",
    "myList = list(range(0,50))\n",
    "neighbors = list(filter(lambda x: x % 2 != 0, myList))\n",
    "\n",
    "# empty list that will hold cv scores\n",
    "cv_scores = []\n",
    "\n",
    "# perform 10-fold cross validation\n",
    "for k in neighbors:\n",
    "    knn = KNeighborsClassifier(n_neighbors=k, algorithm='brute',n_jobs=-1)\n",
    "    scores = cross_val_score(knn, standardized_data_train, y_train, cv=10, scoring='f1_weighted', n_jobs=-1)\n",
    "    cv_scores.append(scores.mean())\n",
    "\n",
    "# changing to misclassification error\n",
    "MSE_avg_w2v = [1 - x for x in cv_scores]   \n",
    "\n",
    "\n",
    "# determining best k\n",
    "optimal_k_avg_w2v = neighbors[cv_scores.index(max(cv_scores))]\n",
    "print('\\nThe optimal number of neighbors is %d.' % optimal_k_avg_w2v)"
   ]
  },
  {
   "cell_type": "code",
   "execution_count": 56,
   "metadata": {},
   "outputs": [
    {
     "name": "stdout",
     "output_type": "stream",
     "text": [
      "\n",
      "The accuracy of the knn classifier in test for k = 5 is 89.486667%\n",
      "\n",
      "The accuracy of the knn classifier in train for k = 5 is 92.068571%\n"
     ]
    },
    {
     "data": {
      "image/png": "[encoded data removed]",
      "text/plain": [
       "<Figure size 432x288 with 1 Axes>"
      ]
     },
     "metadata": {},
     "output_type": "display_data"
    },
    {
     "name": "stdout",
     "output_type": "stream",
     "text": [
      "the misclassification error for each k value is :  [0.139 0.124 0.121 0.123 0.122 0.124 0.125 0.125 0.126 0.126 0.127 0.127\n",
      " 0.128 0.129 0.13  0.13  0.131 0.131 0.132 0.132 0.133 0.133 0.133 0.134\n",
      " 0.134]\n"
     ]
    }
   ],
   "source": [
    "# ============================== KNN with k = optimal_k ===============================================\n",
    "# instantiate learning model k = optimal_k\n",
    "knn_optimal_avg_w2v = KNeighborsClassifier(n_neighbors=optimal_k_avg_w2v, algorithm='brute')\n",
    "\n",
    "# fitting the model\n",
    "knn_optimal_avg_w2v.fit(standardized_data_train,y_train)\n",
    "\n",
    "# predict the response\n",
    "pred_avg_w2v = knn_optimal_avg_w2v.predict(standardized_data_test)\n",
    "pred1_avg_w2v = knn_optimal_avg_w2v.predict(standardized_data_train)\n",
    "\n",
    "# evaluate accuracy\n",
    "acc_avg_w2v = accuracy_score(y_test, pred_avg_w2v) * 100\n",
    "acc1_avg_w2v = accuracy_score(y_train, pred1_avg_w2v) * 100\n",
    "\n",
    "print('\\nThe accuracy of the knn classifier in test for k = %d is %f%%' % (optimal_k_avg_w2v, acc_avg_w2v))\n",
    "print('\\nThe accuracy of the knn classifier in train for k = %d is %f%%' % (optimal_k_avg_w2v, acc1_avg_w2v))\n",
    "\n",
    "# plot misclassification error vs k \n",
    "plt.plot(neighbors, MSE_avg_w2v)\n",
    "\n",
    "for xy in zip(neighbors, np.round(MSE_avg_w2v,3)):\n",
    "    plt.annotate('(%s, %s)' % xy, xy=xy, textcoords='data')\n",
    "\n",
    "plt.xlabel('Number of Neighbors K')\n",
    "plt.ylabel('Misclassification Error')\n",
    "plt.show()\n",
    "\n",
    "print(\"the misclassification error for each k value is : \", np.round(MSE_avg_w2v,3))"
   ]
  },
  {
   "cell_type": "markdown",
   "metadata": {},
   "source": [
    "## 7.3 Error on Test data"
   ]
  },
  {
   "cell_type": "code",
   "execution_count": 57,
   "metadata": {},
   "outputs": [
    {
     "name": "stdout",
     "output_type": "stream",
     "text": [
      "Test Error 10.513333%\n"
     ]
    }
   ],
   "source": [
    "# Error on test data\n",
    "test_error_avg_w2v = 100-acc_avg_w2v\n",
    "print(\"Test Error %f%%\" % (test_error_avg_w2v))"
   ]
  },
  {
   "cell_type": "markdown",
   "metadata": {},
   "source": [
    "## 7.4 Confusion matrix"
   ]
  },
  {
   "cell_type": "code",
   "execution_count": 58,
   "metadata": {},
   "outputs": [
    {
     "data": {
      "text/plain": [
       "array([[ 1122,  2495],\n",
       "       [  659, 25724]])"
      ]
     },
     "execution_count": 58,
     "metadata": {},
     "output_type": "execute_result"
    }
   ],
   "source": [
    "# Confusion Matrix\n",
    "from sklearn.metrics import confusion_matrix\n",
    "cm_avg_w2v = confusion_matrix(y_test, pred_avg_w2v)\n",
    "cm_avg_w2v"
   ]
  },
  {
   "cell_type": "code",
   "execution_count": 59,
   "metadata": {},
   "outputs": [
    {
     "data": {
      "image/png": "[encoded data removed]",
      "text/plain": [
       "<Figure size 432x288 with 2 Axes>"
      ]
     },
     "metadata": {},
     "output_type": "display_data"
    }
   ],
   "source": [
    "# plot confusion matrix to describe the performance of classifier.\n",
    "import seaborn as sns\n",
    "class_label = [\"negative\", \"positive\"]\n",
    "df_cm_avg_w2v = pd.DataFrame(cm_avg_w2v, index = class_label, columns = class_label)\n",
    "sns.heatmap(df_cm_avg_w2v, annot = True, fmt = \"d\")\n",
    "plt.title(\"Confusiion Matrix\")\n",
    "plt.xlabel(\"Predicted Label\")\n",
    "plt.ylabel(\"True Label\")\n",
    "plt.show()"
   ]
  },
  {
   "cell_type": "markdown",
   "metadata": {},
   "source": [
    "## 7.5 Classification Report"
   ]
  },
  {
   "cell_type": "code",
   "execution_count": 60,
   "metadata": {},
   "outputs": [
    {
     "name": "stdout",
     "output_type": "stream",
     "text": [
      "              precision    recall  f1-score   support\n",
      "\n",
      "    negative       0.63      0.31      0.42      3617\n",
      "    positive       0.91      0.98      0.94     26383\n",
      "\n",
      "   micro avg       0.89      0.89      0.89     30000\n",
      "   macro avg       0.77      0.64      0.68     30000\n",
      "weighted avg       0.88      0.89      0.88     30000\n",
      "\n"
     ]
    }
   ],
   "source": [
    "from sklearn.metrics import classification_report\n",
    "print(classification_report(y_test, pred_avg_w2v))"
   ]
  },
  {
   "cell_type": "markdown",
   "metadata": {},
   "source": [
    "## 7.6 Precision Score"
   ]
  },
  {
   "cell_type": "code",
   "execution_count": 61,
   "metadata": {},
   "outputs": [
    {
     "name": "stdout",
     "output_type": "stream",
     "text": [
      "precision_score for the avg_w2v Knn model is = 0.894867\n"
     ]
    }
   ],
   "source": [
    "# Micro-average is preferable if there is a class imbalance problem.\n",
    "#In Micro-average method, you sum up the individual true positives, false positives, and false negatives of the system for different sets \n",
    "from sklearn.metrics import precision_score\n",
    "precision_score = precision_score(y_test,pred_avg_w2v,average='micro')\n",
    "print(\"precision_score for the avg_w2v Knn model is = %f\" % (precision_score))"
   ]
  },
  {
   "cell_type": "markdown",
   "metadata": {},
   "source": [
    "## 7.7 Recall Score"
   ]
  },
  {
   "cell_type": "code",
   "execution_count": 62,
   "metadata": {},
   "outputs": [
    {
     "name": "stdout",
     "output_type": "stream",
     "text": [
      "recall_score for the avg_w2v Knn model is = 0.894867\n"
     ]
    }
   ],
   "source": [
    "from sklearn.metrics import recall_score\n",
    "recall_score = recall_score(y_test,pred_avg_w2v,average='micro')\n",
    "print(\"recall_score for the avg_w2v Knn model is = %f\" % (recall_score))"
   ]
  },
  {
   "cell_type": "code",
   "execution_count": 63,
   "metadata": {},
   "outputs": [
    {
     "name": "stdout",
     "output_type": "stream",
     "text": [
      " true negitves are 1122 \n",
      " false positives are 2495 \n",
      " false negatives are 659\n",
      " true positives are 25724 \n",
      " \n"
     ]
    }
   ],
   "source": [
    "#finding out  true negative , false positive , false negative and true positve \n",
    "tn, fp, fn, tp = cm_avg_w2v.ravel()\n",
    "( tp, fp, fn, tp)\n",
    "print(\" true negitves are {} \\n false positives are {} \\n false negatives are {}\\n true positives are {} \\n \".format(tn,fp,fn,tp))"
   ]
  },
  {
   "cell_type": "markdown",
   "metadata": {},
   "source": [
    "## 8.                  10-fold cv using kd-tree"
   ]
  },
  {
   "cell_type": "code",
   "execution_count": 64,
   "metadata": {},
   "outputs": [],
   "source": [
    "from sklearn.decomposition import TruncatedSVD\n",
    "final_counts_avg_w2v_svd = TruncatedSVD(n_components=40).fit_transform(train_vectors)\n",
    "final_counts_avg_w2v_svd1 = TruncatedSVD(n_components=40).fit_transform(test_vectors)\n"
   ]
  },
  {
   "cell_type": "markdown",
   "metadata": {},
   "source": [
    "## 8.1 Standardizing the data"
   ]
  },
  {
   "cell_type": "code",
   "execution_count": 65,
   "metadata": {},
   "outputs": [
    {
     "name": "stdout",
     "output_type": "stream",
     "text": [
      "(70000, 40)\n",
      "(30000, 40)\n"
     ]
    }
   ],
   "source": [
    "# Data-preprocessing: Standardizing the data\n",
    "\n",
    "from sklearn import preprocessing\n",
    "standardized_data_train = preprocessing.normalize(final_counts_avg_w2v_svd)\n",
    "print(standardized_data_train.shape)\n",
    "standardized_data_test = preprocessing.normalize(final_counts_avg_w2v_svd1)\n",
    "print(standardized_data_test.shape)"
   ]
  },
  {
   "cell_type": "code",
   "execution_count": 66,
   "metadata": {},
   "outputs": [
    {
     "name": "stdout",
     "output_type": "stream",
     "text": [
      "\n",
      "The optimal number of neighbors is 5.\n"
     ]
    }
   ],
   "source": [
    "# creating odd list of K for KNN\n",
    "myList = list(range(0,50))\n",
    "neighbors = list(filter(lambda x: x % 2 != 0, myList))\n",
    "\n",
    "# empty list that will hold cv scores\n",
    "cv_scores = []\n",
    "\n",
    "# perform 10-fold cross validation\n",
    "for k in neighbors:\n",
    "    knn = KNeighborsClassifier(n_neighbors=k, algorithm='kd_tree',n_jobs=-1)\n",
    "    scores = cross_val_score(knn, standardized_data_train, y_train, cv=10, scoring='f1_weighted', n_jobs=-1)\n",
    "    cv_scores.append(scores.mean())\n",
    "    \n",
    "# determining best k\n",
    "optimal_k_avg_w2v_kdtree = neighbors[cv_scores.index(max(cv_scores))]\n",
    "print('\\nThe optimal number of neighbors is %d.' % optimal_k_avg_w2v_kdtree)"
   ]
  },
  {
   "cell_type": "code",
   "execution_count": 67,
   "metadata": {},
   "outputs": [
    {
     "name": "stdout",
     "output_type": "stream",
     "text": [
      "\n",
      "The accuracy of the knn classifier in test for k = 5 is 84.723333%\n",
      "\n",
      "The accuracy of the knn classifier in train for k = 5 is 92.117143%\n"
     ]
    }
   ],
   "source": [
    "# ============================== KNN with k = optimal_k ===============================================\n",
    "# instantiate learning model k = optimal_k\n",
    "knn_optimal_avg_w2v_kdtree = KNeighborsClassifier(n_neighbors=optimal_k_avg_w2v_kdtree, algorithm = 'kd_tree')\n",
    "\n",
    "# fitting the model\n",
    "knn_optimal_avg_w2v_kdtree.fit(standardized_data_train, y_train)\n",
    "\n",
    "# predict the response\n",
    "pred_avg_w2v_kdtree = knn_optimal_avg_w2v_kdtree.predict(standardized_data_test)\n",
    "pred1_avg_w2v_kdtree = knn_optimal_avg_w2v_kdtree.predict(standardized_data_train)\n",
    "\n",
    "\n",
    "# evaluate accuracy\n",
    "acc_avg_w2v_kdtree = accuracy_score(y_test, pred_avg_w2v_kdtree) * 100\n",
    "acc1_avg_w2v_kdtree = accuracy_score(y_train, pred1_avg_w2v_kdtree) * 100\n",
    "\n",
    "print('\\nThe accuracy of the knn classifier in test for k = %d is %f%%' % (optimal_k_avg_w2v_kdtree, acc_avg_w2v_kdtree))\n",
    "print('\\nThe accuracy of the knn classifier in train for k = %d is %f%%' % (optimal_k_avg_w2v_kdtree, acc1_avg_w2v_kdtree))"
   ]
  },
  {
   "cell_type": "markdown",
   "metadata": {},
   "source": [
    "## 8.2 Error on Test data"
   ]
  },
  {
   "cell_type": "code",
   "execution_count": 68,
   "metadata": {},
   "outputs": [
    {
     "name": "stdout",
     "output_type": "stream",
     "text": [
      "Test Error 15.276667%\n"
     ]
    }
   ],
   "source": [
    "# Error on test data\n",
    "test_error_avg_w2v_kdtree = 100-acc_avg_w2v_kdtree\n",
    "print(\"Test Error %f%%\" % (test_error_avg_w2v_kdtree))"
   ]
  },
  {
   "cell_type": "markdown",
   "metadata": {},
   "source": [
    "## 8.3 Confusion Matrix"
   ]
  },
  {
   "cell_type": "code",
   "execution_count": 69,
   "metadata": {},
   "outputs": [
    {
     "data": {
      "text/plain": [
       "array([[   41,  3576],\n",
       "       [ 1007, 25376]])"
      ]
     },
     "execution_count": 69,
     "metadata": {},
     "output_type": "execute_result"
    }
   ],
   "source": [
    "# Confusion Matrix\n",
    "from sklearn.metrics import confusion_matrix\n",
    "cm_avg_w2v_kdtree = confusion_matrix(y_test, pred_avg_w2v_kdtree)\n",
    "cm_avg_w2v_kdtree"
   ]
  },
  {
   "cell_type": "code",
   "execution_count": 70,
   "metadata": {},
   "outputs": [
    {
     "data": {
      "image/png": "[encoded data removed]",
      "text/plain": [
       "<Figure size 432x288 with 2 Axes>"
      ]
     },
     "metadata": {},
     "output_type": "display_data"
    }
   ],
   "source": [
    "# plot confusion matrix to describe the performance of classifier.\n",
    "import seaborn as sns\n",
    "class_label = [\"negative\", \"positive\"]\n",
    "df_cm_avg_w2v_kdtree = pd.DataFrame(cm_avg_w2v_kdtree, index = class_label, columns = class_label)\n",
    "sns.heatmap(df_cm_avg_w2v_kdtree, annot = True, fmt = \"d\")\n",
    "plt.title(\"Confusiion Matrix\")\n",
    "plt.xlabel(\"Predicted Label\")\n",
    "plt.ylabel(\"True Label\")\n",
    "plt.show()"
   ]
  },
  {
   "cell_type": "markdown",
   "metadata": {},
   "source": [
    "## 8.4 Classification Report\n"
   ]
  },
  {
   "cell_type": "code",
   "execution_count": 71,
   "metadata": {},
   "outputs": [
    {
     "name": "stdout",
     "output_type": "stream",
     "text": [
      "              precision    recall  f1-score   support\n",
      "\n",
      "    negative       0.04      0.01      0.02      3617\n",
      "    positive       0.88      0.96      0.92     26383\n",
      "\n",
      "   micro avg       0.85      0.85      0.85     30000\n",
      "   macro avg       0.46      0.49      0.47     30000\n",
      "weighted avg       0.78      0.85      0.81     30000\n",
      "\n"
     ]
    }
   ],
   "source": [
    "from sklearn.metrics import classification_report\n",
    "print(classification_report(y_test, pred_avg_w2v_kdtree))"
   ]
  },
  {
   "cell_type": "markdown",
   "metadata": {},
   "source": [
    "## 8.5 Precision Score"
   ]
  },
  {
   "cell_type": "code",
   "execution_count": 72,
   "metadata": {},
   "outputs": [
    {
     "name": "stdout",
     "output_type": "stream",
     "text": [
      "precision_score for the Avg_w2v Knn model is = 0.847233\n"
     ]
    }
   ],
   "source": [
    "# Micro-average is preferable if there is a class imbalance problem.\n",
    "#In Micro-average method, you sum up the individual true positives, false positives, and false negatives of the system for different sets \n",
    "from sklearn.metrics import precision_score\n",
    "precision_score = precision_score(y_test,pred_avg_w2v_kdtree,average='micro')\n",
    "print(\"precision_score for the Avg_w2v Knn model is = %f\" % (precision_score))"
   ]
  },
  {
   "cell_type": "markdown",
   "metadata": {},
   "source": [
    "## 8.6 Recall Score"
   ]
  },
  {
   "cell_type": "code",
   "execution_count": 73,
   "metadata": {},
   "outputs": [
    {
     "name": "stdout",
     "output_type": "stream",
     "text": [
      "recall_score for the Avg_w2v Knn model is = 0.847233\n"
     ]
    }
   ],
   "source": [
    "from sklearn.metrics import recall_score\n",
    "recall_score = recall_score(y_test,pred_avg_w2v_kdtree,average='micro')\n",
    "print(\"recall_score for the Avg_w2v Knn model is = %f\" % (recall_score))"
   ]
  },
  {
   "cell_type": "code",
   "execution_count": 74,
   "metadata": {},
   "outputs": [
    {
     "name": "stdout",
     "output_type": "stream",
     "text": [
      " true negitves are 41 \n",
      " false positives are 3576 \n",
      " false negatives are 1007\n",
      " true positives are 25376 \n",
      " \n"
     ]
    }
   ],
   "source": [
    "#finding out  true negative , false positive , false negative and true positve \n",
    "tn, fp, fn, tp = cm_avg_w2v_kdtree.ravel()\n",
    "( tp, fp, fn, tp)\n",
    "print(\" true negitves are {} \\n false positives are {} \\n false negatives are {}\\n true positives are {} \\n \".format(tn,fp,fn,tp))"
   ]
  },
  {
   "cell_type": "markdown",
   "metadata": {},
   "source": [
    "## 9. TFIDF-Word2Vec"
   ]
  },
  {
   "cell_type": "code",
   "execution_count": 75,
   "metadata": {},
   "outputs": [
    {
     "name": "stdout",
     "output_type": "stream",
     "text": [
      "<class 'scipy.sparse.csr.csr_matrix'>\n",
      "(70000, 31419)\n",
      "<class 'scipy.sparse.csr.csr_matrix'>\n",
      "(30000, 31419)\n"
     ]
    }
   ],
   "source": [
    "#tf-idf weighted w2v\n",
    "\n",
    "from sklearn.feature_extraction.text import TfidfVectorizer\n",
    "\n",
    "tfidfw2v_vect = TfidfVectorizer()\n",
    "final_counts_tfidfw2v_train= tfidfw2v_vect.fit_transform(x_train) \n",
    "print(type(final_counts_tfidfw2v_train))\n",
    "print(final_counts_tfidfw2v_train.shape)\n",
    "\n",
    "final_counts_tfidfw2v_test= tfidfw2v_vect.transform(x_test) \n",
    "print(type(final_counts_tfidfw2v_test))\n",
    "print(final_counts_tfidfw2v_test.shape)"
   ]
  },
  {
   "cell_type": "code",
   "execution_count": 76,
   "metadata": {},
   "outputs": [
    {
     "name": "stdout",
     "output_type": "stream",
     "text": [
      "70000\n",
      "30000\n"
     ]
    }
   ],
   "source": [
    "# we are converting a dictionary with word as a key, and the idf as a value\n",
    "dictionary = dict(zip(tfidfw2v_vect.get_feature_names(), list(tfidfw2v_vect.idf_)))\n",
    "\n",
    "\n",
    "# TF-IDF weighted Word2Vec\n",
    "tfidf_feat = tfidfw2v_vect.get_feature_names() # tfidf words/col-names\n",
    "# final_tf_idf is the sparse matrix with row= sentence, col=word and cell_val = tfidf\n",
    "\n",
    "tfidf_sent_vectors = []; # the tfidf-w2v for each sentence/review is stored in this list\n",
    "row=0;\n",
    "for sent in sent_of_train: # for each review/sentence \n",
    "    sent_vec = np.zeros(50) # as word vectors are of zero length\n",
    "    weight_sum =0; # num of words with a valid vector in the sentence/review\n",
    "    for word in sent: # for each word in a review/sentence\n",
    "        if word in w2v_words:\n",
    "            vec = w2v_model.wv[word]\n",
    "#             tf_idf = tf_idf_matrix[row, tfidf_feat.index(word)]\n",
    "            # to reduce the computation we are \n",
    "            # dictionary[word] = idf value of word in whole courpus\n",
    "            # sent.count(word) = tf valeus of word in this review\n",
    "            tf_idf = dictionary[word]*(sent.count(word)/len(sent))\n",
    "            sent_vec += (vec * tf_idf)\n",
    "            weight_sum += tf_idf\n",
    "    if weight_sum != 0:\n",
    "        sent_vec /= weight_sum\n",
    "    tfidf_sent_vectors.append(sent_vec)\n",
    "    row += 1\n",
    "\n",
    "#Test case\n",
    "\n",
    "tfidf_sent_vectors1 = []; # the tfidf-w2v for each sentence/review is stored in this list\n",
    "row=0;\n",
    "for sent in sent_of_test: # for each review/sentence \n",
    "    sent_vec = np.zeros(50) # as word vectors are of zero length\n",
    "    weight_sum =0; # num of words with a valid vector in the sentence/review\n",
    "    for word in sent: # for each word in a review/sentence\n",
    "        if word in w2v_words:\n",
    "            vec = w2v_model.wv[word]\n",
    "#             tf_idf = tf_idf_matrix[row, tfidf_feat.index(word)]\n",
    "            # to reduce the computation we are \n",
    "            # dictionary[word] = idf value of word in whole courpus\n",
    "            # sent.count(word) = tf valeus of word in this review\n",
    "            tf_idf = dictionary[word]*(sent.count(word)/len(sent))\n",
    "            sent_vec += (vec * tf_idf)\n",
    "            weight_sum += tf_idf\n",
    "    if weight_sum != 0:\n",
    "        sent_vec /= weight_sum\n",
    "    tfidf_sent_vectors1.append(sent_vec)\n",
    "    row += 1\n",
    "print(len(tfidf_sent_vectors))\n",
    "print(len(tfidf_sent_vectors1))\n",
    "\n",
    "\n"
   ]
  },
  {
   "cell_type": "markdown",
   "metadata": {},
   "source": [
    "## 9.1 Standardizing Data"
   ]
  },
  {
   "cell_type": "code",
   "execution_count": 77,
   "metadata": {},
   "outputs": [
    {
     "name": "stdout",
     "output_type": "stream",
     "text": [
      "(70000, 50)\n",
      "(30000, 50)\n"
     ]
    }
   ],
   "source": [
    "# Data-preprocessing: Standardizing the data\n",
    "from sklearn import preprocessing\n",
    "standardized_data_train = preprocessing.normalize(tfidf_sent_vectors)\n",
    "print(standardized_data_train.shape)\n",
    "standardized_data_test = preprocessing.normalize(tfidf_sent_vectors1)\n",
    "print(standardized_data_test.shape)\n"
   ]
  },
  {
   "cell_type": "markdown",
   "metadata": {},
   "source": [
    "## 9.2 Applying 10-fold CV by using Brute Algorithm"
   ]
  },
  {
   "cell_type": "code",
   "execution_count": 78,
   "metadata": {},
   "outputs": [
    {
     "name": "stdout",
     "output_type": "stream",
     "text": [
      "\n",
      "The optimal number of neighbors using brute is 9\n"
     ]
    }
   ],
   "source": [
    "myList = list(range(0,50))\n",
    "neighbors = list(filter(lambda x: x % 2 != 0, myList))\n",
    "\n",
    "# empty list that will hold cv scores\n",
    "cv_scores = []\n",
    "\n",
    "# perform 10-fold cross validation\n",
    "for k in neighbors:\n",
    "    knn = KNeighborsClassifier(n_neighbors=k,algorithm='brute',n_jobs=-1)\n",
    "    scores = cross_val_score(knn, standardized_data_train, y_train,cv=10, scoring='f1_weighted',n_jobs=-1)\n",
    "    cv_scores.append(scores.mean())\n",
    "    \n",
    "# changing to misclassification error\n",
    "MSE_tfidf_w2v = [1 - x for x in cv_scores]\n",
    "\n",
    "# determining best k\n",
    "optimal_k_tfidf_w2v = neighbors[MSE_tfidf_w2v.index(min(MSE_tfidf_w2v))]  \n",
    "print('\\nThe optimal number of neighbors using brute is',optimal_k_tfidf_w2v)"
   ]
  },
  {
   "cell_type": "code",
   "execution_count": 79,
   "metadata": {},
   "outputs": [
    {
     "name": "stdout",
     "output_type": "stream",
     "text": [
      "\n",
      "The accuracy of the knn classifier in test for k = 9 is 89.210000%\n",
      "\n",
      "The accuracy of the knn classifier in train for k = 9 is 90.445714%\n"
     ]
    },
    {
     "data": {
      "image/png": "[encoded data removed]",
      "text/plain": [
       "<Figure size 432x288 with 1 Axes>"
      ]
     },
     "metadata": {},
     "output_type": "display_data"
    },
    {
     "name": "stdout",
     "output_type": "stream",
     "text": [
      "the misclassification error for each k value is :  [0.15  0.135 0.131 0.131 0.131 0.132 0.134 0.135 0.135 0.136 0.137 0.138\n",
      " 0.139 0.139 0.139 0.14  0.14  0.14  0.141 0.141 0.142 0.142 0.142 0.142\n",
      " 0.143]\n"
     ]
    }
   ],
   "source": [
    "# ============================== KNN with k = optimal_k ===============================================\n",
    "# instantiate learning model k = optimal_k\n",
    "\n",
    "#def KNN_optimal(standardized_data_train,y_tr,standardized_data_cv,y_cv,optimal_k):\n",
    "knn_optimal_tfidf_w2v = KNeighborsClassifier(n_neighbors=optimal_k_tfidf_w2v, algorithm='brute')\n",
    "\n",
    "# fitting the model\n",
    "knn_optimal_tfidf_w2v.fit(standardized_data_train,y_train)\n",
    "\n",
    "# predict the response\n",
    "pred_tfidf_w2v = knn_optimal_tfidf_w2v.predict(standardized_data_test)\n",
    "pred1_tfidf_w2v = knn_optimal_tfidf_w2v.predict(standardized_data_train)\n",
    "\n",
    "# evaluate accuracy\n",
    "acc_tfidf_w2v = accuracy_score(y_test, pred_tfidf_w2v) * 100\n",
    "acc1_tfidf_w2v = accuracy_score(y_train, pred1_tfidf_w2v) * 100\n",
    "\n",
    "print('\\nThe accuracy of the knn classifier in test for k = %d is %f%%' % (optimal_k_tfidf_w2v, acc_tfidf_w2v))\n",
    "print('\\nThe accuracy of the knn classifier in train for k = %d is %f%%' % (optimal_k_tfidf_w2v, acc1_tfidf_w2v))\n",
    "\n",
    "# plot misclassification error vs k \n",
    "plt.plot(neighbors, MSE_tfidf_w2v)\n",
    "\n",
    "for xy in zip(neighbors, np.round(MSE_tfidf_w2v,3)):\n",
    "    plt.annotate('(%s, %s)' % xy, xy=xy, textcoords='data')\n",
    "plt.xlabel('Number of Neighbors K')\n",
    "plt.ylabel('Misclassification Error')                \n",
    "plt.show()\n",
    "\n",
    "print(\"the misclassification error for each k value is : \", np.round(MSE_tfidf_w2v,3))\n"
   ]
  },
  {
   "cell_type": "markdown",
   "metadata": {},
   "source": [
    "## 9.3 Error on Test data"
   ]
  },
  {
   "cell_type": "code",
   "execution_count": 80,
   "metadata": {},
   "outputs": [
    {
     "name": "stdout",
     "output_type": "stream",
     "text": [
      "Test Error 10.790000%\n"
     ]
    }
   ],
   "source": [
    "# Error on test data\n",
    "test_error_tfidf_w2v = 100-acc_tfidf_w2v\n",
    "print(\"Test Error %f%%\" % (test_error_tfidf_w2v))"
   ]
  },
  {
   "cell_type": "markdown",
   "metadata": {},
   "source": [
    "## 9.4 Confusion Matrix"
   ]
  },
  {
   "cell_type": "code",
   "execution_count": 81,
   "metadata": {},
   "outputs": [
    {
     "data": {
      "text/plain": [
       "array([[  859,  2758],\n",
       "       [  479, 25904]])"
      ]
     },
     "execution_count": 81,
     "metadata": {},
     "output_type": "execute_result"
    }
   ],
   "source": [
    "# Confusion Matrix\n",
    "from sklearn.metrics import confusion_matrix\n",
    "cm_tfidf_w2v = confusion_matrix(y_test, pred_tfidf_w2v)\n",
    "cm_tfidf_w2v"
   ]
  },
  {
   "cell_type": "code",
   "execution_count": 82,
   "metadata": {},
   "outputs": [
    {
     "data": {
      "image/png": "[encoded data removed]",
      "text/plain": [
       "<Figure size 432x288 with 2 Axes>"
      ]
     },
     "metadata": {},
     "output_type": "display_data"
    }
   ],
   "source": [
    "# plot confusion matrix to describe the performance of classifier.\n",
    "import seaborn as sns\n",
    "class_label = [\"negative\", \"positive\"]\n",
    "df_cm_tfidf_w2v = pd.DataFrame(cm_tfidf_w2v, index = class_label, columns = class_label)\n",
    "sns.heatmap(df_cm_tfidf_w2v, annot = True, fmt = \"d\")\n",
    "plt.title(\"Confusiion Matrix\")\n",
    "plt.xlabel(\"Predicted Label\")\n",
    "plt.ylabel(\"True Label\")\n",
    "plt.show()"
   ]
  },
  {
   "cell_type": "markdown",
   "metadata": {},
   "source": [
    "## 9.5 Precision Score"
   ]
  },
  {
   "cell_type": "code",
   "execution_count": 83,
   "metadata": {},
   "outputs": [
    {
     "name": "stdout",
     "output_type": "stream",
     "text": [
      "precision_score for the tfidf_w2v Knn model is = 0.892100\n"
     ]
    }
   ],
   "source": [
    "# Micro-average is preferable if there is a class imbalance problem.\n",
    "#In Micro-average method, you sum up the individual true positives, false positives, and false negatives of the system for different sets \n",
    "from sklearn.metrics import precision_score\n",
    "precision_score = precision_score(y_test,pred_tfidf_w2v,average='micro')\n",
    "print(\"precision_score for the tfidf_w2v Knn model is = %f\" % (precision_score))"
   ]
  },
  {
   "cell_type": "markdown",
   "metadata": {},
   "source": [
    "## 9.6 Recall Score"
   ]
  },
  {
   "cell_type": "code",
   "execution_count": 84,
   "metadata": {},
   "outputs": [
    {
     "name": "stdout",
     "output_type": "stream",
     "text": [
      "recall_score for the tfidf_w2v Knn model is = 0.892100\n"
     ]
    }
   ],
   "source": [
    "from sklearn.metrics import recall_score\n",
    "recall_score = recall_score(y_test,pred_tfidf_w2v,average='micro')\n",
    "print(\"recall_score for the tfidf_w2v Knn model is = %f\" % (recall_score))"
   ]
  },
  {
   "cell_type": "code",
   "execution_count": 85,
   "metadata": {},
   "outputs": [
    {
     "name": "stdout",
     "output_type": "stream",
     "text": [
      " true negitves are 859 \n",
      " false positives are 2758 \n",
      " false negatives are 479\n",
      " true positives are 25904 \n",
      " \n"
     ]
    }
   ],
   "source": [
    "#finding out  true negative , false positive , false negative and true positve \n",
    "tn, fp, fn, tp = cm_tfidf_w2v.ravel()\n",
    "( tp, fp, fn, tp)\n",
    "print(\" true negitves are {} \\n false positives are {} \\n false negatives are {}\\n true positives are {} \\n \".format(tn,fp,fn,tp))"
   ]
  },
  {
   "cell_type": "markdown",
   "metadata": {},
   "source": [
    "## 10.     10-fold cv using kd-tree\n"
   ]
  },
  {
   "cell_type": "code",
   "execution_count": 86,
   "metadata": {},
   "outputs": [],
   "source": [
    "from sklearn.decomposition import TruncatedSVD\n",
    "final_counts_tfidf_w2v_svd = TruncatedSVD(n_components=40).fit_transform(tfidf_sent_vectors)\n",
    "final_counts_tfidf_w2v_svd1 = TruncatedSVD(n_components=40).fit_transform(tfidf_sent_vectors1)"
   ]
  },
  {
   "cell_type": "markdown",
   "metadata": {},
   "source": [
    "## 10.1 Standardizing Data"
   ]
  },
  {
   "cell_type": "code",
   "execution_count": 87,
   "metadata": {},
   "outputs": [
    {
     "name": "stdout",
     "output_type": "stream",
     "text": [
      "(70000, 40)\n",
      "(30000, 40)\n"
     ]
    }
   ],
   "source": [
    "from sklearn import preprocessing\n",
    "standardized_data_train = preprocessing.normalize(final_counts_tfidf_w2v_svd)\n",
    "print(standardized_data_train.shape)\n",
    "standardized_data_test = preprocessing.normalize(final_counts_tfidf_w2v_svd1)\n",
    "print(standardized_data_test.shape)"
   ]
  },
  {
   "cell_type": "code",
   "execution_count": 88,
   "metadata": {},
   "outputs": [
    {
     "name": "stdout",
     "output_type": "stream",
     "text": [
      "\n",
      "The optimal number of neighbors is 7.\n"
     ]
    }
   ],
   "source": [
    "# creating odd list of K for KNN\n",
    "myList = list(range(0,50))\n",
    "neighbors = list(filter(lambda x: x % 2 != 0, myList))\n",
    "\n",
    "# empty list that will hold cv scores\n",
    "cv_scores = []\n",
    "\n",
    "# perform 10-fold cross validation\n",
    "for k in neighbors:\n",
    "    knn = KNeighborsClassifier(n_neighbors=k, algorithm='kd_tree',n_jobs=-1)\n",
    "    scores = cross_val_score(knn, train_vectors, y_train, cv=10, scoring='f1_weighted', n_jobs=-1)\n",
    "    cv_scores.append(scores.mean())\n",
    "    \n",
    "# determining best k\n",
    "optimal_k_tfidf_w2v_kdtree = neighbors[cv_scores.index(max(cv_scores))]\n",
    "print('\\nThe optimal number of neighbors is %d.' % optimal_k_tfidf_w2v_kdtree)"
   ]
  },
  {
   "cell_type": "code",
   "execution_count": 89,
   "metadata": {},
   "outputs": [
    {
     "name": "stdout",
     "output_type": "stream",
     "text": [
      "\n",
      "The accuracy of the knn classifier for test k = 7 is 87.913333%\n",
      "\n",
      "The accuracy of the knn classifier for train k = 7 is 90.725714%\n"
     ]
    }
   ],
   "source": [
    "# ============================== KNN with k = optimal_k ===============================================\n",
    "# instantiate learning model k = optimal_k\n",
    "knn_optimal_tfidf_w2v_kdtree = KNeighborsClassifier(n_neighbors=optimal_k_tfidf_w2v_kdtree, algorithm = 'kd_tree')\n",
    "\n",
    "# fitting the model\n",
    "knn_optimal_tfidf_w2v_kdtree.fit(standardized_data_train, y_train)\n",
    "\n",
    "# predict the response\n",
    "pred_tfidf_w2v_kdtree = knn_optimal_tfidf_w2v_kdtree.predict(standardized_data_test)\n",
    "pred1_tfidf_w2v_kdtree = knn_optimal_tfidf_w2v_kdtree.predict(standardized_data_train)\n",
    "\n",
    "\n",
    "# evaluate accuracy\n",
    "acc_tfidf_w2v_kdtree = accuracy_score(y_test, pred_tfidf_w2v_kdtree) * 100\n",
    "acc1_tfidf_w2v_kdtree = accuracy_score(y_train, pred1_tfidf_w2v_kdtree) * 100\n",
    "\n",
    "print('\\nThe accuracy of the knn classifier for test k = %d is %f%%' % (optimal_k_tfidf_w2v_kdtree, acc_tfidf_w2v_kdtree))\n",
    "print('\\nThe accuracy of the knn classifier for train k = %d is %f%%' % (optimal_k_tfidf_w2v_kdtree, acc1_tfidf_w2v_kdtree))"
   ]
  },
  {
   "cell_type": "markdown",
   "metadata": {},
   "source": [
    "## 10.2 Error on Test data"
   ]
  },
  {
   "cell_type": "code",
   "execution_count": 90,
   "metadata": {},
   "outputs": [
    {
     "name": "stdout",
     "output_type": "stream",
     "text": [
      "Train Error 12.086667%\n"
     ]
    }
   ],
   "source": [
    "# Error on test data\n",
    "test_error_tfidf_w2v_kdtree = 100-acc_tfidf_w2v_kdtree\n",
    "print(\"Train Error %f%%\" % (test_error_tfidf_w2v_kdtree))"
   ]
  },
  {
   "cell_type": "markdown",
   "metadata": {},
   "source": [
    "## 10.3 Confusion Matrix"
   ]
  },
  {
   "cell_type": "code",
   "execution_count": 91,
   "metadata": {},
   "outputs": [
    {
     "data": {
      "text/plain": [
       "array([[  757,  2860],\n",
       "       [  766, 25617]])"
      ]
     },
     "execution_count": 91,
     "metadata": {},
     "output_type": "execute_result"
    }
   ],
   "source": [
    "# Confusion Matrix\n",
    "from sklearn.metrics import confusion_matrix\n",
    "cm_tfidf_w2v_kdtree = confusion_matrix(y_test, pred_tfidf_w2v_kdtree)\n",
    "cm_tfidf_w2v_kdtree"
   ]
  },
  {
   "cell_type": "code",
   "execution_count": 92,
   "metadata": {},
   "outputs": [
    {
     "data": {
      "image/png": "[encoded data removed]",
      "text/plain": [
       "<Figure size 432x288 with 2 Axes>"
      ]
     },
     "metadata": {},
     "output_type": "display_data"
    }
   ],
   "source": [
    "# plot confusion matrix to describe the performance of classifier.\n",
    "import seaborn as sns\n",
    "class_label = [\"negative\", \"positive\"]\n",
    "df_cm_tfidf_w2v_kdtree = pd.DataFrame(cm_tfidf_w2v_kdtree, index = class_label, columns = class_label)\n",
    "sns.heatmap(df_cm_tfidf_w2v_kdtree, annot = True, fmt = \"d\")\n",
    "plt.title(\"Confusiion Matrix\")\n",
    "plt.xlabel(\"Predicted Label\")\n",
    "plt.ylabel(\"True Label\")\n",
    "plt.show()"
   ]
  },
  {
   "cell_type": "markdown",
   "metadata": {},
   "source": [
    "## 10.4 Classification Report"
   ]
  },
  {
   "cell_type": "code",
   "execution_count": 93,
   "metadata": {},
   "outputs": [
    {
     "name": "stdout",
     "output_type": "stream",
     "text": [
      "              precision    recall  f1-score   support\n",
      "\n",
      "    negative       0.50      0.21      0.29      3617\n",
      "    positive       0.90      0.97      0.93     26383\n",
      "\n",
      "   micro avg       0.88      0.88      0.88     30000\n",
      "   macro avg       0.70      0.59      0.61     30000\n",
      "weighted avg       0.85      0.88      0.86     30000\n",
      "\n"
     ]
    }
   ],
   "source": [
    "from sklearn.metrics import classification_report\n",
    "print(classification_report(y_test, pred_tfidf_w2v_kdtree))"
   ]
  },
  {
   "cell_type": "markdown",
   "metadata": {},
   "source": [
    "## 10.5 Precision Score"
   ]
  },
  {
   "cell_type": "code",
   "execution_count": 94,
   "metadata": {},
   "outputs": [
    {
     "name": "stdout",
     "output_type": "stream",
     "text": [
      "precision_score for the tfidf_w2v_kdtree Knn model is = 0.879133\n"
     ]
    }
   ],
   "source": [
    "# Micro-average is preferable if there is a class imbalance problem.\n",
    "#In Micro-average method, you sum up the individual true positives, false positives, and false negatives of the system for different sets \n",
    "from sklearn.metrics import precision_score\n",
    "precision_score = precision_score(y_test,pred_tfidf_w2v_kdtree,average='micro')\n",
    "print(\"precision_score for the tfidf_w2v_kdtree Knn model is = %f\" % (precision_score))"
   ]
  },
  {
   "cell_type": "markdown",
   "metadata": {},
   "source": [
    "## 10.6 Recall Score"
   ]
  },
  {
   "cell_type": "code",
   "execution_count": 95,
   "metadata": {},
   "outputs": [
    {
     "name": "stdout",
     "output_type": "stream",
     "text": [
      "recall_score for the tfidf_w2v_kdtree Knn model is = 0.879133\n"
     ]
    }
   ],
   "source": [
    "from sklearn.metrics import recall_score\n",
    "recall_score = recall_score(y_test,pred_tfidf_w2v_kdtree,average='micro')\n",
    "print(\"recall_score for the tfidf_w2v_kdtree Knn model is = %f\" % (recall_score))"
   ]
  },
  {
   "cell_type": "code",
   "execution_count": 96,
   "metadata": {},
   "outputs": [
    {
     "name": "stdout",
     "output_type": "stream",
     "text": [
      " true negitves are 757 \n",
      " false positives are 2860 \n",
      " false negatives are 766\n",
      " true positives are 25617 \n",
      " \n"
     ]
    }
   ],
   "source": [
    "#finding out  true negative , false positive , false negative and true positve \n",
    "tn, fp, fn, tp = cm_tfidf_w2v_kdtree.ravel()\n",
    "( tp, fp, fn, tp)\n",
    "print(\" true negitves are {} \\n false positives are {} \\n false negatives are {}\\n true positives are {} \\n \".format(tn,fp,fn,tp))"
   ]
  },
  {
   "cell_type": "markdown",
   "metadata": {},
   "source": [
    "## 11 Pretty Table"
   ]
  },
  {
   "cell_type": "code",
   "execution_count": 97,
   "metadata": {},
   "outputs": [
    {
     "name": "stdout",
     "output_type": "stream",
     "text": [
      "+-------+---------------------------------------+--------+-------------------+-------------------+\n",
      "| S.NO. |                 MODEL                 | Best K | Training Accuracy |   Test Accuracy   |\n",
      "+-------+---------------------------------------+--------+-------------------+-------------------+\n",
      "|   1   |       KNN using 'brute' for BoW       |   7    | 89.75857142857143 | 88.77333333333334 |\n",
      "|   2   |       KNN using 'kdTree' for BoW      |   9    | 89.17714285714285 | 86.14333333333335 |\n",
      "|   3   |      KNN using 'brute' for TFIDF      |   5    | 90.20428571428572 |       88.69       |\n",
      "|   4   |      KNN using 'kdTree' for TFIDF     |   9    | 89.75428571428571 | 87.13666666666666 |\n",
      "|   5   |   KNN using 'brute' for Avg-Word2Vec  |   5    | 92.06857142857143 | 89.48666666666666 |\n",
      "|   6   |  KNN using 'kdTree' for Avg-Word2Vec  |   5    | 92.11714285714285 | 84.72333333333333 |\n",
      "|   7   |  KNN using 'brute' for TFIDF-Word2Vec |   9    | 90.44571428571429 |       89.21       |\n",
      "|   8   | KNN using 'kdTree' for TFIDF-Word2Vec |   7    | 90.72571428571429 | 87.91333333333333 |\n",
      "+-------+---------------------------------------+--------+-------------------+-------------------+\n"
     ]
    }
   ],
   "source": [
    "# Creating table using PrettyTable library\n",
    "from prettytable import PrettyTable\n",
    "\n",
    "names = [\"KNN using 'brute' for BoW\", \"KNN using 'kdTree' for BoW\", \"KNN using 'brute' for TFIDF\", \\\n",
    "        \"KNN using 'kdTree' for TFIDF\", \"KNN using 'brute' for Avg-Word2Vec\", \"KNN using 'kdTree' for Avg-Word2Vec\", \\\n",
    "        \"KNN using 'brute' for TFIDF-Word2Vec\", \"KNN using 'kdTree' for TFIDF-Word2Vec\"]\n",
    "\n",
    "optimal_K = [optimal_k_bow,optimal_k_bow_kdtree,optimal_k_tfidf,optimal_k_tfifd_kdtree,optimal_k_avg_w2v,optimal_k_avg_w2v_kdtree,\\\n",
    "             optimal_k_tfidf_w2v,optimal_k_tfidf_w2v_kdtree]\n",
    "\n",
    "train_acc = [acc1_bow,acc1_bow_kdtree,acc1_tfidf,acc1_tfifd_kdtree,acc1_avg_w2v,acc1_avg_w2v_kdtree,acc1_tfidf_w2v,acc1_tfidf_w2v_kdtree]\n",
    "\n",
    "test_acc = [acc_bow,acc_bow_kdtree,acc_tfidf,acc_tfifd_kdtree,acc_avg_w2v,acc_avg_w2v_kdtree,acc_tfidf_w2v,acc_tfidf_w2v_kdtree]\n",
    "\n",
    "numbering = [1,2,3,4,5,6,7,8]\n",
    "\n",
    "# Initializing prettytable\n",
    "ptable = PrettyTable()\n",
    "\n",
    "# Adding columns\n",
    "ptable.add_column(\"S.NO.\",numbering)\n",
    "ptable.add_column(\"MODEL\",names)\n",
    "ptable.add_column(\"Best K\",optimal_K)\n",
    "ptable.add_column(\"Training Accuracy\",train_acc)\n",
    "ptable.add_column(\"Test Accuracy\",test_acc)\n",
    "\n",
    "# Printing the Table\n",
    "print(ptable)"
   ]
  },
  {
   "cell_type": "markdown",
   "metadata": {},
   "source": [
    "# 12 Conclusion\n",
    "\n",
    "K-Nearest Neighbors (KNN) is one of the simplest algorithm used in Machine Learning for regression and classification problem. KNN algorithms use a data and classify new data points based on a similarity measures (e.g. distance function). Classification is done by a majority vote to its neighbors.\n",
    "\n",
    "Choosing a proper K value is important to the performance of K-Nearest Neighbour. If k value is too large, the nearest neighbor may misclassify the test instance because its list of nearest neighbors may include data points that are located far away from its neighborhood. On the other hand, if k value is too small, then the nearest neighbor classifier may be susceptible to overfitting because of noise in the training data set.\n",
    "\n",
    "As in \"KNN using 'brute' for Avg-Word2Vec\" when k = 5 the accuracy is quite good compared to other models. The reason behind selecting KNN using 'brute' for Avg-Word2Vec is it has high accuracy on test data. when we build a model KNN using 'brute' for Avg-Word2Vec it guarantee accuracy by cross validation here test accuraccy plays major role.\n",
    "\n",
    "In k-nn we should not take k-value even because Classification is done by a majority vote to its neighbors. \n",
    "\n",
    "In this model, train_error and test_error is low.As we know when a model performs good on training data but poor performance on unseen data(test data)i.e. its dependent on training data only, tends towards overfits and when a model perform poor performence on training data and good performence on test data i.e. it fails to learn relationship in training data tends towards underfit.\n",
    "\n",
    "We need to balance between both i.e. reduce training error and reduce error between training and testing error.\n",
    "Another concept bias vs variance is also related with underfitting and overfitting. when a model has high bias and low variance tend towards underfitting and high variance and low bias called overfitting and we balanced using cross-validataion. \n",
    "\n",
    "By crossvalidation Technique we can find right value of k neither overfit nor under fit. By crossvalidation Technique we can guarrantee accuracy.\n",
    "\n",
    "By accuracy we can sure we are not under fitting nor overfitting\n",
    "\n",
    "\n",
    "Failure cases of K-NN:-\n",
    "\n",
    "In K-NN always take k=odd value\n",
    "if my query point is far away from neighbour points i cannot decide it's particular class\n",
    "if my positive points and Negative points are jumbled so tightly there is no useful information in these cases my Machine learning algorithms fails\n",
    "\n",
    "KNN Limitations:-\n",
    "\n",
    "Knn takes large space complexity of order(nd) and time complexity of order(nd) \n",
    "\n",
    "\n",
    "Steps Involved:-\n",
    "\n",
    "1) Connecting SQL file\n",
    "\n",
    "2) Data Preprocessing(Already i had done preprocessing no need to do again)\n",
    "\n",
    "3) Sorting the data based on time\n",
    "\n",
    "4) Taking 1st 60K Rows (Due to low Ram)\n",
    "\n",
    "5) Spliting data into train and test based on time (70:30)\n",
    "\n",
    "6) Techniques For Vectorization Bow,TF-IDF,word2vec,Avgword2vec,tfidfword2vec.\n",
    "\n",
    "7) Standardizing Data and applying Knn brute force Algorithm and kdtree algorithm\n",
    "\n",
    "8) I calculated Accuracy,Error on Test Data, Confusion Matrix,Classification Report,Precision Score,Recall Score,F1-Score.\n",
    "\n",
    "9) I Designed Pretty Table\n",
    "\n",
    "10) Conclusion\n",
    "\n"
   ]
  }
 ],
 "metadata": {
  "kernelspec": {
   "display_name": "Python 3",
   "language": "python",
   "name": "python3"
  },
  "language_info": {
   "codemirror_mode": {
    "name": "ipython",
    "version": 3
   },
   "file_extension": ".py",
   "mimetype": "text/x-python",
   "name": "python",
   "nbconvert_exporter": "python",
   "pygments_lexer": "ipython3",
   "version": "3.5.3"
  }
 },
 "nbformat": 4,
 "nbformat_minor": 2
}
