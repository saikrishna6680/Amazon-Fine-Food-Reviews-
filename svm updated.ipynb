{
 "cells": [
  {
   "cell_type": "markdown",
   "metadata": {},
   "source": [
    "# Assignment:-"
   ]
  },
  {
   "cell_type": "markdown",
   "metadata": {},
   "source": [
    "\n",
    "## Apply SVM to Amazon Reviews data set"
   ]
  },
  {
   "cell_type": "markdown",
   "metadata": {},
   "source": [
    "## Amazon Fine Food Reviews Analysis\n",
    "\n",
    "\n",
    "Data Source: https://www.kaggle.com/snap/amazon-fine-food-reviews\n",
    "\n",
    "The Amazon Fine Food Reviews dataset consists of reviews of fine foods from Amazon.<br>\n",
    "\n",
    "Number of reviews: 568,454<br>\n",
    "Number of users: 256,059<br>\n",
    "Number of products: 74,258<br>\n",
    "Timespan: Oct 1999 - Oct 2012<br>\n",
    "Number of Attributes/Columns in data: 10 \n",
    "\n",
    "Attribute Information:\n",
    "\n",
    "1. Id\n",
    "2. ProductId - unique identifier for the product\n",
    "3. UserId - unqiue identifier for the user\n",
    "4. ProfileName\n",
    "5. HelpfulnessNumerator - number of users who found the review helpful\n",
    "6. HelpfulnessDenominator - number of users who indicated whether they found the review helpful or not\n",
    "7. Score - rating between 1 and 5\n",
    "8. Time - timestamp for the review\n",
    "9. Summary - brief summary of the review\n",
    "10. Text - text of the review"
   ]
  },
  {
   "cell_type": "markdown",
   "metadata": {},
   "source": [
    "# 1. Objective:\n",
    "Given a review, determine whether the review is positive (Rating of 4 or 5) or negative (rating of 1 or 2). Use BoW, TF-IDF, Avg-Word2Vec,TF-IDF-Word2Vec to vectorise the reviews. \n",
    "Apply RBFSVM Algorithm for Amazon fine food Reviews\n",
    "find right C, gamma(ɣ)  where ɣ=1/c  by Gridsearch cv,Random search cv"
   ]
  },
  {
   "cell_type": "code",
   "execution_count": 1,
   "metadata": {
    "scrolled": true
   },
   "outputs": [],
   "source": [
    "# loading required libraries \n",
    "import warnings\n",
    "warnings.simplefilter(action='ignore', category=FutureWarning)\n",
    "warnings.filterwarnings(\"ignore\", category=DeprecationWarning)\n",
    "warnings.filterwarnings(\"ignore\", category=FutureWarning)\n",
    "warnings.filterwarnings('ignore')\n",
    "import numpy as np\n",
    "import pandas as pd \n",
    "import matplotlib \n",
    "import sqlite3\n",
    "import string\n",
    "import gensim\n",
    "import scipy \n",
    "import nltk\n",
    "import time\n",
    "import seaborn as sns \n",
    "from scipy import stats\n",
    "from matplotlib import pyplot as plt \n",
    "\n",
    "from sklearn.feature_extraction.text import TfidfTransformer\n",
    "from sklearn.feature_extraction.text import TfidfVectorizer\n",
    "from sklearn.feature_extraction.text import CountVectorizer\n",
    "\n",
    "from sklearn.model_selection import GridSearchCV\n",
    "from sklearn.model_selection import RandomizedSearchCV\n",
    "from sklearn.linear_model import LogisticRegression\n",
    "\n",
    "from sklearn import metrics\n",
    "from sklearn.metrics import confusion_matrix\n",
    "from sklearn.metrics import roc_curve, roc_auc_score, auc\n",
    "from sklearn.metrics import accuracy_score\n",
    "from sklearn.metrics import precision_recall_fscore_support as prf1\n",
    "\n",
    "from sklearn.model_selection import KFold\n",
    "from sklearn.model_selection import train_test_split\n"
   ]
  },
  {
   "cell_type": "markdown",
   "metadata": {},
   "source": [
    "## 1.1 Connecting SQL file"
   ]
  },
  {
   "cell_type": "code",
   "execution_count": 2,
   "metadata": {},
   "outputs": [],
   "source": [
    "#Loading the data\n",
    "con = sqlite3.connect('./final.sqlite')\n",
    "\n",
    "data = pd.read_sql_query(\"\"\"\n",
    "SELECT *\n",
    "FROM Reviews\n",
    "\"\"\", con)"
   ]
  },
  {
   "cell_type": "code",
   "execution_count": 3,
   "metadata": {},
   "outputs": [
    {
     "name": "stdout",
     "output_type": "stream",
     "text": [
      "(364171, 12)\n"
     ]
    },
    {
     "data": {
      "text/html": [
       "<div>\n",
       "<style scoped>\n",
       "    .dataframe tbody tr th:only-of-type {\n",
       "        vertical-align: middle;\n",
       "    }\n",
       "\n",
       "    .dataframe tbody tr th {\n",
       "        vertical-align: top;\n",
       "    }\n",
       "\n",
       "    .dataframe thead th {\n",
       "        text-align: right;\n",
       "    }\n",
       "</style>\n",
       "<table border=\"1\" class=\"dataframe\">\n",
       "  <thead>\n",
       "    <tr style=\"text-align: right;\">\n",
       "      <th></th>\n",
       "      <th>index</th>\n",
       "      <th>Id</th>\n",
       "      <th>ProductId</th>\n",
       "      <th>UserId</th>\n",
       "      <th>ProfileName</th>\n",
       "      <th>HelpfulnessNumerator</th>\n",
       "      <th>HelpfulnessDenominator</th>\n",
       "      <th>Score</th>\n",
       "      <th>Time</th>\n",
       "      <th>Summary</th>\n",
       "      <th>Text</th>\n",
       "      <th>CleanedText</th>\n",
       "    </tr>\n",
       "  </thead>\n",
       "  <tbody>\n",
       "    <tr>\n",
       "      <th>0</th>\n",
       "      <td>138706</td>\n",
       "      <td>150524</td>\n",
       "      <td>0006641040</td>\n",
       "      <td>ACITT7DI6IDDL</td>\n",
       "      <td>shari zychinski</td>\n",
       "      <td>0</td>\n",
       "      <td>0</td>\n",
       "      <td>positive</td>\n",
       "      <td>939340800</td>\n",
       "      <td>EVERY book is educational</td>\n",
       "      <td>this witty little book makes my son laugh at l...</td>\n",
       "      <td>witti littl book make son laugh loud recit car...</td>\n",
       "    </tr>\n",
       "    <tr>\n",
       "      <th>1</th>\n",
       "      <td>138688</td>\n",
       "      <td>150506</td>\n",
       "      <td>0006641040</td>\n",
       "      <td>A2IW4PEEKO2R0U</td>\n",
       "      <td>Tracy</td>\n",
       "      <td>1</td>\n",
       "      <td>1</td>\n",
       "      <td>positive</td>\n",
       "      <td>1194739200</td>\n",
       "      <td>Love the book, miss the hard cover version</td>\n",
       "      <td>I grew up reading these Sendak books, and watc...</td>\n",
       "      <td>grew read sendak book watch realli rosi movi i...</td>\n",
       "    </tr>\n",
       "    <tr>\n",
       "      <th>2</th>\n",
       "      <td>138689</td>\n",
       "      <td>150507</td>\n",
       "      <td>0006641040</td>\n",
       "      <td>A1S4A3IQ2MU7V4</td>\n",
       "      <td>sally sue \"sally sue\"</td>\n",
       "      <td>1</td>\n",
       "      <td>1</td>\n",
       "      <td>positive</td>\n",
       "      <td>1191456000</td>\n",
       "      <td>chicken soup with rice months</td>\n",
       "      <td>This is a fun way for children to learn their ...</td>\n",
       "      <td>fun way children learn month year learn poem t...</td>\n",
       "    </tr>\n",
       "    <tr>\n",
       "      <th>3</th>\n",
       "      <td>138690</td>\n",
       "      <td>150508</td>\n",
       "      <td>0006641040</td>\n",
       "      <td>AZGXZ2UUK6X</td>\n",
       "      <td>Catherine Hallberg \"(Kate)\"</td>\n",
       "      <td>1</td>\n",
       "      <td>1</td>\n",
       "      <td>positive</td>\n",
       "      <td>1076025600</td>\n",
       "      <td>a good swingy rhythm for reading aloud</td>\n",
       "      <td>This is a great little book to read aloud- it ...</td>\n",
       "      <td>great littl book read nice rhythm well good re...</td>\n",
       "    </tr>\n",
       "    <tr>\n",
       "      <th>4</th>\n",
       "      <td>138691</td>\n",
       "      <td>150509</td>\n",
       "      <td>0006641040</td>\n",
       "      <td>A3CMRKGE0P909G</td>\n",
       "      <td>Teresa</td>\n",
       "      <td>3</td>\n",
       "      <td>4</td>\n",
       "      <td>positive</td>\n",
       "      <td>1018396800</td>\n",
       "      <td>A great way to learn the months</td>\n",
       "      <td>This is a book of poetry about the months of t...</td>\n",
       "      <td>book poetri month year goe month cute littl po...</td>\n",
       "    </tr>\n",
       "  </tbody>\n",
       "</table>\n",
       "</div>"
      ],
      "text/plain": [
       "    index      Id   ProductId          UserId                  ProfileName  \\\n",
       "0  138706  150524  0006641040   ACITT7DI6IDDL              shari zychinski   \n",
       "1  138688  150506  0006641040  A2IW4PEEKO2R0U                        Tracy   \n",
       "2  138689  150507  0006641040  A1S4A3IQ2MU7V4        sally sue \"sally sue\"   \n",
       "3  138690  150508  0006641040     AZGXZ2UUK6X  Catherine Hallberg \"(Kate)\"   \n",
       "4  138691  150509  0006641040  A3CMRKGE0P909G                       Teresa   \n",
       "\n",
       "   HelpfulnessNumerator  HelpfulnessDenominator     Score        Time  \\\n",
       "0                     0                       0  positive   939340800   \n",
       "1                     1                       1  positive  1194739200   \n",
       "2                     1                       1  positive  1191456000   \n",
       "3                     1                       1  positive  1076025600   \n",
       "4                     3                       4  positive  1018396800   \n",
       "\n",
       "                                      Summary  \\\n",
       "0                   EVERY book is educational   \n",
       "1  Love the book, miss the hard cover version   \n",
       "2               chicken soup with rice months   \n",
       "3      a good swingy rhythm for reading aloud   \n",
       "4             A great way to learn the months   \n",
       "\n",
       "                                                Text  \\\n",
       "0  this witty little book makes my son laugh at l...   \n",
       "1  I grew up reading these Sendak books, and watc...   \n",
       "2  This is a fun way for children to learn their ...   \n",
       "3  This is a great little book to read aloud- it ...   \n",
       "4  This is a book of poetry about the months of t...   \n",
       "\n",
       "                                         CleanedText  \n",
       "0  witti littl book make son laugh loud recit car...  \n",
       "1  grew read sendak book watch realli rosi movi i...  \n",
       "2  fun way children learn month year learn poem t...  \n",
       "3  great littl book read nice rhythm well good re...  \n",
       "4  book poetri month year goe month cute littl po...  "
      ]
     },
     "execution_count": 3,
     "metadata": {},
     "output_type": "execute_result"
    }
   ],
   "source": [
    "print(data.shape)\n",
    "data.head()"
   ]
  },
  {
   "cell_type": "markdown",
   "metadata": {},
   "source": [
    "## 1.2 Data Preprocessing"
   ]
  },
  {
   "cell_type": "code",
   "execution_count": 4,
   "metadata": {},
   "outputs": [
    {
     "data": {
      "text/plain": [
       "positive    307061\n",
       "negative     57110\n",
       "Name: Score, dtype: int64"
      ]
     },
     "execution_count": 4,
     "metadata": {},
     "output_type": "execute_result"
    }
   ],
   "source": [
    "data.Score.value_counts()\n",
    "#i had done data preprocessing i had stored in final.sqlite now loaded this file no need to do again data preprocessing\n"
   ]
  },
  {
   "cell_type": "markdown",
   "metadata": {},
   "source": [
    "## 1.3 Sorting the data\n"
   ]
  },
  {
   "cell_type": "code",
   "execution_count": 5,
   "metadata": {},
   "outputs": [
    {
     "data": {
      "text/html": [
       "<div>\n",
       "<style scoped>\n",
       "    .dataframe tbody tr th:only-of-type {\n",
       "        vertical-align: middle;\n",
       "    }\n",
       "\n",
       "    .dataframe tbody tr th {\n",
       "        vertical-align: top;\n",
       "    }\n",
       "\n",
       "    .dataframe thead th {\n",
       "        text-align: right;\n",
       "    }\n",
       "</style>\n",
       "<table border=\"1\" class=\"dataframe\">\n",
       "  <thead>\n",
       "    <tr style=\"text-align: right;\">\n",
       "      <th></th>\n",
       "      <th>index</th>\n",
       "      <th>Id</th>\n",
       "      <th>ProductId</th>\n",
       "      <th>UserId</th>\n",
       "      <th>ProfileName</th>\n",
       "      <th>HelpfulnessNumerator</th>\n",
       "      <th>HelpfulnessDenominator</th>\n",
       "      <th>Score</th>\n",
       "      <th>Time</th>\n",
       "      <th>Summary</th>\n",
       "      <th>Text</th>\n",
       "      <th>CleanedText</th>\n",
       "    </tr>\n",
       "  </thead>\n",
       "  <tbody>\n",
       "    <tr>\n",
       "      <th>0</th>\n",
       "      <td>138706</td>\n",
       "      <td>150524</td>\n",
       "      <td>0006641040</td>\n",
       "      <td>ACITT7DI6IDDL</td>\n",
       "      <td>shari zychinski</td>\n",
       "      <td>0</td>\n",
       "      <td>0</td>\n",
       "      <td>positive</td>\n",
       "      <td>939340800</td>\n",
       "      <td>EVERY book is educational</td>\n",
       "      <td>this witty little book makes my son laugh at l...</td>\n",
       "      <td>witti littl book make son laugh loud recit car...</td>\n",
       "    </tr>\n",
       "    <tr>\n",
       "      <th>30</th>\n",
       "      <td>138683</td>\n",
       "      <td>150501</td>\n",
       "      <td>0006641040</td>\n",
       "      <td>AJ46FKXOVC7NR</td>\n",
       "      <td>Nicholas A Mesiano</td>\n",
       "      <td>2</td>\n",
       "      <td>2</td>\n",
       "      <td>positive</td>\n",
       "      <td>940809600</td>\n",
       "      <td>This whole series is great way to spend time w...</td>\n",
       "      <td>I can remember seeing the show when it aired o...</td>\n",
       "      <td>rememb see show air televis year ago child sis...</td>\n",
       "    </tr>\n",
       "    <tr>\n",
       "      <th>424</th>\n",
       "      <td>417839</td>\n",
       "      <td>451856</td>\n",
       "      <td>B00004CXX9</td>\n",
       "      <td>AIUWLEQ1ADEG5</td>\n",
       "      <td>Elizabeth Medina</td>\n",
       "      <td>0</td>\n",
       "      <td>0</td>\n",
       "      <td>positive</td>\n",
       "      <td>944092800</td>\n",
       "      <td>Entertainingl Funny!</td>\n",
       "      <td>Beetlejuice is a well written movie ..... ever...</td>\n",
       "      <td>beetlejuic well written movi everyth excel act...</td>\n",
       "    </tr>\n",
       "    <tr>\n",
       "      <th>330</th>\n",
       "      <td>346055</td>\n",
       "      <td>374359</td>\n",
       "      <td>B00004CI84</td>\n",
       "      <td>A344SMIA5JECGM</td>\n",
       "      <td>Vincent P. Ross</td>\n",
       "      <td>1</td>\n",
       "      <td>2</td>\n",
       "      <td>positive</td>\n",
       "      <td>944438400</td>\n",
       "      <td>A modern day fairy tale</td>\n",
       "      <td>A twist of rumplestiskin captured on film, sta...</td>\n",
       "      <td>twist rumplestiskin captur film star michael k...</td>\n",
       "    </tr>\n",
       "    <tr>\n",
       "      <th>423</th>\n",
       "      <td>417838</td>\n",
       "      <td>451855</td>\n",
       "      <td>B00004CXX9</td>\n",
       "      <td>AJH6LUC1UT1ON</td>\n",
       "      <td>The Phantom of the Opera</td>\n",
       "      <td>0</td>\n",
       "      <td>0</td>\n",
       "      <td>positive</td>\n",
       "      <td>946857600</td>\n",
       "      <td>FANTASTIC!</td>\n",
       "      <td>Beetlejuice is an excellent and funny movie. K...</td>\n",
       "      <td>beetlejuic excel funni movi keaton hilari wack...</td>\n",
       "    </tr>\n",
       "  </tbody>\n",
       "</table>\n",
       "</div>"
      ],
      "text/plain": [
       "      index      Id   ProductId          UserId               ProfileName  \\\n",
       "0    138706  150524  0006641040   ACITT7DI6IDDL           shari zychinski   \n",
       "30   138683  150501  0006641040   AJ46FKXOVC7NR        Nicholas A Mesiano   \n",
       "424  417839  451856  B00004CXX9   AIUWLEQ1ADEG5          Elizabeth Medina   \n",
       "330  346055  374359  B00004CI84  A344SMIA5JECGM           Vincent P. Ross   \n",
       "423  417838  451855  B00004CXX9   AJH6LUC1UT1ON  The Phantom of the Opera   \n",
       "\n",
       "     HelpfulnessNumerator  HelpfulnessDenominator     Score       Time  \\\n",
       "0                       0                       0  positive  939340800   \n",
       "30                      2                       2  positive  940809600   \n",
       "424                     0                       0  positive  944092800   \n",
       "330                     1                       2  positive  944438400   \n",
       "423                     0                       0  positive  946857600   \n",
       "\n",
       "                                               Summary  \\\n",
       "0                            EVERY book is educational   \n",
       "30   This whole series is great way to spend time w...   \n",
       "424                               Entertainingl Funny!   \n",
       "330                            A modern day fairy tale   \n",
       "423                                         FANTASTIC!   \n",
       "\n",
       "                                                  Text  \\\n",
       "0    this witty little book makes my son laugh at l...   \n",
       "30   I can remember seeing the show when it aired o...   \n",
       "424  Beetlejuice is a well written movie ..... ever...   \n",
       "330  A twist of rumplestiskin captured on film, sta...   \n",
       "423  Beetlejuice is an excellent and funny movie. K...   \n",
       "\n",
       "                                           CleanedText  \n",
       "0    witti littl book make son laugh loud recit car...  \n",
       "30   rememb see show air televis year ago child sis...  \n",
       "424  beetlejuic well written movi everyth excel act...  \n",
       "330  twist rumplestiskin captur film star michael k...  \n",
       "423  beetlejuic excel funni movi keaton hilari wack...  "
      ]
     },
     "execution_count": 5,
     "metadata": {},
     "output_type": "execute_result"
    }
   ],
   "source": [
    "# Sorting the data according to the time-stamp\n",
    "sorted_data = data.sort_values('Time', axis=0, ascending=True, inplace=False, kind='quicksort', na_position='last')\n",
    "sorted_data.head()"
   ]
  },
  {
   "cell_type": "markdown",
   "metadata": {},
   "source": [
    "## 1.4 Mapping"
   ]
  },
  {
   "cell_type": "code",
   "execution_count": 6,
   "metadata": {},
   "outputs": [
    {
     "data": {
      "text/html": [
       "<div>\n",
       "<style scoped>\n",
       "    .dataframe tbody tr th:only-of-type {\n",
       "        vertical-align: middle;\n",
       "    }\n",
       "\n",
       "    .dataframe tbody tr th {\n",
       "        vertical-align: top;\n",
       "    }\n",
       "\n",
       "    .dataframe thead th {\n",
       "        text-align: right;\n",
       "    }\n",
       "</style>\n",
       "<table border=\"1\" class=\"dataframe\">\n",
       "  <thead>\n",
       "    <tr style=\"text-align: right;\">\n",
       "      <th></th>\n",
       "      <th>index</th>\n",
       "      <th>Id</th>\n",
       "      <th>ProductId</th>\n",
       "      <th>UserId</th>\n",
       "      <th>ProfileName</th>\n",
       "      <th>HelpfulnessNumerator</th>\n",
       "      <th>HelpfulnessDenominator</th>\n",
       "      <th>Score</th>\n",
       "      <th>Time</th>\n",
       "      <th>Summary</th>\n",
       "      <th>Text</th>\n",
       "      <th>CleanedText</th>\n",
       "    </tr>\n",
       "  </thead>\n",
       "  <tbody>\n",
       "    <tr>\n",
       "      <th>0</th>\n",
       "      <td>138706</td>\n",
       "      <td>150524</td>\n",
       "      <td>0006641040</td>\n",
       "      <td>ACITT7DI6IDDL</td>\n",
       "      <td>shari zychinski</td>\n",
       "      <td>0</td>\n",
       "      <td>0</td>\n",
       "      <td>1</td>\n",
       "      <td>939340800</td>\n",
       "      <td>EVERY book is educational</td>\n",
       "      <td>this witty little book makes my son laugh at l...</td>\n",
       "      <td>witti littl book make son laugh loud recit car...</td>\n",
       "    </tr>\n",
       "    <tr>\n",
       "      <th>30</th>\n",
       "      <td>138683</td>\n",
       "      <td>150501</td>\n",
       "      <td>0006641040</td>\n",
       "      <td>AJ46FKXOVC7NR</td>\n",
       "      <td>Nicholas A Mesiano</td>\n",
       "      <td>2</td>\n",
       "      <td>2</td>\n",
       "      <td>1</td>\n",
       "      <td>940809600</td>\n",
       "      <td>This whole series is great way to spend time w...</td>\n",
       "      <td>I can remember seeing the show when it aired o...</td>\n",
       "      <td>rememb see show air televis year ago child sis...</td>\n",
       "    </tr>\n",
       "    <tr>\n",
       "      <th>424</th>\n",
       "      <td>417839</td>\n",
       "      <td>451856</td>\n",
       "      <td>B00004CXX9</td>\n",
       "      <td>AIUWLEQ1ADEG5</td>\n",
       "      <td>Elizabeth Medina</td>\n",
       "      <td>0</td>\n",
       "      <td>0</td>\n",
       "      <td>1</td>\n",
       "      <td>944092800</td>\n",
       "      <td>Entertainingl Funny!</td>\n",
       "      <td>Beetlejuice is a well written movie ..... ever...</td>\n",
       "      <td>beetlejuic well written movi everyth excel act...</td>\n",
       "    </tr>\n",
       "    <tr>\n",
       "      <th>330</th>\n",
       "      <td>346055</td>\n",
       "      <td>374359</td>\n",
       "      <td>B00004CI84</td>\n",
       "      <td>A344SMIA5JECGM</td>\n",
       "      <td>Vincent P. Ross</td>\n",
       "      <td>1</td>\n",
       "      <td>2</td>\n",
       "      <td>1</td>\n",
       "      <td>944438400</td>\n",
       "      <td>A modern day fairy tale</td>\n",
       "      <td>A twist of rumplestiskin captured on film, sta...</td>\n",
       "      <td>twist rumplestiskin captur film star michael k...</td>\n",
       "    </tr>\n",
       "    <tr>\n",
       "      <th>423</th>\n",
       "      <td>417838</td>\n",
       "      <td>451855</td>\n",
       "      <td>B00004CXX9</td>\n",
       "      <td>AJH6LUC1UT1ON</td>\n",
       "      <td>The Phantom of the Opera</td>\n",
       "      <td>0</td>\n",
       "      <td>0</td>\n",
       "      <td>1</td>\n",
       "      <td>946857600</td>\n",
       "      <td>FANTASTIC!</td>\n",
       "      <td>Beetlejuice is an excellent and funny movie. K...</td>\n",
       "      <td>beetlejuic excel funni movi keaton hilari wack...</td>\n",
       "    </tr>\n",
       "  </tbody>\n",
       "</table>\n",
       "</div>"
      ],
      "text/plain": [
       "      index      Id   ProductId          UserId               ProfileName  \\\n",
       "0    138706  150524  0006641040   ACITT7DI6IDDL           shari zychinski   \n",
       "30   138683  150501  0006641040   AJ46FKXOVC7NR        Nicholas A Mesiano   \n",
       "424  417839  451856  B00004CXX9   AIUWLEQ1ADEG5          Elizabeth Medina   \n",
       "330  346055  374359  B00004CI84  A344SMIA5JECGM           Vincent P. Ross   \n",
       "423  417838  451855  B00004CXX9   AJH6LUC1UT1ON  The Phantom of the Opera   \n",
       "\n",
       "     HelpfulnessNumerator  HelpfulnessDenominator  Score       Time  \\\n",
       "0                       0                       0      1  939340800   \n",
       "30                      2                       2      1  940809600   \n",
       "424                     0                       0      1  944092800   \n",
       "330                     1                       2      1  944438400   \n",
       "423                     0                       0      1  946857600   \n",
       "\n",
       "                                               Summary  \\\n",
       "0                            EVERY book is educational   \n",
       "30   This whole series is great way to spend time w...   \n",
       "424                               Entertainingl Funny!   \n",
       "330                            A modern day fairy tale   \n",
       "423                                         FANTASTIC!   \n",
       "\n",
       "                                                  Text  \\\n",
       "0    this witty little book makes my son laugh at l...   \n",
       "30   I can remember seeing the show when it aired o...   \n",
       "424  Beetlejuice is a well written movie ..... ever...   \n",
       "330  A twist of rumplestiskin captured on film, sta...   \n",
       "423  Beetlejuice is an excellent and funny movie. K...   \n",
       "\n",
       "                                           CleanedText  \n",
       "0    witti littl book make son laugh loud recit car...  \n",
       "30   rememb see show air televis year ago child sis...  \n",
       "424  beetlejuic well written movi everyth excel act...  \n",
       "330  twist rumplestiskin captur film star michael k...  \n",
       "423  beetlejuic excel funni movi keaton hilari wack...  "
      ]
     },
     "execution_count": 6,
     "metadata": {},
     "output_type": "execute_result"
    }
   ],
   "source": [
    "def partition(x):\n",
    "    if x == 'positive':\n",
    "        return 1\n",
    "    return 0\n",
    "\n",
    "#Preparing the filtered data\n",
    "actualScore = sorted_data['Score']\n",
    "positiveNegative = actualScore.map(partition) \n",
    "sorted_data['Score'] = positiveNegative\n",
    "sorted_data.head()\n"
   ]
  },
  {
   "cell_type": "markdown",
   "metadata": {},
   "source": [
    "## 1.5 Taking first 140k rows"
   ]
  },
  {
   "cell_type": "code",
   "execution_count": 7,
   "metadata": {},
   "outputs": [
    {
     "name": "stdout",
     "output_type": "stream",
     "text": [
      "(140000, 12)\n"
     ]
    },
    {
     "data": {
      "text/html": [
       "<div>\n",
       "<style scoped>\n",
       "    .dataframe tbody tr th:only-of-type {\n",
       "        vertical-align: middle;\n",
       "    }\n",
       "\n",
       "    .dataframe tbody tr th {\n",
       "        vertical-align: top;\n",
       "    }\n",
       "\n",
       "    .dataframe thead th {\n",
       "        text-align: right;\n",
       "    }\n",
       "</style>\n",
       "<table border=\"1\" class=\"dataframe\">\n",
       "  <thead>\n",
       "    <tr style=\"text-align: right;\">\n",
       "      <th></th>\n",
       "      <th>index</th>\n",
       "      <th>Id</th>\n",
       "      <th>ProductId</th>\n",
       "      <th>UserId</th>\n",
       "      <th>ProfileName</th>\n",
       "      <th>HelpfulnessNumerator</th>\n",
       "      <th>HelpfulnessDenominator</th>\n",
       "      <th>Score</th>\n",
       "      <th>Time</th>\n",
       "      <th>Summary</th>\n",
       "      <th>Text</th>\n",
       "      <th>CleanedText</th>\n",
       "    </tr>\n",
       "  </thead>\n",
       "  <tbody>\n",
       "    <tr>\n",
       "      <th>0</th>\n",
       "      <td>138706</td>\n",
       "      <td>150524</td>\n",
       "      <td>0006641040</td>\n",
       "      <td>ACITT7DI6IDDL</td>\n",
       "      <td>shari zychinski</td>\n",
       "      <td>0</td>\n",
       "      <td>0</td>\n",
       "      <td>1</td>\n",
       "      <td>939340800</td>\n",
       "      <td>EVERY book is educational</td>\n",
       "      <td>this witty little book makes my son laugh at l...</td>\n",
       "      <td>witti littl book make son laugh loud recit car...</td>\n",
       "    </tr>\n",
       "    <tr>\n",
       "      <th>30</th>\n",
       "      <td>138683</td>\n",
       "      <td>150501</td>\n",
       "      <td>0006641040</td>\n",
       "      <td>AJ46FKXOVC7NR</td>\n",
       "      <td>Nicholas A Mesiano</td>\n",
       "      <td>2</td>\n",
       "      <td>2</td>\n",
       "      <td>1</td>\n",
       "      <td>940809600</td>\n",
       "      <td>This whole series is great way to spend time w...</td>\n",
       "      <td>I can remember seeing the show when it aired o...</td>\n",
       "      <td>rememb see show air televis year ago child sis...</td>\n",
       "    </tr>\n",
       "    <tr>\n",
       "      <th>424</th>\n",
       "      <td>417839</td>\n",
       "      <td>451856</td>\n",
       "      <td>B00004CXX9</td>\n",
       "      <td>AIUWLEQ1ADEG5</td>\n",
       "      <td>Elizabeth Medina</td>\n",
       "      <td>0</td>\n",
       "      <td>0</td>\n",
       "      <td>1</td>\n",
       "      <td>944092800</td>\n",
       "      <td>Entertainingl Funny!</td>\n",
       "      <td>Beetlejuice is a well written movie ..... ever...</td>\n",
       "      <td>beetlejuic well written movi everyth excel act...</td>\n",
       "    </tr>\n",
       "    <tr>\n",
       "      <th>330</th>\n",
       "      <td>346055</td>\n",
       "      <td>374359</td>\n",
       "      <td>B00004CI84</td>\n",
       "      <td>A344SMIA5JECGM</td>\n",
       "      <td>Vincent P. Ross</td>\n",
       "      <td>1</td>\n",
       "      <td>2</td>\n",
       "      <td>1</td>\n",
       "      <td>944438400</td>\n",
       "      <td>A modern day fairy tale</td>\n",
       "      <td>A twist of rumplestiskin captured on film, sta...</td>\n",
       "      <td>twist rumplestiskin captur film star michael k...</td>\n",
       "    </tr>\n",
       "    <tr>\n",
       "      <th>423</th>\n",
       "      <td>417838</td>\n",
       "      <td>451855</td>\n",
       "      <td>B00004CXX9</td>\n",
       "      <td>AJH6LUC1UT1ON</td>\n",
       "      <td>The Phantom of the Opera</td>\n",
       "      <td>0</td>\n",
       "      <td>0</td>\n",
       "      <td>1</td>\n",
       "      <td>946857600</td>\n",
       "      <td>FANTASTIC!</td>\n",
       "      <td>Beetlejuice is an excellent and funny movie. K...</td>\n",
       "      <td>beetlejuic excel funni movi keaton hilari wack...</td>\n",
       "    </tr>\n",
       "  </tbody>\n",
       "</table>\n",
       "</div>"
      ],
      "text/plain": [
       "      index      Id   ProductId          UserId               ProfileName  \\\n",
       "0    138706  150524  0006641040   ACITT7DI6IDDL           shari zychinski   \n",
       "30   138683  150501  0006641040   AJ46FKXOVC7NR        Nicholas A Mesiano   \n",
       "424  417839  451856  B00004CXX9   AIUWLEQ1ADEG5          Elizabeth Medina   \n",
       "330  346055  374359  B00004CI84  A344SMIA5JECGM           Vincent P. Ross   \n",
       "423  417838  451855  B00004CXX9   AJH6LUC1UT1ON  The Phantom of the Opera   \n",
       "\n",
       "     HelpfulnessNumerator  HelpfulnessDenominator  Score       Time  \\\n",
       "0                       0                       0      1  939340800   \n",
       "30                      2                       2      1  940809600   \n",
       "424                     0                       0      1  944092800   \n",
       "330                     1                       2      1  944438400   \n",
       "423                     0                       0      1  946857600   \n",
       "\n",
       "                                               Summary  \\\n",
       "0                            EVERY book is educational   \n",
       "30   This whole series is great way to spend time w...   \n",
       "424                               Entertainingl Funny!   \n",
       "330                            A modern day fairy tale   \n",
       "423                                         FANTASTIC!   \n",
       "\n",
       "                                                  Text  \\\n",
       "0    this witty little book makes my son laugh at l...   \n",
       "30   I can remember seeing the show when it aired o...   \n",
       "424  Beetlejuice is a well written movie ..... ever...   \n",
       "330  A twist of rumplestiskin captured on film, sta...   \n",
       "423  Beetlejuice is an excellent and funny movie. K...   \n",
       "\n",
       "                                           CleanedText  \n",
       "0    witti littl book make son laugh loud recit car...  \n",
       "30   rememb see show air televis year ago child sis...  \n",
       "424  beetlejuic well written movi everyth excel act...  \n",
       "330  twist rumplestiskin captur film star michael k...  \n",
       "423  beetlejuic excel funni movi keaton hilari wack...  "
      ]
     },
     "execution_count": 7,
     "metadata": {},
     "output_type": "execute_result"
    }
   ],
   "source": [
    "# We will collect different 140000 rows without repetition from time_sorted_data dataframe\n",
    "my_final = sorted_data[:140000]\n",
    "print(my_final.shape)\n",
    "my_final.head()"
   ]
  },
  {
   "cell_type": "markdown",
   "metadata": {},
   "source": [
    "## 1.6 Spliting data into train and test based on time (70:30)"
   ]
  },
  {
   "cell_type": "code",
   "execution_count": 8,
   "metadata": {},
   "outputs": [
    {
     "name": "stdout",
     "output_type": "stream",
     "text": [
      "(98000,)\n",
      "(42000,)\n",
      "(98000,)\n",
      "(42000,)\n"
     ]
    }
   ],
   "source": [
    "from sklearn.model_selection import train_test_split\n",
    "from sklearn.model_selection import cross_validate\n",
    "\n",
    "\n",
    "x=my_final['CleanedText'].values\n",
    "y=my_final['Score']\n",
    "\n",
    "#Splitting data into train test and cross validation \n",
    "x_train,x_test,y_train,y_test =train_test_split(x,y,test_size =0.3,random_state = 42)\n",
    "\n",
    "print(x_train.shape)\n",
    "print(x_test.shape)\n",
    "print(y_train.shape)\n",
    "print(y_test.shape)"
   ]
  },
  {
   "cell_type": "markdown",
   "metadata": {},
   "source": [
    "## 2.  Techniques For Vectorization"
   ]
  },
  {
   "cell_type": "markdown",
   "metadata": {},
   "source": [
    "## Why we have to convert text to vector\n",
    "By converting text to vector we can use whole power of linear algebra.we can find a plane to seperate"
   ]
  },
  {
   "cell_type": "markdown",
   "metadata": {},
   "source": [
    "## 2.1 BOW"
   ]
  },
  {
   "cell_type": "code",
   "execution_count": 9,
   "metadata": {},
   "outputs": [
    {
     "name": "stdout",
     "output_type": "stream",
     "text": [
      "the type of count vectorizer  <class 'scipy.sparse.csr.csr_matrix'>\n",
      "the shape of out text BOW vectorizer  (98000, 36949)\n",
      "the number of unique words  36949\n",
      "the type of count vectorizer  <class 'scipy.sparse.csr.csr_matrix'>\n",
      "the shape of out text BOW vectorizer  (42000, 36949)\n"
     ]
    }
   ],
   "source": [
    "#Bow\n",
    "\n",
    "from sklearn.feature_extraction.text import CountVectorizer\n",
    "count_vect = CountVectorizer() \n",
    "final_counts_Bow_tr= count_vect.fit_transform(x_train)# computing Bow\n",
    "print(\"the type of count vectorizer \",type(final_counts_Bow_tr))\n",
    "print(\"the shape of out text BOW vectorizer \",final_counts_Bow_tr.get_shape())\n",
    "print(\"the number of unique words \", final_counts_Bow_tr.get_shape()[1])\n",
    "final_counts_Bow_test= count_vect.transform(x_test)# computing Bow\n",
    "print(\"the type of count vectorizer \",type(final_counts_Bow_test))\n",
    "print(\"the shape of out text BOW vectorizer \",final_counts_Bow_test.get_shape())"
   ]
  },
  {
   "cell_type": "markdown",
   "metadata": {},
   "source": [
    "## 2.1.1 Normalizing Data "
   ]
  },
  {
   "cell_type": "code",
   "execution_count": 10,
   "metadata": {},
   "outputs": [
    {
     "name": "stdout",
     "output_type": "stream",
     "text": [
      "(98000, 36949)\n",
      "(42000, 36949)\n"
     ]
    }
   ],
   "source": [
    "# Data-preprocessing: Normalizing Data\n",
    "\n",
    "from sklearn import preprocessing\n",
    "standardized_data_train = preprocessing.normalize(final_counts_Bow_tr)\n",
    "print(standardized_data_train.shape)\n",
    "standardized_data_test = preprocessing.normalize(final_counts_Bow_test)\n",
    "print(standardized_data_test.shape)\n"
   ]
  },
  {
   "cell_type": "markdown",
   "metadata": {},
   "source": [
    "## 2.2 Applying Support vector Machine Algorithm\n"
   ]
  },
  {
   "cell_type": "markdown",
   "metadata": {},
   "source": [
    "## 2.2.1 Applying SGD Classifier by GridSearchCV"
   ]
  },
  {
   "cell_type": "code",
   "execution_count": 11,
   "metadata": {
    "scrolled": true
   },
   "outputs": [
    {
     "name": "stdout",
     "output_type": "stream",
     "text": [
      "best alpha value is SGDClassifier(alpha=10, average=False, class_weight='balanced',\n",
      "       early_stopping=False, epsilon=0.1, eta0=0.0, fit_intercept=True,\n",
      "       l1_ratio=0.15, learning_rate='optimal', loss='hinge', max_iter=1000,\n",
      "       n_iter=None, n_iter_no_change=5, n_jobs=None, penalty='l2',\n",
      "       power_t=0.5, random_state=None, shuffle=True, tol=None,\n",
      "       validation_fraction=0.1, verbose=0, warm_start=False)\n",
      "Accuracy of the model : 0.93\n"
     ]
    }
   ],
   "source": [
    "from sklearn import linear_model\n",
    "clf=linear_model.SGDClassifier(loss='hinge',max_iter=1000,class_weight='balanced')\n",
    "tuned_parameters = {'alpha': [0.001, 0.01, 0.1, 1, 10]}\n",
    "\n",
    "model = GridSearchCV(clf, tuned_parameters,cv=3,scoring='f1', n_jobs=-1,pre_dispatch=2)\n",
    "model.fit(standardized_data_train, y_train)\n",
    "print(\"best alpha value is\",model.best_estimator_)\n",
    "print(\"Accuracy of the model : {:.2f}\".format(model.score(standardized_data_test, y_test)))\n",
    "a = model.best_params_\n",
    "optimal_alpha = a.get('alpha')"
   ]
  },
  {
   "cell_type": "code",
   "execution_count": 12,
   "metadata": {},
   "outputs": [
    {
     "data": {
      "text/plain": [
       "array([0.88689402, 0.8288472 , 0.84536848, 0.90860996, 0.92785445])"
      ]
     },
     "execution_count": 12,
     "metadata": {},
     "output_type": "execute_result"
    }
   ],
   "source": [
    "model.best_params_\n",
    "results = model.cv_results_\n",
    "results['mean_test_score']"
   ]
  },
  {
   "cell_type": "code",
   "execution_count": 13,
   "metadata": {},
   "outputs": [
    {
     "data": {
      "image/png": "[encoded data removed]",
      "text/plain": [
       "<Figure size 432x288 with 1 Axes>"
      ]
     },
     "metadata": {},
     "output_type": "display_data"
    }
   ],
   "source": [
    "C=0.001, 0.01, 0.1, 1, 10\n",
    "plt.plot(C,results['mean_test_score'],marker='o')\n",
    "plt.xlabel('C')\n",
    "plt.ylabel('f1score')\n",
    "plt.title(\"F1score vs hyperparameter C\")\n",
    "plt.grid()\n",
    "plt.show()"
   ]
  },
  {
   "cell_type": "code",
   "execution_count": 14,
   "metadata": {},
   "outputs": [],
   "source": [
    "clf = linear_model.SGDClassifier(loss='hinge',alpha=optimal_alpha,class_weight='balanced')\n",
    "clf.fit(standardized_data_train,y_train)\n",
    "y_pred = clf.predict(standardized_data_test)"
   ]
  },
  {
   "cell_type": "markdown",
   "metadata": {},
   "source": [
    "## 2.3 Confusion Matrix"
   ]
  },
  {
   "cell_type": "code",
   "execution_count": 15,
   "metadata": {},
   "outputs": [
    {
     "name": "stdout",
     "output_type": "stream",
     "text": [
      "Confusion Matrix:\n"
     ]
    },
    {
     "data": {
      "image/png": "[encoded data removed]",
      "text/plain": [
       "<Figure size 432x288 with 2 Axes>"
      ]
     },
     "metadata": {},
     "output_type": "display_data"
    }
   ],
   "source": [
    "cm_bow=confusion_matrix(y_test,y_pred)\n",
    "print(\"Confusion Matrix:\")\n",
    "sns.heatmap(cm_bow, annot=True, fmt='d')\n",
    "plt.show()"
   ]
  },
  {
   "cell_type": "code",
   "execution_count": 16,
   "metadata": {},
   "outputs": [
    {
     "name": "stdout",
     "output_type": "stream",
     "text": [
      " true negitves are 0 \n",
      " false positives are 5613 \n",
      " false negatives are 0\n",
      " true positives are 36387 \n",
      " \n"
     ]
    }
   ],
   "source": [
    "#finding out  true negative , false positive , false negative and true positve \n",
    "tn, fp, fn, tp = cm_bow.ravel()\n",
    "( tp, fp, fn, tp)\n",
    "print(\" true negitves are {} \\n false positives are {} \\n false negatives are {}\\n true positives are {} \\n \".format(tn,fp,fn,tp))"
   ]
  },
  {
   "cell_type": "markdown",
   "metadata": {},
   "source": [
    "## 2.4 Calculating Accuracy,Error on test data,Precision,Recall,Classification Report"
   ]
  },
  {
   "cell_type": "code",
   "execution_count": 17,
   "metadata": {},
   "outputs": [
    {
     "name": "stdout",
     "output_type": "stream",
     "text": [
      "\n",
      "The Test Accuracy of the SVM for alpha = 10.000 is 86.635714%\n",
      "\n",
      "Test Error SVM for alpha  is  13.364286%\n",
      "\n",
      "The Test Precision of the  SVM for alpha  = 10.000 is 0.866357\n",
      "\n",
      "The Test Recall of the  SVM for alpha  = 10.000 is 1.000000\n",
      "\n",
      "The Test classification report of the  SVM for alpha  \n",
      "\n",
      "                precision    recall  f1-score   support\n",
      "\n",
      "           0       0.00      0.00      0.00      5613\n",
      "           1       0.87      1.00      0.93     36387\n",
      "\n",
      "   micro avg       0.87      0.87      0.87     42000\n",
      "   macro avg       0.43      0.50      0.46     42000\n",
      "weighted avg       0.75      0.87      0.80     42000\n",
      "\n"
     ]
    }
   ],
   "source": [
    "from sklearn.metrics import recall_score\n",
    "from sklearn.metrics import precision_score\n",
    "from sklearn.metrics import classification_report\n",
    "from sklearn.metrics import roc_auc_score\n",
    "\n",
    "# evaluating accuracy\n",
    "acc_bow = accuracy_score(y_test, y_pred) * 100\n",
    "print('\\nThe Test Accuracy of the SVM for alpha = %.3f is %f%%' % (optimal_alpha, acc_bow))\n",
    "\n",
    "# Error on test data\n",
    "test_error_bow = 100-acc_bow\n",
    "print(\"\\nTest Error SVM for alpha  is  %f%%\" % (test_error_bow))\n",
    "\n",
    "# evaluating precision\n",
    "precision_score = precision_score(y_test, y_pred) \n",
    "print('\\nThe Test Precision of the  SVM for alpha  = %.3f is %f' % (optimal_alpha, precision_score))\n",
    "\n",
    "# evaluating recall\n",
    "recall_score = recall_score(y_test, y_pred)\n",
    "print('\\nThe Test Recall of the  SVM for alpha  = %.3f is %f' % (optimal_alpha, recall_score))\n",
    "\n",
    "# evaluating Classification report\n",
    "classification_report = classification_report(y_test, y_pred)\n",
    "print('\\nThe Test classification report of the  SVM for alpha  \\n\\n ',(classification_report))\n"
   ]
  },
  {
   "cell_type": "markdown",
   "metadata": {},
   "source": [
    "## 2.5 Plotting roc_auc curve"
   ]
  },
  {
   "cell_type": "code",
   "execution_count": 18,
   "metadata": {},
   "outputs": [
    {
     "data": {
      "image/png": "[encoded data removed]",
      "text/plain": [
       "<Figure size 432x288 with 1 Axes>"
      ]
     },
     "metadata": {},
     "output_type": "display_data"
    }
   ],
   "source": [
    "from sklearn.calibration import CalibratedClassifierCV\n",
    "calibrated = CalibratedClassifierCV(model, method='sigmoid', cv=3)\n",
    "calibrated.fit(standardized_data_train, y_train)\n",
    "y_pred_proba = calibrated.predict_proba(standardized_data_test)[::,1]\n",
    "fpr, tpr, _ = metrics.roc_curve(y_test,  y_pred_proba)\n",
    "auc = metrics.roc_auc_score(y_test, y_pred_proba)\n",
    "plt.plot(fpr,tpr,label=\"bow, AUC=\"+str(auc))\n",
    "plt.plot([0,1],[0,1],'r--')\n",
    "plt.title('ROC curve: SVM')\n",
    "plt.legend(loc='lower right')\n",
    "plt.ylabel('True Positive Rate')\n",
    "plt.xlabel('False Positive Rate')\n",
    "plt.show()"
   ]
  },
  {
   "cell_type": "markdown",
   "metadata": {},
   "source": [
    "## 2.6 Top 25 words "
   ]
  },
  {
   "cell_type": "code",
   "execution_count": 19,
   "metadata": {},
   "outputs": [
    {
     "name": "stdout",
     "output_type": "stream",
     "text": [
      "\n",
      "Top 25 \"POSITIVE\" Features are:\n",
      "\n",
      "cardo\n",
      "feldman\n",
      "airforc\n",
      "salesperson\n",
      "leukemia\n",
      "vacumn\n",
      "tourist\n",
      "indegst\n",
      "groundbal\n",
      "dump\n",
      "satat\n",
      "rood\n",
      "entendr\n",
      "theoriz\n",
      "bunchi\n",
      "methion\n",
      "racquetbal\n",
      "vegey\n",
      "traditon\n",
      "apper\n",
      "costom\n",
      "duplo\n",
      "lat\n",
      "extrins\n",
      "goooooooooo\n",
      "\n",
      " Top 25 \"NEGATIVE\" Features are:\n",
      "\n",
      "tast\n",
      "product\n",
      "would\n",
      "disappoint\n",
      "like\n",
      "bad\n",
      "box\n",
      "money\n",
      "order\n",
      "review\n",
      "didnt\n",
      "dont\n",
      "receiv\n",
      "buy\n",
      "thought\n",
      "item\n",
      "even\n",
      "away\n",
      "bought\n",
      "wast\n",
      "smell\n",
      "return\n",
      "look\n",
      "purchas\n",
      "packag\n"
     ]
    }
   ],
   "source": [
    "top_n=25\n",
    "# sorting the weight indices \n",
    "pos_class_weight_sorted = -clf.coef_.argsort()\n",
    "neg_class_weight_sorted = clf.coef_.argsort()\n",
    "            \n",
    "# top positive features \n",
    "print('\\nTop '+str(top_n)+' \"POSITIVE\" Features are:\\n')\n",
    "pos = np.take(count_vect.get_feature_names(), pos_class_weight_sorted[:top_n])\n",
    "for i in range(top_n):\n",
    "    print(pos[0][i])\n",
    "\n",
    "# top negative features\n",
    "print('\\n Top '+str(top_n)+' \"NEGATIVE\" Features are:\\n')\n",
    "neg = np.take(count_vect.get_feature_names(), neg_class_weight_sorted[:top_n])\n",
    "for i in range(top_n):\n",
    "    print(neg[0][i])"
   ]
  },
  {
   "cell_type": "code",
   "execution_count": 20,
   "metadata": {},
   "outputs": [
    {
     "data": {
      "text/plain": [
       "(-0.5, 2999.5, 2499.5, -0.5)"
      ]
     },
     "execution_count": 20,
     "metadata": {},
     "output_type": "execute_result"
    },
    {
     "data": {
      "image/png": "[encoded data removed]",
      "text/plain": [
       "<Figure size 432x288 with 1 Axes>"
      ]
     },
     "metadata": {},
     "output_type": "display_data"
    }
   ],
   "source": [
    "pos=''.join(str(e) for e in pos)\n",
    "\n",
    "from wordcloud import WordCloud\n",
    "\n",
    "wordcloud = WordCloud(background_color='black',\n",
    "                      width=3000,\n",
    "                      height=2500\n",
    "                     ).generate(pos)\n",
    "\n",
    "plt.title(\"Positive Frequent words\")\n",
    "plt.figure(1, figsize=(25, 25))\n",
    "plt.imshow(wordcloud)\n",
    "plt.tight_layout(pad=0)\n",
    "plt.axis('off')"
   ]
  },
  {
   "cell_type": "code",
   "execution_count": 21,
   "metadata": {},
   "outputs": [
    {
     "data": {
      "image/png": "[encoded data removed]",
      "text/plain": [
       "<Figure size 432x288 with 1 Axes>"
      ]
     },
     "metadata": {},
     "output_type": "display_data"
    }
   ],
   "source": [
    "neg=''.join(str(e) for e in neg)\n",
    "\n",
    "from wordcloud import WordCloud\n",
    "\n",
    "wordcloud = WordCloud(background_color='black',\n",
    "                      width=3000,\n",
    "                      height=2500\n",
    "                     ).generate(neg)\n",
    "\n",
    "plt.title(\"Negative Frequent words\")\n",
    "plt.figure(1, figsize=(25, 25))\n",
    "plt.imshow(wordcloud)\n",
    "plt.tight_layout(pad=0)\n",
    "plt.axis('off')\n",
    "plt.show()"
   ]
  },
  {
   "cell_type": "markdown",
   "metadata": {},
   "source": [
    "## 2.7 Applying SGD Classifier by RandomizedSearchCV"
   ]
  },
  {
   "cell_type": "code",
   "execution_count": 22,
   "metadata": {},
   "outputs": [
    {
     "name": "stdout",
     "output_type": "stream",
     "text": [
      "best alpha value is SGDClassifier(alpha=0.1, average=False, class_weight='balanced',\n",
      "       early_stopping=False, epsilon=0.1, eta0=0.0, fit_intercept=True,\n",
      "       l1_ratio=0.15, learning_rate='optimal', loss='hinge', max_iter=100,\n",
      "       n_iter=None, n_iter_no_change=5, n_jobs=None, penalty='l2',\n",
      "       power_t=0.5, random_state=None, shuffle=True, tol=None,\n",
      "       validation_fraction=0.1, verbose=0, warm_start=False)\n",
      "Accuracy of the model : 0.59\n"
     ]
    }
   ],
   "source": [
    "from sklearn import linear_model\n",
    "from sklearn.model_selection import RandomizedSearchCV\n",
    "clf=linear_model.SGDClassifier(loss='hinge',max_iter=100,class_weight='balanced')\n",
    "tuned_parameters = {'alpha': [0.001, 0.01, 0.1, 1, 10]}\n",
    "\n",
    "model = RandomizedSearchCV(clf, tuned_parameters,cv=3,scoring='f1', n_jobs=-1,pre_dispatch=2)\n",
    "model.fit(standardized_data_train, y_train)\n",
    "print(\"best alpha value is\",model.best_estimator_)\n",
    "print(\"Accuracy of the model : {:.2f}\".format(model.score(standardized_data_test, y_test)))\n",
    "a = model.best_params_\n",
    "optimal_alpha = a.get('alpha')"
   ]
  },
  {
   "cell_type": "code",
   "execution_count": 23,
   "metadata": {},
   "outputs": [
    {
     "data": {
      "text/plain": [
       "array([0.88700749, 0.8221228 , 0.90384401, 0.61870315, 0.62309491])"
      ]
     },
     "execution_count": 23,
     "metadata": {},
     "output_type": "execute_result"
    }
   ],
   "source": [
    "model.best_params_\n",
    "results = model.cv_results_\n",
    "results['mean_test_score']"
   ]
  },
  {
   "cell_type": "code",
   "execution_count": 24,
   "metadata": {},
   "outputs": [
    {
     "data": {
      "image/png": "[encoded data removed]",
      "text/plain": [
       "<Figure size 432x288 with 1 Axes>"
      ]
     },
     "metadata": {},
     "output_type": "display_data"
    }
   ],
   "source": [
    "C=0.001, 0.01, 0.1, 1, 10\n",
    "plt.plot(C,results['mean_test_score'],marker='o')\n",
    "plt.xlabel('C')\n",
    "plt.ylabel('f1score')\n",
    "plt.title(\"F1score vs hyperparameter C\")\n",
    "plt.grid()\n",
    "plt.show()"
   ]
  },
  {
   "cell_type": "code",
   "execution_count": 25,
   "metadata": {},
   "outputs": [],
   "source": [
    "clf = linear_model.SGDClassifier(loss='hinge',alpha=optimal_alpha,class_weight='balanced')\n",
    "clf.fit(standardized_data_train,y_train)\n",
    "y_pred = clf.predict(standardized_data_test)"
   ]
  },
  {
   "cell_type": "markdown",
   "metadata": {},
   "source": [
    "## 2.8 Confusion Matrix"
   ]
  },
  {
   "cell_type": "code",
   "execution_count": 26,
   "metadata": {},
   "outputs": [
    {
     "name": "stdout",
     "output_type": "stream",
     "text": [
      "Confusion Matrix:\n"
     ]
    },
    {
     "data": {
      "image/png": "[encoded data removed]",
      "text/plain": [
       "<Figure size 432x288 with 2 Axes>"
      ]
     },
     "metadata": {},
     "output_type": "display_data"
    }
   ],
   "source": [
    "cm_bow=confusion_matrix(y_test,y_pred)\n",
    "print(\"Confusion Matrix:\")\n",
    "sns.heatmap(cm_bow, annot=True, fmt='d')\n",
    "plt.show()"
   ]
  },
  {
   "cell_type": "code",
   "execution_count": 27,
   "metadata": {},
   "outputs": [
    {
     "name": "stdout",
     "output_type": "stream",
     "text": [
      " true negitves are 1109 \n",
      " false positives are 4504 \n",
      " false negatives are 570\n",
      " true positives are 35817 \n",
      " \n"
     ]
    }
   ],
   "source": [
    "#finding out  true negative , false positive , false negative and true positve \n",
    "tn, fp, fn, tp = cm_bow.ravel()\n",
    "( tp, fp, fn, tp)\n",
    "print(\" true negitves are {} \\n false positives are {} \\n false negatives are {}\\n true positives are {} \\n \".format(tn,fp,fn,tp))"
   ]
  },
  {
   "cell_type": "markdown",
   "metadata": {},
   "source": [
    "## 2.9 Calculating Accuracy,Error on test data,Precision,Recall,Classification Report"
   ]
  },
  {
   "cell_type": "code",
   "execution_count": 28,
   "metadata": {},
   "outputs": [
    {
     "name": "stdout",
     "output_type": "stream",
     "text": [
      "\n",
      "The Test Accuracy of the SVM for alpha = 0.100 is 87.919048%\n",
      "\n",
      "Test Error SVM for alpha  is  12.080952%\n",
      "\n",
      "The Test Precision of the  SVM for alpha  = 0.100 is 0.888296\n",
      "\n",
      "The Test Recall of the  SVM for alpha  = 0.100 is 0.984335\n",
      "\n",
      "The Test classification report of the  SVM for alpha  \n",
      "\n",
      "                precision    recall  f1-score   support\n",
      "\n",
      "           0       0.66      0.20      0.30      5613\n",
      "           1       0.89      0.98      0.93     36387\n",
      "\n",
      "   micro avg       0.88      0.88      0.88     42000\n",
      "   macro avg       0.77      0.59      0.62     42000\n",
      "weighted avg       0.86      0.88      0.85     42000\n",
      "\n"
     ]
    }
   ],
   "source": [
    "from sklearn.metrics import recall_score\n",
    "from sklearn.metrics import precision_score\n",
    "from sklearn.metrics import classification_report\n",
    "from sklearn.metrics import roc_auc_score\n",
    "\n",
    "# evaluating accuracy\n",
    "acc_bow = accuracy_score(y_test, y_pred) * 100\n",
    "print('\\nThe Test Accuracy of the SVM for alpha = %.3f is %f%%' % (optimal_alpha, acc_bow))\n",
    "\n",
    "# Error on test data\n",
    "test_error_bow = 100-acc_bow\n",
    "print(\"\\nTest Error SVM for alpha  is  %f%%\" % (test_error_bow))\n",
    "\n",
    "# evaluating precision\n",
    "precision_score = precision_score(y_test, y_pred) \n",
    "print('\\nThe Test Precision of the  SVM for alpha  = %.3f is %f' % (optimal_alpha, precision_score))\n",
    "\n",
    "# evaluating recall\n",
    "recall_score = recall_score(y_test, y_pred)\n",
    "print('\\nThe Test Recall of the  SVM for alpha  = %.3f is %f' % (optimal_alpha, recall_score))\n",
    "\n",
    "# evaluating Classification report\n",
    "classification_report = classification_report(y_test, y_pred)\n",
    "print('\\nThe Test classification report of the  SVM for alpha  \\n\\n ',(classification_report))\n"
   ]
  },
  {
   "cell_type": "markdown",
   "metadata": {},
   "source": [
    "## 2.10 Plotting roc_auc curve"
   ]
  },
  {
   "cell_type": "code",
   "execution_count": 29,
   "metadata": {},
   "outputs": [
    {
     "data": {
      "image/png": "[encoded data removed]",
      "text/plain": [
       "<Figure size 432x288 with 1 Axes>"
      ]
     },
     "metadata": {},
     "output_type": "display_data"
    }
   ],
   "source": [
    "from sklearn.calibration import CalibratedClassifierCV\n",
    "calibrated = CalibratedClassifierCV(model, method='sigmoid', cv=3)\n",
    "calibrated.fit(standardized_data_train, y_train)\n",
    "y_pred_proba = calibrated.predict_proba(standardized_data_test)[::,1]\n",
    "fpr, tpr, _ = metrics.roc_curve(y_test,  y_pred_proba)\n",
    "auc = metrics.roc_auc_score(y_test, y_pred_proba)\n",
    "plt.plot(fpr,tpr,label=\"BOW, AUC=\"+str(auc))\n",
    "plt.plot([0,1],[0,1],'r--')\n",
    "plt.title('ROC curve: SVM')\n",
    "plt.legend(loc='lower right')\n",
    "plt.ylabel('True Positive Rate')\n",
    "plt.xlabel('False Positive Rate')\n",
    "plt.show()"
   ]
  },
  {
   "cell_type": "markdown",
   "metadata": {},
   "source": [
    "## 2.11 Top 25 words "
   ]
  },
  {
   "cell_type": "code",
   "execution_count": 30,
   "metadata": {},
   "outputs": [
    {
     "name": "stdout",
     "output_type": "stream",
     "text": [
      "\n",
      "Top 25 \"POSITIVE\" Features are:\n",
      "\n",
      "cardo\n",
      "feldman\n",
      "airforc\n",
      "salesperson\n",
      "leukemia\n",
      "vacumn\n",
      "tourist\n",
      "indegst\n",
      "groundbal\n",
      "dump\n",
      "satat\n",
      "rood\n",
      "entendr\n",
      "theoriz\n",
      "bunchi\n",
      "methion\n",
      "racquetbal\n",
      "vegey\n",
      "traditon\n",
      "apper\n",
      "costom\n",
      "duplo\n",
      "lat\n",
      "extrins\n",
      "goooooooooo\n",
      "\n",
      "Top 25 \"NEGATIVE\" Features are:\n",
      "\n",
      "tast\n",
      "product\n",
      "would\n",
      "disappoint\n",
      "like\n",
      "bad\n",
      "box\n",
      "money\n",
      "order\n",
      "review\n",
      "didnt\n",
      "dont\n",
      "receiv\n",
      "buy\n",
      "thought\n",
      "item\n",
      "even\n",
      "away\n",
      "bought\n",
      "wast\n",
      "smell\n",
      "return\n",
      "look\n",
      "purchas\n",
      "packag\n"
     ]
    }
   ],
   "source": [
    "top_n=25\n",
    "# sorting the weight indices \n",
    "pos_class_weight_sorted = -clf.coef_.argsort()\n",
    "neg_class_weight_sorted = clf.coef_.argsort()\n",
    "            \n",
    "# top positive features \n",
    "print('\\nTop '+str(top_n)+' \"POSITIVE\" Features are:\\n')\n",
    "pos = np.take(count_vect.get_feature_names(), pos_class_weight_sorted[:top_n])\n",
    "for i in range(top_n):\n",
    "    print(pos[0][i])\n",
    "\n",
    "# top negative features\n",
    "print('\\nTop '+str(top_n)+' \"NEGATIVE\" Features are:\\n')\n",
    "neg = np.take(count_vect.get_feature_names(), neg_class_weight_sorted[:top_n])\n",
    "for i in range(top_n):\n",
    "    print(neg[0][i])"
   ]
  },
  {
   "cell_type": "code",
   "execution_count": 31,
   "metadata": {},
   "outputs": [
    {
     "data": {
      "image/png": "[encoded data removed]",
      "text/plain": [
       "<Figure size 432x288 with 1 Axes>"
      ]
     },
     "metadata": {},
     "output_type": "display_data"
    }
   ],
   "source": [
    "pos=''.join(str(e) for e in pos)\n",
    "\n",
    "from wordcloud import WordCloud\n",
    "\n",
    "wordcloud = WordCloud(background_color='black',\n",
    "                      width=3000,\n",
    "                      height=2500\n",
    "                     ).generate(pos)\n",
    "\n",
    "plt.title(\"Positive Frequent words\")\n",
    "plt.figure(1, figsize=(25, 25))\n",
    "plt.tight_layout(pad=0)\n",
    "plt.imshow(wordcloud)\n",
    "plt.axis('off')\n",
    "plt.show()"
   ]
  },
  {
   "cell_type": "code",
   "execution_count": 32,
   "metadata": {},
   "outputs": [
    {
     "data": {
      "image/png": "[encoded data removed]",
      "text/plain": [
       "<Figure size 432x288 with 1 Axes>"
      ]
     },
     "metadata": {},
     "output_type": "display_data"
    }
   ],
   "source": [
    "neg=''.join(str(e) for e in neg)\n",
    "\n",
    "from wordcloud import WordCloud\n",
    "\n",
    "wordcloud = WordCloud(background_color='black',\n",
    "                      width=3000,\n",
    "                      height=2500\n",
    "                     ).generate(neg)\n",
    "\n",
    "plt.title(\"Negative Frequent words\")\n",
    "plt.figure(1, figsize=(25, 25))\n",
    "plt.tight_layout(pad=0)\n",
    "plt.imshow(wordcloud)\n",
    "plt.axis('off')\n",
    "plt.show()"
   ]
  },
  {
   "cell_type": "markdown",
   "metadata": {},
   "source": [
    "## 3. Applying RBF Kernel for Grid Search"
   ]
  },
  {
   "cell_type": "code",
   "execution_count": 33,
   "metadata": {},
   "outputs": [
    {
     "name": "stdout",
     "output_type": "stream",
     "text": [
      "(98000, 36949)\n"
     ]
    },
    {
     "data": {
      "image/png": "[encoded data removed]",
      "text/plain": [
       "<Figure size 432x288 with 1 Axes>"
      ]
     },
     "metadata": {},
     "output_type": "display_data"
    }
   ],
   "source": [
    "# PCA for dimensionality redcution (non-visualization)\n",
    "# initializing the pca\n",
    "from scipy.sparse import csr_matrix\n",
    "from sklearn import decomposition\n",
    "pca = decomposition.PCA()\n",
    "\n",
    "standardized_data_train = csr_matrix(standardized_data_train)\n",
    "standardized_data_train=standardized_data_train.todense()\n",
    "print(standardized_data_train.shape)\n",
    "\n",
    "pca.n_components = 12\n",
    "pca_data = pca.fit_transform(standardized_data_train)\n",
    "\n",
    "percentage_var_explained = pca.explained_variance_ / np.sum(pca.explained_variance_);\n",
    "\n",
    "cum_var_explained = np.cumsum(percentage_var_explained)\n",
    "\n",
    "# Plot the PCA spectrum\n",
    "plt.figure(1, figsize=(6, 4))\n",
    "\n",
    "plt.clf()\n",
    "plt.plot(cum_var_explained, linewidth=2)\n",
    "plt.axis('tight')\n",
    "plt.grid()\n",
    "plt.xlabel('n_components')\n",
    "plt.ylabel('Cumulative_explained_variance')\n",
    "plt.show()\n",
    "\n",
    "\n",
    "# If we take 9-dimensions, approx. 90% of variance is expalined."
   ]
  },
  {
   "cell_type": "code",
   "execution_count": 34,
   "metadata": {},
   "outputs": [],
   "source": [
    "from sklearn.decomposition import TruncatedSVD\n",
    "final_counts_Bow_tr_svd = TruncatedSVD(n_components=9).fit_transform(final_counts_Bow_tr)\n",
    "final_counts_Bow_tr_svd1 = TruncatedSVD(n_components=9).fit_transform(final_counts_Bow_test)"
   ]
  },
  {
   "cell_type": "markdown",
   "metadata": {},
   "source": [
    "## 3.1 Normalizing data"
   ]
  },
  {
   "cell_type": "code",
   "execution_count": 35,
   "metadata": {},
   "outputs": [
    {
     "name": "stdout",
     "output_type": "stream",
     "text": [
      "(98000, 9)\n",
      "(42000, 9)\n"
     ]
    }
   ],
   "source": [
    "# Data-preprocessing: Normalizing the data\n",
    "\n",
    "from sklearn.preprocessing import StandardScaler\n",
    "scaler = StandardScaler()\n",
    "standardized_data_train = scaler.fit_transform(final_counts_Bow_tr_svd)\n",
    "print(standardized_data_train.shape)\n",
    "standardized_data_test = scaler.fit_transform(final_counts_Bow_tr_svd1)\n",
    "print(standardized_data_test.shape)"
   ]
  },
  {
   "cell_type": "code",
   "execution_count": 36,
   "metadata": {},
   "outputs": [
    {
     "name": "stdout",
     "output_type": "stream",
     "text": [
      "tunded parameters SVC(C=100, cache_size=200, class_weight='balanced', coef0=0.0,\n",
      "  decision_function_shape='ovr', degree=3, gamma=100, kernel='rbf',\n",
      "  max_iter=1000, probability=False, random_state=None, shrinking=True,\n",
      "  tol=0.001, verbose=False)\n",
      "Accuracy of model using SVC classifier by rbf kernel 0.86\n"
     ]
    }
   ],
   "source": [
    "#in RBF SVC hyper parameters are C,gamma\n",
    "\n",
    "from sklearn.svm import SVC\n",
    "clf=SVC(kernel='rbf',max_iter=1000,class_weight='balanced')\n",
    "tuned_parameters = {'C': [10**-4,10**-3, 10**-2,10**-1, 1, 10**1,10**2,10**3, 10**4],'gamma':[10**-4,10**-3, 10**-2,10**-1, 1, 10**1,10**2,10**3, 10**4]}\n",
    "model = GridSearchCV(clf, tuned_parameters,cv=3,n_jobs=-1)\n",
    "model.fit(standardized_data_train, y_train)\n",
    "print(\"tunded parameters\",model.best_estimator_)\n",
    "print(\"Accuracy of model using SVC classifier by rbf kernel {:.2f}\".format(model.score(standardized_data_test, y_test)))\n",
    "a = model.best_params_\n",
    "optimal_C = a.get('C')\n",
    "optimal_gamma=a.get('gamma')"
   ]
  },
  {
   "cell_type": "code",
   "execution_count": 37,
   "metadata": {
    "scrolled": true
   },
   "outputs": [
    {
     "data": {
      "text/plain": [
       "array([0.13458163, 0.13458163, 0.13458163, 0.13458163, 0.13458163,\n",
       "       0.13458163, 0.13458163, 0.13458163, 0.13458163, 0.13458163,\n",
       "       0.13458163, 0.13458163, 0.13458163, 0.13458163, 0.13458163,\n",
       "       0.13458163, 0.13458163, 0.13458163, 0.13458163, 0.13458163,\n",
       "       0.13458163, 0.13458163, 0.13458163, 0.13458163, 0.13458163,\n",
       "       0.13458163, 0.13458163, 0.13458163, 0.13458163, 0.13458163,\n",
       "       0.13458163, 0.13458163, 0.13458163, 0.13458163, 0.13458163,\n",
       "       0.13458163, 0.13458163, 0.13458163, 0.13458163, 0.13458163,\n",
       "       0.1349898 , 0.13471429, 0.13539796, 0.13463265, 0.13465306,\n",
       "       0.13458163, 0.13458163, 0.13458163, 0.23387755, 0.16611224,\n",
       "       0.18035714, 0.40207143, 0.14154082, 0.37833673, 0.13458163,\n",
       "       0.13458163, 0.52967347, 0.32055102, 0.32739796, 0.20494898,\n",
       "       0.85543878, 0.1422551 , 0.37833673, 0.23515306, 0.8247449 ,\n",
       "       0.78909184, 0.60739796, 0.45688776, 0.39834694, 0.85214286,\n",
       "       0.1422551 , 0.37833673, 0.85440816, 0.84982653, 0.74642857,\n",
       "       0.59089796, 0.43712245, 0.41020408, 0.85214286, 0.1422551 ,\n",
       "       0.37833673])"
      ]
     },
     "execution_count": 37,
     "metadata": {},
     "output_type": "execute_result"
    }
   ],
   "source": [
    "model.best_params_\n",
    "results = model.cv_results_\n",
    "results['mean_test_score']"
   ]
  },
  {
   "cell_type": "code",
   "execution_count": 38,
   "metadata": {},
   "outputs": [],
   "source": [
    "y_pred = model.predict(standardized_data_test)"
   ]
  },
  {
   "cell_type": "markdown",
   "metadata": {},
   "source": [
    "## 3.2 Confusion Matrix\n"
   ]
  },
  {
   "cell_type": "code",
   "execution_count": 39,
   "metadata": {},
   "outputs": [
    {
     "name": "stdout",
     "output_type": "stream",
     "text": [
      "Confusion Matrix:\n"
     ]
    },
    {
     "data": {
      "image/png": "[encoded data removed]",
      "text/plain": [
       "<Figure size 432x288 with 2 Axes>"
      ]
     },
     "metadata": {},
     "output_type": "display_data"
    }
   ],
   "source": [
    "cm_bow=confusion_matrix(y_test,y_pred)\n",
    "print(\"Confusion Matrix:\")\n",
    "sns.heatmap(cm_bow, annot=True, fmt='d')\n",
    "plt.show()"
   ]
  },
  {
   "cell_type": "code",
   "execution_count": 40,
   "metadata": {},
   "outputs": [
    {
     "name": "stdout",
     "output_type": "stream",
     "text": [
      " true negatives are 10 \n",
      " false positives are 5603 \n",
      " false negatives are 139\n",
      " true positives are 36248 \n",
      " \n"
     ]
    }
   ],
   "source": [
    "#finding out  true negative , false positive , false negative and true positve \n",
    "tn, fp, fn, tp = cm_bow.ravel()\n",
    "( tp, fp, fn, tp)\n",
    "print(\" true negatives are {} \\n false positives are {} \\n false negatives are {}\\n true positives are {} \\n \".format(tn,fp,fn,tp))"
   ]
  },
  {
   "cell_type": "markdown",
   "metadata": {},
   "source": [
    "## 3.3 Calculating Accuracy,Error on test data,Precision,Recall,Classification Report"
   ]
  },
  {
   "cell_type": "code",
   "execution_count": 41,
   "metadata": {},
   "outputs": [
    {
     "name": "stdout",
     "output_type": "stream",
     "text": [
      "\n",
      "The Test Accuracy of the SVM using RBF kernel  for C and gamma = 100.000 ,100.000 is 86.328571%\n",
      "\n",
      "Test Error SVM using RBF for alpha  is  13.671429%\n",
      "\n",
      "The Test Precision of the  SVM using RBF kernel  for C and gamma = 100.000 ,100.000 is 0.866120\n",
      "\n",
      "The Test Recall of the  SVM using RBF kernel  for C and gamma = 100.000 ,100.000 is 0.996180\n",
      "\n",
      "The Test classification report of the  SVM using RBF kernel  for C and gamma  \n",
      "\n",
      "                precision    recall  f1-score   support\n",
      "\n",
      "           0       0.07      0.00      0.00      5613\n",
      "           1       0.87      1.00      0.93     36387\n",
      "\n",
      "   micro avg       0.86      0.86      0.86     42000\n",
      "   macro avg       0.47      0.50      0.47     42000\n",
      "weighted avg       0.76      0.86      0.80     42000\n",
      "\n"
     ]
    }
   ],
   "source": [
    "from sklearn.metrics import recall_score\n",
    "from sklearn.metrics import precision_score\n",
    "from sklearn.metrics import classification_report\n",
    "from sklearn.metrics import roc_auc_score\n",
    "\n",
    "# evaluating accuracy\n",
    "acc_bow = accuracy_score(y_test, y_pred) * 100\n",
    "print('\\nThe Test Accuracy of the SVM using RBF kernel  for C and gamma = %.3f ,%.3f is %f%%' % (optimal_C,optimal_gamma, acc_bow))\n",
    "\n",
    "# Error on test data\n",
    "test_error_bow = 100-acc_bow\n",
    "print(\"\\nTest Error SVM using RBF for alpha  is  %f%%\" % (test_error_bow))\n",
    "\n",
    "# evaluating precision\n",
    "precision_score = precision_score(y_test, y_pred) \n",
    "print('\\nThe Test Precision of the  SVM using RBF kernel  for C and gamma = %.3f ,%.3f is %f' % (optimal_C,optimal_gamma, precision_score))\n",
    "\n",
    "# evaluating recall\n",
    "recall_score = recall_score(y_test, y_pred)\n",
    "print('\\nThe Test Recall of the  SVM using RBF kernel  for C and gamma = %.3f ,%.3f is %f' % (optimal_C,optimal_gamma, recall_score))\n",
    "\n",
    "# evaluating Classification report\n",
    "classification_report = classification_report(y_test, y_pred)\n",
    "print('\\nThe Test classification report of the  SVM using RBF kernel  for C and gamma  \\n\\n ',(classification_report))"
   ]
  },
  {
   "cell_type": "markdown",
   "metadata": {},
   "source": [
    "##  3.5 Applying RBF Kernel for Random Search"
   ]
  },
  {
   "cell_type": "code",
   "execution_count": 42,
   "metadata": {},
   "outputs": [
    {
     "name": "stdout",
     "output_type": "stream",
     "text": [
      "tunded parameters SVC(C=100, cache_size=200, class_weight='balanced', coef0=0.0,\n",
      "  decision_function_shape='ovr', degree=3, gamma=0.01, kernel='rbf',\n",
      "  max_iter=100, probability=False, random_state=None, shrinking=True,\n",
      "  tol=0.001, verbose=False)\n",
      "Accuracy of model using SVC classifier by rbf kernel 0.82\n"
     ]
    }
   ],
   "source": [
    "#in RBF SVC hyper parameters are C,gamma\n",
    "from sklearn.svm import SVC\n",
    "from sklearn.model_selection import RandomizedSearchCV\n",
    "clf=SVC(kernel='rbf',max_iter=100,class_weight='balanced')\n",
    "tuned_parameters = {'C': [10**-4,10**-3, 10**-2,10**-1, 1, 10**1,10**2,10**3, 10**4],'gamma':[10**-4,10**-3, 10**-2,10**-1, 1, 10**1,10**2,10**3, 10**4]}\n",
    "model = RandomizedSearchCV(clf, tuned_parameters,cv=3,n_jobs=-1)\n",
    "model.fit(standardized_data_train, y_train)\n",
    "print(\"tunded parameters\",model.best_estimator_)\n",
    "print(\"Accuracy of model using SVC classifier by rbf kernel {:.2f}\".format(model.score(standardized_data_test, y_test)))\n",
    "a = model.best_params_\n",
    "optimal_C = a.get('C')\n",
    "optimal_gamma=a.get('gamma')"
   ]
  },
  {
   "cell_type": "code",
   "execution_count": 43,
   "metadata": {},
   "outputs": [
    {
     "data": {
      "text/plain": [
       "array([0.3782551 , 0.13458163, 0.13458163, 0.13656122, 0.13458163,\n",
       "       0.13458163, 0.13459184, 0.61404082, 0.25685714, 0.13458163])"
      ]
     },
     "execution_count": 43,
     "metadata": {},
     "output_type": "execute_result"
    }
   ],
   "source": [
    "model.best_params_\n",
    "results = model.cv_results_\n",
    "results['mean_test_score']"
   ]
  },
  {
   "cell_type": "code",
   "execution_count": 44,
   "metadata": {},
   "outputs": [],
   "source": [
    "y_pred = model.predict(standardized_data_test)"
   ]
  },
  {
   "cell_type": "markdown",
   "metadata": {},
   "source": [
    "## 3.6 Confusion Matrix"
   ]
  },
  {
   "cell_type": "code",
   "execution_count": 45,
   "metadata": {},
   "outputs": [
    {
     "name": "stdout",
     "output_type": "stream",
     "text": [
      "Confusion Matrix:\n"
     ]
    },
    {
     "data": {
      "image/png": "[encoded data removed]",
      "text/plain": [
       "<Figure size 432x288 with 2 Axes>"
      ]
     },
     "metadata": {},
     "output_type": "display_data"
    },
    {
     "name": "stdout",
     "output_type": "stream",
     "text": [
      " true negitves are 478 \n",
      " false positives are 5135 \n",
      " false negatives are 2567\n",
      " true positives are 33820 \n",
      " \n"
     ]
    }
   ],
   "source": [
    "cm_bow=confusion_matrix(y_test,y_pred)\n",
    "print(\"Confusion Matrix:\")\n",
    "sns.heatmap(cm_bow, annot=True, fmt='d')\n",
    "plt.show()\n",
    "\n",
    "#finding out  true negative , false positive , false negative and true positve \n",
    "tn, fp, fn, tp = cm_bow.ravel()\n",
    "( tp, fp, fn, tp)\n",
    "print(\" true negitves are {} \\n false positives are {} \\n false negatives are {}\\n true positives are {} \\n \".format(tn,fp,fn,tp))"
   ]
  },
  {
   "cell_type": "markdown",
   "metadata": {},
   "source": [
    "## 3.7 Calculating Accuracy,Error on test data,Precision,Recall,Classification Report"
   ]
  },
  {
   "cell_type": "code",
   "execution_count": 46,
   "metadata": {},
   "outputs": [
    {
     "name": "stdout",
     "output_type": "stream",
     "text": [
      "\n",
      "The Test Accuracy of the SVM using RBF kernel  for C and gamma = 100.000 ,0.010 is 81.661905%\n",
      "\n",
      "Test Error SVM using RBF  for C and gamma is  18.338095%\n",
      "\n",
      "The Test Precision of the  SVM using RBF kernel  for C and gamma = 100.000 ,0.010 is 0.868181\n",
      "\n",
      "The Test Recall of the  SVM using RBF kernel  for C and gamma = 100.000 ,0.010 is 0.929453\n",
      "\n",
      "The Test classification report of the  SVM using RBF kernel  for C and gamma \n",
      "\n",
      "                precision    recall  f1-score   support\n",
      "\n",
      "           0       0.16      0.09      0.11      5613\n",
      "           1       0.87      0.93      0.90     36387\n",
      "\n",
      "   micro avg       0.82      0.82      0.82     42000\n",
      "   macro avg       0.51      0.51      0.50     42000\n",
      "weighted avg       0.77      0.82      0.79     42000\n",
      "\n"
     ]
    }
   ],
   "source": [
    "from sklearn.metrics import recall_score\n",
    "from sklearn.metrics import precision_score\n",
    "from sklearn.metrics import classification_report\n",
    "from sklearn.metrics import roc_auc_score\n",
    "\n",
    "# evaluating accuracy\n",
    "acc_bow = accuracy_score(y_test, y_pred) * 100\n",
    "print('\\nThe Test Accuracy of the SVM using RBF kernel  for C and gamma = %.3f ,%.3f is %f%%' % (optimal_C,optimal_gamma, acc_bow))\n",
    "\n",
    "# Error on test data\n",
    "test_error_bow = 100-acc_bow\n",
    "print(\"\\nTest Error SVM using RBF  for C and gamma is  %f%%\" % (test_error_bow))\n",
    "\n",
    "# evaluating precision\n",
    "precision_score = precision_score(y_test, y_pred) \n",
    "print('\\nThe Test Precision of the  SVM using RBF kernel  for C and gamma = %.3f ,%.3f is %f' % (optimal_C,optimal_gamma, precision_score))\n",
    "\n",
    "# evaluating recall\n",
    "recall_score = recall_score(y_test, y_pred)\n",
    "print('\\nThe Test Recall of the  SVM using RBF kernel  for C and gamma = %.3f ,%.3f is %f' % (optimal_C,optimal_gamma, recall_score))\n",
    "\n",
    "# evaluating Classification report\n",
    "classification_report = classification_report(y_test, y_pred)\n",
    "print('\\nThe Test classification report of the  SVM using RBF kernel  for C and gamma \\n\\n ',(classification_report))"
   ]
  },
  {
   "cell_type": "markdown",
   "metadata": {},
   "source": [
    "## 4. TF-IDF"
   ]
  },
  {
   "cell_type": "code",
   "execution_count": 47,
   "metadata": {},
   "outputs": [
    {
     "name": "stdout",
     "output_type": "stream",
     "text": [
      "the type of count vectorizer  <class 'scipy.sparse.csr.csr_matrix'>\n",
      "the shape of out text tfidf vectorizer  (98000, 36949)\n",
      "the number of unique words  36949\n",
      "the type of count vectorizer  <class 'scipy.sparse.csr.csr_matrix'>\n",
      "the shape of out text tfidf vectorizer  (42000, 36949)\n",
      "the number of unique words  36949\n"
     ]
    }
   ],
   "source": [
    "#tf-idf\n",
    "from sklearn.feature_extraction.text import TfidfVectorizer\n",
    "tf_idf_vect = TfidfVectorizer()\n",
    "\n",
    "final_counts_tfidf_tr= tf_idf_vect.fit_transform(x_train)\n",
    "print(\"the type of count vectorizer \",type(final_counts_tfidf_tr))\n",
    "print(\"the shape of out text tfidf vectorizer \",final_counts_tfidf_tr.get_shape())\n",
    "print(\"the number of unique words \", final_counts_tfidf_tr.get_shape()[1])\n",
    "final_counts_tfidf_test= tf_idf_vect.transform(x_test)\n",
    "print(\"the type of count vectorizer \",type(final_counts_tfidf_test))\n",
    "print(\"the shape of out text tfidf vectorizer \",final_counts_tfidf_test.get_shape())\n",
    "print(\"the number of unique words \", final_counts_tfidf_test.get_shape()[1])"
   ]
  },
  {
   "cell_type": "markdown",
   "metadata": {},
   "source": [
    "## 4.1 Normalizing Data\n"
   ]
  },
  {
   "cell_type": "code",
   "execution_count": 48,
   "metadata": {},
   "outputs": [
    {
     "name": "stdout",
     "output_type": "stream",
     "text": [
      "(98000, 36949)\n",
      "(42000, 36949)\n"
     ]
    }
   ],
   "source": [
    "# Data-preprocessing: Normalizing Data\n",
    "from sklearn import preprocessing\n",
    "standardized_data_train = preprocessing.normalize(final_counts_tfidf_tr)\n",
    "print(standardized_data_train.shape)\n",
    "standardized_data_test = preprocessing.normalize(final_counts_tfidf_test)\n",
    "print(standardized_data_test.shape)\n"
   ]
  },
  {
   "cell_type": "markdown",
   "metadata": {},
   "source": [
    "## 4.2 Applying SGD Classifier by GridSearchCV"
   ]
  },
  {
   "cell_type": "code",
   "execution_count": 49,
   "metadata": {},
   "outputs": [
    {
     "name": "stdout",
     "output_type": "stream",
     "text": [
      "best alpha value is SGDClassifier(alpha=10, average=False, class_weight='balanced',\n",
      "       early_stopping=False, epsilon=0.1, eta0=0.0, fit_intercept=True,\n",
      "       l1_ratio=0.15, learning_rate='optimal', loss='hinge', max_iter=100,\n",
      "       n_iter=None, n_iter_no_change=5, n_jobs=None, penalty='l2',\n",
      "       power_t=0.5, random_state=None, shuffle=True, tol=None,\n",
      "       validation_fraction=0.1, verbose=0, warm_start=False)\n",
      "Accuracy of the model : 0.93\n"
     ]
    }
   ],
   "source": [
    "from sklearn import linear_model\n",
    "clf=linear_model.SGDClassifier(loss='hinge',penalty='l2',max_iter=100,class_weight='balanced')\n",
    "tuned_parameters = {'alpha': [0.001, 0.01, 0.1, 1, 10]}\n",
    "\n",
    "model = GridSearchCV(clf, tuned_parameters,cv=3,scoring='f1', n_jobs=-1,pre_dispatch=2)\n",
    "model.fit(standardized_data_train, y_train)\n",
    "print(\"best alpha value is\",model.best_estimator_)\n",
    "print(\"Accuracy of the model : {:.2f}\".format(model.score(standardized_data_test, y_test)))\n",
    "a = model.best_params_\n",
    "optimal_alpha = a.get('alpha')\n"
   ]
  },
  {
   "cell_type": "code",
   "execution_count": 50,
   "metadata": {},
   "outputs": [
    {
     "data": {
      "text/plain": [
       "array([0.9033876 , 0.85983735, 0.56603207, 0.62378565, 0.92785445])"
      ]
     },
     "execution_count": 50,
     "metadata": {},
     "output_type": "execute_result"
    }
   ],
   "source": [
    "model.best_params_\n",
    "results = model.cv_results_\n",
    "results['mean_test_score']\n"
   ]
  },
  {
   "cell_type": "code",
   "execution_count": 51,
   "metadata": {},
   "outputs": [
    {
     "data": {
      "image/png": "[encoded data removed]",
      "text/plain": [
       "<Figure size 432x288 with 1 Axes>"
      ]
     },
     "metadata": {},
     "output_type": "display_data"
    }
   ],
   "source": [
    "C=0.001, 0.01, 0.1, 1, 10\n",
    "plt.plot(C,results['mean_test_score'],marker='o')\n",
    "plt.xlabel('C')\n",
    "plt.ylabel('f1score')\n",
    "plt.title(\"F1score vs hyperparameter C\")\n",
    "plt.grid()\n",
    "plt.show()"
   ]
  },
  {
   "cell_type": "code",
   "execution_count": 52,
   "metadata": {},
   "outputs": [],
   "source": [
    "clf = linear_model.SGDClassifier(loss='hinge',alpha=optimal_alpha,class_weight='balanced')\n",
    "clf.fit(standardized_data_train,y_train)\n",
    "y_pred = clf.predict(standardized_data_test)"
   ]
  },
  {
   "cell_type": "markdown",
   "metadata": {},
   "source": [
    "## 4.3 Confusion Matrix"
   ]
  },
  {
   "cell_type": "code",
   "execution_count": 53,
   "metadata": {},
   "outputs": [
    {
     "name": "stdout",
     "output_type": "stream",
     "text": [
      "Confusion Matrix:\n"
     ]
    },
    {
     "data": {
      "image/png": "[encoded data removed]",
      "text/plain": [
       "<Figure size 432x288 with 2 Axes>"
      ]
     },
     "metadata": {},
     "output_type": "display_data"
    }
   ],
   "source": [
    "cm_tfidf=confusion_matrix(y_test,y_pred)\n",
    "print(\"Confusion Matrix:\")\n",
    "sns.heatmap(cm_tfidf, annot=True, fmt='d')\n",
    "plt.show()"
   ]
  },
  {
   "cell_type": "code",
   "execution_count": 54,
   "metadata": {},
   "outputs": [
    {
     "name": "stdout",
     "output_type": "stream",
     "text": [
      " true negitves are 5613 \n",
      " false positives are 0 \n",
      " false negatives are 36387\n",
      " true positives are 0 \n",
      " \n"
     ]
    }
   ],
   "source": [
    "#finding out  true negative , false positive , false negative and true positve \n",
    "tn, fp, fn, tp = cm_tfidf.ravel()\n",
    "( tp, fp, fn, tp)\n",
    "print(\" true negitves are {} \\n false positives are {} \\n false negatives are {}\\n true positives are {} \\n \".format(tn,fp,fn,tp))"
   ]
  },
  {
   "cell_type": "markdown",
   "metadata": {},
   "source": [
    "## 4.4 Calculating Accuracy,Error on test data,Precision,Recall,Classification Report\n"
   ]
  },
  {
   "cell_type": "code",
   "execution_count": 55,
   "metadata": {},
   "outputs": [
    {
     "name": "stdout",
     "output_type": "stream",
     "text": [
      "\n",
      "The Test Accuracy of the SVM for alpha = 10.000 is 13.364286%\n",
      "\n",
      "Test Error of the SVM for alpha is  86.635714%\n",
      "\n",
      "The Test Precision of the SVM for alpha is = 10.000 is 0.000000\n",
      "\n",
      "The Test Recall of the SVM for alpha is = 10.000 is 0.000000\n",
      "\n",
      "The Test classification report oof the SVM for alpha is \n",
      "\n",
      "                precision    recall  f1-score   support\n",
      "\n",
      "           0       0.13      1.00      0.24      5613\n",
      "           1       0.00      0.00      0.00     36387\n",
      "\n",
      "   micro avg       0.13      0.13      0.13     42000\n",
      "   macro avg       0.07      0.50      0.12     42000\n",
      "weighted avg       0.02      0.13      0.03     42000\n",
      "\n"
     ]
    }
   ],
   "source": [
    "from sklearn.metrics import recall_score\n",
    "from sklearn.metrics import precision_score\n",
    "from sklearn.metrics import classification_report\n",
    "\n",
    "\n",
    "# evaluating accuracy\n",
    "acc_tfidf = accuracy_score(y_test, y_pred) * 100\n",
    "print('\\nThe Test Accuracy of the SVM for alpha = %.3f is %f%%' % (optimal_alpha, acc_tfidf))\n",
    "\n",
    "# Error on test data\n",
    "test_error_tfidf = 100-acc_tfidf\n",
    "print(\"\\nTest Error of the SVM for alpha is  %f%%\" % (test_error_tfidf))\n",
    "\n",
    "# evaluating precision\n",
    "precision_score = precision_score(y_test, y_pred) \n",
    "print('\\nThe Test Precision of the SVM for alpha is = %.3f is %f' % (optimal_alpha, precision_score))\n",
    "\n",
    "# evaluating recall\n",
    "recall_score = recall_score(y_test, y_pred)\n",
    "print('\\nThe Test Recall of the SVM for alpha is = %.3f is %f' % (optimal_alpha, recall_score))\n",
    "\n",
    "# evaluating Classification report\n",
    "classification_report = classification_report(y_test, y_pred)\n",
    "print('\\nThe Test classification report oof the SVM for alpha is \\n\\n ',(classification_report))\n"
   ]
  },
  {
   "cell_type": "markdown",
   "metadata": {},
   "source": [
    "## 4.5 Plotting roc_auc curve"
   ]
  },
  {
   "cell_type": "code",
   "execution_count": 56,
   "metadata": {},
   "outputs": [
    {
     "data": {
      "image/png": "[encoded data removed]",
      "text/plain": [
       "<Figure size 432x288 with 1 Axes>"
      ]
     },
     "metadata": {},
     "output_type": "display_data"
    }
   ],
   "source": [
    "from sklearn.calibration import CalibratedClassifierCV\n",
    "calibrated = CalibratedClassifierCV(model, method='sigmoid', cv=3)\n",
    "calibrated.fit(standardized_data_train, y_train)\n",
    "y_pred_proba = calibrated.predict_proba(standardized_data_test)[::,1]\n",
    "fpr, tpr, _ = metrics.roc_curve(y_test,  y_pred_proba)\n",
    "auc = metrics.roc_auc_score(y_test, y_pred_proba)\n",
    "plt.plot(fpr,tpr,label=\"tfidf, AUC=\"+str(auc))\n",
    "plt.plot([0,1],[0,1],'r--')\n",
    "plt.title('ROC curve: SVM')\n",
    "plt.legend(loc='lower right')\n",
    "plt.ylabel('True Positive Rate')\n",
    "plt.xlabel('False Positive Rate')\n",
    "plt.show()"
   ]
  },
  {
   "cell_type": "markdown",
   "metadata": {},
   "source": [
    "## 4.6 Top 25 words "
   ]
  },
  {
   "cell_type": "code",
   "execution_count": 57,
   "metadata": {},
   "outputs": [
    {
     "name": "stdout",
     "output_type": "stream",
     "text": [
      "\n",
      "Top 25 \"POSITIVE\" Features are:\n",
      "\n",
      "salesperson\n",
      "cardo\n",
      "vacumn\n",
      "airforc\n",
      "indegst\n",
      "feldman\n",
      "tourist\n",
      "satat\n",
      "apper\n",
      "duplo\n",
      "entendr\n",
      "bunchi\n",
      "dump\n",
      "ncieli\n",
      "leukemia\n",
      "vegey\n",
      "methion\n",
      "caleri\n",
      "cnat\n",
      "ajanta\n",
      "vegitarian\n",
      "costom\n",
      "groundbal\n",
      "bulldog\n",
      "rood\n",
      "Top 25 \"NEGATIVE\" Features are:\n",
      "\n",
      "disappoint\n",
      "tast\n",
      "bad\n",
      "would\n",
      "money\n",
      "product\n",
      "box\n",
      "didnt\n",
      "wast\n",
      "return\n",
      "receiv\n",
      "thought\n",
      "review\n",
      "horribl\n",
      "like\n",
      "away\n",
      "item\n",
      "terribl\n",
      "stale\n",
      "worst\n",
      "aw\n",
      "smell\n",
      "order\n",
      "threw\n",
      "dont\n"
     ]
    }
   ],
   "source": [
    "top_n=25\n",
    "# sorting the weight indices \n",
    "pos_class_weight_sorted = -clf.coef_.argsort()\n",
    "neg_class_weight_sorted = clf.coef_.argsort()\n",
    "            \n",
    "# top positive features \n",
    "print('\\nTop '+str(top_n)+' \"POSITIVE\" Features are:\\n')\n",
    "pos = np.take(tf_idf_vect.get_feature_names(), pos_class_weight_sorted[:top_n])\n",
    "for i in range(top_n):\n",
    "    print(pos[0][i])\n",
    "\n",
    "# top negative features\n",
    "print('Top '+str(top_n)+' \"NEGATIVE\" Features are:\\n')\n",
    "neg = np.take(tf_idf_vect.get_feature_names(), neg_class_weight_sorted[:top_n])\n",
    "for i in range(top_n):\n",
    "    print(neg[0][i])"
   ]
  },
  {
   "cell_type": "code",
   "execution_count": 58,
   "metadata": {},
   "outputs": [
    {
     "data": {
      "image/png": "[encoded data removed]",
      "text/plain": [
       "<Figure size 432x288 with 1 Axes>"
      ]
     },
     "metadata": {},
     "output_type": "display_data"
    }
   ],
   "source": [
    "pos=''.join(str(e) for e in pos)\n",
    "\n",
    "from wordcloud import WordCloud\n",
    "\n",
    "wordcloud = WordCloud(background_color='black',\n",
    "                      width=3000,\n",
    "                      height=2500\n",
    "                     ).generate(pos)\n",
    "\n",
    "plt.title(\"Positive Frequent words\")\n",
    "plt.figure(1, figsize=(25, 25))\n",
    "plt.imshow(wordcloud)\n",
    "plt.tight_layout(pad=0)\n",
    "plt.axis('off')\n",
    "plt.show()"
   ]
  },
  {
   "cell_type": "code",
   "execution_count": 59,
   "metadata": {},
   "outputs": [
    {
     "data": {
      "image/png": "[encoded data removed]",
      "text/plain": [
       "<Figure size 432x288 with 1 Axes>"
      ]
     },
     "metadata": {},
     "output_type": "display_data"
    }
   ],
   "source": [
    "neg=''.join(str(e) for e in neg)\n",
    "\n",
    "from wordcloud import WordCloud\n",
    "\n",
    "wordcloud = WordCloud(background_color='black',\n",
    "                      width=3000,\n",
    "                      height=2500\n",
    "                     ).generate(neg)\n",
    "\n",
    "plt.title(\"Negative Frequent words\")\n",
    "plt.figure(1, figsize=(25, 25))\n",
    "plt.imshow(wordcloud)\n",
    "plt.tight_layout(pad=0)\n",
    "plt.axis('off')\n",
    "plt.show()"
   ]
  },
  {
   "cell_type": "markdown",
   "metadata": {},
   "source": [
    "## 4.7 Applying SGD Classifier by RandomizedSearchCV"
   ]
  },
  {
   "cell_type": "code",
   "execution_count": 60,
   "metadata": {},
   "outputs": [
    {
     "name": "stdout",
     "output_type": "stream",
     "text": [
      "best alpha value is SGDClassifier(alpha=0.01, average=False, class_weight='balanced',\n",
      "       early_stopping=False, epsilon=0.1, eta0=0.0, fit_intercept=True,\n",
      "       l1_ratio=0.15, learning_rate='optimal', loss='hinge', max_iter=100,\n",
      "       n_iter=None, n_iter_no_change=5, n_jobs=None, penalty='l2',\n",
      "       power_t=0.5, random_state=None, shuffle=True, tol=None,\n",
      "       validation_fraction=0.1, verbose=0, warm_start=False)\n",
      "Accuracy of the model : 0.90\n"
     ]
    }
   ],
   "source": [
    "from sklearn import linear_model\n",
    "from sklearn.model_selection import RandomizedSearchCV\n",
    "clf=linear_model.SGDClassifier(loss='hinge',penalty='l2',max_iter=100,class_weight='balanced')\n",
    "tuned_parameters = {'alpha': [0.001, 0.01, 0.1, 1, 10]}\n",
    "\n",
    "model = RandomizedSearchCV(clf, tuned_parameters,cv=3,scoring='f1', n_jobs=-1,pre_dispatch=2)\n",
    "model.fit(standardized_data_train, y_train)\n",
    "print(\"best alpha value is\",model.best_estimator_)\n",
    "print(\"Accuracy of the model : {:.2f}\".format(model.score(standardized_data_test, y_test)))\n",
    "a = model.best_params_\n",
    "optimal_alpha = a.get('alpha')"
   ]
  },
  {
   "cell_type": "code",
   "execution_count": 61,
   "metadata": {},
   "outputs": [
    {
     "data": {
      "text/plain": [
       "array([0.90338307, 0.93630681, 0.74768332, 0.9296187 , 0.61857452])"
      ]
     },
     "execution_count": 61,
     "metadata": {},
     "output_type": "execute_result"
    }
   ],
   "source": [
    "model.best_params_\n",
    "results = model.cv_results_\n",
    "results['mean_test_score']"
   ]
  },
  {
   "cell_type": "code",
   "execution_count": 62,
   "metadata": {},
   "outputs": [
    {
     "data": {
      "image/png": "[encoded data removed]",
      "text/plain": [
       "<Figure size 432x288 with 1 Axes>"
      ]
     },
     "metadata": {},
     "output_type": "display_data"
    }
   ],
   "source": [
    "C=0.001, 0.01, 0.1, 1, 10\n",
    "plt.plot(C,results['mean_test_score'],marker='o')\n",
    "plt.xlabel('C')\n",
    "plt.ylabel('f1score')\n",
    "plt.title(\"F1score vs hyperparameter C\")\n",
    "plt.grid()\n",
    "plt.show()"
   ]
  },
  {
   "cell_type": "code",
   "execution_count": 63,
   "metadata": {},
   "outputs": [],
   "source": [
    "clf = linear_model.SGDClassifier(loss='hinge',alpha=optimal_alpha,class_weight='balanced')\n",
    "clf.fit(standardized_data_train,y_train)\n",
    "y_pred = clf.predict(standardized_data_test)"
   ]
  },
  {
   "cell_type": "markdown",
   "metadata": {},
   "source": [
    "## 4.8 Confusion Matrix"
   ]
  },
  {
   "cell_type": "code",
   "execution_count": 64,
   "metadata": {},
   "outputs": [
    {
     "name": "stdout",
     "output_type": "stream",
     "text": [
      "Confusion Matrix:\n"
     ]
    },
    {
     "data": {
      "image/png": "[encoded data removed]",
      "text/plain": [
       "<Figure size 432x288 with 2 Axes>"
      ]
     },
     "metadata": {},
     "output_type": "display_data"
    },
    {
     "name": "stdout",
     "output_type": "stream",
     "text": [
      " true negitves are 4921 \n",
      " false positives are 692 \n",
      " false negatives are 9102\n",
      " true positives are 27285 \n",
      " \n"
     ]
    }
   ],
   "source": [
    "cm_tfidf=confusion_matrix(y_test,y_pred)\n",
    "print(\"Confusion Matrix:\")\n",
    "sns.heatmap(cm_tfidf, annot=True, fmt='d')\n",
    "plt.show()\n",
    "\n",
    "#finding out  true negative , false positive , false negative and true positve \n",
    "tn, fp, fn, tp = cm_tfidf.ravel()\n",
    "( tp, fp, fn, tp)\n",
    "print(\" true negitves are {} \\n false positives are {} \\n false negatives are {}\\n true positives are {} \\n \".format(tn,fp,fn,tp))"
   ]
  },
  {
   "cell_type": "markdown",
   "metadata": {},
   "source": [
    "## 4.9 Calculating Accuracy,Error on test data,Precision,Recall,Classification Report"
   ]
  },
  {
   "cell_type": "code",
   "execution_count": 65,
   "metadata": {},
   "outputs": [
    {
     "name": "stdout",
     "output_type": "stream",
     "text": [
      "\n",
      "The Test Accuracy of the SVM for alpha = 0.010 is 76.680952%\n",
      "\n",
      "Test Error of the SVM for alpha is  23.319048%\n",
      "\n",
      "The Test Precision of the SVM for alpha is = 0.010 is 0.975265\n",
      "\n",
      "The Test Recall of the SVM for alpha is = 0.010 is 0.749856\n",
      "\n",
      "The Test classification report oof the SVM for alpha is \n",
      "\n",
      "                precision    recall  f1-score   support\n",
      "\n",
      "           0       0.35      0.88      0.50      5613\n",
      "           1       0.98      0.75      0.85     36387\n",
      "\n",
      "   micro avg       0.77      0.77      0.77     42000\n",
      "   macro avg       0.66      0.81      0.67     42000\n",
      "weighted avg       0.89      0.77      0.80     42000\n",
      "\n"
     ]
    }
   ],
   "source": [
    "from sklearn.metrics import recall_score\n",
    "from sklearn.metrics import precision_score\n",
    "from sklearn.metrics import classification_report\n",
    "\n",
    "\n",
    "# evaluating accuracy\n",
    "acc_tfidf = accuracy_score(y_test, y_pred) * 100\n",
    "print('\\nThe Test Accuracy of the SVM for alpha = %.3f is %f%%' % (optimal_alpha, acc_tfidf))\n",
    "\n",
    "# Error on test data\n",
    "test_error_tfidf = 100-acc_tfidf\n",
    "print(\"\\nTest Error of the SVM for alpha is  %f%%\" % (test_error_tfidf))\n",
    "\n",
    "# evaluating precision\n",
    "precision_score = precision_score(y_test, y_pred) \n",
    "print('\\nThe Test Precision of the SVM for alpha is = %.3f is %f' % (optimal_alpha, precision_score))\n",
    "\n",
    "# evaluating recall\n",
    "recall_score = recall_score(y_test, y_pred)\n",
    "print('\\nThe Test Recall of the SVM for alpha is = %.3f is %f' % (optimal_alpha, recall_score))\n",
    "\n",
    "# evaluating Classification report\n",
    "classification_report = classification_report(y_test, y_pred)\n",
    "print('\\nThe Test classification report oof the SVM for alpha is \\n\\n ',(classification_report))\n"
   ]
  },
  {
   "cell_type": "markdown",
   "metadata": {},
   "source": [
    "## 4.10 Plotting Roc_auc score"
   ]
  },
  {
   "cell_type": "code",
   "execution_count": 66,
   "metadata": {},
   "outputs": [
    {
     "data": {
      "image/png": "[encoded data removed]",
      "text/plain": [
       "<Figure size 432x288 with 1 Axes>"
      ]
     },
     "metadata": {},
     "output_type": "display_data"
    }
   ],
   "source": [
    "from sklearn.calibration import CalibratedClassifierCV\n",
    "calibrated = CalibratedClassifierCV(model, method='sigmoid', cv=3)\n",
    "calibrated.fit(standardized_data_train, y_train)\n",
    "y_pred_proba = calibrated.predict_proba(standardized_data_test)[::,1]\n",
    "fpr, tpr, _ = metrics.roc_curve(y_test,  y_pred_proba)\n",
    "auc = metrics.roc_auc_score(y_test, y_pred_proba)\n",
    "plt.plot(fpr,tpr,label=\"tfidf, AUC=\"+str(auc))\n",
    "plt.plot([0,1],[0,1],'r--')\n",
    "plt.title('ROC curve: SVM')\n",
    "plt.legend(loc='lower right')\n",
    "plt.ylabel('True Positive Rate')\n",
    "plt.xlabel('False Positive Rate')\n",
    "plt.show()"
   ]
  },
  {
   "cell_type": "markdown",
   "metadata": {},
   "source": [
    "## 4.11 Calculating Top25 features"
   ]
  },
  {
   "cell_type": "code",
   "execution_count": 67,
   "metadata": {},
   "outputs": [
    {
     "name": "stdout",
     "output_type": "stream",
     "text": [
      "\n",
      "Top 25 \"POSITIVE\" Features are:\n",
      "\n",
      "salesperson\n",
      "cardo\n",
      "vacumn\n",
      "airforc\n",
      "indegst\n",
      "feldman\n",
      "tourist\n",
      "satat\n",
      "apper\n",
      "duplo\n",
      "entendr\n",
      "bunchi\n",
      "dump\n",
      "ncieli\n",
      "leukemia\n",
      "vegey\n",
      "methion\n",
      "caleri\n",
      "cnat\n",
      "ajanta\n",
      "vegitarian\n",
      "costom\n",
      "groundbal\n",
      "bulldog\n",
      "rood\n",
      "Top 25 \"NEGATIVE\" Features are:\n",
      "\n",
      "disappoint\n",
      "tast\n",
      "bad\n",
      "would\n",
      "money\n",
      "product\n",
      "box\n",
      "didnt\n",
      "wast\n",
      "return\n",
      "receiv\n",
      "thought\n",
      "review\n",
      "horribl\n",
      "like\n",
      "away\n",
      "item\n",
      "terribl\n",
      "stale\n",
      "worst\n",
      "aw\n",
      "smell\n",
      "order\n",
      "threw\n",
      "dont\n"
     ]
    }
   ],
   "source": [
    "top_n=25\n",
    "# sorting the weight indices \n",
    "pos_class_weight_sorted = -clf.coef_.argsort()\n",
    "neg_class_weight_sorted = clf.coef_.argsort()\n",
    "            \n",
    "# top positive features \n",
    "print('\\nTop '+str(top_n)+' \"POSITIVE\" Features are:\\n')\n",
    "pos = np.take(tf_idf_vect.get_feature_names(), pos_class_weight_sorted[:top_n])\n",
    "for i in range(top_n):\n",
    "    print(pos[0][i])\n",
    "\n",
    "# top negative features\n",
    "print('Top '+str(top_n)+' \"NEGATIVE\" Features are:\\n')\n",
    "neg = np.take(tf_idf_vect.get_feature_names(), neg_class_weight_sorted[:top_n])\n",
    "for i in range(top_n):\n",
    "    print(neg[0][i])"
   ]
  },
  {
   "cell_type": "code",
   "execution_count": 68,
   "metadata": {},
   "outputs": [
    {
     "data": {
      "image/png": "[encoded data removed]",
      "text/plain": [
       "<Figure size 432x288 with 1 Axes>"
      ]
     },
     "metadata": {},
     "output_type": "display_data"
    }
   ],
   "source": [
    "pos=''.join(str(e) for e in pos)\n",
    "\n",
    "from wordcloud import WordCloud\n",
    "\n",
    "wordcloud = WordCloud(background_color='black',\n",
    "                      width=3000,\n",
    "                      height=2500\n",
    "                     ).generate(pos)\n",
    "\n",
    "plt.title(\"Positive Frequent words\")\n",
    "plt.figure(1, figsize=(25, 25))\n",
    "plt.imshow(wordcloud)\n",
    "plt.tight_layout(pad=0)\n",
    "plt.axis('off')\n",
    "plt.show()"
   ]
  },
  {
   "cell_type": "code",
   "execution_count": 69,
   "metadata": {},
   "outputs": [
    {
     "data": {
      "image/png": "[encoded data removed]",
      "text/plain": [
       "<Figure size 432x288 with 1 Axes>"
      ]
     },
     "metadata": {},
     "output_type": "display_data"
    }
   ],
   "source": [
    "neg=''.join(str(e) for e in neg)\n",
    "\n",
    "from wordcloud import WordCloud\n",
    "\n",
    "wordcloud = WordCloud(background_color='black',\n",
    "                      width=3000,\n",
    "                      height=2500\n",
    "                     ).generate(neg)\n",
    "\n",
    "plt.title(\"Negative Frequent words\")\n",
    "plt.figure(1, figsize=(25, 25))\n",
    "plt.imshow(wordcloud)\n",
    "plt.tight_layout(pad=0)\n",
    "plt.axis('off')\n",
    "plt.show()"
   ]
  },
  {
   "cell_type": "markdown",
   "metadata": {},
   "source": [
    "## 5. Applying RBF Kernel for GridSearch"
   ]
  },
  {
   "cell_type": "code",
   "execution_count": 70,
   "metadata": {},
   "outputs": [
    {
     "name": "stdout",
     "output_type": "stream",
     "text": [
      "(98000, 36949)\n"
     ]
    },
    {
     "data": {
      "image/png": "[encoded data removed]",
      "text/plain": [
       "<Figure size 432x288 with 1 Axes>"
      ]
     },
     "metadata": {},
     "output_type": "display_data"
    }
   ],
   "source": [
    "# PCA for dimensionality redcution (non-visualization)\n",
    "# initializing the pca\n",
    "from scipy.sparse import csr_matrix\n",
    "from sklearn import decomposition\n",
    "pca = decomposition.PCA()\n",
    "\n",
    "standardized_data_train = csr_matrix(standardized_data_train)\n",
    "standardized_data_train=standardized_data_train.todense()\n",
    "print(standardized_data_train.shape)\n",
    "\n",
    "pca.n_components = 12\n",
    "pca_data = pca.fit_transform(standardized_data_train)\n",
    "\n",
    "percentage_var_explained = pca.explained_variance_ / np.sum(pca.explained_variance_);\n",
    "\n",
    "cum_var_explained = np.cumsum(percentage_var_explained)\n",
    "\n",
    "# Plot the PCA spectrum\n",
    "plt.figure(1, figsize=(6, 4))\n",
    "\n",
    "plt.clf()\n",
    "plt.plot(cum_var_explained, linewidth=2)\n",
    "plt.axis('tight')\n",
    "plt.grid()\n",
    "plt.xlabel('n_components')\n",
    "plt.ylabel('Cumulative_explained_variance')\n",
    "plt.show()\n",
    "\n",
    "\n",
    "# If we take 9-dimensions, approx. 90% of variance is expalined."
   ]
  },
  {
   "cell_type": "code",
   "execution_count": 71,
   "metadata": {},
   "outputs": [],
   "source": [
    "from sklearn.decomposition import TruncatedSVD\n",
    "final_counts_tfidf_tr_svd = TruncatedSVD(n_components=9).fit_transform(final_counts_tfidf_tr)\n",
    "final_counts_tfidf_tr_svd1 = TruncatedSVD(n_components=9).fit_transform(final_counts_tfidf_test)"
   ]
  },
  {
   "cell_type": "markdown",
   "metadata": {},
   "source": [
    "## 5.1 Normalizing data"
   ]
  },
  {
   "cell_type": "code",
   "execution_count": 72,
   "metadata": {},
   "outputs": [
    {
     "name": "stdout",
     "output_type": "stream",
     "text": [
      "(98000, 9)\n",
      "(42000, 9)\n"
     ]
    }
   ],
   "source": [
    "# Data-preprocessing: Normalizing data \n",
    "\n",
    "from sklearn import preprocessing\n",
    "standardized_data_train = preprocessing.normalize(final_counts_tfidf_tr_svd)\n",
    "print(standardized_data_train.shape)\n",
    "standardized_data_test = preprocessing.normalize(final_counts_tfidf_tr_svd1)\n",
    "print(standardized_data_test.shape)\n"
   ]
  },
  {
   "cell_type": "code",
   "execution_count": 73,
   "metadata": {},
   "outputs": [
    {
     "name": "stdout",
     "output_type": "stream",
     "text": [
      "tunded parameters SVC(C=10, cache_size=200, class_weight='balanced', coef0=0.0,\n",
      "  decision_function_shape='ovr', degree=3, gamma=1000, kernel='rbf',\n",
      "  max_iter=100, probability=False, random_state=None, shrinking=True,\n",
      "  tol=0.001, verbose=False)\n",
      "Accuracy of model using SVC classifier by rbf kernel 0.87\n"
     ]
    }
   ],
   "source": [
    "#In RBF SVC hyper parameters are C,gamma\n",
    "from sklearn.svm import SVC\n",
    "clf=SVC(kernel='rbf',max_iter=100,class_weight='balanced')\n",
    "tuned_parameters = {'C': [10**-4,10**-3, 10**-2,10**-1, 1, 10**1,10**2,10**3, 10**4],'gamma':[10**-4,10**-3, 10**-2,10**-1, 1, 10**1,10**2,10**3, 10**4]}\n",
    "model = GridSearchCV(clf, tuned_parameters,cv=3,n_jobs=-1)\n",
    "model.fit(standardized_data_train, y_train)\n",
    "print(\"tunded parameters\",model.best_estimator_)\n",
    "print(\"Accuracy of model using SVC classifier by rbf kernel {:.2f}\".format(model.score(standardized_data_test, y_test)))\n",
    "a = model.best_params_\n",
    "optimal_C = a.get('C')\n",
    "optimal_gamma=a.get('gamma')\n"
   ]
  },
  {
   "cell_type": "code",
   "execution_count": 74,
   "metadata": {},
   "outputs": [
    {
     "data": {
      "text/plain": [
       "array([0.13458163, 0.13458163, 0.13458163, 0.13458163, 0.13458163,\n",
       "       0.13458163, 0.13458163, 0.13458163, 0.13458163, 0.13458163,\n",
       "       0.13458163, 0.13458163, 0.13458163, 0.13458163, 0.13458163,\n",
       "       0.13458163, 0.13458163, 0.13458163, 0.13458163, 0.13458163,\n",
       "       0.13458163, 0.13458163, 0.13458163, 0.13458163, 0.13458163,\n",
       "       0.13458163, 0.13458163, 0.13458163, 0.13458163, 0.13458163,\n",
       "       0.13458163, 0.13458163, 0.13458163, 0.13458163, 0.13458163,\n",
       "       0.13458163, 0.13458163, 0.13458163, 0.13458163, 0.13458163,\n",
       "       0.13458163, 0.13458163, 0.13458163, 0.13458163, 0.13459184,\n",
       "       0.13458163, 0.13458163, 0.13458163, 0.13458163, 0.14833673,\n",
       "       0.14679592, 0.38522449, 0.86513265, 0.62186735, 0.13458163,\n",
       "       0.13458163, 0.13458163, 0.16477551, 0.37640816, 0.38668367,\n",
       "       0.37715306, 0.86513265, 0.62186735, 0.13458163, 0.13458163,\n",
       "       0.17866327, 0.57082653, 0.31285714, 0.18407143, 0.37715306,\n",
       "       0.86513265, 0.62186735, 0.13458163, 0.24285714, 0.46761224,\n",
       "       0.52660204, 0.31285714, 0.18407143, 0.37715306, 0.86513265,\n",
       "       0.62186735])"
      ]
     },
     "execution_count": 74,
     "metadata": {},
     "output_type": "execute_result"
    }
   ],
   "source": [
    "model.best_params_\n",
    "results = model.cv_results_\n",
    "results['mean_test_score']"
   ]
  },
  {
   "cell_type": "code",
   "execution_count": 75,
   "metadata": {},
   "outputs": [],
   "source": [
    "y_pred = model.predict(standardized_data_test)"
   ]
  },
  {
   "cell_type": "markdown",
   "metadata": {},
   "source": [
    "## 5.2 Confusion Matrix\n"
   ]
  },
  {
   "cell_type": "code",
   "execution_count": 76,
   "metadata": {},
   "outputs": [
    {
     "name": "stdout",
     "output_type": "stream",
     "text": [
      "Confusion Matrix:\n"
     ]
    },
    {
     "data": {
      "image/png": "[encoded data removed]",
      "text/plain": [
       "<Figure size 432x288 with 2 Axes>"
      ]
     },
     "metadata": {},
     "output_type": "display_data"
    }
   ],
   "source": [
    "cm_tfidf=confusion_matrix(y_test,y_pred)\n",
    "print(\"Confusion Matrix:\")\n",
    "sns.heatmap(cm_tfidf, annot=True, fmt='d')\n",
    "plt.show()"
   ]
  },
  {
   "cell_type": "code",
   "execution_count": 77,
   "metadata": {},
   "outputs": [
    {
     "name": "stdout",
     "output_type": "stream",
     "text": [
      " true negitves are 0 \n",
      " false positives are 5613 \n",
      " false negatives are 6\n",
      " true positives are 36381 \n",
      " \n"
     ]
    }
   ],
   "source": [
    "#finding out  true negative , false positive , false negative and true positve \n",
    "tn, fp, fn, tp = cm_tfidf.ravel()\n",
    "( tp, fp, fn, tp)\n",
    "print(\" true negitves are {} \\n false positives are {} \\n false negatives are {}\\n true positives are {} \\n \".format(tn,fp,fn,tp))"
   ]
  },
  {
   "cell_type": "markdown",
   "metadata": {},
   "source": [
    "## 5.3 Calculating Accuracy,Error on test data,Precision,Recall,Classification Report"
   ]
  },
  {
   "cell_type": "code",
   "execution_count": 78,
   "metadata": {},
   "outputs": [
    {
     "name": "stdout",
     "output_type": "stream",
     "text": [
      "\n",
      "The Test Accuracy of the SVM for C and gamma = 10.000 ,1000.000 is 86.621429%\n",
      "\n",
      "Test Error of the SVM for alpha  13.378571%\n",
      "\n",
      "The Test Precision of the SVM for C and gamma = 10.000 ,1000.000 is 0.866338\n",
      "\n",
      "The Test Recall of the SVM for C and gamma = 10.000 ,1000.000 is 0.999835\n",
      "\n",
      "The Test classification report of the SVM for C and gamma \n",
      "\n",
      "                precision    recall  f1-score   support\n",
      "\n",
      "           0       0.00      0.00      0.00      5613\n",
      "           1       0.87      1.00      0.93     36387\n",
      "\n",
      "   micro avg       0.87      0.87      0.87     42000\n",
      "   macro avg       0.43      0.50      0.46     42000\n",
      "weighted avg       0.75      0.87      0.80     42000\n",
      "\n"
     ]
    }
   ],
   "source": [
    "from sklearn.metrics import recall_score\n",
    "from sklearn.metrics import precision_score\n",
    "from sklearn.metrics import classification_report\n",
    "\n",
    "\n",
    "# evaluating accuracy\n",
    "acc_tfidf = accuracy_score(y_test, y_pred) * 100\n",
    "print('\\nThe Test Accuracy of the SVM for C and gamma = %.3f ,%.3f is %f%%' % (optimal_C,optimal_gamma, acc_tfidf))\n",
    "\n",
    "# Error on test data\n",
    "test_error_tfidf = 100-acc_tfidf\n",
    "print(\"\\nTest Error of the SVM for alpha  %f%%\" % (test_error_tfidf))\n",
    "\n",
    "# evaluating precision\n",
    "precision_score = precision_score(y_test, y_pred) \n",
    "print('\\nThe Test Precision of the SVM for C and gamma = %.3f ,%.3f is %f' % (optimal_C,optimal_gamma, precision_score))\n",
    "\n",
    "# evaluating recall\n",
    "recall_score = recall_score(y_test, y_pred)\n",
    "print('\\nThe Test Recall of the SVM for C and gamma = %.3f ,%.3f is %f' % (optimal_C,optimal_gamma, recall_score))\n",
    "\n",
    "# evaluating Classification report\n",
    "classification_report = classification_report(y_test, y_pred)\n",
    "print('\\nThe Test classification report of the SVM for C and gamma \\n\\n ',(classification_report))\n",
    "\n"
   ]
  },
  {
   "cell_type": "markdown",
   "metadata": {},
   "source": [
    "## 5.5 Applying RBF Kernel for RandomizedSearchCV"
   ]
  },
  {
   "cell_type": "code",
   "execution_count": 79,
   "metadata": {},
   "outputs": [
    {
     "name": "stdout",
     "output_type": "stream",
     "text": [
      "tunded parameters SVC(C=10, cache_size=200, class_weight='balanced', coef0=0.0,\n",
      "  decision_function_shape='ovr', degree=3, gamma=1000, kernel='rbf',\n",
      "  max_iter=100, probability=True, random_state=None, shrinking=True,\n",
      "  tol=0.001, verbose=False)\n",
      "Accuracy of model using SVC classifier by rbf kernel 0.87\n"
     ]
    }
   ],
   "source": [
    "#In RBF SVC hyper parameters are C,gamma\n",
    "from sklearn.svm import SVC\n",
    "from sklearn.model_selection import RandomizedSearchCV\n",
    "clf=SVC(kernel='rbf',probability=True,max_iter=100,class_weight='balanced')\n",
    "tuned_parameters = {'C': [10**-4,10**-3, 10**-2,10**-1, 1, 10**1,10**2,10**3, 10**4],'gamma':[10**-4,10**-3, 10**-2,10**-1, 1, 10**1,10**2,10**3, 10**4]}\n",
    "model = RandomizedSearchCV(clf, tuned_parameters,cv=3,n_jobs=-1)\n",
    "model.fit(standardized_data_train, y_train)\n",
    "print(\"tunded parameters\",model.best_estimator_)\n",
    "print(\"Accuracy of model using SVC classifier by rbf kernel {:.2f}\".format(model.score(standardized_data_test, y_test)))\n",
    "a = model.best_params_\n",
    "optimal_C = a.get('C')\n",
    "optimal_gamma=a.get('gamma')"
   ]
  },
  {
   "cell_type": "code",
   "execution_count": 80,
   "metadata": {},
   "outputs": [
    {
     "data": {
      "text/plain": [
       "array([0.86513265, 0.13458163, 0.31285714, 0.13458163, 0.37715306,\n",
       "       0.13458163, 0.13458163, 0.13458163, 0.13458163, 0.31285714])"
      ]
     },
     "execution_count": 80,
     "metadata": {},
     "output_type": "execute_result"
    }
   ],
   "source": [
    "model.best_params_\n",
    "results = model.cv_results_\n",
    "results['mean_test_score']"
   ]
  },
  {
   "cell_type": "code",
   "execution_count": 81,
   "metadata": {},
   "outputs": [],
   "source": [
    "y_pred = model.predict(standardized_data_test)"
   ]
  },
  {
   "cell_type": "markdown",
   "metadata": {},
   "source": [
    "## 5.6 Confusion Matrix"
   ]
  },
  {
   "cell_type": "code",
   "execution_count": 82,
   "metadata": {},
   "outputs": [
    {
     "name": "stdout",
     "output_type": "stream",
     "text": [
      "Confusion Matrix:\n"
     ]
    },
    {
     "data": {
      "image/png": "[encoded data removed]",
      "text/plain": [
       "<Figure size 432x288 with 2 Axes>"
      ]
     },
     "metadata": {},
     "output_type": "display_data"
    }
   ],
   "source": [
    "cm_tfidf=confusion_matrix(y_test,y_pred)\n",
    "print(\"Confusion Matrix:\")\n",
    "sns.heatmap(cm_tfidf, annot=True, fmt='d')\n",
    "plt.show()"
   ]
  },
  {
   "cell_type": "code",
   "execution_count": 83,
   "metadata": {},
   "outputs": [
    {
     "name": "stdout",
     "output_type": "stream",
     "text": [
      " true negitves are 0 \n",
      " false positives are 5613 \n",
      " false negatives are 6\n",
      " true positives are 36381 \n",
      " \n"
     ]
    }
   ],
   "source": [
    "#finding out  true negative , false positive , false negative and true positve \n",
    "tn, fp, fn, tp = cm_tfidf.ravel()\n",
    "( tp, fp, fn, tp)\n",
    "print(\" true negitves are {} \\n false positives are {} \\n false negatives are {}\\n true positives are {} \\n \".format(tn,fp,fn,tp))"
   ]
  },
  {
   "cell_type": "markdown",
   "metadata": {},
   "source": [
    "## 5.7 Calculating Accuracy,Error on test data,Precision,Recall,Classification Report"
   ]
  },
  {
   "cell_type": "code",
   "execution_count": 84,
   "metadata": {},
   "outputs": [
    {
     "name": "stdout",
     "output_type": "stream",
     "text": [
      "\n",
      "The Test Accuracy of the SVM for C and gamma = 10.000 ,1000.000 is 86.621429%\n",
      "\n",
      "Test Error of the SVM for C and gamma 13.378571%\n",
      "\n",
      "The Test Precision of the SVM for C and gamma = 10.000 ,1000.000 is 0.866338\n",
      "\n",
      "The Test Recall of the SVM for C and gamma = 10.000 ,1000.000 is 0.999835\n",
      "\n",
      "The Test classification report of the SVM for alpha \n",
      "\n",
      "                precision    recall  f1-score   support\n",
      "\n",
      "           0       0.00      0.00      0.00      5613\n",
      "           1       0.87      1.00      0.93     36387\n",
      "\n",
      "   micro avg       0.87      0.87      0.87     42000\n",
      "   macro avg       0.43      0.50      0.46     42000\n",
      "weighted avg       0.75      0.87      0.80     42000\n",
      "\n"
     ]
    }
   ],
   "source": [
    "from sklearn.metrics import recall_score\n",
    "from sklearn.metrics import precision_score\n",
    "from sklearn.metrics import classification_report\n",
    "\n",
    "\n",
    "# evaluating accuracy\n",
    "acc_tfidf = accuracy_score(y_test, y_pred) * 100\n",
    "print('\\nThe Test Accuracy of the SVM for C and gamma = %.3f ,%.3f is %f%%' % (optimal_C,optimal_gamma, acc_tfidf))\n",
    "\n",
    "# Error on test data\n",
    "test_error_tfidf = 100-acc_tfidf\n",
    "print(\"\\nTest Error of the SVM for C and gamma %f%%\" % (test_error_tfidf))\n",
    "\n",
    "# evaluating precision\n",
    "precision_score = precision_score(y_test, y_pred) \n",
    "print('\\nThe Test Precision of the SVM for C and gamma = %.3f ,%.3f is %f' % (optimal_C,optimal_gamma, precision_score))\n",
    "\n",
    "# evaluating recall\n",
    "recall_score = recall_score(y_test, y_pred)\n",
    "print('\\nThe Test Recall of the SVM for C and gamma = %.3f ,%.3f is %f' % (optimal_C,optimal_gamma, recall_score))\n",
    "\n",
    "# evaluating Classification report\n",
    "classification_report = classification_report(y_test, y_pred)\n",
    "print('\\nThe Test classification report of the SVM for alpha \\n\\n ',(classification_report))"
   ]
  },
  {
   "cell_type": "markdown",
   "metadata": {},
   "source": [
    "## 6. WORD2VEC"
   ]
  },
  {
   "cell_type": "code",
   "execution_count": 85,
   "metadata": {},
   "outputs": [
    {
     "name": "stdout",
     "output_type": "stream",
     "text": [
      "number of words that occured minimum 5 times  12448\n"
     ]
    }
   ],
   "source": [
    "from gensim.models import Word2Vec\n",
    "# List of sentence in X_train text\n",
    "sent_of_train=[]\n",
    "for sent in x_train:\n",
    "    sent_of_train.append(sent.split())\n",
    "\n",
    "# List of sentence in X_est text\n",
    "sent_of_test=[]\n",
    "for sent in x_test:\n",
    "    sent_of_test.append(sent.split())   \n",
    "    \n",
    "# Train your own Word2Vec model using your own train text corpus \n",
    "# min_count = 5 considers only words that occured atleast 5 times\n",
    "w2v_model=Word2Vec(sent_of_train,min_count=5,size=50, workers=4)\n",
    "\n",
    "w2v_words = list(w2v_model.wv.vocab)\n",
    "print(\"number of words that occured minimum 5 times \",len(w2v_words))"
   ]
  },
  {
   "cell_type": "markdown",
   "metadata": {},
   "source": [
    "## 7. Avg Word2Vec"
   ]
  },
  {
   "cell_type": "code",
   "execution_count": 86,
   "metadata": {},
   "outputs": [],
   "source": [
    "# compute average word2vec for each review for X_train .\n",
    "train_vectors = []; \n",
    "for sent in sent_of_train:\n",
    "    sent_vec = np.zeros(50) \n",
    "    cnt_words =0; \n",
    "    for word in sent: # \n",
    "        if word in w2v_words:\n",
    "            vec = w2v_model.wv[word]\n",
    "            sent_vec += vec\n",
    "            cnt_words += 1\n",
    "    if cnt_words != 0:\n",
    "        sent_vec /= cnt_words\n",
    "    train_vectors.append(sent_vec)\n",
    "    \n",
    "# compute average word2vec for each review for X_test .\n",
    "test_vectors = []; \n",
    "for sent in sent_of_test:\n",
    "    sent_vec = np.zeros(50) \n",
    "    cnt_words =0; \n",
    "    for word in sent: # \n",
    "        if word in w2v_words:\n",
    "            vec = w2v_model.wv[word]\n",
    "            sent_vec += vec\n",
    "            cnt_words += 1\n",
    "    if cnt_words != 0:\n",
    "        sent_vec /= cnt_words\n",
    "    test_vectors.append(sent_vec)"
   ]
  },
  {
   "cell_type": "markdown",
   "metadata": {},
   "source": [
    "## 7.1 Normalizing data"
   ]
  },
  {
   "cell_type": "code",
   "execution_count": 87,
   "metadata": {},
   "outputs": [
    {
     "name": "stdout",
     "output_type": "stream",
     "text": [
      "(98000, 50)\n",
      "(42000, 50)\n"
     ]
    }
   ],
   "source": [
    "# Data-preprocessing: Normalizing the data\n",
    "\n",
    "from sklearn import preprocessing\n",
    "standardized_data_train = preprocessing.normalize(train_vectors)\n",
    "print(standardized_data_train.shape)\n",
    "standardized_data_test = preprocessing.normalize(test_vectors)\n",
    "print(standardized_data_test.shape)"
   ]
  },
  {
   "cell_type": "markdown",
   "metadata": {},
   "source": [
    "## 7.2 Applying SGD Classifier by GridSearchCV"
   ]
  },
  {
   "cell_type": "code",
   "execution_count": 88,
   "metadata": {},
   "outputs": [
    {
     "name": "stdout",
     "output_type": "stream",
     "text": [
      "best alpha value is SGDClassifier(alpha=0.1, average=False, class_weight='balanced',\n",
      "       early_stopping=False, epsilon=0.1, eta0=0.0, fit_intercept=True,\n",
      "       l1_ratio=0.15, learning_rate='optimal', loss='hinge', max_iter=100,\n",
      "       n_iter=None, n_iter_no_change=5, n_jobs=None, penalty='l2',\n",
      "       power_t=0.5, random_state=None, shuffle=True, tol=None,\n",
      "       validation_fraction=0.1, verbose=0, warm_start=False)\n",
      "Accuracy of the model : 0.80\n"
     ]
    }
   ],
   "source": [
    "from sklearn import linear_model\n",
    "clf=linear_model.SGDClassifier(loss='hinge',max_iter=100,class_weight='balanced')\n",
    "tuned_parameters = {'alpha': [0.001, 0.01, 0.1, 1, 10]}\n",
    "\n",
    "model = GridSearchCV(clf, tuned_parameters,cv=3,scoring='f1', n_jobs=-1,pre_dispatch=2)\n",
    "model.fit(standardized_data_train, y_train)\n",
    "print(\"best alpha value is\",model.best_estimator_)\n",
    "optimal_alpha = model.best_estimator_.alpha\n",
    "print(\"Accuracy of the model : {:.2f}\".format(model.score(standardized_data_test, y_test)))\n",
    "\n",
    "a = model.best_params_\n",
    "optimal_alpha = a.get('alpha')\n",
    "\n"
   ]
  },
  {
   "cell_type": "code",
   "execution_count": 89,
   "metadata": {},
   "outputs": [
    {
     "data": {
      "text/plain": [
       "array([0.88198769, 0.87344031, 0.92292503, 0.30927993, 0.61855987])"
      ]
     },
     "execution_count": 89,
     "metadata": {},
     "output_type": "execute_result"
    }
   ],
   "source": [
    "model.best_params_\n",
    "results = model.cv_results_\n",
    "results['mean_test_score']\n"
   ]
  },
  {
   "cell_type": "code",
   "execution_count": 90,
   "metadata": {},
   "outputs": [
    {
     "data": {
      "image/png": "[encoded data removed]",
      "text/plain": [
       "<Figure size 432x288 with 1 Axes>"
      ]
     },
     "metadata": {},
     "output_type": "display_data"
    }
   ],
   "source": [
    "C=0.001, 0.01, 0.1, 1, 10\n",
    "plt.plot(C,results['mean_test_score'],marker='o')\n",
    "plt.xlabel('C')\n",
    "plt.ylabel('f1score')\n",
    "plt.title(\"F1score vs hyperparameter C\")\n",
    "plt.grid()\n",
    "plt.show()"
   ]
  },
  {
   "cell_type": "code",
   "execution_count": 91,
   "metadata": {},
   "outputs": [],
   "source": [
    "clf = linear_model.SGDClassifier(loss='hinge',alpha=optimal_alpha,class_weight='balanced')\n",
    "clf.fit(standardized_data_train,y_train)\n",
    "y_pred = clf.predict(standardized_data_test)"
   ]
  },
  {
   "cell_type": "markdown",
   "metadata": {},
   "source": [
    "## 7.3 Confusion Matrix"
   ]
  },
  {
   "cell_type": "code",
   "execution_count": 92,
   "metadata": {},
   "outputs": [
    {
     "name": "stdout",
     "output_type": "stream",
     "text": [
      "Confusion Matrix:\n"
     ]
    },
    {
     "data": {
      "image/png": "[encoded data removed]",
      "text/plain": [
       "<Figure size 432x288 with 2 Axes>"
      ]
     },
     "metadata": {},
     "output_type": "display_data"
    }
   ],
   "source": [
    "cm_avgw2v=confusion_matrix(y_test,y_pred)\n",
    "print(\"Confusion Matrix:\")\n",
    "sns.heatmap(cm_avgw2v, annot=True, fmt='d')\n",
    "plt.show()"
   ]
  },
  {
   "cell_type": "code",
   "execution_count": 93,
   "metadata": {},
   "outputs": [
    {
     "name": "stdout",
     "output_type": "stream",
     "text": [
      " true negitves are 2822 \n",
      " false positives are 2791 \n",
      " false negatives are 2838\n",
      " true positives are 33549 \n",
      " \n"
     ]
    }
   ],
   "source": [
    "#finding out  true negative , false positive , false negative and true positve \n",
    "tn, fp, fn, tp = cm_avgw2v.ravel()\n",
    "( tp, fp, fn, tp)\n",
    "print(\" true negitves are {} \\n false positives are {} \\n false negatives are {}\\n true positives are {} \\n \".format(tn,fp,fn,tp))"
   ]
  },
  {
   "cell_type": "markdown",
   "metadata": {},
   "source": [
    "## 7.4 Calculating Accuracy,Error on test data,Precision,Recall,Classification Report"
   ]
  },
  {
   "cell_type": "code",
   "execution_count": 94,
   "metadata": {},
   "outputs": [
    {
     "name": "stdout",
     "output_type": "stream",
     "text": [
      "\n",
      "The Test Accuracy of the SVM for alpha is = 0.100 is 86.597619%\n",
      "\n",
      "Test Error of the SVM for alpha is  13.402381%\n",
      "\n",
      "The Test Precision of the SVM for alpha is = 0.100 is 0.923198\n",
      "\n",
      "The Test Recall of the SVM for alpha is = 0.100 is 0.922005\n",
      "\n",
      "The Test classification report of the SVM for alpha is \n",
      "\n",
      "                precision    recall  f1-score   support\n",
      "\n",
      "           0       0.50      0.50      0.50      5613\n",
      "           1       0.92      0.92      0.92     36387\n",
      "\n",
      "   micro avg       0.87      0.87      0.87     42000\n",
      "   macro avg       0.71      0.71      0.71     42000\n",
      "weighted avg       0.87      0.87      0.87     42000\n",
      "\n"
     ]
    }
   ],
   "source": [
    "from sklearn.metrics import recall_score\n",
    "from sklearn.metrics import precision_score\n",
    "from sklearn.metrics import classification_report\n",
    "\n",
    "\n",
    "# evaluating accuracy\n",
    "acc_avgw2v = accuracy_score(y_test, y_pred) * 100\n",
    "print('\\nThe Test Accuracy of the SVM for alpha is = %.3f is %f%%' % (optimal_alpha, acc_avgw2v))\n",
    "\n",
    "# Error on test data\n",
    "test_error_avgw2v = 100-acc_avgw2v\n",
    "print(\"\\nTest Error of the SVM for alpha is  %f%%\" % (test_error_avgw2v))\n",
    "\n",
    "# evaluating precision\n",
    "precision_score = precision_score(y_test, y_pred) \n",
    "print('\\nThe Test Precision of the SVM for alpha is = %.3f is %f' % (optimal_alpha, precision_score))\n",
    "\n",
    "# evaluating recall\n",
    "recall_score = recall_score(y_test, y_pred)\n",
    "print('\\nThe Test Recall of the SVM for alpha is = %.3f is %f' % (optimal_alpha, recall_score))\n",
    "\n",
    "# evaluating Classification report\n",
    "classification_report = classification_report(y_test, y_pred)\n",
    "print('\\nThe Test classification report of the SVM for alpha is \\n\\n ',(classification_report))\n"
   ]
  },
  {
   "cell_type": "markdown",
   "metadata": {},
   "source": [
    "## 7.5 Evaluating roc_auc_score"
   ]
  },
  {
   "cell_type": "code",
   "execution_count": 95,
   "metadata": {},
   "outputs": [
    {
     "data": {
      "image/png": "[encoded data removed]",
      "text/plain": [
       "<Figure size 432x288 with 1 Axes>"
      ]
     },
     "metadata": {},
     "output_type": "display_data"
    }
   ],
   "source": [
    "from sklearn.calibration import CalibratedClassifierCV\n",
    "calibrated = CalibratedClassifierCV(model, method='sigmoid', cv=3)\n",
    "calibrated.fit(standardized_data_train, y_train)\n",
    "y_pred_proba = calibrated.predict_proba(standardized_data_test)[::,1]\n",
    "fpr, tpr, _ = metrics.roc_curve(y_test,  y_pred_proba)\n",
    "auc = metrics.roc_auc_score(y_test, y_pred_proba)\n",
    "plt.plot(fpr,tpr,label=\"Avgword2vec, AUC=\"+str(auc))\n",
    "plt.plot([0,1],[0,1],'r--')\n",
    "plt.title('ROC curve: SVM')\n",
    "plt.legend(loc='lower right')\n",
    "plt.ylabel('True Positive Rate')\n",
    "plt.xlabel('False Positive Rate')\n",
    "plt.show()"
   ]
  },
  {
   "cell_type": "markdown",
   "metadata": {},
   "source": [
    "## 7.6 Applying SGD Classifier by RandomizedSearchCV"
   ]
  },
  {
   "cell_type": "code",
   "execution_count": 96,
   "metadata": {},
   "outputs": [
    {
     "name": "stdout",
     "output_type": "stream",
     "text": [
      "best alpha value is SGDClassifier(alpha=0.001, average=False, class_weight='balanced',\n",
      "       early_stopping=False, epsilon=0.1, eta0=0.0, fit_intercept=True,\n",
      "       l1_ratio=0.15, learning_rate='optimal', loss='hinge', max_iter=100,\n",
      "       n_iter=None, n_iter_no_change=5, n_jobs=None, penalty='l2',\n",
      "       power_t=0.5, random_state=None, shuffle=True, tol=None,\n",
      "       validation_fraction=0.1, verbose=0, warm_start=False)\n",
      "Accuracy of the model : 0.88\n"
     ]
    }
   ],
   "source": [
    "from sklearn import linear_model\n",
    "from sklearn.model_selection import RandomizedSearchCV\n",
    "clf=linear_model.SGDClassifier(loss='hinge',max_iter=100,class_weight='balanced')\n",
    "tuned_parameters = {'alpha': [0.001, 0.01, 0.1, 1, 10]}\n",
    "\n",
    "model = RandomizedSearchCV(clf, tuned_parameters,cv=3,scoring='f1', n_jobs=-1,pre_dispatch=2)\n",
    "model.fit(standardized_data_train, y_train)\n",
    "print(\"best alpha value is\",model.best_estimator_)\n",
    "optimal_alpha = model.best_estimator_.alpha\n",
    "print(\"Accuracy of the model : {:.2f}\".format(model.score(standardized_data_test, y_test)))\n",
    "\n",
    "a = model.best_params_\n",
    "optimal_alpha = a.get('alpha')"
   ]
  },
  {
   "cell_type": "code",
   "execution_count": 97,
   "metadata": {},
   "outputs": [
    {
     "data": {
      "text/plain": [
       "array([0.88397563, 0.8735095 , 0.77390256, 0.61857452, 0.61857452])"
      ]
     },
     "execution_count": 97,
     "metadata": {},
     "output_type": "execute_result"
    }
   ],
   "source": [
    "model.best_params_\n",
    "results = model.cv_results_\n",
    "results['mean_test_score']"
   ]
  },
  {
   "cell_type": "code",
   "execution_count": 98,
   "metadata": {},
   "outputs": [
    {
     "data": {
      "image/png": "[encoded data removed]",
      "text/plain": [
       "<Figure size 432x288 with 1 Axes>"
      ]
     },
     "metadata": {},
     "output_type": "display_data"
    }
   ],
   "source": [
    "C=0.001, 0.01, 0.1, 1, 10\n",
    "plt.plot(C,results['mean_test_score'],marker='o')\n",
    "plt.xlabel('C')\n",
    "plt.ylabel('f1score')\n",
    "plt.title(\"F1score vs hyperparameter C\")\n",
    "plt.grid()\n",
    "plt.show()"
   ]
  },
  {
   "cell_type": "code",
   "execution_count": 99,
   "metadata": {},
   "outputs": [],
   "source": [
    "clf = linear_model.SGDClassifier(loss='hinge',alpha=optimal_alpha,class_weight='balanced')\n",
    "clf.fit(standardized_data_train,y_train)\n",
    "y_pred = clf.predict(standardized_data_test)"
   ]
  },
  {
   "cell_type": "markdown",
   "metadata": {},
   "source": [
    "## 7.7 Confusion Matrix"
   ]
  },
  {
   "cell_type": "code",
   "execution_count": 100,
   "metadata": {},
   "outputs": [
    {
     "name": "stdout",
     "output_type": "stream",
     "text": [
      "Confusion Matrix:\n"
     ]
    },
    {
     "data": {
      "image/png": "[encoded data removed]",
      "text/plain": [
       "<Figure size 432x288 with 2 Axes>"
      ]
     },
     "metadata": {},
     "output_type": "display_data"
    }
   ],
   "source": [
    "cm_avgw2v=confusion_matrix(y_test,y_pred)\n",
    "print(\"Confusion Matrix:\")\n",
    "sns.heatmap(cm_avgw2v, annot=True, fmt='d')\n",
    "plt.show()"
   ]
  },
  {
   "cell_type": "code",
   "execution_count": 101,
   "metadata": {},
   "outputs": [
    {
     "name": "stdout",
     "output_type": "stream",
     "text": [
      " true negitves are 4666 \n",
      " false positives are 947 \n",
      " false negatives are 7120\n",
      " true positives are 29267 \n",
      " \n"
     ]
    }
   ],
   "source": [
    "#finding out  true negative , false positive , false negative and true positve \n",
    "tn, fp, fn, tp = cm_avgw2v.ravel()\n",
    "( tp, fp, fn, tp)\n",
    "print(\" true negitves are {} \\n false positives are {} \\n false negatives are {}\\n true positives are {} \\n \".format(tn,fp,fn,tp))"
   ]
  },
  {
   "cell_type": "markdown",
   "metadata": {},
   "source": [
    "## 7.8 Calculating Accuracy,Error on test data,Precision,Recall,Classification Report"
   ]
  },
  {
   "cell_type": "code",
   "execution_count": 102,
   "metadata": {},
   "outputs": [
    {
     "name": "stdout",
     "output_type": "stream",
     "text": [
      "\n",
      "The Test Accuracy of the SVM for alpha is = 0.001 is 80.792857%\n",
      "\n",
      "Test Error of the SVM for alpha is  19.207143%\n",
      "\n",
      "The Test Precision of the SVM for alpha is = 0.001 is 0.968657\n",
      "\n",
      "The Test Recall of the SVM for alpha is = 0.001 is 0.804326\n",
      "\n",
      "The Test classification report of the SVM for alpha is \n",
      "\n",
      "                precision    recall  f1-score   support\n",
      "\n",
      "           0       0.40      0.83      0.54      5613\n",
      "           1       0.97      0.80      0.88     36387\n",
      "\n",
      "   micro avg       0.81      0.81      0.81     42000\n",
      "   macro avg       0.68      0.82      0.71     42000\n",
      "weighted avg       0.89      0.81      0.83     42000\n",
      "\n"
     ]
    }
   ],
   "source": [
    "from sklearn.metrics import recall_score\n",
    "from sklearn.metrics import precision_score\n",
    "from sklearn.metrics import classification_report\n",
    "\n",
    "\n",
    "# evaluating accuracy\n",
    "acc_avgw2v = accuracy_score(y_test, y_pred) * 100\n",
    "print('\\nThe Test Accuracy of the SVM for alpha is = %.3f is %f%%' % (optimal_alpha, acc_avgw2v))\n",
    "\n",
    "# Error on test data\n",
    "test_error_avgw2v = 100-acc_avgw2v\n",
    "print(\"\\nTest Error of the SVM for alpha is  %f%%\" % (test_error_avgw2v))\n",
    "\n",
    "# evaluating precision\n",
    "precision_score = precision_score(y_test, y_pred) \n",
    "print('\\nThe Test Precision of the SVM for alpha is = %.3f is %f' % (optimal_alpha, precision_score))\n",
    "\n",
    "# evaluating recall\n",
    "recall_score = recall_score(y_test, y_pred)\n",
    "print('\\nThe Test Recall of the SVM for alpha is = %.3f is %f' % (optimal_alpha, recall_score))\n",
    "\n",
    "# evaluating Classification report\n",
    "classification_report = classification_report(y_test, y_pred)\n",
    "print('\\nThe Test classification report of the SVM for alpha is \\n\\n ',(classification_report))"
   ]
  },
  {
   "cell_type": "markdown",
   "metadata": {},
   "source": [
    "## 7.9 Plotting ROC CURVE"
   ]
  },
  {
   "cell_type": "code",
   "execution_count": 103,
   "metadata": {},
   "outputs": [
    {
     "data": {
      "image/png": "[encoded data removed]",
      "text/plain": [
       "<Figure size 432x288 with 1 Axes>"
      ]
     },
     "metadata": {},
     "output_type": "display_data"
    }
   ],
   "source": [
    "from sklearn.calibration import CalibratedClassifierCV\n",
    "calibrated = CalibratedClassifierCV(model, method='sigmoid', cv=3)\n",
    "calibrated.fit(standardized_data_train, y_train)\n",
    "y_pred_proba = calibrated.predict_proba(standardized_data_test)[::,1]\n",
    "fpr, tpr, _ = metrics.roc_curve(y_test,  y_pred_proba)\n",
    "auc = metrics.roc_auc_score(y_test, y_pred_proba)\n",
    "plt.plot(fpr,tpr,label=\"Avgw2vec, AUC=\"+str(auc))\n",
    "plt.plot([0,1],[0,1],'r--')\n",
    "plt.title('ROC curve: SVM')\n",
    "plt.legend(loc='lower right')\n",
    "plt.ylabel('True Positive Rate')\n",
    "plt.xlabel('False Positive Rate')\n",
    "plt.show()"
   ]
  },
  {
   "cell_type": "markdown",
   "metadata": {},
   "source": [
    "## 8. APPLYING RBF KERNEL BY GRIDSEARCH "
   ]
  },
  {
   "cell_type": "code",
   "execution_count": 104,
   "metadata": {},
   "outputs": [
    {
     "name": "stdout",
     "output_type": "stream",
     "text": [
      "(98000, 50)\n"
     ]
    },
    {
     "data": {
      "image/png": "[encoded data removed]",
      "text/plain": [
       "<Figure size 432x288 with 1 Axes>"
      ]
     },
     "metadata": {},
     "output_type": "display_data"
    }
   ],
   "source": [
    "# PCA for dimensionality redcution (non-visualization)\n",
    "# initializing the pca\n",
    "from scipy.sparse import csr_matrix\n",
    "from sklearn import decomposition\n",
    "pca = decomposition.PCA()\n",
    "\n",
    "standardized_data_train = csr_matrix(standardized_data_train)\n",
    "standardized_data_train=standardized_data_train.todense()\n",
    "print(standardized_data_train.shape)\n",
    "\n",
    "pca.n_components = 12\n",
    "pca_data = pca.fit_transform(standardized_data_train)\n",
    "\n",
    "percentage_var_explained = pca.explained_variance_ / np.sum(pca.explained_variance_);\n",
    "\n",
    "cum_var_explained = np.cumsum(percentage_var_explained)\n",
    "\n",
    "# Plot the PCA spectrum\n",
    "plt.figure(1, figsize=(6, 4))\n",
    "\n",
    "plt.clf()\n",
    "plt.plot(cum_var_explained, linewidth=2)\n",
    "plt.axis('tight')\n",
    "plt.grid()\n",
    "plt.xlabel('n_components')\n",
    "plt.ylabel('Cumulative_explained_variance')\n",
    "plt.show()\n",
    "\n",
    "\n",
    "# If we take 9-dimensions, approx. 90% of variance is expalined."
   ]
  },
  {
   "cell_type": "code",
   "execution_count": 105,
   "metadata": {},
   "outputs": [],
   "source": [
    "from sklearn.decomposition import TruncatedSVD\n",
    "final_counts_avg_w2v_svd = TruncatedSVD(n_components=9).fit_transform(train_vectors)\n",
    "final_counts_avg_w2v_svd1 = TruncatedSVD(n_components=9).fit_transform(test_vectors)"
   ]
  },
  {
   "cell_type": "markdown",
   "metadata": {},
   "source": [
    "## 8.2 Normalizing data"
   ]
  },
  {
   "cell_type": "code",
   "execution_count": 106,
   "metadata": {},
   "outputs": [
    {
     "name": "stdout",
     "output_type": "stream",
     "text": [
      "(98000, 9)\n",
      "(42000, 9)\n"
     ]
    }
   ],
   "source": [
    "# Data-preprocessing:Normalizing data\n",
    "\n",
    "from sklearn import preprocessing\n",
    "standardized_data_train = preprocessing.normalize(final_counts_avg_w2v_svd)\n",
    "print(standardized_data_train.shape)\n",
    "standardized_data_test = preprocessing.normalize(final_counts_avg_w2v_svd1)\n",
    "print(standardized_data_test.shape)"
   ]
  },
  {
   "cell_type": "code",
   "execution_count": 107,
   "metadata": {},
   "outputs": [
    {
     "name": "stdout",
     "output_type": "stream",
     "text": [
      "tunded parameters SVC(C=10, cache_size=200, class_weight='balanced', coef0=0.0,\n",
      "  decision_function_shape='ovr', degree=3, gamma=10000, kernel='rbf',\n",
      "  max_iter=100, probability=False, random_state=None, shrinking=True,\n",
      "  tol=0.001, verbose=False)\n",
      "Accuracy of model using SVC classifier by rbf kernel 0.85\n"
     ]
    }
   ],
   "source": [
    "#In RBF SVC hyper parameters are C,gamma\n",
    "from sklearn.svm import SVC\n",
    "clf=SVC(kernel='rbf',max_iter=100,class_weight='balanced')\n",
    "tuned_parameters = {'C': [10**-4,10**-3, 10**-2,10**-1, 1, 10**1,10**2,10**3, 10**4],'gamma':[10**-4,10**-3, 10**-2,10**-1, 1, 10**1,10**2,10**3, 10**4]}\n",
    "model = GridSearchCV(clf, tuned_parameters,cv=3,n_jobs=-1)\n",
    "model.fit(standardized_data_train, y_train)\n",
    "print(\"tunded parameters\",model.best_estimator_)\n",
    "print(\"Accuracy of model using SVC classifier by rbf kernel {:.2f}\".format(model.score(standardized_data_test, y_test)))\n",
    "a = model.best_params_\n",
    "optimal_C = a.get('C')\n",
    "optimal_gamma=a.get('gamma')\n"
   ]
  },
  {
   "cell_type": "code",
   "execution_count": 108,
   "metadata": {},
   "outputs": [
    {
     "data": {
      "text/plain": [
       "array([0.13458163, 0.13458163, 0.13458163, 0.13458163, 0.13458163,\n",
       "       0.13458163, 0.13458163, 0.13458163, 0.13458163, 0.13458163,\n",
       "       0.13458163, 0.13458163, 0.13458163, 0.13458163, 0.13458163,\n",
       "       0.13458163, 0.13458163, 0.13458163, 0.13458163, 0.13458163,\n",
       "       0.13458163, 0.13458163, 0.13458163, 0.13458163, 0.13458163,\n",
       "       0.13458163, 0.13458163, 0.13458163, 0.13458163, 0.13458163,\n",
       "       0.13458163, 0.13458163, 0.13458163, 0.13458163, 0.13458163,\n",
       "       0.13458163, 0.13458163, 0.13458163, 0.13458163, 0.13458163,\n",
       "       0.13458163, 0.13458163, 0.13458163, 0.13458163, 0.13459184,\n",
       "       0.13458163, 0.13458163, 0.13458163, 0.13458163, 0.13971429,\n",
       "       0.19752041, 0.14194898, 0.62153061, 0.84621429, 0.13458163,\n",
       "       0.13458163, 0.13458163, 0.22086735, 0.47533673, 0.30638776,\n",
       "       0.14194898, 0.62153061, 0.84621429, 0.13458163, 0.13458163,\n",
       "       0.16184694, 0.47785714, 0.48837755, 0.30638776, 0.14194898,\n",
       "       0.62153061, 0.84621429, 0.13458163, 0.16944898, 0.52169388,\n",
       "       0.60069388, 0.48837755, 0.30638776, 0.14194898, 0.62153061,\n",
       "       0.84621429])"
      ]
     },
     "execution_count": 108,
     "metadata": {},
     "output_type": "execute_result"
    }
   ],
   "source": [
    "model.best_params_\n",
    "results = model.cv_results_\n",
    "results['mean_test_score']"
   ]
  },
  {
   "cell_type": "code",
   "execution_count": 109,
   "metadata": {},
   "outputs": [],
   "source": [
    "y_pred = model.predict(standardized_data_test)"
   ]
  },
  {
   "cell_type": "markdown",
   "metadata": {},
   "source": [
    "## 8.3 Confusion Matrix"
   ]
  },
  {
   "cell_type": "code",
   "execution_count": 110,
   "metadata": {},
   "outputs": [
    {
     "name": "stdout",
     "output_type": "stream",
     "text": [
      "Confusion Matrix:\n"
     ]
    },
    {
     "data": {
      "image/png": "[encoded data removed]",
      "text/plain": [
       "<Figure size 432x288 with 2 Axes>"
      ]
     },
     "metadata": {},
     "output_type": "display_data"
    }
   ],
   "source": [
    "cm_avgw2v=confusion_matrix(y_test,y_pred)\n",
    "print(\"Confusion Matrix:\")\n",
    "sns.heatmap(cm_avgw2v, annot=True, fmt='d')\n",
    "plt.show()"
   ]
  },
  {
   "cell_type": "code",
   "execution_count": 111,
   "metadata": {},
   "outputs": [
    {
     "name": "stdout",
     "output_type": "stream",
     "text": [
      " true negitves are 340 \n",
      " false positives are 5273 \n",
      " false negatives are 1045\n",
      " true positives are 35342 \n",
      " \n"
     ]
    }
   ],
   "source": [
    "#finding out  true negative , false positive , false negative and true positve \n",
    "tn, fp, fn, tp = cm_avgw2v.ravel()\n",
    "( tp, fp, fn, tp)\n",
    "print(\" true negitves are {} \\n false positives are {} \\n false negatives are {}\\n true positives are {} \\n \".format(tn,fp,fn,tp))"
   ]
  },
  {
   "cell_type": "markdown",
   "metadata": {},
   "source": [
    "## 8.4 Calculating Accuracy,Error on test data,Precision,Recall,Classification Report"
   ]
  },
  {
   "cell_type": "code",
   "execution_count": 112,
   "metadata": {},
   "outputs": [
    {
     "name": "stdout",
     "output_type": "stream",
     "text": [
      "\n",
      "The Test Accuracy of the SVM for C and gamma = 10.000 ,10000.000 is 84.957143%\n",
      "\n",
      "Test Error of the SVM for C and gamma is  15.042857%\n",
      "\n",
      "The Test Precision of the SVM for C and gamma = 10.000 ,10000.000 is 0.870171\n",
      "\n",
      "The Test Recall of the SVM for C and gamma = 10.000 ,10000.000 is 0.971281\n",
      "\n",
      "The Test classification report of the SVM for C and gamma  is \n",
      "\n",
      "                precision    recall  f1-score   support\n",
      "\n",
      "           0       0.25      0.06      0.10      5613\n",
      "           1       0.87      0.97      0.92     36387\n",
      "\n",
      "   micro avg       0.85      0.85      0.85     42000\n",
      "   macro avg       0.56      0.52      0.51     42000\n",
      "weighted avg       0.79      0.85      0.81     42000\n",
      "\n"
     ]
    }
   ],
   "source": [
    "from sklearn.metrics import recall_score\n",
    "from sklearn.metrics import precision_score\n",
    "from sklearn.metrics import classification_report\n",
    "\n",
    "\n",
    "# evaluating accuracy\n",
    "acc_avgw2v = accuracy_score(y_test, y_pred) * 100\n",
    "print('\\nThe Test Accuracy of the SVM for C and gamma = %.3f ,%.3f is %f%%' % (optimal_C,optimal_gamma, acc_avgw2v))\n",
    "\n",
    "# Error on test data\n",
    "test_error_avgw2v = 100-acc_avgw2v\n",
    "print(\"\\nTest Error of the SVM for C and gamma is  %f%%\" % (test_error_avgw2v))\n",
    "\n",
    "# evaluating precision\n",
    "precision_score = precision_score(y_test, y_pred) \n",
    "print('\\nThe Test Precision of the SVM for C and gamma = %.3f ,%.3f is %f' % (optimal_C,optimal_gamma, precision_score))\n",
    "\n",
    "# evaluating recall\n",
    "recall_score = recall_score(y_test, y_pred)\n",
    "print('\\nThe Test Recall of the SVM for C and gamma = %.3f ,%.3f is %f' % (optimal_C,optimal_gamma, recall_score))\n",
    "\n",
    "# evaluating Classification report\n",
    "classification_report = classification_report(y_test, y_pred)\n",
    "print('\\nThe Test classification report of the SVM for C and gamma  is \\n\\n ',(classification_report))\n"
   ]
  },
  {
   "cell_type": "markdown",
   "metadata": {},
   "source": [
    "## 8.5 APPLYING RBF KERNEL BY RandomizedSearchCV "
   ]
  },
  {
   "cell_type": "code",
   "execution_count": 113,
   "metadata": {},
   "outputs": [
    {
     "name": "stdout",
     "output_type": "stream",
     "text": [
      "tunded parameters SVC(C=10, cache_size=200, class_weight='balanced', coef0=0.0,\n",
      "  decision_function_shape='ovr', degree=3, gamma=10, kernel='rbf',\n",
      "  max_iter=100, probability=False, random_state=None, shrinking=True,\n",
      "  tol=0.001, verbose=False)\n",
      "Accuracy of model using SVC classifier by rbf kernel 0.17\n"
     ]
    }
   ],
   "source": [
    "#in RBF SVC hyper parameters are C,gamma\n",
    "from sklearn.svm import SVC\n",
    "from sklearn.model_selection import RandomizedSearchCV\n",
    "\n",
    "clf=SVC(kernel='rbf',max_iter=100,class_weight='balanced')\n",
    "tuned_parameters = {'C': [10**-4,10**-3, 10**-2,10**-1, 1, 10**1,10**2,10**3, 10**4],'gamma':[10**-4,10**-3, 10**-2,10**-1, 1, 10**1,10**2,10**3, 10**4]}\n",
    "model = RandomizedSearchCV(clf, tuned_parameters,cv=3,n_jobs=-1)\n",
    "model.fit(standardized_data_train, y_train)\n",
    "print(\"tunded parameters\",model.best_estimator_)\n",
    "print(\"Accuracy of model using SVC classifier by rbf kernel {:.2f}\".format(model.score(standardized_data_test, y_test)))\n",
    "a = model.best_params_\n",
    "optimal_C = a.get('C')\n",
    "optimal_gamma=a.get('gamma')"
   ]
  },
  {
   "cell_type": "code",
   "execution_count": 114,
   "metadata": {},
   "outputs": [
    {
     "data": {
      "text/plain": [
       "array([0.13458163, 0.13458163, 0.13458163, 0.13458163, 0.13458163,\n",
       "       0.13458163, 0.13458163, 0.13458163, 0.19752041, 0.14194898])"
      ]
     },
     "execution_count": 114,
     "metadata": {},
     "output_type": "execute_result"
    }
   ],
   "source": [
    "model.best_params_\n",
    "results = model.cv_results_\n",
    "results['mean_test_score']"
   ]
  },
  {
   "cell_type": "code",
   "execution_count": 115,
   "metadata": {},
   "outputs": [],
   "source": [
    "y_pred = model.predict(standardized_data_test)"
   ]
  },
  {
   "cell_type": "markdown",
   "metadata": {},
   "source": [
    "## 8.6 Confusion Matrix"
   ]
  },
  {
   "cell_type": "code",
   "execution_count": 116,
   "metadata": {},
   "outputs": [
    {
     "name": "stdout",
     "output_type": "stream",
     "text": [
      "Confusion Matrix:\n"
     ]
    },
    {
     "data": {
      "image/png": "[encoded data removed]",
      "text/plain": [
       "<Figure size 432x288 with 2 Axes>"
      ]
     },
     "metadata": {},
     "output_type": "display_data"
    }
   ],
   "source": [
    "cm_avgw2v=confusion_matrix(y_test,y_pred)\n",
    "print(\"Confusion Matrix:\")\n",
    "sns.heatmap(cm_avgw2v, annot=True, fmt='d')\n",
    "plt.show()"
   ]
  },
  {
   "cell_type": "code",
   "execution_count": 117,
   "metadata": {},
   "outputs": [
    {
     "name": "stdout",
     "output_type": "stream",
     "text": [
      " true negitves are 5462 \n",
      " false positives are 151 \n",
      " false negatives are 34825\n",
      " true positives are 1562 \n",
      " \n"
     ]
    }
   ],
   "source": [
    "#finding out  true negative , false positive , false negative and true positve \n",
    "tn, fp, fn, tp = cm_avgw2v.ravel()\n",
    "( tp, fp, fn, tp)\n",
    "print(\" true negitves are {} \\n false positives are {} \\n false negatives are {}\\n true positives are {} \\n \".format(tn,fp,fn,tp))"
   ]
  },
  {
   "cell_type": "markdown",
   "metadata": {},
   "source": [
    "## 8.7 Calculating Accuracy,Error on test data,Precision,Recall,Classification Report"
   ]
  },
  {
   "cell_type": "code",
   "execution_count": 118,
   "metadata": {},
   "outputs": [
    {
     "name": "stdout",
     "output_type": "stream",
     "text": [
      "\n",
      "The Test Accuracy of the SVM for C and gamma = 10.000 ,10.000 is 16.723810%\n",
      "\n",
      "Test Error of the SVM for C and gamma is  83.276190%\n",
      "\n",
      "The Test Precision of the SVM for C and gamma = 10.000 ,10.000 is 0.911851\n",
      "\n",
      "The Test Recall of the SVM for C and gamma = 10.000 ,10.000 is 0.042927\n",
      "\n",
      "The Test classification report of the SVM for C and gamma \n",
      "\n",
      "                precision    recall  f1-score   support\n",
      "\n",
      "           0       0.14      0.97      0.24      5613\n",
      "           1       0.91      0.04      0.08     36387\n",
      "\n",
      "   micro avg       0.17      0.17      0.17     42000\n",
      "   macro avg       0.52      0.51      0.16     42000\n",
      "weighted avg       0.81      0.17      0.10     42000\n",
      "\n"
     ]
    }
   ],
   "source": [
    "from sklearn.metrics import recall_score\n",
    "from sklearn.metrics import precision_score\n",
    "from sklearn.metrics import classification_report\n",
    "\n",
    "\n",
    "# evaluating accuracy\n",
    "acc_avgw2v = accuracy_score(y_test, y_pred) * 100\n",
    "print('\\nThe Test Accuracy of the SVM for C and gamma = %.3f ,%.3f is %f%%' % (optimal_C,optimal_gamma, acc_avgw2v))\n",
    "\n",
    "# Error on test data\n",
    "test_error_avgw2v = 100-acc_avgw2v\n",
    "print(\"\\nTest Error of the SVM for C and gamma is  %f%%\" % (test_error_avgw2v))\n",
    "\n",
    "# evaluating precision\n",
    "precision_score = precision_score(y_test, y_pred) \n",
    "print('\\nThe Test Precision of the SVM for C and gamma = %.3f ,%.3f is %f' % (optimal_C,optimal_gamma, precision_score))\n",
    "\n",
    "# evaluating recall\n",
    "recall_score = recall_score(y_test, y_pred)\n",
    "print('\\nThe Test Recall of the SVM for C and gamma = %.3f ,%.3f is %f' % (optimal_C,optimal_gamma, recall_score))\n",
    "\n",
    "# evaluating Classification report\n",
    "classification_report = classification_report(y_test, y_pred)\n",
    "print('\\nThe Test classification report of the SVM for C and gamma \\n\\n ',(classification_report))"
   ]
  },
  {
   "cell_type": "markdown",
   "metadata": {},
   "source": [
    "## 9. TFIDF-Word2Vec"
   ]
  },
  {
   "cell_type": "code",
   "execution_count": 119,
   "metadata": {},
   "outputs": [
    {
     "name": "stdout",
     "output_type": "stream",
     "text": [
      "<class 'scipy.sparse.csr.csr_matrix'>\n",
      "(98000, 36949)\n",
      "<class 'scipy.sparse.csr.csr_matrix'>\n",
      "(42000, 36949)\n"
     ]
    }
   ],
   "source": [
    "#tf-idf weighted w2v\n",
    "\n",
    "from sklearn.feature_extraction.text import TfidfVectorizer\n",
    "\n",
    "tfidfw2v_vect = TfidfVectorizer()\n",
    "final_counts_tfidfw2v_train= tfidfw2v_vect.fit_transform(x_train) \n",
    "print(type(final_counts_tfidfw2v_train))\n",
    "print(final_counts_tfidfw2v_train.shape)\n",
    "\n",
    "final_counts_tfidfw2v_test= tfidfw2v_vect.transform(x_test) \n",
    "print(type(final_counts_tfidfw2v_test))\n",
    "print(final_counts_tfidfw2v_test.shape)"
   ]
  },
  {
   "cell_type": "code",
   "execution_count": 120,
   "metadata": {},
   "outputs": [
    {
     "name": "stdout",
     "output_type": "stream",
     "text": [
      "98000\n",
      "42000\n"
     ]
    }
   ],
   "source": [
    "# we are converting a dictionary with word as a key, and the idf as a value\n",
    "dictionary = dict(zip(tfidfw2v_vect.get_feature_names(), list(tfidfw2v_vect.idf_)))\n",
    "\n",
    "\n",
    "# TF-IDF weighted Word2Vec\n",
    "tfidf_feat = tfidfw2v_vect.get_feature_names() # tfidf words/col-names\n",
    "# final_tf_idf is the sparse matrix with row= sentence, col=word and cell_val = tfidf\n",
    "\n",
    "tfidf_sent_vectors = []; # the tfidf-w2v for each sentence/review is stored in this list\n",
    "row=0;\n",
    "for sent in sent_of_train: # for each review/sentence \n",
    "    sent_vec = np.zeros(50) # as word vectors are of zero length\n",
    "    weight_sum =0; # num of words with a valid vector in the sentence/review\n",
    "    for word in sent: # for each word in a review/sentence\n",
    "        if word in w2v_words:\n",
    "            vec = w2v_model.wv[word]\n",
    "#             tf_idf = tf_idf_matrix[row, tfidf_feat.index(word)]\n",
    "            # to reduce the computation we are \n",
    "            # dictionary[word] = idf value of word in whole courpus\n",
    "            # sent.count(word) = tf valeus of word in this review\n",
    "            tf_idf = dictionary[word]*(sent.count(word)/len(sent))\n",
    "            sent_vec += (vec * tf_idf)\n",
    "            weight_sum += tf_idf\n",
    "    if weight_sum != 0:\n",
    "        sent_vec /= weight_sum\n",
    "    tfidf_sent_vectors.append(sent_vec)\n",
    "    row += 1\n",
    "\n",
    "#Test case\n",
    "\n",
    "tfidf_sent_vectors1 = []; # the tfidf-w2v for each sentence/review is stored in this list\n",
    "row=0;\n",
    "for sent in sent_of_test: # for each review/sentence \n",
    "    sent_vec = np.zeros(50) # as word vectors are of zero length\n",
    "    weight_sum =0; # num of words with a valid vector in the sentence/review\n",
    "    for word in sent: # for each word in a review/sentence\n",
    "        if word in w2v_words:\n",
    "            vec = w2v_model.wv[word]\n",
    "#             tf_idf = tf_idf_matrix[row, tfidf_feat.index(word)]\n",
    "            # to reduce the computation we are \n",
    "            # dictionary[word] = idf value of word in whole courpus\n",
    "            # sent.count(word) = tf valeus of word in this review\n",
    "            tf_idf = dictionary[word]*(sent.count(word)/len(sent))\n",
    "            sent_vec += (vec * tf_idf)\n",
    "            weight_sum += tf_idf\n",
    "    if weight_sum != 0:\n",
    "        sent_vec /= weight_sum\n",
    "    tfidf_sent_vectors1.append(sent_vec)\n",
    "    row += 1\n",
    "print(len(tfidf_sent_vectors))\n",
    "print(len(tfidf_sent_vectors1))"
   ]
  },
  {
   "cell_type": "markdown",
   "metadata": {},
   "source": [
    "## 9.1 Normalizing the data"
   ]
  },
  {
   "cell_type": "code",
   "execution_count": 121,
   "metadata": {},
   "outputs": [
    {
     "name": "stdout",
     "output_type": "stream",
     "text": [
      "(98000, 50)\n",
      "(42000, 50)\n"
     ]
    }
   ],
   "source": [
    "# Data-preprocessing: Normalizing the data\n",
    "\n",
    "from sklearn import preprocessing\n",
    "standardized_data_train = preprocessing.normalize(tfidf_sent_vectors)\n",
    "print(standardized_data_train.shape)\n",
    "standardized_data_test = preprocessing.normalize(tfidf_sent_vectors1)\n",
    "print(standardized_data_test.shape)\n"
   ]
  },
  {
   "cell_type": "markdown",
   "metadata": {},
   "source": [
    "## 9.2 Applying SGD Classifier Using GridSearch\n"
   ]
  },
  {
   "cell_type": "code",
   "execution_count": 122,
   "metadata": {},
   "outputs": [
    {
     "name": "stdout",
     "output_type": "stream",
     "text": [
      "best alpha value is SGDClassifier(alpha=10, average=False, class_weight='balanced',\n",
      "       early_stopping=False, epsilon=0.1, eta0=0.0, fit_intercept=True,\n",
      "       l1_ratio=0.15, learning_rate='optimal', loss='hinge', max_iter=100,\n",
      "       n_iter=None, n_iter_no_change=5, n_jobs=None, penalty='l2',\n",
      "       power_t=0.5, random_state=None, shuffle=True, tol=None,\n",
      "       validation_fraction=0.1, verbose=0, warm_start=False)\n",
      "Accuracy of the model : 0.93\n"
     ]
    }
   ],
   "source": [
    "from sklearn import linear_model\n",
    "clf=linear_model.SGDClassifier(loss='hinge',penalty='l2',max_iter=100,class_weight='balanced')\n",
    "tuned_parameters = {'alpha': [0.001, 0.01, 0.1, 1, 10]}\n",
    "\n",
    "model = GridSearchCV(clf, tuned_parameters,cv=3,scoring='f1', n_jobs=-1,pre_dispatch=2)\n",
    "model.fit(standardized_data_train, y_train)\n",
    "print(\"best alpha value is\",model.best_estimator_)\n",
    "optimal_alpha = model.best_estimator_.alpha\n",
    "print(\"Accuracy of the model : {:.2f}\".format(model.score(standardized_data_test, y_test)))\n",
    "a = model.best_params_\n",
    "optimal_alpha = a.get('alpha')\n"
   ]
  },
  {
   "cell_type": "code",
   "execution_count": 123,
   "metadata": {},
   "outputs": [
    {
     "data": {
      "text/plain": [
       "array([0.86897213, 0.8656872 , 0.75748986, 0.61855987, 0.91928743])"
      ]
     },
     "execution_count": 123,
     "metadata": {},
     "output_type": "execute_result"
    }
   ],
   "source": [
    "model.best_params_\n",
    "results = model.cv_results_\n",
    "results['mean_test_score']"
   ]
  },
  {
   "cell_type": "code",
   "execution_count": 124,
   "metadata": {},
   "outputs": [
    {
     "data": {
      "image/png": "[encoded data removed]",
      "text/plain": [
       "<Figure size 432x288 with 1 Axes>"
      ]
     },
     "metadata": {},
     "output_type": "display_data"
    }
   ],
   "source": [
    "C=0.001, 0.01, 0.1, 1, 10\n",
    "plt.plot(C,results['mean_test_score'],marker='o')\n",
    "plt.xlabel('C')\n",
    "plt.ylabel('f1score')\n",
    "plt.title(\"F1score vs hyperparameter C\")\n",
    "plt.grid()\n",
    "plt.show()"
   ]
  },
  {
   "cell_type": "code",
   "execution_count": 125,
   "metadata": {},
   "outputs": [],
   "source": [
    "clf = linear_model.SGDClassifier(loss='hinge',alpha=optimal_alpha,class_weight='balanced')\n",
    "clf.fit(standardized_data_train,y_train)\n",
    "y_pred = clf.predict(standardized_data_test)"
   ]
  },
  {
   "cell_type": "markdown",
   "metadata": {},
   "source": [
    "## 9.3 Confusion Matrix"
   ]
  },
  {
   "cell_type": "code",
   "execution_count": 126,
   "metadata": {},
   "outputs": [
    {
     "name": "stdout",
     "output_type": "stream",
     "text": [
      "Confusion Matrix:\n"
     ]
    },
    {
     "data": {
      "image/png": "[encoded data removed]",
      "text/plain": [
       "<Figure size 432x288 with 2 Axes>"
      ]
     },
     "metadata": {},
     "output_type": "display_data"
    }
   ],
   "source": [
    "cm_tfidfw2v=confusion_matrix(y_test,y_pred)\n",
    "print(\"Confusion Matrix:\")\n",
    "sns.heatmap(cm_tfidfw2v, annot=True, fmt='d')\n",
    "plt.show()"
   ]
  },
  {
   "cell_type": "code",
   "execution_count": 127,
   "metadata": {},
   "outputs": [
    {
     "name": "stdout",
     "output_type": "stream",
     "text": [
      " true negitves are 0 \n",
      " false positives are 5613 \n",
      " false negatives are 0\n",
      " true positives are 36387 \n",
      " \n"
     ]
    }
   ],
   "source": [
    "#finding out  true negative , false positive , false negative and true positve \n",
    "tn, fp, fn, tp = cm_tfidfw2v.ravel()\n",
    "( tp, fp, fn, tp)\n",
    "print(\" true negitves are {} \\n false positives are {} \\n false negatives are {}\\n true positives are {} \\n \".format(tn,fp,fn,tp))"
   ]
  },
  {
   "cell_type": "markdown",
   "metadata": {},
   "source": [
    "## 9.4 Calculating Accuracy,Error on test data,Precision,Recall,Classification Report"
   ]
  },
  {
   "cell_type": "code",
   "execution_count": 128,
   "metadata": {},
   "outputs": [
    {
     "name": "stdout",
     "output_type": "stream",
     "text": [
      "\n",
      "The Test Accuracy of the SVM for alpha = 10.000 is 86.635714%\n",
      "\n",
      "Test Error of the SVM for alpha is  13.364286%\n",
      "\n",
      "The Test Precision of the SVM for alpha is = 10.000 is 0.866357\n",
      "\n",
      "The Test Recall of the SVM for alpha is = 10.000 is 1.000000\n",
      "\n",
      "The Test classification report of the SVM for alpha is \n",
      "\n",
      "                precision    recall  f1-score   support\n",
      "\n",
      "           0       0.00      0.00      0.00      5613\n",
      "           1       0.87      1.00      0.93     36387\n",
      "\n",
      "   micro avg       0.87      0.87      0.87     42000\n",
      "   macro avg       0.43      0.50      0.46     42000\n",
      "weighted avg       0.75      0.87      0.80     42000\n",
      "\n"
     ]
    }
   ],
   "source": [
    "from sklearn.metrics import recall_score\n",
    "from sklearn.metrics import precision_score\n",
    "from sklearn.metrics import classification_report\n",
    "\n",
    "\n",
    "# evaluating accuracy\n",
    "acc_tfidfw2v = accuracy_score(y_test, y_pred) * 100\n",
    "print('\\nThe Test Accuracy of the SVM for alpha = %.3f is %f%%' % (optimal_alpha, acc_tfidfw2v))\n",
    "\n",
    "# Error on test data\n",
    "test_error_tfidfw2v = 100-acc_tfidfw2v\n",
    "print(\"\\nTest Error of the SVM for alpha is  %f%%\" % (test_error_tfidfw2v))\n",
    "\n",
    "# evaluating precision\n",
    "precision_score = precision_score(y_test, y_pred) \n",
    "print('\\nThe Test Precision of the SVM for alpha is = %.3f is %f' % (optimal_alpha, precision_score))\n",
    "\n",
    "# evaluating recall\n",
    "recall_score = recall_score(y_test, y_pred)\n",
    "print('\\nThe Test Recall of the SVM for alpha is = %.3f is %f' % (optimal_alpha, recall_score))\n",
    "\n",
    "# evaluating Classification report\n",
    "classification_report = classification_report(y_test, y_pred)\n",
    "print('\\nThe Test classification report of the SVM for alpha is \\n\\n ',(classification_report))"
   ]
  },
  {
   "cell_type": "markdown",
   "metadata": {},
   "source": [
    "## Evaluating roc_auc_score"
   ]
  },
  {
   "cell_type": "code",
   "execution_count": 129,
   "metadata": {},
   "outputs": [
    {
     "data": {
      "image/png": "[encoded data removed]",
      "text/plain": [
       "<Figure size 432x288 with 1 Axes>"
      ]
     },
     "metadata": {},
     "output_type": "display_data"
    }
   ],
   "source": [
    "from sklearn.calibration import CalibratedClassifierCV\n",
    "calibrated = CalibratedClassifierCV(model, method='sigmoid', cv=3)\n",
    "calibrated.fit(standardized_data_train, y_train)\n",
    "y_pred_proba = calibrated.predict_proba(standardized_data_test)[::,1]\n",
    "fpr, tpr, _ = metrics.roc_curve(y_test,  y_pred_proba)\n",
    "auc = metrics.roc_auc_score(y_test, y_pred_proba)\n",
    "plt.plot(fpr,tpr,label=\"tfidfw2vec, AUC=\"+str(auc))\n",
    "plt.plot([0,1],[0,1],'r--')\n",
    "plt.title('ROC curve: SVM')\n",
    "plt.legend(loc='lower right')\n",
    "plt.ylabel('True Positive Rate')\n",
    "plt.xlabel('False Positive Rate')\n",
    "plt.show()"
   ]
  },
  {
   "cell_type": "markdown",
   "metadata": {},
   "source": [
    "## 9.5 Applying SGD Classifier Using RandomizedSearchCV"
   ]
  },
  {
   "cell_type": "code",
   "execution_count": 130,
   "metadata": {},
   "outputs": [
    {
     "name": "stdout",
     "output_type": "stream",
     "text": [
      "best alpha value is SGDClassifier(alpha=0.1, average=False, class_weight='balanced',\n",
      "       early_stopping=False, epsilon=0.1, eta0=0.0, fit_intercept=True,\n",
      "       l1_ratio=0.15, learning_rate='optimal', loss='hinge', max_iter=100,\n",
      "       n_iter=None, n_iter_no_change=5, n_jobs=None, penalty='l2',\n",
      "       power_t=0.5, random_state=None, shuffle=True, tol=None,\n",
      "       validation_fraction=0.1, verbose=0, warm_start=False)\n",
      "Accuracy of the model : 0.44\n"
     ]
    }
   ],
   "source": [
    "from sklearn import linear_model\n",
    "from sklearn.model_selection import RandomizedSearchCV\n",
    "\n",
    "clf=linear_model.SGDClassifier(loss='hinge',penalty='l2',max_iter=100,class_weight='balanced')\n",
    "tuned_parameters = {'alpha': [0.001, 0.01, 0.1, 1, 10]}\n",
    "\n",
    "model = RandomizedSearchCV(clf, tuned_parameters,cv=3,scoring='f1', n_jobs=-1,pre_dispatch=2)\n",
    "model.fit(standardized_data_train, y_train)\n",
    "print(\"best alpha value is\",model.best_estimator_)\n",
    "optimal_alpha = model.best_estimator_.alpha\n",
    "print(\"Accuracy of the model : {:.2f}\".format(model.score(standardized_data_test, y_test)))\n",
    "a = model.best_params_\n",
    "optimal_alpha = a.get('alpha')"
   ]
  },
  {
   "cell_type": "code",
   "execution_count": 131,
   "metadata": {},
   "outputs": [
    {
     "data": {
      "text/plain": [
       "array([0.86976873, 0.8658434 , 0.87406185, 0.61857452, 0.61857452])"
      ]
     },
     "execution_count": 131,
     "metadata": {},
     "output_type": "execute_result"
    }
   ],
   "source": [
    "model.best_params_\n",
    "results = model.cv_results_\n",
    "results['mean_test_score']"
   ]
  },
  {
   "cell_type": "code",
   "execution_count": 132,
   "metadata": {},
   "outputs": [
    {
     "data": {
      "image/png": "[encoded data removed]",
      "text/plain": [
       "<Figure size 432x288 with 1 Axes>"
      ]
     },
     "metadata": {},
     "output_type": "display_data"
    }
   ],
   "source": [
    "C=0.001, 0.01, 0.1, 1, 10\n",
    "plt.plot(C,results['mean_test_score'],marker='o')\n",
    "plt.xlabel('C')\n",
    "plt.ylabel('f1score')\n",
    "plt.title(\"F1score vs hyperparameter C\")\n",
    "plt.grid()\n",
    "plt.show()"
   ]
  },
  {
   "cell_type": "code",
   "execution_count": 133,
   "metadata": {},
   "outputs": [],
   "source": [
    "clf = linear_model.SGDClassifier(loss='hinge',alpha=optimal_alpha,class_weight='balanced')\n",
    "clf.fit(standardized_data_train,y_train)\n",
    "y_pred = clf.predict(standardized_data_test)"
   ]
  },
  {
   "cell_type": "markdown",
   "metadata": {},
   "source": [
    "## 9.6 Confusion Matrix"
   ]
  },
  {
   "cell_type": "code",
   "execution_count": 134,
   "metadata": {},
   "outputs": [
    {
     "name": "stdout",
     "output_type": "stream",
     "text": [
      "Confusion Matrix:\n"
     ]
    },
    {
     "data": {
      "image/png": "[encoded data removed]",
      "text/plain": [
       "<Figure size 432x288 with 2 Axes>"
      ]
     },
     "metadata": {},
     "output_type": "display_data"
    }
   ],
   "source": [
    "cm_tfidfw2v=confusion_matrix(y_test,y_pred)\n",
    "print(\"Confusion Matrix:\")\n",
    "sns.heatmap(cm_tfidfw2v, annot=True, fmt='d')\n",
    "plt.show()"
   ]
  },
  {
   "cell_type": "code",
   "execution_count": 135,
   "metadata": {},
   "outputs": [
    {
     "name": "stdout",
     "output_type": "stream",
     "text": [
      " true negitves are 5154 \n",
      " false positives are 459 \n",
      " false negatives are 18905\n",
      " true positives are 17482 \n",
      " \n"
     ]
    }
   ],
   "source": [
    "#finding out  true negative , false positive , false negative and true positve \n",
    "tn, fp, fn, tp = cm_tfidfw2v.ravel()\n",
    "( tp, fp, fn, tp)\n",
    "print(\" true negitves are {} \\n false positives are {} \\n false negatives are {}\\n true positives are {} \\n \".format(tn,fp,fn,tp))"
   ]
  },
  {
   "cell_type": "markdown",
   "metadata": {},
   "source": [
    "## 9.7 Calculating Accuracy,Error on test data,Precision,Recall,Classification Report"
   ]
  },
  {
   "cell_type": "code",
   "execution_count": 136,
   "metadata": {},
   "outputs": [
    {
     "name": "stdout",
     "output_type": "stream",
     "text": [
      "\n",
      "The Test Accuracy of the SVM classifier for alpha = 0.100 is 53.895238%\n",
      "\n",
      "Test Error of the SVM for alpha is  46.104762%\n",
      "\n",
      "The Test Precision of the SVM for alpha is = 0.100 is 0.974416\n",
      "\n",
      "The Test Recall of the SVM for alpha is = 0.100 is 0.480446\n",
      "\n",
      "The Test classification report of the SVM for alpha is \n",
      "\n",
      "                precision    recall  f1-score   support\n",
      "\n",
      "           0       0.21      0.92      0.35      5613\n",
      "           1       0.97      0.48      0.64     36387\n",
      "\n",
      "   micro avg       0.54      0.54      0.54     42000\n",
      "   macro avg       0.59      0.70      0.50     42000\n",
      "weighted avg       0.87      0.54      0.60     42000\n",
      "\n"
     ]
    }
   ],
   "source": [
    "from sklearn.metrics import recall_score\n",
    "from sklearn.metrics import precision_score\n",
    "from sklearn.metrics import classification_report\n",
    "\n",
    "\n",
    "# evaluating accuracy\n",
    "acc_tfidfw2v = accuracy_score(y_test, y_pred) * 100\n",
    "print('\\nThe Test Accuracy of the SVM classifier for alpha = %.3f is %f%%' % (optimal_alpha, acc_tfidfw2v))\n",
    "\n",
    "# Error on test data\n",
    "test_error_tfidfw2v = 100-acc_tfidfw2v\n",
    "print(\"\\nTest Error of the SVM for alpha is  %f%%\" % (test_error_tfidfw2v))\n",
    "\n",
    "# evaluating precision\n",
    "precision_score = precision_score(y_test, y_pred) \n",
    "print('\\nThe Test Precision of the SVM for alpha is = %.3f is %f' % (optimal_alpha, precision_score))\n",
    "\n",
    "# evaluating recall\n",
    "recall_score = recall_score(y_test, y_pred)\n",
    "print('\\nThe Test Recall of the SVM for alpha is = %.3f is %f' % (optimal_alpha, recall_score))\n",
    "\n",
    "# evaluating Classification report\n",
    "classification_report = classification_report(y_test, y_pred)\n",
    "print('\\nThe Test classification report of the SVM for alpha is \\n\\n ',(classification_report))"
   ]
  },
  {
   "cell_type": "markdown",
   "metadata": {},
   "source": [
    "## Evaluating Roc_auc_score"
   ]
  },
  {
   "cell_type": "code",
   "execution_count": 137,
   "metadata": {},
   "outputs": [
    {
     "data": {
      "image/png": "[encoded data removed]",
      "text/plain": [
       "<Figure size 432x288 with 1 Axes>"
      ]
     },
     "metadata": {},
     "output_type": "display_data"
    }
   ],
   "source": [
    "from sklearn.calibration import CalibratedClassifierCV\n",
    "calibrated = CalibratedClassifierCV(model, method='sigmoid', cv=3)\n",
    "calibrated.fit(standardized_data_train, y_train)\n",
    "y_pred_proba = calibrated.predict_proba(standardized_data_test)[::,1]\n",
    "fpr, tpr, _ = metrics.roc_curve(y_test,  y_pred_proba)\n",
    "auc = metrics.roc_auc_score(y_test, y_pred_proba)\n",
    "plt.plot(fpr,tpr,label=\"tfidfw2vec, AUC=\"+str(auc))\n",
    "plt.plot([0,1],[0,1],'r--')\n",
    "plt.title('ROC curve: SVM')\n",
    "plt.legend(loc='lower right')\n",
    "plt.ylabel('True Positive Rate')\n",
    "plt.xlabel('False Positive Rate')\n",
    "plt.show()"
   ]
  },
  {
   "cell_type": "markdown",
   "metadata": {},
   "source": [
    "## 10. APPLYING RBF KERNEL BY GRID SEARCH"
   ]
  },
  {
   "cell_type": "markdown",
   "metadata": {},
   "source": [
    "## 10.1 Gridsearch Cross Validation"
   ]
  },
  {
   "cell_type": "code",
   "execution_count": 138,
   "metadata": {},
   "outputs": [
    {
     "name": "stdout",
     "output_type": "stream",
     "text": [
      "(98000, 50)\n"
     ]
    },
    {
     "data": {
      "image/png": "[encoded data removed]",
      "text/plain": [
       "<Figure size 432x288 with 1 Axes>"
      ]
     },
     "metadata": {},
     "output_type": "display_data"
    }
   ],
   "source": [
    "# PCA for dimensionality redcution (non-visualization)\n",
    "# initializing the pca\n",
    "from scipy.sparse import csr_matrix\n",
    "from sklearn import decomposition\n",
    "pca = decomposition.PCA()\n",
    "\n",
    "standardized_data_train = csr_matrix(standardized_data_train)\n",
    "standardized_data_train=standardized_data_train.todense()\n",
    "print(standardized_data_train.shape)\n",
    "\n",
    "pca.n_components = 12\n",
    "pca_data = pca.fit_transform(standardized_data_train)\n",
    "\n",
    "percentage_var_explained = pca.explained_variance_ / np.sum(pca.explained_variance_);\n",
    "\n",
    "cum_var_explained = np.cumsum(percentage_var_explained)\n",
    "\n",
    "# Plot the PCA spectrum\n",
    "plt.figure(1, figsize=(6, 4))\n",
    "\n",
    "plt.clf()\n",
    "plt.plot(cum_var_explained, linewidth=2)\n",
    "plt.axis('tight')\n",
    "plt.grid()\n",
    "plt.xlabel('n_components')\n",
    "plt.ylabel('Cumulative_explained_variance')\n",
    "plt.show()\n",
    "\n",
    "\n",
    "# If we take 9-dimensions, approx. 90% of variance is expalined."
   ]
  },
  {
   "cell_type": "code",
   "execution_count": 139,
   "metadata": {},
   "outputs": [],
   "source": [
    "from sklearn.decomposition import TruncatedSVD\n",
    "final_counts_tfidf_w2v_svd = TruncatedSVD(n_components=9).fit_transform(tfidf_sent_vectors)\n",
    "final_counts_tfidf_w2v_svd1 = TruncatedSVD(n_components=9).fit_transform(tfidf_sent_vectors1)"
   ]
  },
  {
   "cell_type": "markdown",
   "metadata": {},
   "source": [
    "## 10.2 Normalizing the data"
   ]
  },
  {
   "cell_type": "code",
   "execution_count": 140,
   "metadata": {},
   "outputs": [
    {
     "name": "stdout",
     "output_type": "stream",
     "text": [
      "(98000, 9)\n",
      "(42000, 9)\n"
     ]
    }
   ],
   "source": [
    "# Data-preprocessing: Normalizing the data\n",
    "\n",
    "from sklearn import preprocessing\n",
    "standardized_data_train = preprocessing.normalize(final_counts_tfidf_w2v_svd)\n",
    "print(standardized_data_train.shape)\n",
    "standardized_data_test = preprocessing.normalize(final_counts_tfidf_w2v_svd1)\n",
    "print(standardized_data_test.shape)"
   ]
  },
  {
   "cell_type": "code",
   "execution_count": 141,
   "metadata": {},
   "outputs": [
    {
     "name": "stdout",
     "output_type": "stream",
     "text": [
      "tunded parameters SVC(C=10, cache_size=200, class_weight='balanced', coef0=0.0,\n",
      "  decision_function_shape='ovr', degree=3, gamma=10000, kernel='rbf',\n",
      "  max_iter=100, probability=False, random_state=None, shrinking=True,\n",
      "  tol=0.001, verbose=False)\n",
      "Accuracy of model using SVC classifier by rbf kernel 0.86\n"
     ]
    }
   ],
   "source": [
    "#in RBF SVC hyper parameters are C,gamma \n",
    "from sklearn.svm import SVC\n",
    "clf=SVC(kernel='rbf',max_iter=100,class_weight='balanced')\n",
    "tuned_parameters = {'C': [10**-4,10**-3, 10**-2,10**-1, 1, 10**1,10**2,10**3, 10**4],'gamma':[10**-4,10**-3, 10**-2,10**-1, 1, 10**1,10**2,10**3, 10**4]}\n",
    "model = GridSearchCV(clf, tuned_parameters,cv=3,n_jobs=-1)\n",
    "model.fit(standardized_data_train, y_train)\n",
    "print(\"tunded parameters\",model.best_estimator_)\n",
    "print(\"Accuracy of model using SVC classifier by rbf kernel {:.2f}\".format(model.score(standardized_data_test, y_test)))\n",
    "a = model.best_params_\n",
    "optimal_C = a.get('C')\n",
    "optimal_gamma=a.get('gamma')\n"
   ]
  },
  {
   "cell_type": "code",
   "execution_count": 142,
   "metadata": {},
   "outputs": [
    {
     "data": {
      "text/plain": [
       "array([0.13458163, 0.13458163, 0.13458163, 0.13458163, 0.13458163,\n",
       "       0.13458163, 0.13458163, 0.13458163, 0.13458163, 0.13458163,\n",
       "       0.13458163, 0.13458163, 0.13458163, 0.13458163, 0.13458163,\n",
       "       0.13458163, 0.13458163, 0.13458163, 0.13458163, 0.13458163,\n",
       "       0.13458163, 0.13458163, 0.13458163, 0.13458163, 0.13458163,\n",
       "       0.13458163, 0.13458163, 0.13458163, 0.13458163, 0.13458163,\n",
       "       0.13458163, 0.13458163, 0.13458163, 0.13458163, 0.13458163,\n",
       "       0.13458163, 0.13458163, 0.13458163, 0.13458163, 0.13458163,\n",
       "       0.13458163, 0.13458163, 0.13459184, 0.13459184, 0.13459184,\n",
       "       0.13458163, 0.13458163, 0.13458163, 0.13458163, 0.137     ,\n",
       "       0.17482653, 0.38171429, 0.38006122, 0.82792857, 0.13458163,\n",
       "       0.13458163, 0.13458163, 0.14910204, 0.39130612, 0.40759184,\n",
       "       0.38171429, 0.38006122, 0.82792857, 0.13458163, 0.13458163,\n",
       "       0.15427551, 0.51593878, 0.35911224, 0.40759184, 0.38171429,\n",
       "       0.38006122, 0.82792857, 0.13458163, 0.27632653, 0.5332551 ,\n",
       "       0.54715306, 0.35911224, 0.40759184, 0.38171429, 0.38006122,\n",
       "       0.82792857])"
      ]
     },
     "execution_count": 142,
     "metadata": {},
     "output_type": "execute_result"
    }
   ],
   "source": [
    "model.best_params_\n",
    "results = model.cv_results_\n",
    "results['mean_test_score']"
   ]
  },
  {
   "cell_type": "code",
   "execution_count": 143,
   "metadata": {},
   "outputs": [],
   "source": [
    "y_pred = model.predict(standardized_data_test)"
   ]
  },
  {
   "cell_type": "markdown",
   "metadata": {},
   "source": [
    "## 10.3 Confusion Matrix"
   ]
  },
  {
   "cell_type": "code",
   "execution_count": 144,
   "metadata": {},
   "outputs": [
    {
     "name": "stdout",
     "output_type": "stream",
     "text": [
      "Confusion Matrix:\n"
     ]
    },
    {
     "data": {
      "image/png": "[encoded data removed]",
      "text/plain": [
       "<Figure size 432x288 with 2 Axes>"
      ]
     },
     "metadata": {},
     "output_type": "display_data"
    }
   ],
   "source": [
    "cm_tfidfw2v=confusion_matrix(y_test,y_pred)\n",
    "print(\"Confusion Matrix:\")\n",
    "sns.heatmap(cm_tfidfw2v, annot=True, fmt='d')\n",
    "plt.show()"
   ]
  },
  {
   "cell_type": "code",
   "execution_count": 145,
   "metadata": {},
   "outputs": [
    {
     "name": "stdout",
     "output_type": "stream",
     "text": [
      " true negitves are 36 \n",
      " false positives are 5577 \n",
      " false negatives are 456\n",
      " true positives are 35931 \n",
      " \n"
     ]
    }
   ],
   "source": [
    "#finding out  true negative , false positive , false negative and true positve \n",
    "tn, fp, fn, tp = cm_tfidfw2v.ravel()\n",
    "( tp, fp, fn, tp)\n",
    "print(\" true negitves are {} \\n false positives are {} \\n false negatives are {}\\n true positives are {} \\n \".format(tn,fp,fn,tp))"
   ]
  },
  {
   "cell_type": "markdown",
   "metadata": {},
   "source": [
    "## 10.4 Calculating Accuracy, Error on test data,Precision,Recall,Classification Report"
   ]
  },
  {
   "cell_type": "code",
   "execution_count": 146,
   "metadata": {},
   "outputs": [
    {
     "name": "stdout",
     "output_type": "stream",
     "text": [
      "\n",
      "The Test Accuracy of the  SVM using RBF kernel for C and gamma = 10.000 ,10000.000 is 85.635714%\n",
      "\n",
      "Test Error  of the  SVM using RBF kernel for C and gamma =   14.364286%\n",
      "\n",
      "The Test Precision of the  SVM using RBF kernel for C and gamma = 10.000 ,10000.000 is 0.865640\n",
      "\n",
      "The Test Recall of the  SVM using RBF kernel for C and gamma = 10.000 ,10000.000 is 0.987468\n",
      "\n",
      "The Test classification report of the  SVM using RBF kernel for alpha \n",
      "\n",
      "                precision    recall  f1-score   support\n",
      "\n",
      "           0       0.07      0.01      0.01      5613\n",
      "           1       0.87      0.99      0.92     36387\n",
      "\n",
      "   micro avg       0.86      0.86      0.86     42000\n",
      "   macro avg       0.47      0.50      0.47     42000\n",
      "weighted avg       0.76      0.86      0.80     42000\n",
      "\n"
     ]
    }
   ],
   "source": [
    "from sklearn.metrics import recall_score\n",
    "from sklearn.metrics import precision_score\n",
    "from sklearn.metrics import classification_report\n",
    "\n",
    "\n",
    "# evaluating accuracy\n",
    "acc_tfidfw2v = accuracy_score(y_test, y_pred) * 100\n",
    "print('\\nThe Test Accuracy of the  SVM using RBF kernel for C and gamma = %.3f ,%.3f is %f%%' % (optimal_C,optimal_gamma, acc_tfidfw2v))\n",
    "\n",
    "# Error on test data\n",
    "test_error_tfidfw2v = 100-acc_tfidfw2v\n",
    "print(\"\\nTest Error  of the  SVM using RBF kernel for C and gamma =   %f%%\" % (test_error_tfidfw2v))\n",
    "\n",
    "# evaluating precision\n",
    "precision_score = precision_score(y_test, y_pred) \n",
    "print('\\nThe Test Precision of the  SVM using RBF kernel for C and gamma = %.3f ,%.3f is %f' % (optimal_C,optimal_gamma, precision_score))\n",
    "\n",
    "# evaluating recall\n",
    "recall_score = recall_score(y_test, y_pred)\n",
    "print('\\nThe Test Recall of the  SVM using RBF kernel for C and gamma = %.3f ,%.3f is %f' % (optimal_C,optimal_gamma, recall_score))\n",
    "\n",
    "# evaluating Classification report\n",
    "classification_report = classification_report(y_test, y_pred)\n",
    "print('\\nThe Test classification report of the  SVM using RBF kernel for alpha \\n\\n ',(classification_report))"
   ]
  },
  {
   "cell_type": "markdown",
   "metadata": {},
   "source": [
    "## 10.5 APPLYING RBF KERNEL BY RandomizedSearchCV"
   ]
  },
  {
   "cell_type": "code",
   "execution_count": 147,
   "metadata": {},
   "outputs": [
    {
     "name": "stdout",
     "output_type": "stream",
     "text": [
      "tunded parameters SVC(C=100, cache_size=200, class_weight='balanced', coef0=0.0,\n",
      "  decision_function_shape='ovr', degree=3, gamma=10, kernel='rbf',\n",
      "  max_iter=100, probability=False, random_state=None, shrinking=True,\n",
      "  tol=0.001, verbose=False)\n",
      "Accuracy of model using SVC classifier by rbf kernel 0.74\n"
     ]
    }
   ],
   "source": [
    "#in RBF SVC hyper parameters are C,gamma \n",
    "from sklearn.svm import SVC\n",
    "from sklearn.model_selection import RandomizedSearchCV\n",
    "\n",
    "\n",
    "clf=SVC(kernel='rbf',max_iter=100,class_weight='balanced')\n",
    "tuned_parameters = {'C': [10**-4,10**-3, 10**-2,10**-1, 1, 10**1,10**2,10**3, 10**4],'gamma':[10**-4,10**-3, 10**-2,10**-1, 1, 10**1,10**2,10**3, 10**4]}\n",
    "model = RandomizedSearchCV(clf, tuned_parameters,cv=3,n_jobs=-1)\n",
    "model.fit(standardized_data_train, y_train)\n",
    "print(\"tunded parameters\",model.best_estimator_)\n",
    "print(\"Accuracy of model using SVC classifier by rbf kernel {:.2f}\".format(model.score(standardized_data_test, y_test)))\n",
    "a = model.best_params_\n",
    "optimal_C = a.get('C')\n",
    "optimal_gamma=a.get('gamma')"
   ]
  },
  {
   "cell_type": "code",
   "execution_count": 148,
   "metadata": {},
   "outputs": [
    {
     "data": {
      "text/plain": [
       "array([0.13458163, 0.13458163, 0.40759184, 0.13458163, 0.13459184,\n",
       "       0.13458163, 0.13458163, 0.13458163, 0.13458163, 0.13458163])"
      ]
     },
     "execution_count": 148,
     "metadata": {},
     "output_type": "execute_result"
    }
   ],
   "source": [
    "model.best_params_\n",
    "results = model.cv_results_\n",
    "results['mean_test_score']"
   ]
  },
  {
   "cell_type": "code",
   "execution_count": 149,
   "metadata": {},
   "outputs": [],
   "source": [
    "y_pred = model.predict(standardized_data_test)"
   ]
  },
  {
   "cell_type": "markdown",
   "metadata": {},
   "source": [
    "## 10.6 Confusion Matrix"
   ]
  },
  {
   "cell_type": "code",
   "execution_count": 150,
   "metadata": {},
   "outputs": [
    {
     "name": "stdout",
     "output_type": "stream",
     "text": [
      "Confusion Matrix:\n"
     ]
    },
    {
     "data": {
      "image/png": "[encoded data removed]",
      "text/plain": [
       "<Figure size 432x288 with 2 Axes>"
      ]
     },
     "metadata": {},
     "output_type": "display_data"
    }
   ],
   "source": [
    "cm_tfidfw2v=confusion_matrix(y_test,y_pred)\n",
    "print(\"Confusion Matrix:\")\n",
    "sns.heatmap(cm_tfidfw2v, annot=True, fmt='d')\n",
    "plt.show()"
   ]
  },
  {
   "cell_type": "code",
   "execution_count": 151,
   "metadata": {},
   "outputs": [
    {
     "name": "stdout",
     "output_type": "stream",
     "text": [
      " true negitves are 772 \n",
      " false positives are 4841 \n",
      " false negatives are 6011\n",
      " true positives are 30376 \n",
      " \n"
     ]
    }
   ],
   "source": [
    "#finding out  true negative , false positive , false negative and true positve \n",
    "tn, fp, fn, tp = cm_tfidfw2v.ravel()\n",
    "( tp, fp, fn, tp)\n",
    "print(\" true negitves are {} \\n false positives are {} \\n false negatives are {}\\n true positives are {} \\n \".format(tn,fp,fn,tp))"
   ]
  },
  {
   "cell_type": "markdown",
   "metadata": {},
   "source": [
    "## 10.7 Calculating Accuracy,Error on test data,Precision,Recall,Classification Report"
   ]
  },
  {
   "cell_type": "code",
   "execution_count": 152,
   "metadata": {},
   "outputs": [
    {
     "name": "stdout",
     "output_type": "stream",
     "text": [
      "\n",
      "The Test Accuracy of the  SVM using RBF kernel for C and gamma = 100.000 ,10.000 is 74.161905%\n",
      "\n",
      "Test Error  of the  SVM using RBF kernel for C and gamma  25.838095%\n",
      "\n",
      "The Test Precision of the  SVM using RBF kernel for C and gamma = 100.000,10.000 is 0.862538\n",
      "\n",
      "The Test Recall of the  SVM using RBF kernel for C and gamma = 100.000,10.000 is 0.834804\n",
      "\n",
      "The Test classification report of the  SVM using RBF kernel for C and gamma \n",
      "\n",
      "                precision    recall  f1-score   support\n",
      "\n",
      "           0       0.11      0.14      0.12      5613\n",
      "           1       0.86      0.83      0.85     36387\n",
      "\n",
      "   micro avg       0.74      0.74      0.74     42000\n",
      "   macro avg       0.49      0.49      0.49     42000\n",
      "weighted avg       0.76      0.74      0.75     42000\n",
      "\n"
     ]
    }
   ],
   "source": [
    "from sklearn.metrics import recall_score\n",
    "from sklearn.metrics import precision_score\n",
    "from sklearn.metrics import classification_report\n",
    "\n",
    "\n",
    "# evaluating accuracy\n",
    "acc_tfidfw2v = accuracy_score(y_test, y_pred) * 100\n",
    "print('\\nThe Test Accuracy of the  SVM using RBF kernel for C and gamma = %.3f ,%.3f is %f%%' % (optimal_C,optimal_gamma, acc_tfidfw2v))\n",
    "\n",
    "# Error on test data\n",
    "test_error_tfidfw2v = 100-acc_tfidfw2v\n",
    "print(\"\\nTest Error  of the  SVM using RBF kernel for C and gamma  %f%%\" % (test_error_tfidfw2v))\n",
    "\n",
    "# evaluating precision\n",
    "precision_score = precision_score(y_test, y_pred) \n",
    "print('\\nThe Test Precision of the  SVM using RBF kernel for C and gamma = %.3f,%.3f is %f' % (optimal_C,optimal_gamma, precision_score))\n",
    "\n",
    "# evaluating recall\n",
    "recall_score = recall_score(y_test, y_pred)\n",
    "print('\\nThe Test Recall of the  SVM using RBF kernel for C and gamma = %.3f,%.3f is %f' % (optimal_C,optimal_gamma, recall_score))\n",
    "\n",
    "# evaluating Classification report\n",
    "classification_report = classification_report(y_test, y_pred)\n",
    "print('\\nThe Test classification report of the  SVM using RBF kernel for C and gamma \\n\\n ',(classification_report))"
   ]
  },
  {
   "cell_type": "markdown",
   "metadata": {},
   "source": [
    "## 11. CONCLUSIONS:-"
   ]
  },
  {
   "cell_type": "markdown",
   "metadata": {},
   "source": [
    "## Model performance table\n",
    "\n",
    "-----------------------------------------------------------------------------------------------------\n",
    "|                                            GRID SEARCH                                                   |\n",
    "\n",
    "-----------------------------------------------------------------------------------------------------\n",
    "|           Model         |        Hyper parameter(alpha)        | Test Error      |     Accuracy          |\n",
    "|:-----------------------:|:------------------------------------:|:---------------:|:---------------------:|\n",
    "| SGD with Bow            |              10                      |   13.364286     |      86.635714        |\n",
    "| SGD with Tfidf          |              10                      |   13.364286     |      86.635714        |\n",
    "| SGD with Avgw2v         |              0.100                   |   13.402381     |      86.597619        |\n",
    "| SGD with Tfidfw2v       |              10                      |   13.364286     |      86.635714        |\n",
    "\n",
    "\n",
    "------------------------------------------------------------------------------------------------------------\n",
    "|           Model         |        Hyper parameter(alpha)        |    gamma     | Test Error   | Accuracy  |\n",
    "|:-----------------------:|:------------------------------------:|:------------:|:------------:|:---------:|\n",
    "| SVM with Bow            |              10                      |     1000     |13.671429     |86.328571  |\n",
    "| SVM with Tfidf          |              10                      |     10000    |13.378571     |86.621429  |\n",
    "| SVM with Avgw2v         |              10                      |     10000    |15.042857     |84.957143  |\n",
    "| SVM with Tfidfw2v       |              10                      |     10000    |14.364286     |85.635714  |\n",
    "\n",
    "------------------------------------------------------------------------------------------------------------\n",
    "|                                            RANDOM SEARCH                                                 |\n",
    "\n",
    "------------------------------------------------------------------------------------------------------------\n",
    "|           Model         |        Hyper parameter(alpha)        | Test Error      |     Accuracy          |\n",
    "|:-----------------------:|:------------------------------------:|:---------------:|:---------------------:|\n",
    "| SGD with Bow            |              0.100                   |   12.080952     |      87.919048        |\n",
    "| SGD with Tfidf          |              0.010                   |   23.319048     |      76.680952        |\n",
    "| SGD with Avgw2v         |              0.001                   |   19.207143     |      80.792857        |\n",
    "| SGD with Tfidfw2v       |              0.100                   |   46.104726     |      53.895238        |\n",
    "\n",
    "------------------------------------------------------------------------------------------------------------\n",
    "|           Model         |        Hyper parameter(alpha)        |    gamma     | Test Error   | Accuracy  |\n",
    "|:-----------------------:|:------------------------------------:|:------------:|:------------:|:---------:|\n",
    "| SVM with Bow            |              100                     |   0.010      |18.338095     |81.661905  |\n",
    "| SVM with Tfidf          |              10                      |   1000       |13.378571     |86.621429  |\n",
    "| SVM with Avgw2v         |              10                      |   10         |83.276190     |16.723810  |\n",
    "| SVM with Tfidfw2v       |              100                     |   10         |25.838095     |74.161905  |\n",
    "\n",
    "-----------------------------------------------------------------------------------------------------------------\n",
    "\n",
    "Support Vector Machine (SVM) is a supervised machine learning algorithm which can be used for both classification or regression \n",
    "\n",
    "challenges.Support Vectors are simply the co-ordinates of individual observation. Support Vector Machine is a frontier which \n",
    "\n",
    "best segregates the two classes (hyper-plane/ line).\n",
    "\n",
    "SVM uses a technique called the kernel trick to transform your data and then based on these transformations it finds an optimal \n",
    "\n",
    "boundary between the possible outputs.\n",
    "\n",
    "The function of kernel is to take data as input and transform it into the required form. Different SVM algorithms use different \n",
    "\n",
    "types of kernel functions. These functions can be different types. For example linear, nonlinear, polynomial, radial basis \n",
    "\n",
    "function (RBF), and sigmoid.\n",
    "\n",
    "Steps Involved:-\n",
    "\n",
    "1) Connecting SQL file\n",
    "\n",
    "2) Data Preprocessing(Already i had done preprocessing no need to do again)\n",
    "\n",
    "3) Sorting the data based on time\n",
    "\n",
    "4) Taking 1st 150K Rows (Due to low Ram)\n",
    "\n",
    "5) Spliting data into train and test based on time (70:30)\n",
    "\n",
    "6) Techniques For Vectorization Bow,TF-IDF,word2vec,Avgword2vec,tfidfword2vec.\n",
    "\n",
    "7) Normalizing Data \n",
    "\n",
    "8) Applying SGD CLASSIFIER For linear kernel using gridsearch and Random search \n",
    "\n",
    "9) I calculated Accuracy,Error on Test Data, Confusion Matrix,Precision Score,Recall Score,Classification Report,ROC_curve\n",
    "\n",
    "10) Calculated top 25 Positive and Negative features\n",
    "\n",
    "10) Applying SVC For RBF Kernel by gridsearch and Random search\n",
    "\n",
    "11) I calculated Accuracy,Error on Test Data, Confusion Matrix,Precision Score,Recall Score,Classification Report,ROC_curve\n",
    "\n",
    "12) Conclusion"
   ]
  },
  {
   "cell_type": "code",
   "execution_count": null,
   "metadata": {},
   "outputs": [],
   "source": []
  }
 ],
 "metadata": {
  "kernelspec": {
   "display_name": "Python 3",
   "language": "python",
   "name": "python3"
  },
  "language_info": {
   "codemirror_mode": {
    "name": "ipython",
    "version": 3
   },
   "file_extension": ".py",
   "mimetype": "text/x-python",
   "name": "python",
   "nbconvert_exporter": "python",
   "pygments_lexer": "ipython3",
   "version": "3.5.3"
  }
 },
 "nbformat": 4,
 "nbformat_minor": 2
}
