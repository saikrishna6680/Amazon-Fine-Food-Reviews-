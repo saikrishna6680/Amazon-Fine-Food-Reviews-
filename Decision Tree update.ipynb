{
 "cells": [
  {
   "cell_type": "markdown",
   "metadata": {},
   "source": [
    "# Assignment:-\n"
   ]
  },
  {
   "cell_type": "markdown",
   "metadata": {},
   "source": [
    "# Applying Decision Tree on Amazon Fine Food Reviews Analysis"
   ]
  },
  {
   "cell_type": "markdown",
   "metadata": {},
   "source": [
    " Note:- However Decision tree algorithm does not support missing values."
   ]
  },
  {
   "cell_type": "markdown",
   "metadata": {},
   "source": [
    "## Amazon Fine Food Reviews Analysis\n",
    "\n",
    "\n",
    "Data Source: https://www.kaggle.com/snap/amazon-fine-food-reviews\n",
    "\n",
    "The Amazon Fine Food Reviews dataset consists of reviews of fine foods from Amazon.<br>\n",
    "\n",
    "Number of reviews: 568,454<br>\n",
    "Number of users: 256,059<br>\n",
    "Number of products: 74,258<br>\n",
    "Timespan: Oct 1999 - Oct 2012<br>\n",
    "Number of Attributes/Columns in data: 10 \n",
    "\n",
    "Attribute Information:\n",
    "\n",
    "1. Id\n",
    "2. ProductId - unique identifier for the product\n",
    "3. UserId - unqiue identifier for the user\n",
    "4. ProfileName\n",
    "5. HelpfulnessNumerator - number of users who found the review helpful\n",
    "6. HelpfulnessDenominator - number of users who indicated whether they found the review helpful or not\n",
    "7. Score - rating between 1 and 5\n",
    "8. Time - timestamp for the review\n",
    "9. Summary - brief summary of the review\n",
    "10. Text - text of the review"
   ]
  },
  {
   "cell_type": "markdown",
   "metadata": {},
   "source": [
    "# 1. Objective:\n",
    "Given a review, determine whether the review is positive (Rating of 4 or 5) or negative (rating of 1 or 2). Use BoW, TF-IDF, Avg-Word2Vec,TF-IDF-Word2Vec to vectorise the reviews. \n",
    "Apply Decision Tree Algorithm for Amazon fine food Reviews\n",
    "find the optimal depth using cross validation\n",
    "Get feature importance for positive class and Negative class"
   ]
  },
  {
   "cell_type": "code",
   "execution_count": 1,
   "metadata": {},
   "outputs": [],
   "source": [
    "# loading required libraries \n",
    "\n",
    "import warnings \n",
    "warnings.filterwarnings('ignore')\n",
    "import numpy as np\n",
    "import pandas as pd \n",
    "import matplotlib \n",
    "import sqlite3\n",
    "import string\n",
    "import gensim\n",
    "import scipy \n",
    "import nltk\n",
    "import time\n",
    "import seaborn as sns \n",
    "from scipy import stats\n",
    "from matplotlib import pyplot as plt \n",
    "\n",
    "from sklearn.feature_extraction.text import TfidfTransformer\n",
    "from sklearn.feature_extraction.text import TfidfVectorizer\n",
    "from sklearn.feature_extraction.text import CountVectorizer\n",
    "\n",
    "from sklearn.model_selection import GridSearchCV\n",
    "from sklearn.model_selection import RandomizedSearchCV\n",
    "from sklearn.linear_model import LogisticRegression\n",
    "\n",
    "from sklearn import metrics\n",
    "from sklearn.metrics import confusion_matrix\n",
    "from sklearn.metrics import roc_curve, roc_auc_score, auc\n",
    "from sklearn.metrics import accuracy_score\n",
    "from sklearn.metrics import precision_recall_fscore_support as prf1\n",
    "\n",
    "from sklearn.model_selection import KFold\n",
    "from sklearn.model_selection import train_test_split\n",
    "\n"
   ]
  },
  {
   "cell_type": "markdown",
   "metadata": {},
   "source": [
    "## 1.1 Connecting SQL file"
   ]
  },
  {
   "cell_type": "code",
   "execution_count": 2,
   "metadata": {},
   "outputs": [],
   "source": [
    "#Loading the data\n",
    "con = sqlite3.connect('./final.sqlite')\n",
    "\n",
    "data = pd.read_sql_query(\"\"\"\n",
    "SELECT *\n",
    "FROM Reviews\n",
    "\"\"\", con)"
   ]
  },
  {
   "cell_type": "code",
   "execution_count": 3,
   "metadata": {},
   "outputs": [
    {
     "name": "stdout",
     "output_type": "stream",
     "text": [
      "(364171, 12)\n"
     ]
    },
    {
     "data": {
      "text/html": [
       "<div>\n",
       "<style scoped>\n",
       "    .dataframe tbody tr th:only-of-type {\n",
       "        vertical-align: middle;\n",
       "    }\n",
       "\n",
       "    .dataframe tbody tr th {\n",
       "        vertical-align: top;\n",
       "    }\n",
       "\n",
       "    .dataframe thead th {\n",
       "        text-align: right;\n",
       "    }\n",
       "</style>\n",
       "<table border=\"1\" class=\"dataframe\">\n",
       "  <thead>\n",
       "    <tr style=\"text-align: right;\">\n",
       "      <th></th>\n",
       "      <th>index</th>\n",
       "      <th>Id</th>\n",
       "      <th>ProductId</th>\n",
       "      <th>UserId</th>\n",
       "      <th>ProfileName</th>\n",
       "      <th>HelpfulnessNumerator</th>\n",
       "      <th>HelpfulnessDenominator</th>\n",
       "      <th>Score</th>\n",
       "      <th>Time</th>\n",
       "      <th>Summary</th>\n",
       "      <th>Text</th>\n",
       "      <th>CleanedText</th>\n",
       "    </tr>\n",
       "  </thead>\n",
       "  <tbody>\n",
       "    <tr>\n",
       "      <th>0</th>\n",
       "      <td>138706</td>\n",
       "      <td>150524</td>\n",
       "      <td>0006641040</td>\n",
       "      <td>ACITT7DI6IDDL</td>\n",
       "      <td>shari zychinski</td>\n",
       "      <td>0</td>\n",
       "      <td>0</td>\n",
       "      <td>positive</td>\n",
       "      <td>939340800</td>\n",
       "      <td>EVERY book is educational</td>\n",
       "      <td>this witty little book makes my son laugh at l...</td>\n",
       "      <td>witti littl book make son laugh loud recit car...</td>\n",
       "    </tr>\n",
       "    <tr>\n",
       "      <th>1</th>\n",
       "      <td>138688</td>\n",
       "      <td>150506</td>\n",
       "      <td>0006641040</td>\n",
       "      <td>A2IW4PEEKO2R0U</td>\n",
       "      <td>Tracy</td>\n",
       "      <td>1</td>\n",
       "      <td>1</td>\n",
       "      <td>positive</td>\n",
       "      <td>1194739200</td>\n",
       "      <td>Love the book, miss the hard cover version</td>\n",
       "      <td>I grew up reading these Sendak books, and watc...</td>\n",
       "      <td>grew read sendak book watch realli rosi movi i...</td>\n",
       "    </tr>\n",
       "    <tr>\n",
       "      <th>2</th>\n",
       "      <td>138689</td>\n",
       "      <td>150507</td>\n",
       "      <td>0006641040</td>\n",
       "      <td>A1S4A3IQ2MU7V4</td>\n",
       "      <td>sally sue \"sally sue\"</td>\n",
       "      <td>1</td>\n",
       "      <td>1</td>\n",
       "      <td>positive</td>\n",
       "      <td>1191456000</td>\n",
       "      <td>chicken soup with rice months</td>\n",
       "      <td>This is a fun way for children to learn their ...</td>\n",
       "      <td>fun way children learn month year learn poem t...</td>\n",
       "    </tr>\n",
       "    <tr>\n",
       "      <th>3</th>\n",
       "      <td>138690</td>\n",
       "      <td>150508</td>\n",
       "      <td>0006641040</td>\n",
       "      <td>AZGXZ2UUK6X</td>\n",
       "      <td>Catherine Hallberg \"(Kate)\"</td>\n",
       "      <td>1</td>\n",
       "      <td>1</td>\n",
       "      <td>positive</td>\n",
       "      <td>1076025600</td>\n",
       "      <td>a good swingy rhythm for reading aloud</td>\n",
       "      <td>This is a great little book to read aloud- it ...</td>\n",
       "      <td>great littl book read nice rhythm well good re...</td>\n",
       "    </tr>\n",
       "    <tr>\n",
       "      <th>4</th>\n",
       "      <td>138691</td>\n",
       "      <td>150509</td>\n",
       "      <td>0006641040</td>\n",
       "      <td>A3CMRKGE0P909G</td>\n",
       "      <td>Teresa</td>\n",
       "      <td>3</td>\n",
       "      <td>4</td>\n",
       "      <td>positive</td>\n",
       "      <td>1018396800</td>\n",
       "      <td>A great way to learn the months</td>\n",
       "      <td>This is a book of poetry about the months of t...</td>\n",
       "      <td>book poetri month year goe month cute littl po...</td>\n",
       "    </tr>\n",
       "  </tbody>\n",
       "</table>\n",
       "</div>"
      ],
      "text/plain": [
       "    index      Id   ProductId          UserId                  ProfileName  \\\n",
       "0  138706  150524  0006641040   ACITT7DI6IDDL              shari zychinski   \n",
       "1  138688  150506  0006641040  A2IW4PEEKO2R0U                        Tracy   \n",
       "2  138689  150507  0006641040  A1S4A3IQ2MU7V4        sally sue \"sally sue\"   \n",
       "3  138690  150508  0006641040     AZGXZ2UUK6X  Catherine Hallberg \"(Kate)\"   \n",
       "4  138691  150509  0006641040  A3CMRKGE0P909G                       Teresa   \n",
       "\n",
       "   HelpfulnessNumerator  HelpfulnessDenominator     Score        Time  \\\n",
       "0                     0                       0  positive   939340800   \n",
       "1                     1                       1  positive  1194739200   \n",
       "2                     1                       1  positive  1191456000   \n",
       "3                     1                       1  positive  1076025600   \n",
       "4                     3                       4  positive  1018396800   \n",
       "\n",
       "                                      Summary  \\\n",
       "0                   EVERY book is educational   \n",
       "1  Love the book, miss the hard cover version   \n",
       "2               chicken soup with rice months   \n",
       "3      a good swingy rhythm for reading aloud   \n",
       "4             A great way to learn the months   \n",
       "\n",
       "                                                Text  \\\n",
       "0  this witty little book makes my son laugh at l...   \n",
       "1  I grew up reading these Sendak books, and watc...   \n",
       "2  This is a fun way for children to learn their ...   \n",
       "3  This is a great little book to read aloud- it ...   \n",
       "4  This is a book of poetry about the months of t...   \n",
       "\n",
       "                                         CleanedText  \n",
       "0  witti littl book make son laugh loud recit car...  \n",
       "1  grew read sendak book watch realli rosi movi i...  \n",
       "2  fun way children learn month year learn poem t...  \n",
       "3  great littl book read nice rhythm well good re...  \n",
       "4  book poetri month year goe month cute littl po...  "
      ]
     },
     "execution_count": 3,
     "metadata": {},
     "output_type": "execute_result"
    }
   ],
   "source": [
    "print(data.shape)\n",
    "data.head()"
   ]
  },
  {
   "cell_type": "markdown",
   "metadata": {},
   "source": [
    "## 1.2 Data Preprocessing"
   ]
  },
  {
   "cell_type": "code",
   "execution_count": 4,
   "metadata": {},
   "outputs": [
    {
     "data": {
      "text/plain": [
       "positive    307061\n",
       "negative     57110\n",
       "Name: Score, dtype: int64"
      ]
     },
     "execution_count": 4,
     "metadata": {},
     "output_type": "execute_result"
    }
   ],
   "source": [
    "data.Score.value_counts()\n",
    "#i had done data preprocessing i had stored in final.sqlite now loaded this file no need to do again data preprocessing\n"
   ]
  },
  {
   "cell_type": "markdown",
   "metadata": {},
   "source": [
    "## 1.3 Sorting the data"
   ]
  },
  {
   "cell_type": "code",
   "execution_count": 5,
   "metadata": {},
   "outputs": [
    {
     "data": {
      "text/html": [
       "<div>\n",
       "<style scoped>\n",
       "    .dataframe tbody tr th:only-of-type {\n",
       "        vertical-align: middle;\n",
       "    }\n",
       "\n",
       "    .dataframe tbody tr th {\n",
       "        vertical-align: top;\n",
       "    }\n",
       "\n",
       "    .dataframe thead th {\n",
       "        text-align: right;\n",
       "    }\n",
       "</style>\n",
       "<table border=\"1\" class=\"dataframe\">\n",
       "  <thead>\n",
       "    <tr style=\"text-align: right;\">\n",
       "      <th></th>\n",
       "      <th>index</th>\n",
       "      <th>Id</th>\n",
       "      <th>ProductId</th>\n",
       "      <th>UserId</th>\n",
       "      <th>ProfileName</th>\n",
       "      <th>HelpfulnessNumerator</th>\n",
       "      <th>HelpfulnessDenominator</th>\n",
       "      <th>Score</th>\n",
       "      <th>Time</th>\n",
       "      <th>Summary</th>\n",
       "      <th>Text</th>\n",
       "      <th>CleanedText</th>\n",
       "    </tr>\n",
       "  </thead>\n",
       "  <tbody>\n",
       "    <tr>\n",
       "      <th>0</th>\n",
       "      <td>138706</td>\n",
       "      <td>150524</td>\n",
       "      <td>0006641040</td>\n",
       "      <td>ACITT7DI6IDDL</td>\n",
       "      <td>shari zychinski</td>\n",
       "      <td>0</td>\n",
       "      <td>0</td>\n",
       "      <td>positive</td>\n",
       "      <td>939340800</td>\n",
       "      <td>EVERY book is educational</td>\n",
       "      <td>this witty little book makes my son laugh at l...</td>\n",
       "      <td>witti littl book make son laugh loud recit car...</td>\n",
       "    </tr>\n",
       "    <tr>\n",
       "      <th>30</th>\n",
       "      <td>138683</td>\n",
       "      <td>150501</td>\n",
       "      <td>0006641040</td>\n",
       "      <td>AJ46FKXOVC7NR</td>\n",
       "      <td>Nicholas A Mesiano</td>\n",
       "      <td>2</td>\n",
       "      <td>2</td>\n",
       "      <td>positive</td>\n",
       "      <td>940809600</td>\n",
       "      <td>This whole series is great way to spend time w...</td>\n",
       "      <td>I can remember seeing the show when it aired o...</td>\n",
       "      <td>rememb see show air televis year ago child sis...</td>\n",
       "    </tr>\n",
       "    <tr>\n",
       "      <th>424</th>\n",
       "      <td>417839</td>\n",
       "      <td>451856</td>\n",
       "      <td>B00004CXX9</td>\n",
       "      <td>AIUWLEQ1ADEG5</td>\n",
       "      <td>Elizabeth Medina</td>\n",
       "      <td>0</td>\n",
       "      <td>0</td>\n",
       "      <td>positive</td>\n",
       "      <td>944092800</td>\n",
       "      <td>Entertainingl Funny!</td>\n",
       "      <td>Beetlejuice is a well written movie ..... ever...</td>\n",
       "      <td>beetlejuic well written movi everyth excel act...</td>\n",
       "    </tr>\n",
       "    <tr>\n",
       "      <th>330</th>\n",
       "      <td>346055</td>\n",
       "      <td>374359</td>\n",
       "      <td>B00004CI84</td>\n",
       "      <td>A344SMIA5JECGM</td>\n",
       "      <td>Vincent P. Ross</td>\n",
       "      <td>1</td>\n",
       "      <td>2</td>\n",
       "      <td>positive</td>\n",
       "      <td>944438400</td>\n",
       "      <td>A modern day fairy tale</td>\n",
       "      <td>A twist of rumplestiskin captured on film, sta...</td>\n",
       "      <td>twist rumplestiskin captur film star michael k...</td>\n",
       "    </tr>\n",
       "    <tr>\n",
       "      <th>423</th>\n",
       "      <td>417838</td>\n",
       "      <td>451855</td>\n",
       "      <td>B00004CXX9</td>\n",
       "      <td>AJH6LUC1UT1ON</td>\n",
       "      <td>The Phantom of the Opera</td>\n",
       "      <td>0</td>\n",
       "      <td>0</td>\n",
       "      <td>positive</td>\n",
       "      <td>946857600</td>\n",
       "      <td>FANTASTIC!</td>\n",
       "      <td>Beetlejuice is an excellent and funny movie. K...</td>\n",
       "      <td>beetlejuic excel funni movi keaton hilari wack...</td>\n",
       "    </tr>\n",
       "  </tbody>\n",
       "</table>\n",
       "</div>"
      ],
      "text/plain": [
       "      index      Id   ProductId          UserId               ProfileName  \\\n",
       "0    138706  150524  0006641040   ACITT7DI6IDDL           shari zychinski   \n",
       "30   138683  150501  0006641040   AJ46FKXOVC7NR        Nicholas A Mesiano   \n",
       "424  417839  451856  B00004CXX9   AIUWLEQ1ADEG5          Elizabeth Medina   \n",
       "330  346055  374359  B00004CI84  A344SMIA5JECGM           Vincent P. Ross   \n",
       "423  417838  451855  B00004CXX9   AJH6LUC1UT1ON  The Phantom of the Opera   \n",
       "\n",
       "     HelpfulnessNumerator  HelpfulnessDenominator     Score       Time  \\\n",
       "0                       0                       0  positive  939340800   \n",
       "30                      2                       2  positive  940809600   \n",
       "424                     0                       0  positive  944092800   \n",
       "330                     1                       2  positive  944438400   \n",
       "423                     0                       0  positive  946857600   \n",
       "\n",
       "                                               Summary  \\\n",
       "0                            EVERY book is educational   \n",
       "30   This whole series is great way to spend time w...   \n",
       "424                               Entertainingl Funny!   \n",
       "330                            A modern day fairy tale   \n",
       "423                                         FANTASTIC!   \n",
       "\n",
       "                                                  Text  \\\n",
       "0    this witty little book makes my son laugh at l...   \n",
       "30   I can remember seeing the show when it aired o...   \n",
       "424  Beetlejuice is a well written movie ..... ever...   \n",
       "330  A twist of rumplestiskin captured on film, sta...   \n",
       "423  Beetlejuice is an excellent and funny movie. K...   \n",
       "\n",
       "                                           CleanedText  \n",
       "0    witti littl book make son laugh loud recit car...  \n",
       "30   rememb see show air televis year ago child sis...  \n",
       "424  beetlejuic well written movi everyth excel act...  \n",
       "330  twist rumplestiskin captur film star michael k...  \n",
       "423  beetlejuic excel funni movi keaton hilari wack...  "
      ]
     },
     "execution_count": 5,
     "metadata": {},
     "output_type": "execute_result"
    }
   ],
   "source": [
    "# Sorting the data according to the time-stamp\n",
    "sorted_data = data.sort_values('Time', axis=0, ascending=True, inplace=False, kind='quicksort', na_position='last')\n",
    "sorted_data.head()"
   ]
  },
  {
   "cell_type": "markdown",
   "metadata": {},
   "source": [
    "## 1.4 Mapping"
   ]
  },
  {
   "cell_type": "code",
   "execution_count": 6,
   "metadata": {},
   "outputs": [
    {
     "data": {
      "text/html": [
       "<div>\n",
       "<style scoped>\n",
       "    .dataframe tbody tr th:only-of-type {\n",
       "        vertical-align: middle;\n",
       "    }\n",
       "\n",
       "    .dataframe tbody tr th {\n",
       "        vertical-align: top;\n",
       "    }\n",
       "\n",
       "    .dataframe thead th {\n",
       "        text-align: right;\n",
       "    }\n",
       "</style>\n",
       "<table border=\"1\" class=\"dataframe\">\n",
       "  <thead>\n",
       "    <tr style=\"text-align: right;\">\n",
       "      <th></th>\n",
       "      <th>index</th>\n",
       "      <th>Id</th>\n",
       "      <th>ProductId</th>\n",
       "      <th>UserId</th>\n",
       "      <th>ProfileName</th>\n",
       "      <th>HelpfulnessNumerator</th>\n",
       "      <th>HelpfulnessDenominator</th>\n",
       "      <th>Score</th>\n",
       "      <th>Time</th>\n",
       "      <th>Summary</th>\n",
       "      <th>Text</th>\n",
       "      <th>CleanedText</th>\n",
       "    </tr>\n",
       "  </thead>\n",
       "  <tbody>\n",
       "    <tr>\n",
       "      <th>0</th>\n",
       "      <td>138706</td>\n",
       "      <td>150524</td>\n",
       "      <td>0006641040</td>\n",
       "      <td>ACITT7DI6IDDL</td>\n",
       "      <td>shari zychinski</td>\n",
       "      <td>0</td>\n",
       "      <td>0</td>\n",
       "      <td>1</td>\n",
       "      <td>939340800</td>\n",
       "      <td>EVERY book is educational</td>\n",
       "      <td>this witty little book makes my son laugh at l...</td>\n",
       "      <td>witti littl book make son laugh loud recit car...</td>\n",
       "    </tr>\n",
       "    <tr>\n",
       "      <th>30</th>\n",
       "      <td>138683</td>\n",
       "      <td>150501</td>\n",
       "      <td>0006641040</td>\n",
       "      <td>AJ46FKXOVC7NR</td>\n",
       "      <td>Nicholas A Mesiano</td>\n",
       "      <td>2</td>\n",
       "      <td>2</td>\n",
       "      <td>1</td>\n",
       "      <td>940809600</td>\n",
       "      <td>This whole series is great way to spend time w...</td>\n",
       "      <td>I can remember seeing the show when it aired o...</td>\n",
       "      <td>rememb see show air televis year ago child sis...</td>\n",
       "    </tr>\n",
       "    <tr>\n",
       "      <th>424</th>\n",
       "      <td>417839</td>\n",
       "      <td>451856</td>\n",
       "      <td>B00004CXX9</td>\n",
       "      <td>AIUWLEQ1ADEG5</td>\n",
       "      <td>Elizabeth Medina</td>\n",
       "      <td>0</td>\n",
       "      <td>0</td>\n",
       "      <td>1</td>\n",
       "      <td>944092800</td>\n",
       "      <td>Entertainingl Funny!</td>\n",
       "      <td>Beetlejuice is a well written movie ..... ever...</td>\n",
       "      <td>beetlejuic well written movi everyth excel act...</td>\n",
       "    </tr>\n",
       "    <tr>\n",
       "      <th>330</th>\n",
       "      <td>346055</td>\n",
       "      <td>374359</td>\n",
       "      <td>B00004CI84</td>\n",
       "      <td>A344SMIA5JECGM</td>\n",
       "      <td>Vincent P. Ross</td>\n",
       "      <td>1</td>\n",
       "      <td>2</td>\n",
       "      <td>1</td>\n",
       "      <td>944438400</td>\n",
       "      <td>A modern day fairy tale</td>\n",
       "      <td>A twist of rumplestiskin captured on film, sta...</td>\n",
       "      <td>twist rumplestiskin captur film star michael k...</td>\n",
       "    </tr>\n",
       "    <tr>\n",
       "      <th>423</th>\n",
       "      <td>417838</td>\n",
       "      <td>451855</td>\n",
       "      <td>B00004CXX9</td>\n",
       "      <td>AJH6LUC1UT1ON</td>\n",
       "      <td>The Phantom of the Opera</td>\n",
       "      <td>0</td>\n",
       "      <td>0</td>\n",
       "      <td>1</td>\n",
       "      <td>946857600</td>\n",
       "      <td>FANTASTIC!</td>\n",
       "      <td>Beetlejuice is an excellent and funny movie. K...</td>\n",
       "      <td>beetlejuic excel funni movi keaton hilari wack...</td>\n",
       "    </tr>\n",
       "  </tbody>\n",
       "</table>\n",
       "</div>"
      ],
      "text/plain": [
       "      index      Id   ProductId          UserId               ProfileName  \\\n",
       "0    138706  150524  0006641040   ACITT7DI6IDDL           shari zychinski   \n",
       "30   138683  150501  0006641040   AJ46FKXOVC7NR        Nicholas A Mesiano   \n",
       "424  417839  451856  B00004CXX9   AIUWLEQ1ADEG5          Elizabeth Medina   \n",
       "330  346055  374359  B00004CI84  A344SMIA5JECGM           Vincent P. Ross   \n",
       "423  417838  451855  B00004CXX9   AJH6LUC1UT1ON  The Phantom of the Opera   \n",
       "\n",
       "     HelpfulnessNumerator  HelpfulnessDenominator  Score       Time  \\\n",
       "0                       0                       0      1  939340800   \n",
       "30                      2                       2      1  940809600   \n",
       "424                     0                       0      1  944092800   \n",
       "330                     1                       2      1  944438400   \n",
       "423                     0                       0      1  946857600   \n",
       "\n",
       "                                               Summary  \\\n",
       "0                            EVERY book is educational   \n",
       "30   This whole series is great way to spend time w...   \n",
       "424                               Entertainingl Funny!   \n",
       "330                            A modern day fairy tale   \n",
       "423                                         FANTASTIC!   \n",
       "\n",
       "                                                  Text  \\\n",
       "0    this witty little book makes my son laugh at l...   \n",
       "30   I can remember seeing the show when it aired o...   \n",
       "424  Beetlejuice is a well written movie ..... ever...   \n",
       "330  A twist of rumplestiskin captured on film, sta...   \n",
       "423  Beetlejuice is an excellent and funny movie. K...   \n",
       "\n",
       "                                           CleanedText  \n",
       "0    witti littl book make son laugh loud recit car...  \n",
       "30   rememb see show air televis year ago child sis...  \n",
       "424  beetlejuic well written movi everyth excel act...  \n",
       "330  twist rumplestiskin captur film star michael k...  \n",
       "423  beetlejuic excel funni movi keaton hilari wack...  "
      ]
     },
     "execution_count": 6,
     "metadata": {},
     "output_type": "execute_result"
    }
   ],
   "source": [
    "def partition(x):\n",
    "    if x == 'positive':\n",
    "        return 1\n",
    "    return 0\n",
    "\n",
    "#Preparing the filtered data\n",
    "actualScore = sorted_data['Score']\n",
    "positiveNegative = actualScore.map(partition) \n",
    "sorted_data['Score'] = positiveNegative\n",
    "sorted_data.head()\n"
   ]
  },
  {
   "cell_type": "markdown",
   "metadata": {},
   "source": [
    "## 1.5 Taking First 150k rows"
   ]
  },
  {
   "cell_type": "code",
   "execution_count": 7,
   "metadata": {},
   "outputs": [
    {
     "name": "stdout",
     "output_type": "stream",
     "text": [
      "(150000, 12)\n"
     ]
    },
    {
     "data": {
      "text/html": [
       "<div>\n",
       "<style scoped>\n",
       "    .dataframe tbody tr th:only-of-type {\n",
       "        vertical-align: middle;\n",
       "    }\n",
       "\n",
       "    .dataframe tbody tr th {\n",
       "        vertical-align: top;\n",
       "    }\n",
       "\n",
       "    .dataframe thead th {\n",
       "        text-align: right;\n",
       "    }\n",
       "</style>\n",
       "<table border=\"1\" class=\"dataframe\">\n",
       "  <thead>\n",
       "    <tr style=\"text-align: right;\">\n",
       "      <th></th>\n",
       "      <th>index</th>\n",
       "      <th>Id</th>\n",
       "      <th>ProductId</th>\n",
       "      <th>UserId</th>\n",
       "      <th>ProfileName</th>\n",
       "      <th>HelpfulnessNumerator</th>\n",
       "      <th>HelpfulnessDenominator</th>\n",
       "      <th>Score</th>\n",
       "      <th>Time</th>\n",
       "      <th>Summary</th>\n",
       "      <th>Text</th>\n",
       "      <th>CleanedText</th>\n",
       "    </tr>\n",
       "  </thead>\n",
       "  <tbody>\n",
       "    <tr>\n",
       "      <th>0</th>\n",
       "      <td>138706</td>\n",
       "      <td>150524</td>\n",
       "      <td>0006641040</td>\n",
       "      <td>ACITT7DI6IDDL</td>\n",
       "      <td>shari zychinski</td>\n",
       "      <td>0</td>\n",
       "      <td>0</td>\n",
       "      <td>1</td>\n",
       "      <td>939340800</td>\n",
       "      <td>EVERY book is educational</td>\n",
       "      <td>this witty little book makes my son laugh at l...</td>\n",
       "      <td>witti littl book make son laugh loud recit car...</td>\n",
       "    </tr>\n",
       "    <tr>\n",
       "      <th>30</th>\n",
       "      <td>138683</td>\n",
       "      <td>150501</td>\n",
       "      <td>0006641040</td>\n",
       "      <td>AJ46FKXOVC7NR</td>\n",
       "      <td>Nicholas A Mesiano</td>\n",
       "      <td>2</td>\n",
       "      <td>2</td>\n",
       "      <td>1</td>\n",
       "      <td>940809600</td>\n",
       "      <td>This whole series is great way to spend time w...</td>\n",
       "      <td>I can remember seeing the show when it aired o...</td>\n",
       "      <td>rememb see show air televis year ago child sis...</td>\n",
       "    </tr>\n",
       "    <tr>\n",
       "      <th>424</th>\n",
       "      <td>417839</td>\n",
       "      <td>451856</td>\n",
       "      <td>B00004CXX9</td>\n",
       "      <td>AIUWLEQ1ADEG5</td>\n",
       "      <td>Elizabeth Medina</td>\n",
       "      <td>0</td>\n",
       "      <td>0</td>\n",
       "      <td>1</td>\n",
       "      <td>944092800</td>\n",
       "      <td>Entertainingl Funny!</td>\n",
       "      <td>Beetlejuice is a well written movie ..... ever...</td>\n",
       "      <td>beetlejuic well written movi everyth excel act...</td>\n",
       "    </tr>\n",
       "    <tr>\n",
       "      <th>330</th>\n",
       "      <td>346055</td>\n",
       "      <td>374359</td>\n",
       "      <td>B00004CI84</td>\n",
       "      <td>A344SMIA5JECGM</td>\n",
       "      <td>Vincent P. Ross</td>\n",
       "      <td>1</td>\n",
       "      <td>2</td>\n",
       "      <td>1</td>\n",
       "      <td>944438400</td>\n",
       "      <td>A modern day fairy tale</td>\n",
       "      <td>A twist of rumplestiskin captured on film, sta...</td>\n",
       "      <td>twist rumplestiskin captur film star michael k...</td>\n",
       "    </tr>\n",
       "    <tr>\n",
       "      <th>423</th>\n",
       "      <td>417838</td>\n",
       "      <td>451855</td>\n",
       "      <td>B00004CXX9</td>\n",
       "      <td>AJH6LUC1UT1ON</td>\n",
       "      <td>The Phantom of the Opera</td>\n",
       "      <td>0</td>\n",
       "      <td>0</td>\n",
       "      <td>1</td>\n",
       "      <td>946857600</td>\n",
       "      <td>FANTASTIC!</td>\n",
       "      <td>Beetlejuice is an excellent and funny movie. K...</td>\n",
       "      <td>beetlejuic excel funni movi keaton hilari wack...</td>\n",
       "    </tr>\n",
       "  </tbody>\n",
       "</table>\n",
       "</div>"
      ],
      "text/plain": [
       "      index      Id   ProductId          UserId               ProfileName  \\\n",
       "0    138706  150524  0006641040   ACITT7DI6IDDL           shari zychinski   \n",
       "30   138683  150501  0006641040   AJ46FKXOVC7NR        Nicholas A Mesiano   \n",
       "424  417839  451856  B00004CXX9   AIUWLEQ1ADEG5          Elizabeth Medina   \n",
       "330  346055  374359  B00004CI84  A344SMIA5JECGM           Vincent P. Ross   \n",
       "423  417838  451855  B00004CXX9   AJH6LUC1UT1ON  The Phantom of the Opera   \n",
       "\n",
       "     HelpfulnessNumerator  HelpfulnessDenominator  Score       Time  \\\n",
       "0                       0                       0      1  939340800   \n",
       "30                      2                       2      1  940809600   \n",
       "424                     0                       0      1  944092800   \n",
       "330                     1                       2      1  944438400   \n",
       "423                     0                       0      1  946857600   \n",
       "\n",
       "                                               Summary  \\\n",
       "0                            EVERY book is educational   \n",
       "30   This whole series is great way to spend time w...   \n",
       "424                               Entertainingl Funny!   \n",
       "330                            A modern day fairy tale   \n",
       "423                                         FANTASTIC!   \n",
       "\n",
       "                                                  Text  \\\n",
       "0    this witty little book makes my son laugh at l...   \n",
       "30   I can remember seeing the show when it aired o...   \n",
       "424  Beetlejuice is a well written movie ..... ever...   \n",
       "330  A twist of rumplestiskin captured on film, sta...   \n",
       "423  Beetlejuice is an excellent and funny movie. K...   \n",
       "\n",
       "                                           CleanedText  \n",
       "0    witti littl book make son laugh loud recit car...  \n",
       "30   rememb see show air televis year ago child sis...  \n",
       "424  beetlejuic well written movi everyth excel act...  \n",
       "330  twist rumplestiskin captur film star michael k...  \n",
       "423  beetlejuic excel funni movi keaton hilari wack...  "
      ]
     },
     "execution_count": 7,
     "metadata": {},
     "output_type": "execute_result"
    }
   ],
   "source": [
    "# We will collect different 150000 rows without repetition from time_sorted_data dataframe\n",
    "my_final = sorted_data[:150000]\n",
    "print(my_final.shape)\n",
    "my_final.head()"
   ]
  },
  {
   "cell_type": "markdown",
   "metadata": {},
   "source": [
    "## 1.6 Spliting data into train and test based on time (70:30)"
   ]
  },
  {
   "cell_type": "code",
   "execution_count": 8,
   "metadata": {},
   "outputs": [
    {
     "name": "stdout",
     "output_type": "stream",
     "text": [
      "(105000,)\n",
      "(45000,)\n",
      "(105000,)\n",
      "(45000,)\n"
     ]
    }
   ],
   "source": [
    "from sklearn.model_selection import train_test_split\n",
    "from sklearn.model_selection import cross_validate\n",
    "\n",
    "\n",
    "x=my_final['CleanedText'].values\n",
    "y=my_final['Score']\n",
    "\n",
    "#Splitting data into train test and cross validation \n",
    "x_train,x_test,y_train,y_test =train_test_split(x,y,test_size =0.3,random_state = 42)\n",
    "\n",
    "print(x_train.shape)\n",
    "print(x_test.shape)\n",
    "print(y_train.shape)\n",
    "print(y_test.shape)"
   ]
  },
  {
   "cell_type": "markdown",
   "metadata": {},
   "source": [
    "## Techniques For Vectorization"
   ]
  },
  {
   "cell_type": "markdown",
   "metadata": {},
   "source": [
    "## Why we have to convert text to vector\n",
    "By converting text to vector we can use whole power of linear algebra.we can find a plane to seperate"
   ]
  },
  {
   "cell_type": "markdown",
   "metadata": {},
   "source": [
    "Bow and tfidf has high dimensions SO it takes more time to compute. so that's the reason am not applying Decision Tree Algorithm to bow,tfidf  "
   ]
  },
  {
   "cell_type": "markdown",
   "metadata": {},
   "source": [
    "## 2.BOW"
   ]
  },
  {
   "cell_type": "code",
   "execution_count": 9,
   "metadata": {},
   "outputs": [
    {
     "name": "stdout",
     "output_type": "stream",
     "text": [
      "the type of count vectorizer  <class 'scipy.sparse.csr.csr_matrix'>\n",
      "the shape of out text BOW vectorizer  (105000, 38300)\n",
      "the number of unique words  38300\n",
      "the type of count vectorizer  <class 'scipy.sparse.csr.csr_matrix'>\n",
      "the shape of out text BOW vectorizer  (45000, 38300)\n"
     ]
    }
   ],
   "source": [
    "#Bow\n",
    "\n",
    "from sklearn.feature_extraction.text import CountVectorizer\n",
    "count_vect = CountVectorizer() \n",
    "final_counts_Bow_tr= count_vect.fit_transform(x_train)# computing Bow\n",
    "print(\"the type of count vectorizer \",type(final_counts_Bow_tr))\n",
    "print(\"the shape of out text BOW vectorizer \",final_counts_Bow_tr.get_shape())\n",
    "print(\"the number of unique words \", final_counts_Bow_tr.get_shape()[1])\n",
    "final_counts_Bow_test= count_vect.transform(x_test)# computing Bow\n",
    "print(\"the type of count vectorizer \",type(final_counts_Bow_test))\n",
    "print(\"the shape of out text BOW vectorizer \",final_counts_Bow_test.get_shape())"
   ]
  },
  {
   "cell_type": "markdown",
   "metadata": {},
   "source": [
    "## 2.1 Normalizing Data\n"
   ]
  },
  {
   "cell_type": "code",
   "execution_count": 10,
   "metadata": {},
   "outputs": [
    {
     "name": "stdout",
     "output_type": "stream",
     "text": [
      "(105000, 38300)\n",
      "(45000, 38300)\n"
     ]
    }
   ],
   "source": [
    "# Data-preprocessing: Normalizing Data\n",
    "\n",
    "from sklearn import preprocessing\n",
    "standardized_data_train = preprocessing.normalize(final_counts_Bow_tr)\n",
    "print(standardized_data_train.shape)\n",
    "standardized_data_test = preprocessing.normalize(final_counts_Bow_test)\n",
    "print(standardized_data_test.shape)\n"
   ]
  },
  {
   "cell_type": "markdown",
   "metadata": {},
   "source": [
    "## 2.2.1 Replacing nan values with 0's.\n"
   ]
  },
  {
   "cell_type": "code",
   "execution_count": 11,
   "metadata": {},
   "outputs": [],
   "source": [
    "# Replacing nan values with 0's.\n",
    "\n",
    "standardized_data_train = np.nan_to_num(standardized_data_train)\n",
    "standardized_data_test = np.nan_to_num(standardized_data_test)"
   ]
  },
  {
   "cell_type": "code",
   "execution_count": 12,
   "metadata": {},
   "outputs": [
    {
     "name": "stdout",
     "output_type": "stream",
     "text": [
      "0.8038940474071021 {'max_depth': 11}\n",
      "Model with best parameters :\n",
      " DecisionTreeClassifier(class_weight='balanced', criterion='gini',\n",
      "            max_depth=11, max_features=None, max_leaf_nodes=None,\n",
      "            min_impurity_decrease=0.0, min_impurity_split=None,\n",
      "            min_samples_leaf=5, min_samples_split=2,\n",
      "            min_weight_fraction_leaf=0.0, presort=False, random_state=100,\n",
      "            splitter='best')\n",
      "Accuracy of the model :  0.8075602391806287\n"
     ]
    }
   ],
   "source": [
    "from sklearn.model_selection import cross_val_score\n",
    "from sklearn.tree import DecisionTreeClassifier\n",
    "from sklearn import tree\n",
    "\n",
    "param_grid = {'max_depth': [2,3,4,5,6,7,8,9,10,11,12]}\n",
    "model = GridSearchCV(DecisionTreeClassifier(min_samples_leaf=5,criterion = 'gini',random_state = 100,class_weight ='balanced'), param_grid,scoring ='f1',cv=3 , n_jobs = -1,pre_dispatch=2)\n",
    "model.fit(standardized_data_train, y_train)\n",
    "print(model.best_score_, model.best_params_) \n",
    "print(\"Model with best parameters :\\n\",model.best_estimator_)\n",
    "print(\"Accuracy of the model : \",model.score(standardized_data_test, y_test))\n",
    "\n",
    "a = model.best_params_\n",
    "optimal_max_depth = a.get('max_depth')\n"
   ]
  },
  {
   "cell_type": "code",
   "execution_count": 13,
   "metadata": {},
   "outputs": [
    {
     "data": {
      "text/plain": [
       "array([0.52791456, 0.62265711, 0.66464012, 0.66002788, 0.68992465,\n",
       "       0.72641363, 0.75805165, 0.761803  , 0.79249265, 0.80389405,\n",
       "       0.80178024])"
      ]
     },
     "execution_count": 13,
     "metadata": {},
     "output_type": "execute_result"
    }
   ],
   "source": [
    "results = model.cv_results_\n",
    "results['mean_test_score']"
   ]
  },
  {
   "cell_type": "code",
   "execution_count": 14,
   "metadata": {},
   "outputs": [
    {
     "data": {
      "image/png": "[encoded data removed]",
      "text/plain": [
       "<matplotlib.figure.Figure at 0x18f14ad96a0>"
      ]
     },
     "metadata": {},
     "output_type": "display_data"
    }
   ],
   "source": [
    "max_depth=2,3,4,5,6,7,8,9,10,11,12\n",
    "plt.plot(max_depth,results['mean_test_score'],marker='o')\n",
    "plt.xlabel('max_depth')\n",
    "plt.ylabel('f1score')\n",
    "plt.title(\"F1score vs max_depth\")\n",
    "plt.grid()\n",
    "plt.show()"
   ]
  },
  {
   "cell_type": "markdown",
   "metadata": {},
   "source": [
    "## Heatmap for Plotting CV Scores"
   ]
  },
  {
   "cell_type": "code",
   "execution_count": 15,
   "metadata": {},
   "outputs": [
    {
     "data": {
      "image/png": "[encoded data removed]",
      "text/plain": [
       "<matplotlib.figure.Figure at 0x18f20420be0>"
      ]
     },
     "metadata": {},
     "output_type": "display_data"
    }
   ],
   "source": [
    "pvt =pd.pivot_table(pd.DataFrame(model.cv_results_),values='mean_test_score',index='param_max_depth')\n",
    "import seaborn as sns       \n",
    "ax = sns.heatmap(pvt,annot=True,fmt=\"f\")"
   ]
  },
  {
   "cell_type": "code",
   "execution_count": 16,
   "metadata": {},
   "outputs": [],
   "source": [
    "# DecisionTreeClassifier with Optimal value of depth\n",
    "clf = DecisionTreeClassifier(max_depth=optimal_max_depth,class_weight ='balanced')\n",
    "clf.fit(standardized_data_train,y_train)\n",
    "y_pred = clf.predict(standardized_data_test)"
   ]
  },
  {
   "cell_type": "markdown",
   "metadata": {},
   "source": [
    "## 2.3 Confusion Matrix"
   ]
  },
  {
   "cell_type": "code",
   "execution_count": 17,
   "metadata": {},
   "outputs": [
    {
     "name": "stdout",
     "output_type": "stream",
     "text": [
      "Confusion Matrix:\n"
     ]
    },
    {
     "data": {
      "image/png": "[encoded data removed]",
      "text/plain": [
       "<matplotlib.figure.Figure at 0x18f1bfebda0>"
      ]
     },
     "metadata": {},
     "output_type": "display_data"
    }
   ],
   "source": [
    "cm_bow=confusion_matrix(y_test,y_pred)\n",
    "print(\"Confusion Matrix:\")\n",
    "sns.heatmap(cm_bow, annot=True, fmt='d')\n",
    "plt.show()"
   ]
  },
  {
   "cell_type": "code",
   "execution_count": 18,
   "metadata": {},
   "outputs": [
    {
     "name": "stdout",
     "output_type": "stream",
     "text": [
      " true negitves are 4685 \n",
      " false positives are 1429 \n",
      " false negatives are 11524\n",
      " true positives are 27362 \n",
      " \n"
     ]
    }
   ],
   "source": [
    "#finding out  true negative , false positive , false negative and true positve \n",
    "tn, fp, fn, tp = cm_bow.ravel()\n",
    "( tp, fp, fn, tp)\n",
    "print(\" true negitves are {} \\n false positives are {} \\n false negatives are {}\\n true positives are {} \\n \".format(tn,fp,fn,tp))"
   ]
  },
  {
   "cell_type": "markdown",
   "metadata": {},
   "source": [
    "## 2.4 Calculating Accuracy,Error on test data,Precision,Recall,Classification Report"
   ]
  },
  {
   "cell_type": "code",
   "execution_count": 19,
   "metadata": {},
   "outputs": [
    {
     "name": "stdout",
     "output_type": "stream",
     "text": [
      "\n",
      "The Test Accuracy of the Decision tree for maxdepth = 11.000 is 71.215556%\n",
      "\n",
      "Test Error Decision tree for maxdepth  is  28.784444%\n",
      "\n",
      "The Test Precision Decision tree for maxdepth  = 11.000 is 0.950366\n",
      "\n",
      "The Test Recall of the Decision tree for maxdepth  = 11.000 is 0.703647\n",
      "\n",
      "The Test classification report of the  Decision tree for maxdepth  \n",
      "\n",
      "                precision    recall  f1-score   support\n",
      "\n",
      "           0       0.29      0.77      0.42      6114\n",
      "           1       0.95      0.70      0.81     38886\n",
      "\n",
      "   micro avg       0.71      0.71      0.71     45000\n",
      "   macro avg       0.62      0.73      0.61     45000\n",
      "weighted avg       0.86      0.71      0.76     45000\n",
      "\n"
     ]
    }
   ],
   "source": [
    "from sklearn.metrics import recall_score\n",
    "from sklearn.metrics import precision_score\n",
    "from sklearn.metrics import classification_report\n",
    "from sklearn.metrics import roc_auc_score\n",
    "\n",
    "# evaluating accuracy\n",
    "acc_bow = accuracy_score(y_test, y_pred) * 100\n",
    "print('\\nThe Test Accuracy of the Decision tree for maxdepth = %.3f is %f%%' % (optimal_max_depth, acc_bow))\n",
    "\n",
    "# Error on test data\n",
    "test_error_bow = 100-acc_bow\n",
    "print(\"\\nTest Error Decision tree for maxdepth  is  %f%%\" % (test_error_bow))\n",
    "\n",
    "# evaluating precision\n",
    "precision_score = precision_score(y_test, y_pred) \n",
    "print('\\nThe Test Precision Decision tree for maxdepth  = %.3f is %f' % (optimal_max_depth, precision_score))\n",
    "\n",
    "# evaluating recall\n",
    "recall_score = recall_score(y_test, y_pred)\n",
    "print('\\nThe Test Recall of the Decision tree for maxdepth  = %.3f is %f' % (optimal_max_depth, recall_score))\n",
    "\n",
    "# evaluating Classification report\n",
    "classification_report = classification_report(y_test, y_pred)\n",
    "print('\\nThe Test classification report of the  Decision tree for maxdepth  \\n\\n ',(classification_report))"
   ]
  },
  {
   "cell_type": "markdown",
   "metadata": {},
   "source": [
    "## 2.5 Plotting roc_auc curve"
   ]
  },
  {
   "cell_type": "code",
   "execution_count": 20,
   "metadata": {},
   "outputs": [
    {
     "data": {
      "image/png": "[encoded data removed]",
      "text/plain": [
       "<matplotlib.figure.Figure at 0x18f18568f98>"
      ]
     },
     "metadata": {},
     "output_type": "display_data"
    }
   ],
   "source": [
    "y_pred_proba = clf.predict_proba(standardized_data_test)[::,1]\n",
    "fpr, tpr, _ = metrics.roc_curve(y_test,  y_pred_proba)\n",
    "auc = metrics.roc_auc_score(y_test, y_pred_proba)\n",
    "plt.plot(fpr,tpr,label=\"bow, AUC=\"+str(auc))\n",
    "plt.plot([0,1],[0,1],'r--')\n",
    "plt.title('ROC curve: Decision Tree')\n",
    "plt.legend(loc='lower right')\n",
    "plt.ylabel('True Positive Rate')\n",
    "plt.xlabel('False Positive Rate')\n",
    "plt.show()"
   ]
  },
  {
   "cell_type": "markdown",
   "metadata": {},
   "source": [
    "## 2.6 Top 25 words "
   ]
  },
  {
   "cell_type": "code",
   "execution_count": 21,
   "metadata": {},
   "outputs": [
    {
     "name": "stdout",
     "output_type": "stream",
     "text": [
      "0          great\n",
      "1           love\n",
      "2           best\n",
      "3     disappoint\n",
      "4         delici\n",
      "5        perfect\n",
      "6        favorit\n",
      "7           good\n",
      "8          excel\n",
      "9           nice\n",
      "10           bad\n",
      "11       thought\n",
      "12          easi\n",
      "13          tast\n",
      "14       terribl\n",
      "15         worst\n",
      "16       product\n",
      "17       horribl\n",
      "18         would\n",
      "19      unfortun\n",
      "20         stale\n",
      "21         least\n",
      "22          wont\n",
      "23         money\n",
      "24        return\n",
      "Name: index, dtype: object\n"
     ]
    }
   ],
   "source": [
    "words = count_vect.get_feature_names()\n",
    "likelihood_df = pd.DataFrame(clf.feature_importances_.transpose(),columns=[ 'Score'],index=words)\n",
    "top_25 = likelihood_df.sort_values(by='Score',ascending=False).iloc[:25]\n",
    "top_25.reset_index(inplace=True)\n",
    "top_words = top_25['index']\n",
    "print(top_words)"
   ]
  },
  {
   "cell_type": "code",
   "execution_count": 22,
   "metadata": {},
   "outputs": [
    {
     "name": "stdout",
     "output_type": "stream",
     "text": [
      "\n",
      "\n",
      "Word Cloud for Important features\n"
     ]
    },
    {
     "data": {
      "image/png": "[encoded data removed]",
      "text/plain": [
       "<matplotlib.figure.Figure at 0x18f23ac1a58>"
      ]
     },
     "metadata": {},
     "output_type": "display_data"
    }
   ],
   "source": [
    "from wordcloud import WordCloud \n",
    "\n",
    "list_of_words_str = ' '.join(top_words)\n",
    "\n",
    "wc = WordCloud(background_color=\"white\", max_words=len(top_words), \n",
    "               width=900, height=600, collocations=False)\n",
    "wc.generate(list_of_words_str)\n",
    "print (\"\\n\\nWord Cloud for Important features\")\n",
    "plt.imshow(wc, interpolation='bilinear')\n",
    "plt.axis(\"off\")\n",
    "plt.show()"
   ]
  },
  {
   "cell_type": "markdown",
   "metadata": {},
   "source": [
    "## 2.7 Visualizing Decision tree By graph\n"
   ]
  },
  {
   "cell_type": "code",
   "execution_count": 30,
   "metadata": {},
   "outputs": [
    {
     "data": {
      "text/plain": [
       "True"
      ]
     },
     "execution_count": 30,
     "metadata": {},
     "output_type": "execute_result"
    }
   ],
   "source": [
    "from IPython.display import Image \n",
    "from sklearn.tree import export_graphviz\n",
    "from io import StringIO\n",
    "from sklearn import tree\n",
    "import pydotplus\n",
    "target = ['1','0']\n",
    "dot_data = StringIO()\n",
    "export_graphviz(clf,max_depth=3,out_file=dot_data,filled=True,class_names=target,feature_names=count_vect.get_feature_names(),rounded=True,special_characters=True)\n",
    "graph = pydotplus.graph_from_dot_data(dot_data.getvalue())\n",
    "# Show graph\n",
    "Image(graph.create_png())\n",
    "# Create PNG\n",
    "graph.write_png(\"bag of words.png\")\n",
    "\n",
    "\n"
   ]
  },
  {
   "cell_type": "markdown",
   "metadata": {},
   "source": [
    "## 3. TF-IDF"
   ]
  },
  {
   "cell_type": "code",
   "execution_count": 31,
   "metadata": {},
   "outputs": [
    {
     "name": "stdout",
     "output_type": "stream",
     "text": [
      "the type of count vectorizer  <class 'scipy.sparse.csr.csr_matrix'>\n",
      "the shape of out text tfidf vectorizer  (105000, 38300)\n",
      "the number of unique words  38300\n",
      "the type of count vectorizer  <class 'scipy.sparse.csr.csr_matrix'>\n",
      "the shape of out text tfidf vectorizer  (45000, 38300)\n",
      "the number of unique words  38300\n"
     ]
    }
   ],
   "source": [
    "#tf-idf\n",
    "from sklearn.feature_extraction.text import TfidfVectorizer\n",
    "tf_idf_vect = TfidfVectorizer()\n",
    "\n",
    "final_counts_tfidf_tr= tf_idf_vect.fit_transform(x_train)\n",
    "print(\"the type of count vectorizer \",type(final_counts_tfidf_tr))\n",
    "print(\"the shape of out text tfidf vectorizer \",final_counts_tfidf_tr.get_shape())\n",
    "print(\"the number of unique words \", final_counts_tfidf_tr.get_shape()[1])\n",
    "final_counts_tfidf_test= tf_idf_vect.transform(x_test)\n",
    "print(\"the type of count vectorizer \",type(final_counts_tfidf_test))\n",
    "print(\"the shape of out text tfidf vectorizer \",final_counts_tfidf_test.get_shape())\n",
    "print(\"the number of unique words \", final_counts_tfidf_test.get_shape()[1])"
   ]
  },
  {
   "cell_type": "markdown",
   "metadata": {},
   "source": [
    "## 3.1 Normalizing Data"
   ]
  },
  {
   "cell_type": "code",
   "execution_count": 32,
   "metadata": {},
   "outputs": [
    {
     "name": "stdout",
     "output_type": "stream",
     "text": [
      "(105000, 38300)\n",
      "(45000, 38300)\n"
     ]
    }
   ],
   "source": [
    "# Data-preprocessing: Normalizing Data\n",
    "from sklearn import preprocessing\n",
    "standardized_data_train = preprocessing.normalize(final_counts_tfidf_tr)\n",
    "print(standardized_data_train.shape)\n",
    "standardized_data_test = preprocessing.normalize(final_counts_tfidf_test)\n",
    "print(standardized_data_test.shape)"
   ]
  },
  {
   "cell_type": "markdown",
   "metadata": {},
   "source": [
    "## 3.2 Replacing nan values with 0's."
   ]
  },
  {
   "cell_type": "code",
   "execution_count": 33,
   "metadata": {},
   "outputs": [],
   "source": [
    "standardized_data_train = np.nan_to_num(standardized_data_train)\n",
    "standardized_data_test = np.nan_to_num(standardized_data_test)"
   ]
  },
  {
   "cell_type": "markdown",
   "metadata": {},
   "source": [
    "## 3.3 Applying Decision Tree Algorithm"
   ]
  },
  {
   "cell_type": "code",
   "execution_count": 34,
   "metadata": {},
   "outputs": [
    {
     "name": "stdout",
     "output_type": "stream",
     "text": [
      "0.7929558292310409 {'max_depth': 11}\n",
      "Model with best parameters :\n",
      " DecisionTreeClassifier(class_weight='balanced', criterion='gini',\n",
      "            max_depth=11, max_features=None, max_leaf_nodes=None,\n",
      "            min_impurity_decrease=0.0, min_impurity_split=None,\n",
      "            min_samples_leaf=5, min_samples_split=2,\n",
      "            min_weight_fraction_leaf=0.0, presort=False, random_state=100,\n",
      "            splitter='best')\n",
      "Accuracy of the model :  0.7974550898203593\n"
     ]
    }
   ],
   "source": [
    "from sklearn.model_selection import cross_val_score\n",
    "from sklearn.tree import DecisionTreeClassifier\n",
    "from sklearn import tree\n",
    "\n",
    "param_grid = {'max_depth': [3,4,5,6,7,8,9,10,11]}\n",
    "model = GridSearchCV(DecisionTreeClassifier(min_samples_leaf=5,criterion = 'gini',random_state = 100,class_weight ='balanced'), param_grid,scoring ='f1',cv=3 , n_jobs = -1,pre_dispatch=2)\n",
    "model.fit(standardized_data_train, y_train)\n",
    "print(model.best_score_, model.best_params_) \n",
    "print(\"Model with best parameters :\\n\",model.best_estimator_)\n",
    "print(\"Accuracy of the model : \",model.score(standardized_data_test, y_test))\n",
    "\n",
    "a = model.best_params_\n",
    "optimal_max_depth = a.get('max_depth')"
   ]
  },
  {
   "cell_type": "code",
   "execution_count": 35,
   "metadata": {},
   "outputs": [
    {
     "data": {
      "text/plain": [
       "array([0.62716029, 0.66876235, 0.66465578, 0.6923533 , 0.74184638,\n",
       "       0.76017882, 0.78450084, 0.78165807, 0.79295583])"
      ]
     },
     "execution_count": 35,
     "metadata": {},
     "output_type": "execute_result"
    }
   ],
   "source": [
    "results = model.cv_results_\n",
    "results['mean_test_score']"
   ]
  },
  {
   "cell_type": "code",
   "execution_count": 36,
   "metadata": {},
   "outputs": [
    {
     "data": {
      "image/png": "[encoded data removed]",
      "text/plain": [
       "<matplotlib.figure.Figure at 0x18f1ce85a20>"
      ]
     },
     "metadata": {},
     "output_type": "display_data"
    }
   ],
   "source": [
    "max_depth=3,4,5,6,7,8,9,10,11\n",
    "plt.plot(max_depth,results['mean_test_score'],marker='o')\n",
    "plt.xlabel('max_depth')\n",
    "plt.ylabel('f1score')\n",
    "plt.title(\"F1score vs max_depth\")\n",
    "plt.grid()\n",
    "plt.show()"
   ]
  },
  {
   "cell_type": "markdown",
   "metadata": {},
   "source": [
    "## Heatmap for Plotting CV Scores"
   ]
  },
  {
   "cell_type": "code",
   "execution_count": 37,
   "metadata": {},
   "outputs": [
    {
     "data": {
      "image/png": "[encoded data removed]",
      "text/plain": [
       "<matplotlib.figure.Figure at 0x18f1ce85e10>"
      ]
     },
     "metadata": {},
     "output_type": "display_data"
    }
   ],
   "source": [
    "pvt =pd.pivot_table(pd.DataFrame(model.cv_results_),values='mean_test_score',index='param_max_depth')\n",
    "import seaborn as sns       \n",
    "ax = sns.heatmap(pvt,annot=True,fmt=\"f\")"
   ]
  },
  {
   "cell_type": "code",
   "execution_count": 38,
   "metadata": {},
   "outputs": [],
   "source": [
    "# DecisionTreeClassifier with Optimal value of depth\n",
    "clf = DecisionTreeClassifier(max_depth=optimal_max_depth,class_weight ='balanced')\n",
    "clf.fit(standardized_data_train,y_train)\n",
    "y_pred = clf.predict(standardized_data_test)"
   ]
  },
  {
   "cell_type": "markdown",
   "metadata": {},
   "source": [
    "## 3.4 Confusion Matrix"
   ]
  },
  {
   "cell_type": "code",
   "execution_count": 39,
   "metadata": {},
   "outputs": [
    {
     "name": "stdout",
     "output_type": "stream",
     "text": [
      "Confusion Matrix:\n"
     ]
    },
    {
     "data": {
      "image/png": "[encoded data removed]",
      "text/plain": [
       "<matplotlib.figure.Figure at 0x18f0b26ac88>"
      ]
     },
     "metadata": {},
     "output_type": "display_data"
    }
   ],
   "source": [
    "cm_tfidf=confusion_matrix(y_test,y_pred)\n",
    "print(\"Confusion Matrix:\")\n",
    "sns.heatmap(cm_bow, annot=True, fmt='d')\n",
    "plt.show()"
   ]
  },
  {
   "cell_type": "code",
   "execution_count": 40,
   "metadata": {},
   "outputs": [
    {
     "name": "stdout",
     "output_type": "stream",
     "text": [
      " true negitves are 4824 \n",
      " false positives are 1290 \n",
      " false negatives are 12195\n",
      " true positives are 26691 \n",
      " \n"
     ]
    }
   ],
   "source": [
    "#finding out  true negative , false positive , false negative and true positve \n",
    "tn, fp, fn, tp = cm_tfidf.ravel()\n",
    "( tp, fp, fn, tp)\n",
    "print(\" true negitves are {} \\n false positives are {} \\n false negatives are {}\\n true positives are {} \\n \".format(tn,fp,fn,tp))"
   ]
  },
  {
   "cell_type": "markdown",
   "metadata": {},
   "source": [
    "## 3.5 Calculating Accuracy,Error on test data,Precision,Recall,Classification Report"
   ]
  },
  {
   "cell_type": "code",
   "execution_count": 41,
   "metadata": {},
   "outputs": [
    {
     "name": "stdout",
     "output_type": "stream",
     "text": [
      "\n",
      "The Test Accuracy of the Decision tree for maxdepth = 11.000 is 70.033333%\n",
      "\n",
      "Test Error of the Decision tree for maxdepth  29.966667%\n",
      "\n",
      "The Test Precision of the Decision tree for maxdepth is = 11.000 is 0.953897\n",
      "\n",
      "The Test Recall of the Decision tree for maxdepth is = 11.000 is 0.686391\n",
      "\n",
      "The Test classification report of the Decision tree for maxdepth is \n",
      "\n",
      "                precision    recall  f1-score   support\n",
      "\n",
      "           0       0.28      0.79      0.42      6114\n",
      "           1       0.95      0.69      0.80     38886\n",
      "\n",
      "   micro avg       0.70      0.70      0.70     45000\n",
      "   macro avg       0.62      0.74      0.61     45000\n",
      "weighted avg       0.86      0.70      0.75     45000\n",
      "\n"
     ]
    }
   ],
   "source": [
    "from sklearn.metrics import recall_score\n",
    "from sklearn.metrics import precision_score\n",
    "from sklearn.metrics import classification_report\n",
    "\n",
    "\n",
    "# evaluating accuracy\n",
    "acc_tfidf = accuracy_score(y_test, y_pred) * 100\n",
    "print('\\nThe Test Accuracy of the Decision tree for maxdepth = %.3f is %f%%' % (optimal_max_depth, acc_tfidf))\n",
    "\n",
    "# Error on test data\n",
    "test_error_tfidf = 100-acc_tfidf\n",
    "print(\"\\nTest Error of the Decision tree for maxdepth  %f%%\" % (test_error_tfidf))\n",
    "\n",
    "# evaluating precision\n",
    "precision_score = precision_score(y_test, y_pred) \n",
    "print('\\nThe Test Precision of the Decision tree for maxdepth is = %.3f is %f' % (optimal_max_depth, precision_score))\n",
    "\n",
    "# evaluating recall\n",
    "recall_score = recall_score(y_test, y_pred)\n",
    "print('\\nThe Test Recall of the Decision tree for maxdepth is = %.3f is %f' % (optimal_max_depth, recall_score))\n",
    "\n",
    "# evaluating Classification report\n",
    "classification_report = classification_report(y_test, y_pred)\n",
    "print('\\nThe Test classification report of the Decision tree for maxdepth is \\n\\n ',(classification_report))"
   ]
  },
  {
   "cell_type": "markdown",
   "metadata": {},
   "source": [
    "## 3.6  Plotting roc_auc curve"
   ]
  },
  {
   "cell_type": "code",
   "execution_count": 42,
   "metadata": {},
   "outputs": [
    {
     "data": {
      "image/png": "[encoded data removed]",
      "text/plain": [
       "<matplotlib.figure.Figure at 0x18f10e3b4a8>"
      ]
     },
     "metadata": {},
     "output_type": "display_data"
    }
   ],
   "source": [
    "y_pred_proba = clf.predict_proba(standardized_data_test)[::,1]\n",
    "fpr, tpr, _ = metrics.roc_curve(y_test,  y_pred_proba)\n",
    "auc = metrics.roc_auc_score(y_test, y_pred_proba)\n",
    "plt.plot(fpr,tpr,label=\"tfidf, AUC=\"+str(auc))\n",
    "plt.plot([0,1],[0,1],'r--')\n",
    "plt.title('ROC curve: Decision Tree')\n",
    "plt.legend(loc='lower right')\n",
    "plt.ylabel('True Positive Rate')\n",
    "plt.xlabel('False Positive Rate')\n",
    "plt.show()"
   ]
  },
  {
   "cell_type": "markdown",
   "metadata": {},
   "source": [
    "## 3.7 Top 25 words"
   ]
  },
  {
   "cell_type": "code",
   "execution_count": 43,
   "metadata": {},
   "outputs": [
    {
     "name": "stdout",
     "output_type": "stream",
     "text": [
      "0          great\n",
      "1           best\n",
      "2           love\n",
      "3     disappoint\n",
      "4         delici\n",
      "5        perfect\n",
      "6           good\n",
      "7        favorit\n",
      "8          excel\n",
      "9        thought\n",
      "10           bad\n",
      "11          nice\n",
      "12          easi\n",
      "13       horribl\n",
      "14          tast\n",
      "15      unfortun\n",
      "16         howev\n",
      "17         worst\n",
      "18        return\n",
      "19         would\n",
      "20       terribl\n",
      "21         money\n",
      "22       product\n",
      "23         least\n",
      "24           tri\n",
      "Name: index, dtype: object\n"
     ]
    }
   ],
   "source": [
    "words = tf_idf_vect.get_feature_names()\n",
    "likelihood_df = pd.DataFrame(clf.feature_importances_.transpose(),columns=[ 'Score'],index=words)\n",
    "top_25 = likelihood_df.sort_values(by='Score',ascending=False).iloc[:25]\n",
    "top_25.reset_index(inplace=True)\n",
    "top_words = top_25['index']\n",
    "print(top_words)"
   ]
  },
  {
   "cell_type": "code",
   "execution_count": 44,
   "metadata": {},
   "outputs": [
    {
     "name": "stdout",
     "output_type": "stream",
     "text": [
      "\n",
      "\n",
      "Word Cloud for Important features\n"
     ]
    },
    {
     "data": {
      "image/png": "[encoded data removed]",
      "text/plain": [
       "<matplotlib.figure.Figure at 0x18f20193c50>"
      ]
     },
     "metadata": {},
     "output_type": "display_data"
    }
   ],
   "source": [
    "from wordcloud import WordCloud \n",
    "\n",
    "list_of_words_str = ' '.join(top_words)\n",
    "\n",
    "wc = WordCloud(background_color=\"white\", max_words=len(top_words), \n",
    "               width=900, height=600, collocations=False)\n",
    "wc.generate(list_of_words_str)\n",
    "print (\"\\n\\nWord Cloud for Important features\")\n",
    "plt.imshow(wc, interpolation='bilinear')\n",
    "plt.axis(\"off\")\n",
    "plt.show()"
   ]
  },
  {
   "cell_type": "markdown",
   "metadata": {},
   "source": [
    "## 3.8 Visualizing Decision tree By graph"
   ]
  },
  {
   "cell_type": "code",
   "execution_count": 45,
   "metadata": {},
   "outputs": [
    {
     "data": {
      "text/plain": [
       "True"
      ]
     },
     "execution_count": 45,
     "metadata": {},
     "output_type": "execute_result"
    }
   ],
   "source": [
    "from IPython.display import Image \n",
    "from sklearn.tree import export_graphviz\n",
    "from io import StringIO\n",
    "from sklearn import tree\n",
    "import pydotplus\n",
    "target = ['1','0']  #1=positive,o=negative\n",
    "dot_data = StringIO()\n",
    "export_graphviz(clf,max_depth=3,out_file=dot_data,filled=True,class_names=target,feature_names=tf_idf_vect.get_feature_names(),rounded=True,special_characters=True)\n",
    "# Draw graph\n",
    "graph = pydotplus.graph_from_dot_data(dot_data.getvalue())\n",
    "#show graph\n",
    "Image(graph.create_png())\n",
    "# Create PNG\n",
    "graph.write_png(\"tfidf.png\")\n",
    "\n"
   ]
  },
  {
   "cell_type": "markdown",
   "metadata": {},
   "source": [
    "## 4. WORD2VEC"
   ]
  },
  {
   "cell_type": "code",
   "execution_count": 46,
   "metadata": {},
   "outputs": [
    {
     "name": "stdout",
     "output_type": "stream",
     "text": [
      "number of words that occured minimum 5 times  12829\n"
     ]
    }
   ],
   "source": [
    "from gensim.models import Word2Vec\n",
    "# List of sentence in X_train text\n",
    "sent_of_train=[]\n",
    "for sent in x_train:\n",
    "    sent_of_train.append(sent.split())\n",
    "\n",
    "# List of sentence in X_est text\n",
    "sent_of_test=[]\n",
    "for sent in x_test:\n",
    "    sent_of_test.append(sent.split())   \n",
    "    \n",
    "# Train your own Word2Vec model using your own train text corpus \n",
    "# min_count = 5 considers only words that occured atleast 5 times\n",
    "w2v_model=Word2Vec(sent_of_train,min_count=5,size=50, workers=4)\n",
    "\n",
    "w2v_words = list(w2v_model.wv.vocab)\n",
    "print(\"number of words that occured minimum 5 times \",len(w2v_words))"
   ]
  },
  {
   "cell_type": "markdown",
   "metadata": {},
   "source": [
    "## 5.  Avg Word2Vec\n"
   ]
  },
  {
   "cell_type": "code",
   "execution_count": 47,
   "metadata": {},
   "outputs": [],
   "source": [
    "# compute average word2vec for each review for X_train .\n",
    "train_vectors = []; \n",
    "for sent in sent_of_train:\n",
    "    sent_vec = np.zeros(50) \n",
    "    cnt_words =0; \n",
    "    for word in sent: # \n",
    "        if word in w2v_words:\n",
    "            vec = w2v_model.wv[word]\n",
    "            sent_vec += vec\n",
    "            cnt_words += 1\n",
    "    if cnt_words != 0:\n",
    "        sent_vec /= cnt_words\n",
    "    train_vectors.append(sent_vec)\n",
    "    \n",
    "# compute average word2vec for each review for X_test .\n",
    "test_vectors = []; \n",
    "for sent in sent_of_test:\n",
    "    sent_vec = np.zeros(50) \n",
    "    cnt_words =0; \n",
    "    for word in sent: # \n",
    "        if word in w2v_words:\n",
    "            vec = w2v_model.wv[word]\n",
    "            sent_vec += vec\n",
    "            cnt_words += 1\n",
    "    if cnt_words != 0:\n",
    "        sent_vec /= cnt_words\n",
    "    test_vectors.append(sent_vec)"
   ]
  },
  {
   "cell_type": "markdown",
   "metadata": {},
   "source": [
    "## 5.1 Replacing nan values with 0's.\n"
   ]
  },
  {
   "cell_type": "code",
   "execution_count": 48,
   "metadata": {},
   "outputs": [],
   "source": [
    "# Replacing nan values with 0's.\n",
    "train_vectors = np.nan_to_num(train_vectors)\n",
    "test_vectors = np.nan_to_num(test_vectors)"
   ]
  },
  {
   "cell_type": "markdown",
   "metadata": {},
   "source": [
    "## 5.2 Standardizing Data"
   ]
  },
  {
   "cell_type": "code",
   "execution_count": 49,
   "metadata": {},
   "outputs": [
    {
     "name": "stdout",
     "output_type": "stream",
     "text": [
      "(105000, 50)\n",
      "(45000, 50)\n"
     ]
    }
   ],
   "source": [
    "# Data-preprocessing: Standardizing the data\n",
    "\n",
    "from sklearn.preprocessing import StandardScaler\n",
    "standardized_data_train = StandardScaler().fit_transform(train_vectors)\n",
    "print(standardized_data_train.shape)\n",
    "standardized_data_test = StandardScaler().fit_transform(test_vectors)\n",
    "print(standardized_data_test.shape)"
   ]
  },
  {
   "cell_type": "markdown",
   "metadata": {},
   "source": [
    "## 5.3 Applying Decision Tree Algorithm\n"
   ]
  },
  {
   "cell_type": "code",
   "execution_count": 50,
   "metadata": {},
   "outputs": [
    {
     "name": "stdout",
     "output_type": "stream",
     "text": [
      "0.855054268929336 {'max_depth': 11}\n",
      "Model with best parameters :\n",
      " DecisionTreeClassifier(class_weight='balanced', criterion='gini',\n",
      "            max_depth=11, max_features=None, max_leaf_nodes=None,\n",
      "            min_impurity_decrease=0.0, min_impurity_split=None,\n",
      "            min_samples_leaf=5, min_samples_split=2,\n",
      "            min_weight_fraction_leaf=0.0, presort=False, random_state=100,\n",
      "            splitter='best')\n",
      "Accuracy of the model :  0.8511017957287714\n"
     ]
    }
   ],
   "source": [
    "from sklearn.model_selection import cross_val_score\n",
    "from sklearn.tree import DecisionTreeClassifier\n",
    "from sklearn import tree\n",
    "\n",
    "param_grid = {'max_depth': [3,4,5,6,7,8,9,10,11]}\n",
    "model = GridSearchCV(DecisionTreeClassifier(min_samples_leaf=5,criterion = 'gini',random_state = 100,class_weight ='balanced'), param_grid,scoring ='f1',cv=3 , n_jobs = -1,pre_dispatch=2)\n",
    "model.fit(standardized_data_train, y_train)\n",
    "print(model.best_score_, model.best_params_) \n",
    "print(\"Model with best parameters :\\n\",model.best_estimator_)\n",
    "print(\"Accuracy of the model : \",model.score(standardized_data_test, y_test))\n",
    "\n",
    "a = model.best_params_\n",
    "optimal_max_depth = a.get('max_depth')"
   ]
  },
  {
   "cell_type": "code",
   "execution_count": 51,
   "metadata": {},
   "outputs": [
    {
     "data": {
      "text/plain": [
       "array([0.82577276, 0.80860693, 0.8262064 , 0.83612522, 0.83549092,\n",
       "       0.83680032, 0.84084137, 0.84920992, 0.85505427])"
      ]
     },
     "execution_count": 51,
     "metadata": {},
     "output_type": "execute_result"
    }
   ],
   "source": [
    "results = model.cv_results_\n",
    "results['mean_test_score']"
   ]
  },
  {
   "cell_type": "code",
   "execution_count": 52,
   "metadata": {},
   "outputs": [
    {
     "data": {
      "image/png": "[encoded data removed]",
      "text/plain": [
       "<matplotlib.figure.Figure at 0x18f2033a240>"
      ]
     },
     "metadata": {},
     "output_type": "display_data"
    }
   ],
   "source": [
    "max_depth=3,4,5,6,7,8,9,10,11\n",
    "plt.plot(max_depth,results['mean_test_score'],marker='o')\n",
    "plt.xlabel('max_depth')\n",
    "plt.ylabel('f1score')\n",
    "plt.title(\"F1score vs max_depth\")\n",
    "plt.grid()\n",
    "plt.show()"
   ]
  },
  {
   "cell_type": "markdown",
   "metadata": {},
   "source": [
    "## Heatmap for plotting CV Scores"
   ]
  },
  {
   "cell_type": "code",
   "execution_count": 53,
   "metadata": {},
   "outputs": [
    {
     "data": {
      "image/png": "[encoded data removed]",
      "text/plain": [
       "<matplotlib.figure.Figure at 0x18f2033a320>"
      ]
     },
     "metadata": {},
     "output_type": "display_data"
    }
   ],
   "source": [
    "pvt =pd.pivot_table(pd.DataFrame(model.cv_results_),values='mean_test_score',index='param_max_depth')\n",
    "import seaborn as sns       \n",
    "ax = sns.heatmap(pvt,annot=True,fmt=\"f\")"
   ]
  },
  {
   "cell_type": "code",
   "execution_count": 54,
   "metadata": {},
   "outputs": [],
   "source": [
    "# DecisionTreeClassifier with Optimal value of depth\n",
    "clf = DecisionTreeClassifier(max_depth=optimal_max_depth,class_weight ='balanced')\n",
    "clf.fit(standardized_data_train,y_train)\n",
    "y_pred = clf.predict(standardized_data_test)\n"
   ]
  },
  {
   "cell_type": "markdown",
   "metadata": {},
   "source": [
    "## 5.4 Confusion Matrix"
   ]
  },
  {
   "cell_type": "code",
   "execution_count": 55,
   "metadata": {},
   "outputs": [
    {
     "name": "stdout",
     "output_type": "stream",
     "text": [
      "Confusion Matrix:\n"
     ]
    },
    {
     "data": {
      "image/png": "[encoded data removed]",
      "text/plain": [
       "<matplotlib.figure.Figure at 0x18f53b3b5c0>"
      ]
     },
     "metadata": {},
     "output_type": "display_data"
    }
   ],
   "source": [
    "cm_avgw2v=confusion_matrix(y_test,y_pred)\n",
    "print(\"Confusion Matrix:\")\n",
    "sns.heatmap(cm_avgw2v, annot=True, fmt='d')\n",
    "plt.show()"
   ]
  },
  {
   "cell_type": "code",
   "execution_count": 56,
   "metadata": {},
   "outputs": [
    {
     "name": "stdout",
     "output_type": "stream",
     "text": [
      " true negitves are 4384 \n",
      " false positives are 1730 \n",
      " false negatives are 8512\n",
      " true positives are 30374 \n",
      " \n"
     ]
    }
   ],
   "source": [
    "#finding out  true negative , false positive , false negative and true positve \n",
    "tn, fp, fn, tp = cm_avgw2v.ravel()\n",
    "( tp, fp, fn, tp)\n",
    "print(\" true negitves are {} \\n false positives are {} \\n false negatives are {}\\n true positives are {} \\n \".format(tn,fp,fn,tp))"
   ]
  },
  {
   "cell_type": "markdown",
   "metadata": {},
   "source": [
    "## 5.5 Calculating Accuracy,Error on test data,Precision,Recall,Classification Report"
   ]
  },
  {
   "cell_type": "code",
   "execution_count": 57,
   "metadata": {},
   "outputs": [
    {
     "name": "stdout",
     "output_type": "stream",
     "text": [
      "\n",
      "The Test Accuracy of the Decision tree for maxdepth is = 11.000 is 77.240000%\n",
      "\n",
      "Test Error of the Decision tree for maxdepth is  22.760000%\n",
      "\n",
      "The Test Precision of the Decision tree for maxdepth is = 11.000 is 0.946113\n",
      "\n",
      "The Test Recall of the Decision tree for maxdepth is = 11.000 is 0.781104\n",
      "\n",
      "The Test classification report of the Decision tree for maxdepth is \n",
      "\n",
      "                precision    recall  f1-score   support\n",
      "\n",
      "           0       0.34      0.72      0.46      6114\n",
      "           1       0.95      0.78      0.86     38886\n",
      "\n",
      "   micro avg       0.77      0.77      0.77     45000\n",
      "   macro avg       0.64      0.75      0.66     45000\n",
      "weighted avg       0.86      0.77      0.80     45000\n",
      "\n"
     ]
    }
   ],
   "source": [
    "from sklearn.metrics import recall_score\n",
    "from sklearn.metrics import precision_score\n",
    "from sklearn.metrics import classification_report\n",
    "\n",
    "\n",
    "# evaluating accuracy\n",
    "acc_avgw2v = accuracy_score(y_test, y_pred) * 100\n",
    "print('\\nThe Test Accuracy of the Decision tree for maxdepth is = %.3f is %f%%' % (optimal_max_depth, acc_avgw2v))\n",
    "\n",
    "# Error on test data\n",
    "test_error_avgw2v = 100-acc_avgw2v\n",
    "print(\"\\nTest Error of the Decision tree for maxdepth is  %f%%\" % (test_error_avgw2v))\n",
    "\n",
    "# evaluating precision\n",
    "precision_score = precision_score(y_test, y_pred) \n",
    "print('\\nThe Test Precision of the Decision tree for maxdepth is = %.3f is %f' % (optimal_max_depth, precision_score))\n",
    "\n",
    "# evaluating recall\n",
    "recall_score = recall_score(y_test, y_pred)\n",
    "print('\\nThe Test Recall of the Decision tree for maxdepth is = %.3f is %f' % (optimal_max_depth, recall_score))\n",
    "\n",
    "# evaluating Classification report\n",
    "classification_report = classification_report(y_test, y_pred)\n",
    "print('\\nThe Test classification report of the Decision tree for maxdepth is \\n\\n ',(classification_report))"
   ]
  },
  {
   "cell_type": "markdown",
   "metadata": {},
   "source": [
    "## 5.6 Plotting roc_auc curve"
   ]
  },
  {
   "cell_type": "code",
   "execution_count": 58,
   "metadata": {},
   "outputs": [
    {
     "data": {
      "image/png": "[encoded data removed]",
      "text/plain": [
       "<matplotlib.figure.Figure at 0x18f3047ca90>"
      ]
     },
     "metadata": {},
     "output_type": "display_data"
    }
   ],
   "source": [
    "y_pred_proba = clf.predict_proba(standardized_data_test)[::,1]\n",
    "fpr, tpr, _ = metrics.roc_curve(y_test,  y_pred_proba)\n",
    "auc = metrics.roc_auc_score(y_test, y_pred_proba)\n",
    "plt.plot(fpr,tpr,label=\"Avgword2vec, AUC=\"+str(auc))\n",
    "plt.plot([0,1],[0,1],'r--')\n",
    "plt.title('ROC curve: Decision Tree')\n",
    "plt.legend(loc='lower right')\n",
    "plt.ylabel('True Positive Rate')\n",
    "plt.xlabel('False Positive Rate')\n",
    "plt.show()"
   ]
  },
  {
   "cell_type": "markdown",
   "metadata": {},
   "source": [
    "## 5.7 Visualizing Decision tree By graph"
   ]
  },
  {
   "cell_type": "code",
   "execution_count": 59,
   "metadata": {},
   "outputs": [
    {
     "data": {
      "text/plain": [
       "True"
      ]
     },
     "execution_count": 59,
     "metadata": {},
     "output_type": "execute_result"
    }
   ],
   "source": [
    "from IPython.display import Image \n",
    "from sklearn.tree import export_graphviz\n",
    "from io import StringIO\n",
    "from sklearn import tree\n",
    "import pydotplus\n",
    "target = ['1','0']  #1=positive,o=negative\n",
    "dot_data = StringIO()\n",
    "export_graphviz(clf,max_depth=3,out_file=dot_data,filled=True,class_names=target,rounded=True,special_characters=True)\n",
    "# Draw graph\n",
    "graph = pydotplus.graph_from_dot_data(dot_data.getvalue())\n",
    "#show graph\n",
    "Image(graph.create_png())\n",
    "# Create PNG\n",
    "graph.write_png(\"Avgword2vec.png\")\n",
    "\n",
    "\n"
   ]
  },
  {
   "cell_type": "markdown",
   "metadata": {},
   "source": [
    "## 6. TFIDF-Word2Vec"
   ]
  },
  {
   "cell_type": "code",
   "execution_count": 60,
   "metadata": {},
   "outputs": [
    {
     "name": "stdout",
     "output_type": "stream",
     "text": [
      "<class 'scipy.sparse.csr.csr_matrix'>\n",
      "(105000, 38300)\n",
      "<class 'scipy.sparse.csr.csr_matrix'>\n",
      "(45000, 38300)\n"
     ]
    }
   ],
   "source": [
    "#tf-idf weighted w2v\n",
    "\n",
    "from sklearn.feature_extraction.text import TfidfVectorizer\n",
    "\n",
    "tfidfw2v_vect = TfidfVectorizer()\n",
    "final_counts_tfidfw2v_train= tfidfw2v_vect.fit_transform(x_train) \n",
    "print(type(final_counts_tfidfw2v_train))\n",
    "print(final_counts_tfidfw2v_train.shape)\n",
    "\n",
    "final_counts_tfidfw2v_test= tfidfw2v_vect.transform(x_test) \n",
    "print(type(final_counts_tfidfw2v_test))\n",
    "print(final_counts_tfidfw2v_test.shape)"
   ]
  },
  {
   "cell_type": "code",
   "execution_count": 61,
   "metadata": {},
   "outputs": [
    {
     "name": "stdout",
     "output_type": "stream",
     "text": [
      "105000\n",
      "45000\n"
     ]
    }
   ],
   "source": [
    "# we are converting a dictionary with word as a key, and the idf as a value\n",
    "dictionary = dict(zip(tfidfw2v_vect.get_feature_names(), list(tfidfw2v_vect.idf_)))\n",
    "\n",
    "\n",
    "# TF-IDF weighted Word2Vec\n",
    "tfidf_feat = tfidfw2v_vect.get_feature_names() # tfidf words/col-names\n",
    "# final_tf_idf is the sparse matrix with row= sentence, col=word and cell_val = tfidf\n",
    "\n",
    "tfidf_sent_vectors = []; # the tfidf-w2v for each sentence/review is stored in this list\n",
    "row=0;\n",
    "for sent in sent_of_train: # for each review/sentence \n",
    "    sent_vec = np.zeros(50) # as word vectors are of zero length\n",
    "    weight_sum =0; # num of words with a valid vector in the sentence/review\n",
    "    for word in sent: # for each word in a review/sentence\n",
    "        if word in w2v_words:\n",
    "            vec = w2v_model.wv[word]\n",
    "#             tf_idf = tf_idf_matrix[row, tfidf_feat.index(word)]\n",
    "            # to reduce the computation we are \n",
    "            # dictionary[word] = idf value of word in whole courpus\n",
    "            # sent.count(word) = tf valeus of word in this review\n",
    "            tf_idf = dictionary[word]*(sent.count(word)/len(sent))\n",
    "            sent_vec += (vec * tf_idf)\n",
    "            weight_sum += tf_idf\n",
    "    if weight_sum != 0:\n",
    "        sent_vec /= weight_sum\n",
    "    tfidf_sent_vectors.append(sent_vec)\n",
    "    row += 1\n",
    "\n",
    "#Test case\n",
    "\n",
    "tfidf_sent_vectors1 = []; # the tfidf-w2v for each sentence/review is stored in this list\n",
    "row=0;\n",
    "for sent in sent_of_test: # for each review/sentence \n",
    "    sent_vec = np.zeros(50) # as word vectors are of zero length\n",
    "    weight_sum =0; # num of words with a valid vector in the sentence/review\n",
    "    for word in sent: # for each word in a review/sentence\n",
    "        if word in w2v_words:\n",
    "            vec = w2v_model.wv[word]\n",
    "#             tf_idf = tf_idf_matrix[row, tfidf_feat.index(word)]\n",
    "            # to reduce the computation we are \n",
    "            # dictionary[word] = idf value of word in whole courpus\n",
    "            # sent.count(word) = tf valeus of word in this review\n",
    "            tf_idf = dictionary[word]*(sent.count(word)/len(sent))\n",
    "            sent_vec += (vec * tf_idf)\n",
    "            weight_sum += tf_idf\n",
    "    if weight_sum != 0:\n",
    "        sent_vec /= weight_sum\n",
    "    tfidf_sent_vectors1.append(sent_vec)\n",
    "    row += 1\n",
    "print(len(tfidf_sent_vectors))\n",
    "print(len(tfidf_sent_vectors1))"
   ]
  },
  {
   "cell_type": "markdown",
   "metadata": {},
   "source": [
    "## 6.1 Replacing nan values with 0's.\n"
   ]
  },
  {
   "cell_type": "code",
   "execution_count": 62,
   "metadata": {},
   "outputs": [],
   "source": [
    "# Replacing nan values with 0's.\n",
    "tfidf_sent_vectors = np.nan_to_num(tfidf_sent_vectors)\n",
    "tfidf_sent_vectors1 = np.nan_to_num(tfidf_sent_vectors1)"
   ]
  },
  {
   "cell_type": "markdown",
   "metadata": {},
   "source": [
    "## 6.2 Standardizing the data"
   ]
  },
  {
   "cell_type": "code",
   "execution_count": 63,
   "metadata": {},
   "outputs": [
    {
     "name": "stdout",
     "output_type": "stream",
     "text": [
      "(105000, 50)\n",
      "(45000, 50)\n"
     ]
    }
   ],
   "source": [
    "# Data-preprocessing: Standardizing the data\n",
    "\n",
    "from sklearn.preprocessing import StandardScaler\n",
    "standardized_data_train = StandardScaler().fit_transform(tfidf_sent_vectors)\n",
    "print(standardized_data_train.shape)\n",
    "standardized_data_test = StandardScaler().fit_transform(tfidf_sent_vectors1)\n",
    "print(standardized_data_test.shape)"
   ]
  },
  {
   "cell_type": "markdown",
   "metadata": {},
   "source": [
    "## 6.3 Applying Decision Tree Algorithm"
   ]
  },
  {
   "cell_type": "code",
   "execution_count": 64,
   "metadata": {},
   "outputs": [
    {
     "name": "stdout",
     "output_type": "stream",
     "text": [
      "0.8354360328739859 {'max_depth': 11}\n",
      "Model with best parameters :\n",
      " DecisionTreeClassifier(class_weight='balanced', criterion='gini',\n",
      "            max_depth=11, max_features=None, max_leaf_nodes=None,\n",
      "            min_impurity_decrease=0.0, min_impurity_split=None,\n",
      "            min_samples_leaf=5, min_samples_split=2,\n",
      "            min_weight_fraction_leaf=0.0, presort=False, random_state=100,\n",
      "            splitter='best')\n",
      "Accuracy of the model :  0.8336079549525024\n"
     ]
    }
   ],
   "source": [
    "from sklearn.model_selection import cross_val_score\n",
    "from sklearn.tree import DecisionTreeClassifier\n",
    "from sklearn import tree\n",
    "\n",
    "param_grid = {'max_depth': [3,4,5,6,7,8,9,10,11]}\n",
    "model = GridSearchCV(DecisionTreeClassifier(min_samples_leaf=5,criterion = 'gini',random_state = 100,class_weight ='balanced'), param_grid,scoring = 'f1', cv=10 , n_jobs = -1,pre_dispatch=2)\n",
    "model.fit(standardized_data_train, y_train)\n",
    "print(model.best_score_, model.best_params_) \n",
    "print(\"Model with best parameters :\\n\",model.best_estimator_)\n",
    "print(\"Accuracy of the model : \",model.score(standardized_data_test, y_test))\n",
    "\n",
    "a = model.best_params_\n",
    "optimal_max_depth = a.get('max_depth')"
   ]
  },
  {
   "cell_type": "code",
   "execution_count": 65,
   "metadata": {},
   "outputs": [
    {
     "data": {
      "text/plain": [
       "array([0.79726993, 0.81114502, 0.80925418, 0.80716328, 0.81980523,\n",
       "       0.82280966, 0.82789968, 0.83054522, 0.83543603])"
      ]
     },
     "execution_count": 65,
     "metadata": {},
     "output_type": "execute_result"
    }
   ],
   "source": [
    "results = model.cv_results_\n",
    "results['mean_test_score']"
   ]
  },
  {
   "cell_type": "code",
   "execution_count": 66,
   "metadata": {},
   "outputs": [
    {
     "data": {
      "image/png": "[encoded data removed]",
      "text/plain": [
       "<matplotlib.figure.Figure at 0x18f3098a4e0>"
      ]
     },
     "metadata": {},
     "output_type": "display_data"
    }
   ],
   "source": [
    "max_depth=3,4,5,6,7,8,9,10,11\n",
    "plt.plot(max_depth,results['mean_test_score'],marker='o')\n",
    "plt.xlabel('max_depth')\n",
    "plt.ylabel('f1score')\n",
    "plt.title(\"F1score vs max_depth\")\n",
    "plt.grid()\n",
    "plt.show()"
   ]
  },
  {
   "cell_type": "markdown",
   "metadata": {},
   "source": [
    "## Heatmap for plotting CV Scores"
   ]
  },
  {
   "cell_type": "code",
   "execution_count": 67,
   "metadata": {},
   "outputs": [
    {
     "data": {
      "image/png": "[encoded data removed]",
      "text/plain": [
       "<matplotlib.figure.Figure at 0x18f3098ad30>"
      ]
     },
     "metadata": {},
     "output_type": "display_data"
    }
   ],
   "source": [
    "pvt =pd.pivot_table(pd.DataFrame(model.cv_results_),values='mean_test_score',index='param_max_depth')\n",
    "import seaborn as sns       \n",
    "ax = sns.heatmap(pvt,annot=True,fmt=\"f\")"
   ]
  },
  {
   "cell_type": "code",
   "execution_count": 68,
   "metadata": {},
   "outputs": [],
   "source": [
    "# DecisionTreeClassifier with Optimal value of depth\n",
    "clf = DecisionTreeClassifier(max_depth=optimal_max_depth,class_weight ='balanced')\n",
    "clf.fit(standardized_data_train,y_train)\n",
    "y_pred_tfidfw2v = clf.predict(standardized_data_test)"
   ]
  },
  {
   "cell_type": "markdown",
   "metadata": {},
   "source": [
    "## 6.4 Confusion Matrix"
   ]
  },
  {
   "cell_type": "code",
   "execution_count": 69,
   "metadata": {},
   "outputs": [
    {
     "name": "stdout",
     "output_type": "stream",
     "text": [
      "Confusion Matrix:\n"
     ]
    },
    {
     "data": {
      "image/png": "[encoded data removed]",
      "text/plain": [
       "<matplotlib.figure.Figure at 0x18f3086d828>"
      ]
     },
     "metadata": {},
     "output_type": "display_data"
    }
   ],
   "source": [
    "cm_tfidfw2v=confusion_matrix(y_test,y_pred)\n",
    "print(\"Confusion Matrix:\")\n",
    "sns.heatmap(cm_tfidfw2v, annot=True, fmt='d')\n",
    "plt.show()"
   ]
  },
  {
   "cell_type": "code",
   "execution_count": 70,
   "metadata": {},
   "outputs": [
    {
     "name": "stdout",
     "output_type": "stream",
     "text": [
      " true negitves are 4384 \n",
      " false positives are 1730 \n",
      " false negatives are 8512\n",
      " true positives are 30374 \n",
      " \n"
     ]
    }
   ],
   "source": [
    "#finding out  true negative , false positive , false negative and true positve \n",
    "tn, fp, fn, tp = cm_tfidfw2v.ravel()\n",
    "( tp, fp, fn, tp)\n",
    "print(\" true negitves are {} \\n false positives are {} \\n false negatives are {}\\n true positives are {} \\n \".format(tn,fp,fn,tp))"
   ]
  },
  {
   "cell_type": "markdown",
   "metadata": {},
   "source": [
    "## 6.5 Calculating Accuracy,Error on test data,Precision,Recall,Classification Report\n"
   ]
  },
  {
   "cell_type": "code",
   "execution_count": 71,
   "metadata": {},
   "outputs": [
    {
     "name": "stdout",
     "output_type": "stream",
     "text": [
      "\n",
      "The Test Accuracy of the Decision tree for maxdepth is = 11.000 is 77.240000%\n",
      "\n",
      "Test Error of the Decision tree for maxdepth is  22.760000%\n",
      "\n",
      "The Test Precision of the Decision tree for maxdepth is = 11.000 is 0.946113\n",
      "\n",
      "The Test Recall of the Decision tree for maxdepth is = 11.000 is 0.781104\n",
      "\n",
      "The Test classification report of the Decision tree for maxdepth is \n",
      "\n",
      "                precision    recall  f1-score   support\n",
      "\n",
      "           0       0.34      0.72      0.46      6114\n",
      "           1       0.95      0.78      0.86     38886\n",
      "\n",
      "   micro avg       0.77      0.77      0.77     45000\n",
      "   macro avg       0.64      0.75      0.66     45000\n",
      "weighted avg       0.86      0.77      0.80     45000\n",
      "\n"
     ]
    }
   ],
   "source": [
    "from sklearn.metrics import recall_score\n",
    "from sklearn.metrics import precision_score\n",
    "from sklearn.metrics import classification_report\n",
    "\n",
    "\n",
    "# evaluating accuracy\n",
    "acc_tfidfw2v = accuracy_score(y_test, y_pred) * 100\n",
    "print('\\nThe Test Accuracy of the Decision tree for maxdepth is = %.3f is %f%%' % (optimal_max_depth, acc_tfidfw2v))\n",
    "\n",
    "# Error on test data\n",
    "test_error_tfidfw2v = 100-acc_tfidfw2v\n",
    "print(\"\\nTest Error of the Decision tree for maxdepth is  %f%%\" % (test_error_tfidfw2v))\n",
    "\n",
    "# evaluating precision\n",
    "precision_score = precision_score(y_test, y_pred) \n",
    "print('\\nThe Test Precision of the Decision tree for maxdepth is = %.3f is %f' % (optimal_max_depth, precision_score))\n",
    "\n",
    "# evaluating recall\n",
    "recall_score = recall_score(y_test, y_pred)\n",
    "print('\\nThe Test Recall of the Decision tree for maxdepth is = %.3f is %f' % (optimal_max_depth, recall_score))\n",
    "\n",
    "# evaluating Classification report\n",
    "classification_report = classification_report(y_test, y_pred)\n",
    "print('\\nThe Test classification report of the Decision tree for maxdepth is \\n\\n ',(classification_report))"
   ]
  },
  {
   "cell_type": "markdown",
   "metadata": {},
   "source": [
    "## 6.6 Visualizing Decision tree By graph"
   ]
  },
  {
   "cell_type": "code",
   "execution_count": 72,
   "metadata": {},
   "outputs": [
    {
     "data": {
      "text/plain": [
       "True"
      ]
     },
     "execution_count": 72,
     "metadata": {},
     "output_type": "execute_result"
    }
   ],
   "source": [
    "from IPython.display import Image \n",
    "from sklearn.tree import export_graphviz\n",
    "from io import StringIO\n",
    "from sklearn import tree\n",
    "import pydotplus\n",
    "target = ['1','0']  #1=positive,o=negative\n",
    "dot_data = StringIO()\n",
    "export_graphviz(clf,max_depth=3,out_file=dot_data,filled=True,class_names=target,rounded=True,special_characters=True)\n",
    "# Draw graph\n",
    "graph = pydotplus.graph_from_dot_data(dot_data.getvalue())\n",
    "# Show graph\n",
    "Image(graph.create_png())\n",
    "# Create PNG\n",
    "graph.write_png(\"tfidfword2vec.png\")\n"
   ]
  },
  {
   "cell_type": "markdown",
   "metadata": {},
   "source": [
    "For Avgword2vec and TFidfword2vec we cannot print featurenames(we cannot calculate feature imporatances)"
   ]
  },
  {
   "cell_type": "markdown",
   "metadata": {},
   "source": [
    "## 7. Conclusion\n",
    "\n",
    "-----------------------------------------------------------------------------------------------------------------------\n",
    "|\n",
    "  Model Performance Table                                                                                                       \n",
    "\n",
    "-----------------------------------------------------------------------------------------------------------------------\n",
    "|           Model                    |       Depth                          | criterion    | Test Error   | Accuracy  |\n",
    "|:----------------------------------:|:------------------------------------:|:------------:|:------------:|:---------:|\n",
    "| Decision Tree with Bow             |         11                           |   gini       |28.784444     |71.215556  |\n",
    "| Decision Tree with Tfidf           |         11                           |   gini       |20.966667     |70.033333  |\n",
    "| Decision Tree with Avgw2v          |         11                           |   gini       |22.760000     |77.240000  |\n",
    "| Decision Tree with Tfidfw2v        |         11                           |   gini       |22.760000     |77.240000  |\n",
    "\n",
    "-----------------------------------------------------------------------------------------------------------------------\n",
    "\n",
    "Steps Involved:-\n",
    "\n",
    "1) Connecting SQL file\n",
    "\n",
    "2) Data Preprocessing(Already i had done preprocessing no need to do again)\n",
    "\n",
    "3) Sorting the data based on time\n",
    "\n",
    "4) Taking 1st 150K Rows (Due to low Ram)\n",
    "\n",
    "5) Spliting data into train and test based on time (70:30)\n",
    "\n",
    "6) Techniques For Vectorization Bow,TF-IDF,word2vec,Avgword2vec,tfidfword2vec.\n",
    "\n",
    "7) Replacing nan values with 0's\n",
    "\n",
    "8) standardizing Data \n",
    "\n",
    "9) Applying Decision Tree Algorithm\n",
    "\n",
    "9) Plotted a graph between f1score vs max_depth\n",
    "\n",
    "10) Introduced heatmap for cv_results vs max_deth\n",
    "\n",
    "10) I calculated Accuracy,Error on Test Data, Confusion Matrix,Precision Score,Recall Score,Classification Report,ROC_curve\n",
    "\n",
    "11) Calculated top features and builded a word cloud\n",
    "\n",
    "12) I calculated Accuracy,Error on Test Data, Confusion Matrix,Precision Score,Recall Score,Classification Report,ROC_curve\n",
    "\n",
    "13) Visualizing Decision Tree By Graph\n",
    "\n",
    "14) Conclusion"
   ]
  },
  {
   "cell_type": "code",
   "execution_count": null,
   "metadata": {},
   "outputs": [],
   "source": []
  }
 ],
 "metadata": {
  "kernelspec": {
   "display_name": "Python 3",
   "language": "python",
   "name": "python3"
  },
  "language_info": {
   "codemirror_mode": {
    "name": "ipython",
    "version": 3
   },
   "file_extension": ".py",
   "mimetype": "text/x-python",
   "name": "python",
   "nbconvert_exporter": "python",
   "pygments_lexer": "ipython3",
   "version": "3.6.4"
  }
 },
 "nbformat": 4,
 "nbformat_minor": 2
}
