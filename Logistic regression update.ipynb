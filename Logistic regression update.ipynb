{
 "cells": [
  {
   "cell_type": "markdown",
   "metadata": {},
   "source": [
    "# Assignment:-"
   ]
  },
  {
   "cell_type": "markdown",
   "metadata": {},
   "source": [
    "# Applying Logistic Regression on Amazon fine Food Reviews analysis"
   ]
  },
  {
   "cell_type": "markdown",
   "metadata": {},
   "source": [
    "## Amazon Fine Food Reviews Analysis\n",
    "\n",
    "\n",
    "Data Source: https://www.kaggle.com/snap/amazon-fine-food-reviews\n",
    "\n",
    "The Amazon Fine Food Reviews dataset consists of reviews of fine foods from Amazon.<br>\n",
    "\n",
    "Number of reviews: 568,454<br>\n",
    "Number of users: 256,059<br>\n",
    "Number of products: 74,258<br>\n",
    "Timespan: Oct 1999 - Oct 2012<br>\n",
    "Number of Attributes/Columns in data: 10 \n",
    "\n",
    "Attribute Information:\n",
    "\n",
    "1. Id\n",
    "2. ProductId - unique identifier for the product\n",
    "3. UserId - unqiue identifier for the user\n",
    "4. ProfileName\n",
    "5. HelpfulnessNumerator - number of users who found the review helpful\n",
    "6. HelpfulnessDenominator - number of users who indicated whether they found the review helpful or not\n",
    "7. Score - rating between 1 and 5\n",
    "8. Time - timestamp for the review\n",
    "9. Summary - brief summary of the review\n",
    "10. Text - text of the review"
   ]
  },
  {
   "cell_type": "markdown",
   "metadata": {},
   "source": [
    "# 1. Objective:\n",
    "Given a review, determine whether the review is positive (Rating of 4 or 5) or negative (rating of 1 or 2). Use BoW, TF-IDF, Avg-Word2Vec,TF-IDF-Word2Vec to vectorise the reviews. \n",
    "Apply Logistic Regression Algorithm for Amazon fine food Reviews\n",
    "find right alpha(α) using cross validation\n",
    "Get feature importance for positive class and Negative class"
   ]
  },
  {
   "cell_type": "code",
   "execution_count": 1,
   "metadata": {},
   "outputs": [],
   "source": [
    "# loading required libraries \n",
    "\n",
    "import warnings \n",
    "warnings.filterwarnings('ignore')\n",
    "\n",
    "import numpy as np\n",
    "import pandas as pd \n",
    "import matplotlib \n",
    "import sqlite3\n",
    "import string\n",
    "import gensim\n",
    "import scipy \n",
    "import nltk\n",
    "import time\n",
    "import seaborn as sns \n",
    "from scipy import stats\n",
    "from matplotlib import pyplot as plt \n",
    "\n",
    "from sklearn.feature_extraction.text import TfidfTransformer\n",
    "from sklearn.feature_extraction.text import TfidfVectorizer\n",
    "from sklearn.feature_extraction.text import CountVectorizer\n",
    "\n",
    "from sklearn.model_selection import GridSearchCV\n",
    "from sklearn.model_selection import RandomizedSearchCV\n",
    "from sklearn.linear_model import LogisticRegression\n",
    "\n",
    "from sklearn import metrics\n",
    "from sklearn.metrics import confusion_matrix\n",
    "from sklearn.metrics import roc_curve, roc_auc_score, auc\n",
    "from sklearn.metrics import accuracy_score\n",
    "from sklearn.metrics import precision_recall_fscore_support as prf1\n",
    "\n",
    "from sklearn.model_selection import KFold\n",
    "from sklearn.model_selection import train_test_split\n"
   ]
  },
  {
   "cell_type": "markdown",
   "metadata": {},
   "source": [
    "## 1.1 Connecting SQL file"
   ]
  },
  {
   "cell_type": "code",
   "execution_count": 2,
   "metadata": {},
   "outputs": [],
   "source": [
    "#Loading the data\n",
    "con = sqlite3.connect('./final.sqlite')\n",
    "\n",
    "data = pd.read_sql_query(\"\"\"\n",
    "SELECT *\n",
    "FROM Reviews\n",
    "\"\"\", con)"
   ]
  },
  {
   "cell_type": "code",
   "execution_count": 3,
   "metadata": {},
   "outputs": [
    {
     "name": "stdout",
     "output_type": "stream",
     "text": [
      "(364171, 12)\n"
     ]
    },
    {
     "data": {
      "text/html": [
       "<div>\n",
       "<style scoped>\n",
       "    .dataframe tbody tr th:only-of-type {\n",
       "        vertical-align: middle;\n",
       "    }\n",
       "\n",
       "    .dataframe tbody tr th {\n",
       "        vertical-align: top;\n",
       "    }\n",
       "\n",
       "    .dataframe thead th {\n",
       "        text-align: right;\n",
       "    }\n",
       "</style>\n",
       "<table border=\"1\" class=\"dataframe\">\n",
       "  <thead>\n",
       "    <tr style=\"text-align: right;\">\n",
       "      <th></th>\n",
       "      <th>index</th>\n",
       "      <th>Id</th>\n",
       "      <th>ProductId</th>\n",
       "      <th>UserId</th>\n",
       "      <th>ProfileName</th>\n",
       "      <th>HelpfulnessNumerator</th>\n",
       "      <th>HelpfulnessDenominator</th>\n",
       "      <th>Score</th>\n",
       "      <th>Time</th>\n",
       "      <th>Summary</th>\n",
       "      <th>Text</th>\n",
       "      <th>CleanedText</th>\n",
       "    </tr>\n",
       "  </thead>\n",
       "  <tbody>\n",
       "    <tr>\n",
       "      <th>0</th>\n",
       "      <td>138706</td>\n",
       "      <td>150524</td>\n",
       "      <td>0006641040</td>\n",
       "      <td>ACITT7DI6IDDL</td>\n",
       "      <td>shari zychinski</td>\n",
       "      <td>0</td>\n",
       "      <td>0</td>\n",
       "      <td>positive</td>\n",
       "      <td>939340800</td>\n",
       "      <td>EVERY book is educational</td>\n",
       "      <td>this witty little book makes my son laugh at l...</td>\n",
       "      <td>witti littl book make son laugh loud recit car...</td>\n",
       "    </tr>\n",
       "    <tr>\n",
       "      <th>1</th>\n",
       "      <td>138688</td>\n",
       "      <td>150506</td>\n",
       "      <td>0006641040</td>\n",
       "      <td>A2IW4PEEKO2R0U</td>\n",
       "      <td>Tracy</td>\n",
       "      <td>1</td>\n",
       "      <td>1</td>\n",
       "      <td>positive</td>\n",
       "      <td>1194739200</td>\n",
       "      <td>Love the book, miss the hard cover version</td>\n",
       "      <td>I grew up reading these Sendak books, and watc...</td>\n",
       "      <td>grew read sendak book watch realli rosi movi i...</td>\n",
       "    </tr>\n",
       "    <tr>\n",
       "      <th>2</th>\n",
       "      <td>138689</td>\n",
       "      <td>150507</td>\n",
       "      <td>0006641040</td>\n",
       "      <td>A1S4A3IQ2MU7V4</td>\n",
       "      <td>sally sue \"sally sue\"</td>\n",
       "      <td>1</td>\n",
       "      <td>1</td>\n",
       "      <td>positive</td>\n",
       "      <td>1191456000</td>\n",
       "      <td>chicken soup with rice months</td>\n",
       "      <td>This is a fun way for children to learn their ...</td>\n",
       "      <td>fun way children learn month year learn poem t...</td>\n",
       "    </tr>\n",
       "    <tr>\n",
       "      <th>3</th>\n",
       "      <td>138690</td>\n",
       "      <td>150508</td>\n",
       "      <td>0006641040</td>\n",
       "      <td>AZGXZ2UUK6X</td>\n",
       "      <td>Catherine Hallberg \"(Kate)\"</td>\n",
       "      <td>1</td>\n",
       "      <td>1</td>\n",
       "      <td>positive</td>\n",
       "      <td>1076025600</td>\n",
       "      <td>a good swingy rhythm for reading aloud</td>\n",
       "      <td>This is a great little book to read aloud- it ...</td>\n",
       "      <td>great littl book read nice rhythm well good re...</td>\n",
       "    </tr>\n",
       "    <tr>\n",
       "      <th>4</th>\n",
       "      <td>138691</td>\n",
       "      <td>150509</td>\n",
       "      <td>0006641040</td>\n",
       "      <td>A3CMRKGE0P909G</td>\n",
       "      <td>Teresa</td>\n",
       "      <td>3</td>\n",
       "      <td>4</td>\n",
       "      <td>positive</td>\n",
       "      <td>1018396800</td>\n",
       "      <td>A great way to learn the months</td>\n",
       "      <td>This is a book of poetry about the months of t...</td>\n",
       "      <td>book poetri month year goe month cute littl po...</td>\n",
       "    </tr>\n",
       "  </tbody>\n",
       "</table>\n",
       "</div>"
      ],
      "text/plain": [
       "    index      Id   ProductId          UserId                  ProfileName  \\\n",
       "0  138706  150524  0006641040   ACITT7DI6IDDL              shari zychinski   \n",
       "1  138688  150506  0006641040  A2IW4PEEKO2R0U                        Tracy   \n",
       "2  138689  150507  0006641040  A1S4A3IQ2MU7V4        sally sue \"sally sue\"   \n",
       "3  138690  150508  0006641040     AZGXZ2UUK6X  Catherine Hallberg \"(Kate)\"   \n",
       "4  138691  150509  0006641040  A3CMRKGE0P909G                       Teresa   \n",
       "\n",
       "   HelpfulnessNumerator  HelpfulnessDenominator     Score        Time  \\\n",
       "0                     0                       0  positive   939340800   \n",
       "1                     1                       1  positive  1194739200   \n",
       "2                     1                       1  positive  1191456000   \n",
       "3                     1                       1  positive  1076025600   \n",
       "4                     3                       4  positive  1018396800   \n",
       "\n",
       "                                      Summary  \\\n",
       "0                   EVERY book is educational   \n",
       "1  Love the book, miss the hard cover version   \n",
       "2               chicken soup with rice months   \n",
       "3      a good swingy rhythm for reading aloud   \n",
       "4             A great way to learn the months   \n",
       "\n",
       "                                                Text  \\\n",
       "0  this witty little book makes my son laugh at l...   \n",
       "1  I grew up reading these Sendak books, and watc...   \n",
       "2  This is a fun way for children to learn their ...   \n",
       "3  This is a great little book to read aloud- it ...   \n",
       "4  This is a book of poetry about the months of t...   \n",
       "\n",
       "                                         CleanedText  \n",
       "0  witti littl book make son laugh loud recit car...  \n",
       "1  grew read sendak book watch realli rosi movi i...  \n",
       "2  fun way children learn month year learn poem t...  \n",
       "3  great littl book read nice rhythm well good re...  \n",
       "4  book poetri month year goe month cute littl po...  "
      ]
     },
     "execution_count": 3,
     "metadata": {},
     "output_type": "execute_result"
    }
   ],
   "source": [
    "print(data.shape)\n",
    "data.head()"
   ]
  },
  {
   "cell_type": "markdown",
   "metadata": {},
   "source": [
    "## 1.2 Data Preprocessing"
   ]
  },
  {
   "cell_type": "code",
   "execution_count": 4,
   "metadata": {},
   "outputs": [
    {
     "data": {
      "text/plain": [
       "positive    307061\n",
       "negative     57110\n",
       "Name: Score, dtype: int64"
      ]
     },
     "execution_count": 4,
     "metadata": {},
     "output_type": "execute_result"
    }
   ],
   "source": [
    "data.Score.value_counts()\n",
    "#i had done data preprocessing i had stored in final.sqlite now loaded this file no need to do again data preprocessing\n"
   ]
  },
  {
   "cell_type": "markdown",
   "metadata": {},
   "source": [
    "## 1.3 Sorting the data"
   ]
  },
  {
   "cell_type": "code",
   "execution_count": 5,
   "metadata": {},
   "outputs": [
    {
     "data": {
      "text/html": [
       "<div>\n",
       "<style scoped>\n",
       "    .dataframe tbody tr th:only-of-type {\n",
       "        vertical-align: middle;\n",
       "    }\n",
       "\n",
       "    .dataframe tbody tr th {\n",
       "        vertical-align: top;\n",
       "    }\n",
       "\n",
       "    .dataframe thead th {\n",
       "        text-align: right;\n",
       "    }\n",
       "</style>\n",
       "<table border=\"1\" class=\"dataframe\">\n",
       "  <thead>\n",
       "    <tr style=\"text-align: right;\">\n",
       "      <th></th>\n",
       "      <th>index</th>\n",
       "      <th>Id</th>\n",
       "      <th>ProductId</th>\n",
       "      <th>UserId</th>\n",
       "      <th>ProfileName</th>\n",
       "      <th>HelpfulnessNumerator</th>\n",
       "      <th>HelpfulnessDenominator</th>\n",
       "      <th>Score</th>\n",
       "      <th>Time</th>\n",
       "      <th>Summary</th>\n",
       "      <th>Text</th>\n",
       "      <th>CleanedText</th>\n",
       "    </tr>\n",
       "  </thead>\n",
       "  <tbody>\n",
       "    <tr>\n",
       "      <th>0</th>\n",
       "      <td>138706</td>\n",
       "      <td>150524</td>\n",
       "      <td>0006641040</td>\n",
       "      <td>ACITT7DI6IDDL</td>\n",
       "      <td>shari zychinski</td>\n",
       "      <td>0</td>\n",
       "      <td>0</td>\n",
       "      <td>positive</td>\n",
       "      <td>939340800</td>\n",
       "      <td>EVERY book is educational</td>\n",
       "      <td>this witty little book makes my son laugh at l...</td>\n",
       "      <td>witti littl book make son laugh loud recit car...</td>\n",
       "    </tr>\n",
       "    <tr>\n",
       "      <th>30</th>\n",
       "      <td>138683</td>\n",
       "      <td>150501</td>\n",
       "      <td>0006641040</td>\n",
       "      <td>AJ46FKXOVC7NR</td>\n",
       "      <td>Nicholas A Mesiano</td>\n",
       "      <td>2</td>\n",
       "      <td>2</td>\n",
       "      <td>positive</td>\n",
       "      <td>940809600</td>\n",
       "      <td>This whole series is great way to spend time w...</td>\n",
       "      <td>I can remember seeing the show when it aired o...</td>\n",
       "      <td>rememb see show air televis year ago child sis...</td>\n",
       "    </tr>\n",
       "    <tr>\n",
       "      <th>424</th>\n",
       "      <td>417839</td>\n",
       "      <td>451856</td>\n",
       "      <td>B00004CXX9</td>\n",
       "      <td>AIUWLEQ1ADEG5</td>\n",
       "      <td>Elizabeth Medina</td>\n",
       "      <td>0</td>\n",
       "      <td>0</td>\n",
       "      <td>positive</td>\n",
       "      <td>944092800</td>\n",
       "      <td>Entertainingl Funny!</td>\n",
       "      <td>Beetlejuice is a well written movie ..... ever...</td>\n",
       "      <td>beetlejuic well written movi everyth excel act...</td>\n",
       "    </tr>\n",
       "    <tr>\n",
       "      <th>330</th>\n",
       "      <td>346055</td>\n",
       "      <td>374359</td>\n",
       "      <td>B00004CI84</td>\n",
       "      <td>A344SMIA5JECGM</td>\n",
       "      <td>Vincent P. Ross</td>\n",
       "      <td>1</td>\n",
       "      <td>2</td>\n",
       "      <td>positive</td>\n",
       "      <td>944438400</td>\n",
       "      <td>A modern day fairy tale</td>\n",
       "      <td>A twist of rumplestiskin captured on film, sta...</td>\n",
       "      <td>twist rumplestiskin captur film star michael k...</td>\n",
       "    </tr>\n",
       "    <tr>\n",
       "      <th>423</th>\n",
       "      <td>417838</td>\n",
       "      <td>451855</td>\n",
       "      <td>B00004CXX9</td>\n",
       "      <td>AJH6LUC1UT1ON</td>\n",
       "      <td>The Phantom of the Opera</td>\n",
       "      <td>0</td>\n",
       "      <td>0</td>\n",
       "      <td>positive</td>\n",
       "      <td>946857600</td>\n",
       "      <td>FANTASTIC!</td>\n",
       "      <td>Beetlejuice is an excellent and funny movie. K...</td>\n",
       "      <td>beetlejuic excel funni movi keaton hilari wack...</td>\n",
       "    </tr>\n",
       "  </tbody>\n",
       "</table>\n",
       "</div>"
      ],
      "text/plain": [
       "      index      Id   ProductId          UserId               ProfileName  \\\n",
       "0    138706  150524  0006641040   ACITT7DI6IDDL           shari zychinski   \n",
       "30   138683  150501  0006641040   AJ46FKXOVC7NR        Nicholas A Mesiano   \n",
       "424  417839  451856  B00004CXX9   AIUWLEQ1ADEG5          Elizabeth Medina   \n",
       "330  346055  374359  B00004CI84  A344SMIA5JECGM           Vincent P. Ross   \n",
       "423  417838  451855  B00004CXX9   AJH6LUC1UT1ON  The Phantom of the Opera   \n",
       "\n",
       "     HelpfulnessNumerator  HelpfulnessDenominator     Score       Time  \\\n",
       "0                       0                       0  positive  939340800   \n",
       "30                      2                       2  positive  940809600   \n",
       "424                     0                       0  positive  944092800   \n",
       "330                     1                       2  positive  944438400   \n",
       "423                     0                       0  positive  946857600   \n",
       "\n",
       "                                               Summary  \\\n",
       "0                            EVERY book is educational   \n",
       "30   This whole series is great way to spend time w...   \n",
       "424                               Entertainingl Funny!   \n",
       "330                            A modern day fairy tale   \n",
       "423                                         FANTASTIC!   \n",
       "\n",
       "                                                  Text  \\\n",
       "0    this witty little book makes my son laugh at l...   \n",
       "30   I can remember seeing the show when it aired o...   \n",
       "424  Beetlejuice is a well written movie ..... ever...   \n",
       "330  A twist of rumplestiskin captured on film, sta...   \n",
       "423  Beetlejuice is an excellent and funny movie. K...   \n",
       "\n",
       "                                           CleanedText  \n",
       "0    witti littl book make son laugh loud recit car...  \n",
       "30   rememb see show air televis year ago child sis...  \n",
       "424  beetlejuic well written movi everyth excel act...  \n",
       "330  twist rumplestiskin captur film star michael k...  \n",
       "423  beetlejuic excel funni movi keaton hilari wack...  "
      ]
     },
     "execution_count": 5,
     "metadata": {},
     "output_type": "execute_result"
    }
   ],
   "source": [
    "# Sorting the data according to the time-stamp\n",
    "sorted_data = data.sort_values('Time', axis=0, ascending=True, inplace=False, kind='quicksort', na_position='last')\n",
    "sorted_data.head()"
   ]
  },
  {
   "cell_type": "markdown",
   "metadata": {},
   "source": [
    "## 1.4 Mapping"
   ]
  },
  {
   "cell_type": "code",
   "execution_count": 6,
   "metadata": {},
   "outputs": [
    {
     "data": {
      "text/html": [
       "<div>\n",
       "<style scoped>\n",
       "    .dataframe tbody tr th:only-of-type {\n",
       "        vertical-align: middle;\n",
       "    }\n",
       "\n",
       "    .dataframe tbody tr th {\n",
       "        vertical-align: top;\n",
       "    }\n",
       "\n",
       "    .dataframe thead th {\n",
       "        text-align: right;\n",
       "    }\n",
       "</style>\n",
       "<table border=\"1\" class=\"dataframe\">\n",
       "  <thead>\n",
       "    <tr style=\"text-align: right;\">\n",
       "      <th></th>\n",
       "      <th>index</th>\n",
       "      <th>Id</th>\n",
       "      <th>ProductId</th>\n",
       "      <th>UserId</th>\n",
       "      <th>ProfileName</th>\n",
       "      <th>HelpfulnessNumerator</th>\n",
       "      <th>HelpfulnessDenominator</th>\n",
       "      <th>Score</th>\n",
       "      <th>Time</th>\n",
       "      <th>Summary</th>\n",
       "      <th>Text</th>\n",
       "      <th>CleanedText</th>\n",
       "    </tr>\n",
       "  </thead>\n",
       "  <tbody>\n",
       "    <tr>\n",
       "      <th>0</th>\n",
       "      <td>138706</td>\n",
       "      <td>150524</td>\n",
       "      <td>0006641040</td>\n",
       "      <td>ACITT7DI6IDDL</td>\n",
       "      <td>shari zychinski</td>\n",
       "      <td>0</td>\n",
       "      <td>0</td>\n",
       "      <td>1</td>\n",
       "      <td>939340800</td>\n",
       "      <td>EVERY book is educational</td>\n",
       "      <td>this witty little book makes my son laugh at l...</td>\n",
       "      <td>witti littl book make son laugh loud recit car...</td>\n",
       "    </tr>\n",
       "    <tr>\n",
       "      <th>30</th>\n",
       "      <td>138683</td>\n",
       "      <td>150501</td>\n",
       "      <td>0006641040</td>\n",
       "      <td>AJ46FKXOVC7NR</td>\n",
       "      <td>Nicholas A Mesiano</td>\n",
       "      <td>2</td>\n",
       "      <td>2</td>\n",
       "      <td>1</td>\n",
       "      <td>940809600</td>\n",
       "      <td>This whole series is great way to spend time w...</td>\n",
       "      <td>I can remember seeing the show when it aired o...</td>\n",
       "      <td>rememb see show air televis year ago child sis...</td>\n",
       "    </tr>\n",
       "    <tr>\n",
       "      <th>424</th>\n",
       "      <td>417839</td>\n",
       "      <td>451856</td>\n",
       "      <td>B00004CXX9</td>\n",
       "      <td>AIUWLEQ1ADEG5</td>\n",
       "      <td>Elizabeth Medina</td>\n",
       "      <td>0</td>\n",
       "      <td>0</td>\n",
       "      <td>1</td>\n",
       "      <td>944092800</td>\n",
       "      <td>Entertainingl Funny!</td>\n",
       "      <td>Beetlejuice is a well written movie ..... ever...</td>\n",
       "      <td>beetlejuic well written movi everyth excel act...</td>\n",
       "    </tr>\n",
       "    <tr>\n",
       "      <th>330</th>\n",
       "      <td>346055</td>\n",
       "      <td>374359</td>\n",
       "      <td>B00004CI84</td>\n",
       "      <td>A344SMIA5JECGM</td>\n",
       "      <td>Vincent P. Ross</td>\n",
       "      <td>1</td>\n",
       "      <td>2</td>\n",
       "      <td>1</td>\n",
       "      <td>944438400</td>\n",
       "      <td>A modern day fairy tale</td>\n",
       "      <td>A twist of rumplestiskin captured on film, sta...</td>\n",
       "      <td>twist rumplestiskin captur film star michael k...</td>\n",
       "    </tr>\n",
       "    <tr>\n",
       "      <th>423</th>\n",
       "      <td>417838</td>\n",
       "      <td>451855</td>\n",
       "      <td>B00004CXX9</td>\n",
       "      <td>AJH6LUC1UT1ON</td>\n",
       "      <td>The Phantom of the Opera</td>\n",
       "      <td>0</td>\n",
       "      <td>0</td>\n",
       "      <td>1</td>\n",
       "      <td>946857600</td>\n",
       "      <td>FANTASTIC!</td>\n",
       "      <td>Beetlejuice is an excellent and funny movie. K...</td>\n",
       "      <td>beetlejuic excel funni movi keaton hilari wack...</td>\n",
       "    </tr>\n",
       "  </tbody>\n",
       "</table>\n",
       "</div>"
      ],
      "text/plain": [
       "      index      Id   ProductId          UserId               ProfileName  \\\n",
       "0    138706  150524  0006641040   ACITT7DI6IDDL           shari zychinski   \n",
       "30   138683  150501  0006641040   AJ46FKXOVC7NR        Nicholas A Mesiano   \n",
       "424  417839  451856  B00004CXX9   AIUWLEQ1ADEG5          Elizabeth Medina   \n",
       "330  346055  374359  B00004CI84  A344SMIA5JECGM           Vincent P. Ross   \n",
       "423  417838  451855  B00004CXX9   AJH6LUC1UT1ON  The Phantom of the Opera   \n",
       "\n",
       "     HelpfulnessNumerator  HelpfulnessDenominator  Score       Time  \\\n",
       "0                       0                       0      1  939340800   \n",
       "30                      2                       2      1  940809600   \n",
       "424                     0                       0      1  944092800   \n",
       "330                     1                       2      1  944438400   \n",
       "423                     0                       0      1  946857600   \n",
       "\n",
       "                                               Summary  \\\n",
       "0                            EVERY book is educational   \n",
       "30   This whole series is great way to spend time w...   \n",
       "424                               Entertainingl Funny!   \n",
       "330                            A modern day fairy tale   \n",
       "423                                         FANTASTIC!   \n",
       "\n",
       "                                                  Text  \\\n",
       "0    this witty little book makes my son laugh at l...   \n",
       "30   I can remember seeing the show when it aired o...   \n",
       "424  Beetlejuice is a well written movie ..... ever...   \n",
       "330  A twist of rumplestiskin captured on film, sta...   \n",
       "423  Beetlejuice is an excellent and funny movie. K...   \n",
       "\n",
       "                                           CleanedText  \n",
       "0    witti littl book make son laugh loud recit car...  \n",
       "30   rememb see show air televis year ago child sis...  \n",
       "424  beetlejuic well written movi everyth excel act...  \n",
       "330  twist rumplestiskin captur film star michael k...  \n",
       "423  beetlejuic excel funni movi keaton hilari wack...  "
      ]
     },
     "execution_count": 6,
     "metadata": {},
     "output_type": "execute_result"
    }
   ],
   "source": [
    "def partition(x):\n",
    "    if x == 'positive':\n",
    "        return 1\n",
    "    return 0\n",
    "\n",
    "#Preparing the filtered data\n",
    "actualScore = sorted_data['Score']\n",
    "positiveNegative = actualScore.map(partition) \n",
    "sorted_data['Score'] = positiveNegative\n",
    "sorted_data.head()\n"
   ]
  },
  {
   "cell_type": "markdown",
   "metadata": {},
   "source": [
    "## 1.5 Taking first 150k rows"
   ]
  },
  {
   "cell_type": "code",
   "execution_count": 7,
   "metadata": {},
   "outputs": [
    {
     "name": "stdout",
     "output_type": "stream",
     "text": [
      "(150000, 12)\n"
     ]
    },
    {
     "data": {
      "text/html": [
       "<div>\n",
       "<style scoped>\n",
       "    .dataframe tbody tr th:only-of-type {\n",
       "        vertical-align: middle;\n",
       "    }\n",
       "\n",
       "    .dataframe tbody tr th {\n",
       "        vertical-align: top;\n",
       "    }\n",
       "\n",
       "    .dataframe thead th {\n",
       "        text-align: right;\n",
       "    }\n",
       "</style>\n",
       "<table border=\"1\" class=\"dataframe\">\n",
       "  <thead>\n",
       "    <tr style=\"text-align: right;\">\n",
       "      <th></th>\n",
       "      <th>index</th>\n",
       "      <th>Id</th>\n",
       "      <th>ProductId</th>\n",
       "      <th>UserId</th>\n",
       "      <th>ProfileName</th>\n",
       "      <th>HelpfulnessNumerator</th>\n",
       "      <th>HelpfulnessDenominator</th>\n",
       "      <th>Score</th>\n",
       "      <th>Time</th>\n",
       "      <th>Summary</th>\n",
       "      <th>Text</th>\n",
       "      <th>CleanedText</th>\n",
       "    </tr>\n",
       "  </thead>\n",
       "  <tbody>\n",
       "    <tr>\n",
       "      <th>0</th>\n",
       "      <td>138706</td>\n",
       "      <td>150524</td>\n",
       "      <td>0006641040</td>\n",
       "      <td>ACITT7DI6IDDL</td>\n",
       "      <td>shari zychinski</td>\n",
       "      <td>0</td>\n",
       "      <td>0</td>\n",
       "      <td>1</td>\n",
       "      <td>939340800</td>\n",
       "      <td>EVERY book is educational</td>\n",
       "      <td>this witty little book makes my son laugh at l...</td>\n",
       "      <td>witti littl book make son laugh loud recit car...</td>\n",
       "    </tr>\n",
       "    <tr>\n",
       "      <th>30</th>\n",
       "      <td>138683</td>\n",
       "      <td>150501</td>\n",
       "      <td>0006641040</td>\n",
       "      <td>AJ46FKXOVC7NR</td>\n",
       "      <td>Nicholas A Mesiano</td>\n",
       "      <td>2</td>\n",
       "      <td>2</td>\n",
       "      <td>1</td>\n",
       "      <td>940809600</td>\n",
       "      <td>This whole series is great way to spend time w...</td>\n",
       "      <td>I can remember seeing the show when it aired o...</td>\n",
       "      <td>rememb see show air televis year ago child sis...</td>\n",
       "    </tr>\n",
       "    <tr>\n",
       "      <th>424</th>\n",
       "      <td>417839</td>\n",
       "      <td>451856</td>\n",
       "      <td>B00004CXX9</td>\n",
       "      <td>AIUWLEQ1ADEG5</td>\n",
       "      <td>Elizabeth Medina</td>\n",
       "      <td>0</td>\n",
       "      <td>0</td>\n",
       "      <td>1</td>\n",
       "      <td>944092800</td>\n",
       "      <td>Entertainingl Funny!</td>\n",
       "      <td>Beetlejuice is a well written movie ..... ever...</td>\n",
       "      <td>beetlejuic well written movi everyth excel act...</td>\n",
       "    </tr>\n",
       "    <tr>\n",
       "      <th>330</th>\n",
       "      <td>346055</td>\n",
       "      <td>374359</td>\n",
       "      <td>B00004CI84</td>\n",
       "      <td>A344SMIA5JECGM</td>\n",
       "      <td>Vincent P. Ross</td>\n",
       "      <td>1</td>\n",
       "      <td>2</td>\n",
       "      <td>1</td>\n",
       "      <td>944438400</td>\n",
       "      <td>A modern day fairy tale</td>\n",
       "      <td>A twist of rumplestiskin captured on film, sta...</td>\n",
       "      <td>twist rumplestiskin captur film star michael k...</td>\n",
       "    </tr>\n",
       "    <tr>\n",
       "      <th>423</th>\n",
       "      <td>417838</td>\n",
       "      <td>451855</td>\n",
       "      <td>B00004CXX9</td>\n",
       "      <td>AJH6LUC1UT1ON</td>\n",
       "      <td>The Phantom of the Opera</td>\n",
       "      <td>0</td>\n",
       "      <td>0</td>\n",
       "      <td>1</td>\n",
       "      <td>946857600</td>\n",
       "      <td>FANTASTIC!</td>\n",
       "      <td>Beetlejuice is an excellent and funny movie. K...</td>\n",
       "      <td>beetlejuic excel funni movi keaton hilari wack...</td>\n",
       "    </tr>\n",
       "  </tbody>\n",
       "</table>\n",
       "</div>"
      ],
      "text/plain": [
       "      index      Id   ProductId          UserId               ProfileName  \\\n",
       "0    138706  150524  0006641040   ACITT7DI6IDDL           shari zychinski   \n",
       "30   138683  150501  0006641040   AJ46FKXOVC7NR        Nicholas A Mesiano   \n",
       "424  417839  451856  B00004CXX9   AIUWLEQ1ADEG5          Elizabeth Medina   \n",
       "330  346055  374359  B00004CI84  A344SMIA5JECGM           Vincent P. Ross   \n",
       "423  417838  451855  B00004CXX9   AJH6LUC1UT1ON  The Phantom of the Opera   \n",
       "\n",
       "     HelpfulnessNumerator  HelpfulnessDenominator  Score       Time  \\\n",
       "0                       0                       0      1  939340800   \n",
       "30                      2                       2      1  940809600   \n",
       "424                     0                       0      1  944092800   \n",
       "330                     1                       2      1  944438400   \n",
       "423                     0                       0      1  946857600   \n",
       "\n",
       "                                               Summary  \\\n",
       "0                            EVERY book is educational   \n",
       "30   This whole series is great way to spend time w...   \n",
       "424                               Entertainingl Funny!   \n",
       "330                            A modern day fairy tale   \n",
       "423                                         FANTASTIC!   \n",
       "\n",
       "                                                  Text  \\\n",
       "0    this witty little book makes my son laugh at l...   \n",
       "30   I can remember seeing the show when it aired o...   \n",
       "424  Beetlejuice is a well written movie ..... ever...   \n",
       "330  A twist of rumplestiskin captured on film, sta...   \n",
       "423  Beetlejuice is an excellent and funny movie. K...   \n",
       "\n",
       "                                           CleanedText  \n",
       "0    witti littl book make son laugh loud recit car...  \n",
       "30   rememb see show air televis year ago child sis...  \n",
       "424  beetlejuic well written movi everyth excel act...  \n",
       "330  twist rumplestiskin captur film star michael k...  \n",
       "423  beetlejuic excel funni movi keaton hilari wack...  "
      ]
     },
     "execution_count": 7,
     "metadata": {},
     "output_type": "execute_result"
    }
   ],
   "source": [
    "# We will collect different 150000 rows without repetition from time_sorted_data dataframe\n",
    "my_final = sorted_data[:150000]\n",
    "print(my_final.shape)\n",
    "my_final.head()"
   ]
  },
  {
   "cell_type": "markdown",
   "metadata": {},
   "source": [
    "## 1.6 Spliting data into train and test based on time (70:30)"
   ]
  },
  {
   "cell_type": "code",
   "execution_count": 8,
   "metadata": {},
   "outputs": [
    {
     "name": "stdout",
     "output_type": "stream",
     "text": [
      "(105000,)\n",
      "(45000,)\n",
      "(105000,)\n",
      "(45000,)\n"
     ]
    }
   ],
   "source": [
    "from sklearn.model_selection import train_test_split\n",
    "from sklearn.model_selection import cross_validate\n",
    "\n",
    "\n",
    "x=my_final['CleanedText'].values\n",
    "y=my_final['Score']\n",
    "\n",
    "#Splitting data into train test and cross validation \n",
    "x_train,x_test,y_train,y_test =train_test_split(x,y,test_size =0.3,random_state = 42)\n",
    "\n",
    "print(x_train.shape)\n",
    "print(x_test.shape)\n",
    "print(y_train.shape)\n",
    "print(y_test.shape)\n"
   ]
  },
  {
   "cell_type": "markdown",
   "metadata": {},
   "source": [
    "## 2.  Techniques For Vectorization"
   ]
  },
  {
   "cell_type": "markdown",
   "metadata": {},
   "source": [
    "## Why we have to convert text to vector\n",
    "\n",
    "By converting text to vector we can use whole power of linear algebra.we can find a plane to seperate\n",
    "\n",
    "Incase of logistic regression to find important features, firstly we have to check multi collinearity between features, if \n",
    "\n",
    "features are collinear then we should find important features using forward or backward feature selection.\n",
    "\n",
    "If features are not correlated then we should use optimal vector, in which consist of weight for each feature.\n",
    "\n",
    "Multi collinearity: which means very high inter correlation among the independent variables."
   ]
  },
  {
   "cell_type": "markdown",
   "metadata": {},
   "source": [
    "## 2.1 BOW"
   ]
  },
  {
   "cell_type": "code",
   "execution_count": 9,
   "metadata": {},
   "outputs": [
    {
     "name": "stdout",
     "output_type": "stream",
     "text": [
      "the type of count vectorizer  <class 'scipy.sparse.csr.csr_matrix'>\n",
      "the shape of out text BOW vectorizer  (105000, 38300)\n",
      "the number of unique words  38300\n",
      "the type of count vectorizer  <class 'scipy.sparse.csr.csr_matrix'>\n",
      "the shape of out text BOW vectorizer  (45000, 38300)\n"
     ]
    }
   ],
   "source": [
    "#Bow\n",
    "\n",
    "from sklearn.feature_extraction.text import CountVectorizer\n",
    "count_vect = CountVectorizer() \n",
    "final_counts_Bow_tr= count_vect.fit_transform(x_train)# computing Bow\n",
    "print(\"the type of count vectorizer \",type(final_counts_Bow_tr))\n",
    "print(\"the shape of out text BOW vectorizer \",final_counts_Bow_tr.get_shape())\n",
    "print(\"the number of unique words \", final_counts_Bow_tr.get_shape()[1])\n",
    "final_counts_Bow_test= count_vect.transform(x_test)# computing Bow\n",
    "print(\"the type of count vectorizer \",type(final_counts_Bow_test))\n",
    "print(\"the shape of out text BOW vectorizer \",final_counts_Bow_test.get_shape())"
   ]
  },
  {
   "cell_type": "markdown",
   "metadata": {},
   "source": [
    "## 2.1.1 Standardizing Data"
   ]
  },
  {
   "cell_type": "code",
   "execution_count": 10,
   "metadata": {},
   "outputs": [
    {
     "name": "stdout",
     "output_type": "stream",
     "text": [
      "(105000, 38300)\n",
      "(45000, 38300)\n"
     ]
    }
   ],
   "source": [
    "# Data-preprocessing: Standardizing the data\n",
    "\n",
    "from sklearn import preprocessing\n",
    "standardized_data_train = preprocessing.normalize(final_counts_Bow_tr)\n",
    "print(standardized_data_train.shape)\n",
    "standardized_data_test = preprocessing.normalize(final_counts_Bow_test)\n",
    "print(standardized_data_test.shape)\n"
   ]
  },
  {
   "cell_type": "markdown",
   "metadata": {},
   "source": [
    "## 2.2  Applying Logistic Regression Algorithm\n"
   ]
  },
  {
   "cell_type": "markdown",
   "metadata": {},
   "source": [
    "## 2.2.1 Gridsearch Cross Validation"
   ]
  },
  {
   "cell_type": "markdown",
   "metadata": {},
   "source": [
    "## 2.2.1.1Using L1 Regularization\n"
   ]
  },
  {
   "cell_type": "code",
   "execution_count": 11,
   "metadata": {},
   "outputs": [
    {
     "name": "stdout",
     "output_type": "stream",
     "text": [
      "The optimal value of C(1/lambda) is :  LogisticRegression(C=10, class_weight='balanced', dual=False,\n",
      "          fit_intercept=True, intercept_scaling=1, max_iter=100,\n",
      "          multi_class='warn', n_jobs=None, penalty='l1', random_state=None,\n",
      "          solver='warn', tol=0.0001, verbose=0, warm_start=False)\n",
      "\n",
      " Accuracy of model using L1 Regularization 0.9360583243695472\n",
      "0.996879660542493\n"
     ]
    }
   ],
   "source": [
    "# Finding the best parameters using Grid Seach CV using 2-fold Cross-Validation in Logistic Regression\n",
    "\n",
    "from sklearn.model_selection import GridSearchCV\n",
    "tuned_parameters = [{'C': [10**-4,10**-3, 10**-2,10**-1, 1, 10**1,10**2,10**3, 10**4]}]\n",
    "model = GridSearchCV(LogisticRegression(penalty = 'l1',class_weight='balanced'), tuned_parameters, scoring = 'f1', cv=2, n_jobs=-1)\n",
    "model.fit(standardized_data_train, y_train)\n",
    "optimal_C = model.best_estimator_.C\n",
    "print(\"The optimal value of C(1/lambda) is : \",model.best_estimator_)\n",
    "print(\"\\n Accuracy of model using L1 Regularization\",model.score(standardized_data_test, y_test))\n",
    "print(max(model.cv_results_['mean_train_score']))\n",
    "results = model.cv_results_"
   ]
  },
  {
   "cell_type": "code",
   "execution_count": 12,
   "metadata": {},
   "outputs": [
    {
     "data": {
      "text/plain": [
       "array([0.        , 0.        , 0.75729805, 0.89179946, 0.92472537,\n",
       "       0.93503914, 0.9274081 , 0.91495562, 0.90684966])"
      ]
     },
     "execution_count": 12,
     "metadata": {},
     "output_type": "execute_result"
    }
   ],
   "source": [
    "results['mean_test_score']"
   ]
  },
  {
   "cell_type": "code",
   "execution_count": 13,
   "metadata": {},
   "outputs": [
    {
     "data": {
      "image/png": "[encoded data removed]",
      "text/plain": [
       "<matplotlib.figure.Figure at 0x182b55e9b00>"
      ]
     },
     "metadata": {},
     "output_type": "display_data"
    }
   ],
   "source": [
    "C=10**-4,10**-3, 10**-2,10**-1, 1, 10**1,10**2,10**3, 10**4\n",
    "plt.plot(C,results['mean_test_score'],marker='o')\n",
    "plt.xlabel('C')\n",
    "plt.ylabel('f1score')\n",
    "plt.title(\"F1score vs hyperparameter C\")\n",
    "plt.grid()\n",
    "plt.show()"
   ]
  },
  {
   "cell_type": "code",
   "execution_count": 14,
   "metadata": {},
   "outputs": [],
   "source": [
    "# Logistic Regression with Optimal value of C(1/lambda)\n",
    "lr = LogisticRegression(penalty='l1',class_weight='balanced', C=optimal_C, n_jobs=-1)\n",
    "lr.fit(standardized_data_train,y_train)\n",
    "pred_bow = lr.predict(standardized_data_test)\n",
    "\n"
   ]
  },
  {
   "cell_type": "markdown",
   "metadata": {},
   "source": [
    "## 2.3 Confusion Matrix"
   ]
  },
  {
   "cell_type": "code",
   "execution_count": 15,
   "metadata": {},
   "outputs": [
    {
     "name": "stdout",
     "output_type": "stream",
     "text": [
      "Confusion Matrix:\n"
     ]
    },
    {
     "data": {
      "image/png": "[encoded data removed]",
      "text/plain": [
       "<matplotlib.figure.Figure at 0x182b55e95f8>"
      ]
     },
     "metadata": {},
     "output_type": "display_data"
    }
   ],
   "source": [
    "cm_bow=confusion_matrix(y_test,pred_bow)\n",
    "print(\"Confusion Matrix:\")\n",
    "sns.heatmap(cm_bow, annot=True, fmt='d')\n",
    "plt.show()"
   ]
  },
  {
   "cell_type": "code",
   "execution_count": 16,
   "metadata": {},
   "outputs": [
    {
     "name": "stdout",
     "output_type": "stream",
     "text": [
      " true negitves are 4941 \n",
      " false positives are 1173 \n",
      " false negatives are 3642\n",
      " true positives are 35244 \n",
      " \n"
     ]
    }
   ],
   "source": [
    "#finding out  true negative , false positive , false negative and true positve \n",
    "tn, fp, fn, tp = cm_bow.ravel()\n",
    "( tp, fp, fn, tp)\n",
    "print(\" true negitves are {} \\n false positives are {} \\n false negatives are {}\\n true positives are {} \\n \".format(tn,fp,fn,tp))"
   ]
  },
  {
   "cell_type": "markdown",
   "metadata": {},
   "source": [
    "## 2.4 Calculating Accuracy,Error on test data,Precision,Recall,Classification Report"
   ]
  },
  {
   "cell_type": "code",
   "execution_count": 17,
   "metadata": {},
   "outputs": [
    {
     "name": "stdout",
     "output_type": "stream",
     "text": [
      "\n",
      "The Test Accuracy of the Logistic Regression classifier for C = 10.000 is 89.300000%\n",
      "\n",
      "Test Error  Logistic Regression classifier is  10.700000%\n",
      "\n",
      "The Test Precision of the Logistic Regression classifier for C = 10.000 is 0.967790\n",
      "\n",
      "The Test Recall of the Logistic Regression classifier for C = 10.000 is 0.906342\n",
      "\n",
      "The Test classification report of the Logistic regression classifier for C \n",
      "\n",
      "                precision    recall  f1-score   support\n",
      "\n",
      "           0       0.58      0.81      0.67      6114\n",
      "           1       0.97      0.91      0.94     38886\n",
      "\n",
      "   micro avg       0.89      0.89      0.89     45000\n",
      "   macro avg       0.77      0.86      0.80     45000\n",
      "weighted avg       0.91      0.89      0.90     45000\n",
      "\n"
     ]
    }
   ],
   "source": [
    "from sklearn.metrics import recall_score\n",
    "from sklearn.metrics import precision_score\n",
    "from sklearn.metrics import classification_report\n",
    "\n",
    "\n",
    "# evaluating accuracy\n",
    "acc_bow = accuracy_score(y_test, pred_bow) * 100\n",
    "print('\\nThe Test Accuracy of the Logistic Regression classifier for C = %.3f is %f%%' % (optimal_C, acc_bow))\n",
    "\n",
    "# Error on test data\n",
    "test_error_bow = 100-acc_bow\n",
    "print(\"\\nTest Error  Logistic Regression classifier is  %f%%\" % (test_error_bow))\n",
    "\n",
    "# evaluating precision\n",
    "precision_score = precision_score(y_test, pred_bow) \n",
    "print('\\nThe Test Precision of the Logistic Regression classifier for C = %.3f is %f' % (optimal_C, precision_score))\n",
    "\n",
    "# evaluating recall\n",
    "recall_score = recall_score(y_test, pred_bow)\n",
    "print('\\nThe Test Recall of the Logistic Regression classifier for C = %.3f is %f' % (optimal_C, recall_score))\n",
    "\n",
    "# evaluating Classification report\n",
    "classification_report = classification_report(y_test, pred_bow)\n",
    "print('\\nThe Test classification report of the Logistic regression classifier for C \\n\\n ',(classification_report))"
   ]
  },
  {
   "cell_type": "markdown",
   "metadata": {},
   "source": [
    "## 2.5 Perturbation Test\n",
    "\n",
    "Pertubation test means adding noise to one of the data point and comparing the difference b/w change in previous weights and New \n",
    "\n",
    "weights to find of collinearity."
   ]
  },
  {
   "cell_type": "code",
   "execution_count": 18,
   "metadata": {},
   "outputs": [
    {
     "name": "stdout",
     "output_type": "stream",
     "text": [
      "(105000, 38300)\n",
      "(105000, 38300)\n"
     ]
    }
   ],
   "source": [
    "import scipy as sp\n",
    "epsilon = sp.stats.distributions.norm.rvs(loc=0,scale=0.0001)\n",
    "# Vector before the addition of epsilon\n",
    "W_before_epsilon = lr.coef_\n",
    "\n",
    "# Number of non zero elements in Standardized_train sparse matrix\n",
    "no_of_non_zero = standardized_data_train.count_nonzero()\n",
    "\n",
    "# Importing library to create a sparse matrix of epsilon\n",
    "from scipy.sparse import csr_matrix\n",
    "\n",
    "# Creating new sparse matrix with epsilon at same position of non-zero elements of standardized_data_train\n",
    "x_train_indices = standardized_data_train.indices\n",
    "x_train_indptr = standardized_data_train.indptr #CSR format index pointer array of the matrix\n",
    "\n",
    "# Creating a list of same element with repetition\n",
    "data = [epsilon] * no_of_non_zero\n",
    "Shape = standardized_data_train.shape\n",
    "\n",
    "# Creating sparse matrix\n",
    "sparse_epsilon = csr_matrix((data,x_train_indices,x_train_indptr),shape=Shape,dtype=float)\n",
    "\n",
    "# Add sparse_epsilon and X-standardized_data_train to get a new sparse matrix with epsilon added to each \n",
    "# non-zero element of standardized_data_train\n",
    "epsilon_train = standardized_data_train + sparse_epsilon\n",
    "\n",
    "print(standardized_data_train.shape)\n",
    "print(epsilon_train.shape)"
   ]
  },
  {
   "cell_type": "code",
   "execution_count": 19,
   "metadata": {},
   "outputs": [
    {
     "name": "stdout",
     "output_type": "stream",
     "text": [
      "change_vector [[-0.18781211  0.00265793  0.00070282 ...  0.07048499  0.00299014\n",
      "   0.02426568]]\n"
     ]
    },
    {
     "data": {
      "text/plain": [
       "array([80.43612764, 68.34999415, 63.4533719 , 62.68917174, 61.85769023,\n",
       "       56.74514478, 48.18468263, 47.03514429, 47.00297897, 45.78555971,\n",
       "       45.6641654 , 45.55103298, 43.45110589, 42.32678207, 42.15837555,\n",
       "       41.30281974, 40.21503871, 40.0757641 , 39.52849034, 39.40952553])"
      ]
     },
     "execution_count": 19,
     "metadata": {},
     "output_type": "execute_result"
    }
   ],
   "source": [
    "# training Logistic Regression Classifier with epsilon_train\n",
    "epsilon_lr = LogisticRegression(penalty='l2', C=optimal_C, n_jobs=-1)\n",
    "epsilon_lr.fit(epsilon_train,y_train)\n",
    "\n",
    "# Vector after the addition of epsilon\n",
    "W_after_epsilon = epsilon_lr.coef_\n",
    "\n",
    "# Change in vectors after adding epsilon\n",
    "change_vector = W_after_epsilon - W_before_epsilon\n",
    "print(\"change_vector\",change_vector)\n",
    "\n",
    "\n",
    "# Sort this change_vector array after making all the elements positive in ascending order to visualize the change\n",
    "sorted_change_vector = np.sort(np.absolute(change_vector))[:,::-1]\n",
    "\n",
    "sorted_change_vector[0,0:20]"
   ]
  },
  {
   "cell_type": "code",
   "execution_count": 20,
   "metadata": {},
   "outputs": [
    {
     "name": "stdout",
     "output_type": "stream",
     "text": [
      "Top 20 features with their weight values :\n",
      "   mozzerela\t===> \t-81.220233\n",
      "    sonewher\t===> \t-69.030073\n",
      "          ov\t===> \t-64.114649\n",
      "     devault\t===> \t-63.687379\n",
      "yadayadayada\t===> \t-63.630917\n",
      "       dcide\t===> \t-57.960560\n",
      "       gould\t===> \t-50.024412\n",
      "     disastr\t===> \t-49.415678\n",
      "     conceal\t===> \t48.887351\n",
      "     cucazza\t===> \t-47.652274\n",
      "     goodwil\t===> \t-46.439456\n",
      "    distrust\t===> \t-45.965285\n",
      "  robitussin\t===> \t-45.469665\n",
      "        coil\t===> \t-44.417156\n",
      "     differr\t===> \t-43.396825\n",
      "        lvoe\t===> \t-42.349713\n",
      "         yap\t===> \t-42.058078\n",
      "       sheat\t===> \t-40.935986\n",
      "   valentina\t===> \t-40.831091\n",
      "    allrecip\t===> \t-40.804848\n"
     ]
    }
   ],
   "source": [
    "absolute_weights = np.absolute(W_before_epsilon)\n",
    "sorted_absolute_index = np.argsort(absolute_weights)[:,::-1]\n",
    "top_index = sorted_absolute_index[0,0:20]\n",
    "\n",
    "all_features = count_vect.get_feature_names()\n",
    "weight_values = lr.coef_\n",
    "\n",
    "# Top 20 features are    \n",
    "print(\"Top 20 features with their weight values :\")\n",
    "\n",
    "for j in top_index:\n",
    "    print(\"%12s\\t===> \\t%f\"%(all_features[j],weight_values[0,j]))"
   ]
  },
  {
   "cell_type": "markdown",
   "metadata": {},
   "source": [
    "## 3 Using L2 Regularization\n"
   ]
  },
  {
   "cell_type": "code",
   "execution_count": 21,
   "metadata": {},
   "outputs": [
    {
     "name": "stdout",
     "output_type": "stream",
     "text": [
      "The optimal value of C(1/lambda) is :  LogisticRegression(C=100, class_weight='balanced', dual=False,\n",
      "          fit_intercept=True, intercept_scaling=1, max_iter=100,\n",
      "          multi_class='warn', n_jobs=None, penalty='l2', random_state=None,\n",
      "          solver='warn', tol=0.0001, verbose=0, warm_start=False)\n",
      "\n",
      " Accuracy of model using L2 Regularization 0.9360330117956134\n"
     ]
    }
   ],
   "source": [
    "# Finding the best parameters using Grid Seach CV using 2-fold Cross-Validation in Logistic Regression\n",
    "\n",
    "from sklearn.model_selection import GridSearchCV\n",
    "tuned_parameters = [{'C': [10**-4,10**-3, 10**-2,10**-1, 1, 10**1,10**2,10**3, 10**4]}]\n",
    "model = GridSearchCV(LogisticRegression(penalty = 'l2',class_weight='balanced'), tuned_parameters, scoring = 'f1', cv=2, n_jobs=-1)\n",
    "model.fit(standardized_data_train, y_train)\n",
    "print(\"The optimal value of C(1/lambda) is : \",model.best_estimator_)\n",
    "optimal_C = model.best_estimator_.C\n",
    "print(\"\\n Accuracy of model using L2 Regularization\",model.score(standardized_data_test, y_test))"
   ]
  },
  {
   "cell_type": "code",
   "execution_count": 22,
   "metadata": {},
   "outputs": [
    {
     "data": {
      "text/plain": [
       "array([0.84218935, 0.84578152, 0.86785172, 0.90223424, 0.92435706,\n",
       "       0.93339376, 0.93529618, 0.93061559, 0.92453348])"
      ]
     },
     "execution_count": 22,
     "metadata": {},
     "output_type": "execute_result"
    }
   ],
   "source": [
    "model.best_params_\n",
    "results = model.cv_results_\n",
    "results['mean_test_score']\n"
   ]
  },
  {
   "cell_type": "code",
   "execution_count": 23,
   "metadata": {},
   "outputs": [
    {
     "data": {
      "image/png": "[encoded data removed]",
      "text/plain": [
       "<matplotlib.figure.Figure at 0x182adae7a58>"
      ]
     },
     "metadata": {},
     "output_type": "display_data"
    }
   ],
   "source": [
    "C=10**-4,10**-3, 10**-2,10**-1, 1, 10**1,10**2,10**3, 10**4\n",
    "plt.plot(C,results['mean_test_score'],marker='o')\n",
    "plt.xlabel('C')\n",
    "plt.ylabel('f1score')\n",
    "plt.title(\"F1score vs hyperparameter C\")\n",
    "plt.grid()\n",
    "plt.show()"
   ]
  },
  {
   "cell_type": "code",
   "execution_count": 24,
   "metadata": {},
   "outputs": [],
   "source": [
    "# Logistic Regression with Optimal value of C(1/lambda)\n",
    "lr = LogisticRegression(penalty='l1', C=optimal_C, class_weight='balanced',n_jobs=-1)\n",
    "lr.fit(standardized_data_train,y_train)\n",
    "pred_bow = lr.predict(standardized_data_test)"
   ]
  },
  {
   "cell_type": "markdown",
   "metadata": {},
   "source": [
    "## 3.1 Confusion Matrix"
   ]
  },
  {
   "cell_type": "code",
   "execution_count": 25,
   "metadata": {},
   "outputs": [
    {
     "name": "stdout",
     "output_type": "stream",
     "text": [
      "Confusion Matrix:\n"
     ]
    },
    {
     "data": {
      "image/png": "[encoded data removed]",
      "text/plain": [
       "<matplotlib.figure.Figure at 0x182b7af2128>"
      ]
     },
     "metadata": {},
     "output_type": "display_data"
    }
   ],
   "source": [
    "cm_bow=confusion_matrix(y_test,pred_bow)\n",
    "print(\"Confusion Matrix:\")\n",
    "sns.heatmap(cm_bow, annot=True, fmt='d')\n",
    "plt.show()"
   ]
  },
  {
   "cell_type": "code",
   "execution_count": 26,
   "metadata": {},
   "outputs": [
    {
     "name": "stdout",
     "output_type": "stream",
     "text": [
      " true negitves are 4548 \n",
      " false positives are 1566 \n",
      " false negatives are 3710\n",
      " true positives are 35176 \n",
      " \n"
     ]
    }
   ],
   "source": [
    "#finding out  true negative , false positive , false negative and true positve \n",
    "tn, fp, fn, tp = cm_bow.ravel()\n",
    "( tp, fp, fn, tp)\n",
    "print(\" true negitves are {} \\n false positives are {} \\n false negatives are {}\\n true positives are {} \\n \".format(tn,fp,fn,tp))"
   ]
  },
  {
   "cell_type": "markdown",
   "metadata": {},
   "source": [
    "## 3.2 Calculating Accuracy,Error on test data,Precision,Recall,Classification Report\n"
   ]
  },
  {
   "cell_type": "code",
   "execution_count": 27,
   "metadata": {},
   "outputs": [
    {
     "name": "stdout",
     "output_type": "stream",
     "text": [
      "\n",
      "The Test Accuracy of the Logistic Regression classifier for C = 100.000 is 88.275556%\n",
      "\n",
      "Test Error  Logistic Regression classifier is  11.724444%\n",
      "\n",
      "The Test Precision of the Logistic Regression classifier for C = 100.000 is 0.957378\n",
      "\n",
      "The Test Recall of the Logistic Regression classifier for C = 100.000 is 0.904593\n",
      "\n",
      "The Test classification report of the Logistic regression classifier for C \n",
      "\n",
      "                precision    recall  f1-score   support\n",
      "\n",
      "           0       0.55      0.74      0.63      6114\n",
      "           1       0.96      0.90      0.93     38886\n",
      "\n",
      "   micro avg       0.88      0.88      0.88     45000\n",
      "   macro avg       0.75      0.82      0.78     45000\n",
      "weighted avg       0.90      0.88      0.89     45000\n",
      "\n"
     ]
    }
   ],
   "source": [
    "from sklearn.metrics import recall_score\n",
    "from sklearn.metrics import precision_score\n",
    "from sklearn.metrics import classification_report\n",
    "\n",
    "\n",
    "# evaluating accuracy\n",
    "acc_bow = accuracy_score(y_test, pred_bow) * 100\n",
    "print('\\nThe Test Accuracy of the Logistic Regression classifier for C = %.3f is %f%%' % (optimal_C, acc_bow))\n",
    "\n",
    "# Error on test data\n",
    "test_error_bow = 100-acc_bow\n",
    "print(\"\\nTest Error  Logistic Regression classifier is  %f%%\" % (test_error_bow))\n",
    "\n",
    "# evaluating precision\n",
    "precision_score = precision_score(y_test, pred_bow) \n",
    "print('\\nThe Test Precision of the Logistic Regression classifier for C = %.3f is %f' % (optimal_C, precision_score))\n",
    "\n",
    "# evaluating recall\n",
    "recall_score = recall_score(y_test, pred_bow)\n",
    "print('\\nThe Test Recall of the Logistic Regression classifier for C = %.3f is %f' % (optimal_C, recall_score))\n",
    "\n",
    "# evaluating Classification report\n",
    "classification_report = classification_report(y_test, pred_bow)\n",
    "print('\\nThe Test classification report of the Logistic regression classifier for C \\n\\n ',(classification_report))"
   ]
  },
  {
   "cell_type": "markdown",
   "metadata": {},
   "source": [
    "## 3.3 Perturbation Test\n",
    "\n",
    "Pertubation test means adding noise to one of the data point and comparing the difference b/w change in previous weights and New \n",
    "\n",
    "weights to find of collinearity."
   ]
  },
  {
   "cell_type": "code",
   "execution_count": 28,
   "metadata": {},
   "outputs": [
    {
     "name": "stdout",
     "output_type": "stream",
     "text": [
      "(105000, 38300)\n",
      "(105000, 38300)\n"
     ]
    }
   ],
   "source": [
    "import scipy as sp\n",
    "epsilon = sp.stats.distributions.norm.rvs(loc=0,scale=0.0001)\n",
    "# Vector before the addition of epsilon\n",
    "W_before_epsilon = lr.coef_\n",
    "\n",
    "# Number of non zero elements in Standardized_train sparse matrix\n",
    "no_of_non_zero = standardized_data_train.count_nonzero()\n",
    "\n",
    "# Importing library to create a sparse matrix of epsilon\n",
    "from scipy.sparse import csr_matrix\n",
    "\n",
    "# Creating new sparse matrix with epsilon at same position of non-zero elements of standardized_data_train\n",
    "x_train_indices = standardized_data_train.indices\n",
    "x_train_indptr = standardized_data_train.indptr #CSR format index pointer array of the matrix\n",
    "\n",
    "# Creating a list of same element with repetition\n",
    "data = [epsilon] * no_of_non_zero\n",
    "Shape = standardized_data_train.shape\n",
    "\n",
    "# Creating sparse matrix\n",
    "sparse_epsilon = csr_matrix((data,x_train_indices,x_train_indptr),shape=Shape,dtype=float)\n",
    "\n",
    "# Add sparse_epsilon and X-standardized_data_train to get a new sparse matrix with epsilon added to each \n",
    "# non-zero element of standardized_data_train\n",
    "epsilon_train = standardized_data_train + sparse_epsilon\n",
    "\n",
    "print(standardized_data_train.shape)\n",
    "print(epsilon_train.shape)"
   ]
  },
  {
   "cell_type": "code",
   "execution_count": 29,
   "metadata": {},
   "outputs": [
    {
     "name": "stdout",
     "output_type": "stream",
     "text": [
      "change_vector [[-0.38546745  0.0133082   0.00260297 ...  0.52743074  0.01591668\n",
      "   0.20440039]]\n"
     ]
    },
    {
     "data": {
      "text/plain": [
       "array([279.89737901, 244.93824374, 243.28154387, 224.69960439,\n",
       "       213.30730546, 184.82155136, 182.28277033, 174.96124204,\n",
       "       171.70893446, 169.22951164, 162.74209369, 161.06205587,\n",
       "       158.43263579, 157.2051283 , 156.50838444, 154.91301797,\n",
       "       152.62204688, 151.55942332, 150.21767536, 149.83455957])"
      ]
     },
     "execution_count": 29,
     "metadata": {},
     "output_type": "execute_result"
    }
   ],
   "source": [
    "# training Logistic Regression Classifier with epsilon_train\n",
    "epsilon_lr = LogisticRegression(penalty='l2', C=optimal_C, n_jobs=-1)\n",
    "epsilon_lr.fit(epsilon_train,y_train)\n",
    "\n",
    "# Vector after the addition of epsilon\n",
    "W_after_epsilon = epsilon_lr.coef_\n",
    "\n",
    "# Change in vectors after adding epsilon\n",
    "change_vector = W_after_epsilon - W_before_epsilon\n",
    "print(\"change_vector\",change_vector)\n",
    "\n",
    "\n",
    "# Sort this change_vector array after making all the elements positive in ascending order to visualize the change\n",
    "sorted_change_vector = np.sort(np.absolute(change_vector))[:,::-1]\n",
    "\n",
    "sorted_change_vector[0,0:20]"
   ]
  },
  {
   "cell_type": "code",
   "execution_count": 30,
   "metadata": {},
   "outputs": [
    {
     "name": "stdout",
     "output_type": "stream",
     "text": [
      "Top 20 features with their weight values :\n",
      "     fishier\t===> \t-285.214412\n",
      "      corect\t===> \t-251.279729\n",
      "      reclin\t===> \t243.825402\n",
      "     uninari\t===> \t-237.050619\n",
      "    advantix\t===> \t-218.687210\n",
      "      conlus\t===> \t-188.170532\n",
      "        poem\t===> \t185.470745\n",
      "     jivalim\t===> \t-179.065145\n",
      "     goodwil\t===> \t-177.997433\n",
      "    sonewher\t===> \t-176.043247\n",
      "   mozzerela\t===> \t-170.576943\n",
      "        ridx\t===> \t-168.161849\n",
      "       anywh\t===> \t-164.032482\n",
      "      glimps\t===> \t-161.199524\n",
      "    crosswis\t===> \t-161.000928\n",
      "     hermosa\t===> \t-157.407477\n",
      " opportunist\t===> \t-156.843131\n",
      "   grainiest\t===> \t-156.185795\n",
      "  settlement\t===> \t155.093561\n",
      "     colicki\t===> \t154.797667\n"
     ]
    }
   ],
   "source": [
    "absolute_weights = np.absolute(W_before_epsilon)\n",
    "sorted_absolute_index = np.argsort(absolute_weights)[:,::-1]\n",
    "top_index = sorted_absolute_index[0,0:20]\n",
    "\n",
    "all_features = count_vect.get_feature_names()\n",
    "weight_values = lr.coef_\n",
    "\n",
    "# Top 20 features are    \n",
    "print(\"Top 20 features with their weight values :\")\n",
    "\n",
    "for j in top_index:\n",
    "    print(\"%12s\\t===> \\t%f\"%(all_features[j],weight_values[0,j]))"
   ]
  },
  {
   "cell_type": "markdown",
   "metadata": {},
   "source": [
    "## 4 Randomized Search Cross Validation\n"
   ]
  },
  {
   "cell_type": "markdown",
   "metadata": {},
   "source": [
    "## 4.1 Using L1 Regularization\n"
   ]
  },
  {
   "cell_type": "code",
   "execution_count": 31,
   "metadata": {},
   "outputs": [
    {
     "name": "stdout",
     "output_type": "stream",
     "text": [
      "The optimal value of C(1/lambda) is :  LogisticRegression(C=1, class_weight='balanced', dual=False,\n",
      "          fit_intercept=True, intercept_scaling=1, max_iter=100,\n",
      "          multi_class='warn', n_jobs=None, penalty='l1', random_state=None,\n",
      "          solver='warn', tol=0.0001, verbose=0, warm_start=False)\n",
      "\n",
      " Accuracy of model using L1 Regularization 0.9287322234953158\n"
     ]
    }
   ],
   "source": [
    "# Finding the best parameters using Random Seach CV using 2-fold Cross-Validation in Logistic Regression\n",
    "\n",
    "from sklearn.model_selection import RandomizedSearchCV\n",
    "param_distributions = {'C': [10**-4,10**-3, 10**-2,10**-1, 1, 10**1,10**2,10**3, 10**4]}\n",
    "model = RandomizedSearchCV(LogisticRegression(penalty = 'l1',class_weight='balanced'), param_distributions, scoring = 'f1',cv=2, n_iter=4, n_jobs=-1,pre_dispatch=2)\n",
    "model.fit(standardized_data_train, y_train)\n",
    "print(\"The optimal value of C(1/lambda) is : \",model.best_estimator_)\n",
    "optimal_C = model.best_estimator_.C\n",
    "print(\"\\n Accuracy of model using L1 Regularization\",model.score(standardized_data_test, y_test))"
   ]
  },
  {
   "cell_type": "code",
   "execution_count": 32,
   "metadata": {},
   "outputs": [
    {
     "data": {
      "text/plain": [
       "array([0.89179946, 0.92473161, 0.75729805, 0.        ])"
      ]
     },
     "execution_count": 32,
     "metadata": {},
     "output_type": "execute_result"
    }
   ],
   "source": [
    "model.best_params_\n",
    "results = model.cv_results_\n",
    "results['mean_test_score']\n"
   ]
  },
  {
   "cell_type": "code",
   "execution_count": 33,
   "metadata": {},
   "outputs": [
    {
     "data": {
      "image/png": "[encoded data removed]",
      "text/plain": [
       "<matplotlib.figure.Figure at 0x182b3db2ef0>"
      ]
     },
     "metadata": {},
     "output_type": "display_data"
    }
   ],
   "source": [
    "C= 10**-2,10**-1, 1, 10**1,\n",
    "plt.plot(C,results['mean_test_score'],marker='o')\n",
    "plt.xlabel('C')\n",
    "plt.ylabel('f1score')\n",
    "plt.title(\"F1score vs hyperparameter C\")\n",
    "plt.grid()\n",
    "plt.show()"
   ]
  },
  {
   "cell_type": "code",
   "execution_count": 34,
   "metadata": {},
   "outputs": [],
   "source": [
    "# Logistic Regression with Optimal value of C(1/lambda)\n",
    "lr = LogisticRegression(penalty='l1', C=optimal_C,class_weight='balanced', n_jobs=-1)\n",
    "lr.fit(standardized_data_train,y_train)\n",
    "pred_bow = lr.predict(standardized_data_test)\n",
    "\n"
   ]
  },
  {
   "cell_type": "markdown",
   "metadata": {},
   "source": [
    "## 4.2 Confusion Matrix"
   ]
  },
  {
   "cell_type": "code",
   "execution_count": 35,
   "metadata": {},
   "outputs": [
    {
     "name": "stdout",
     "output_type": "stream",
     "text": [
      "Confusion Matrix:\n"
     ]
    },
    {
     "data": {
      "image/png": "[encoded data removed]",
      "text/plain": [
       "<matplotlib.figure.Figure at 0x182ab8c52b0>"
      ]
     },
     "metadata": {},
     "output_type": "display_data"
    }
   ],
   "source": [
    "cm_bow=confusion_matrix(y_test,pred_bow)\n",
    "print(\"Confusion Matrix:\")\n",
    "sns.heatmap(cm_bow, annot=True, fmt='d')\n",
    "plt.show()"
   ]
  },
  {
   "cell_type": "code",
   "execution_count": 36,
   "metadata": {},
   "outputs": [
    {
     "name": "stdout",
     "output_type": "stream",
     "text": [
      " true negitves are 5264 \n",
      " false positives are 850 \n",
      " false negatives are 4437\n",
      " true positives are 34449 \n",
      " \n"
     ]
    }
   ],
   "source": [
    "#finding out  true negative , false positive , false negative and true positve \n",
    "tn, fp, fn, tp = cm_bow.ravel()\n",
    "( tp, fp, fn, tp)\n",
    "print(\" true negitves are {} \\n false positives are {} \\n false negatives are {}\\n true positives are {} \\n \".format(tn,fp,fn,tp))"
   ]
  },
  {
   "cell_type": "markdown",
   "metadata": {},
   "source": [
    "## 4.3 Calculating Accuracy,Error on test data,Precision,Recall,Classification Report"
   ]
  },
  {
   "cell_type": "code",
   "execution_count": 37,
   "metadata": {},
   "outputs": [
    {
     "name": "stdout",
     "output_type": "stream",
     "text": [
      "\n",
      "The Test Accuracy of the Logistic Regression classifier for C = 1.000 is 88.251111%\n",
      "\n",
      "Test Error  Logistic Regression classifier is  11.748889%\n",
      "\n",
      "The Test Precision of the Logistic Regression classifier for C = 1.000 is 0.975920\n",
      "\n",
      "The Test Recall of the Logistic Regression classifier for C = 1.000 is 0.885897\n",
      "\n",
      "The Test classification report of the Logistic regression classifier for C \n",
      "\n",
      "                precision    recall  f1-score   support\n",
      "\n",
      "           0       0.54      0.86      0.67      6114\n",
      "           1       0.98      0.89      0.93     38886\n",
      "\n",
      "   micro avg       0.88      0.88      0.88     45000\n",
      "   macro avg       0.76      0.87      0.80     45000\n",
      "weighted avg       0.92      0.88      0.89     45000\n",
      "\n"
     ]
    }
   ],
   "source": [
    "from sklearn.metrics import recall_score\n",
    "from sklearn.metrics import precision_score\n",
    "from sklearn.metrics import classification_report\n",
    "\n",
    "\n",
    "# evaluating accuracy\n",
    "acc_bow = accuracy_score(y_test, pred_bow) * 100\n",
    "print('\\nThe Test Accuracy of the Logistic Regression classifier for C = %.3f is %f%%' % (optimal_C, acc_bow))\n",
    "\n",
    "# Error on test data\n",
    "test_error_bow = 100-acc_bow\n",
    "print(\"\\nTest Error  Logistic Regression classifier is  %f%%\" % (test_error_bow))\n",
    "\n",
    "# evaluating precision\n",
    "precision_score = precision_score(y_test, pred_bow) \n",
    "print('\\nThe Test Precision of the Logistic Regression classifier for C = %.3f is %f' % (optimal_C, precision_score))\n",
    "\n",
    "# evaluating recall\n",
    "recall_score = recall_score(y_test, pred_bow)\n",
    "print('\\nThe Test Recall of the Logistic Regression classifier for C = %.3f is %f' % (optimal_C, recall_score))\n",
    "\n",
    "# evaluating Classification report\n",
    "classification_report = classification_report(y_test, pred_bow)\n",
    "print('\\nThe Test classification report of the Logistic regression classifier for C \\n\\n ',(classification_report))"
   ]
  },
  {
   "cell_type": "markdown",
   "metadata": {},
   "source": [
    "## 4.4 Perturbation Test\n",
    "\n",
    "Pertubation test means adding noise to one of the data point and comparing the difference b/w change in previous weights and New \n",
    "\n",
    "weights to find of collinearity."
   ]
  },
  {
   "cell_type": "code",
   "execution_count": 38,
   "metadata": {},
   "outputs": [
    {
     "name": "stdout",
     "output_type": "stream",
     "text": [
      "(105000, 38300)\n",
      "(105000, 38300)\n"
     ]
    }
   ],
   "source": [
    "import scipy as sp\n",
    "epsilon = sp.stats.distributions.norm.rvs(loc=0,scale=0.0001)\n",
    "# Vector before the addition of epsilon\n",
    "W_before_epsilon = lr.coef_\n",
    "\n",
    "# Number of non zero elements in Standardized_train sparse matrix\n",
    "no_of_non_zero = standardized_data_train.count_nonzero()\n",
    "\n",
    "# Importing library to create a sparse matrix of epsilon\n",
    "from scipy.sparse import csr_matrix\n",
    "\n",
    "# Creating new sparse matrix with epsilon at same position of non-zero elements of standardized_data_train\n",
    "x_train_indices = standardized_data_train.indices\n",
    "x_train_indptr = standardized_data_train.indptr #CSR format index pointer array of the matrix\n",
    "\n",
    "# Creating a list of same element with repetition\n",
    "data = [epsilon] * no_of_non_zero\n",
    "Shape = standardized_data_train.shape\n",
    "\n",
    "# Creating sparse matrix\n",
    "sparse_epsilon = csr_matrix((data,x_train_indices,x_train_indptr),shape=Shape,dtype=float)\n",
    "\n",
    "# Add sparse_epsilon and X-standardized_data_train to get a new sparse matrix with epsilon added to each \n",
    "# non-zero element of standardized_data_train\n",
    "epsilon_train = standardized_data_train + sparse_epsilon\n",
    "\n",
    "print(standardized_data_train.shape)\n",
    "print(epsilon_train.shape)"
   ]
  },
  {
   "cell_type": "code",
   "execution_count": 39,
   "metadata": {},
   "outputs": [
    {
     "name": "stdout",
     "output_type": "stream",
     "text": [
      "change_vector [[-0.03672996  0.00054887  0.00033181 ...  0.00673288  0.0009489\n",
      "   0.00268351]]\n"
     ]
    },
    {
     "data": {
      "text/plain": [
       "array([11.95219371, 10.0082331 ,  9.76158746,  9.25378138,  8.45149723,\n",
       "        7.9692281 ,  7.78368559,  7.34347925,  7.22232061,  7.11104477,\n",
       "        7.06928   ,  6.66598343,  6.65607234,  6.50565939,  6.48649745,\n",
       "        6.20296582,  6.13102896,  6.10131871,  6.0579145 ,  5.99302139])"
      ]
     },
     "execution_count": 39,
     "metadata": {},
     "output_type": "execute_result"
    }
   ],
   "source": [
    "# training Logistic Regression Classifier with epsilon_train\n",
    "epsilon_lr = LogisticRegression(penalty='l2', C=optimal_C, n_jobs=-1)\n",
    "epsilon_lr.fit(epsilon_train,y_train)\n",
    "\n",
    "# Vector after the addition of epsilon\n",
    "W_after_epsilon = epsilon_lr.coef_\n",
    "\n",
    "# Change in vectors after adding epsilon\n",
    "change_vector = W_after_epsilon - W_before_epsilon\n",
    "print(\"change_vector\",change_vector)\n",
    "\n",
    "\n",
    "# Sort this change_vector array after making all the elements positive in ascending order to visualize the change\n",
    "sorted_change_vector = np.sort(np.absolute(change_vector))[:,::-1]\n",
    "\n",
    "sorted_change_vector[0,0:20]"
   ]
  },
  {
   "cell_type": "code",
   "execution_count": 40,
   "metadata": {},
   "outputs": [
    {
     "name": "stdout",
     "output_type": "stream",
     "text": [
      "Top 20 features with their weight values :\n",
      "       worst\t===> \t-19.582215\n",
      "     mediocr\t===> \t-14.076660\n",
      "     skeptic\t===> \t12.650783\n",
      "     terribl\t===> \t-12.614439\n",
      "   disapoint\t===> \t-11.710660\n",
      "     horribl\t===> \t-11.327022\n",
      "     useless\t===> \t-10.671762\n",
      "        hook\t===> \t10.571999\n",
      "     disgust\t===> \t-10.505307\n",
      "  flavorless\t===> \t-10.478674\n",
      "   tasteless\t===> \t-10.410308\n",
      "          aw\t===> \t-10.144832\n",
      "        beat\t===> \t9.987876\n",
      "     downsid\t===> \t9.786155\n",
      "        amaz\t===> \t9.735837\n",
      "       broke\t===> \t-9.720780\n",
      "      deceiv\t===> \t-9.675675\n",
      "  disappoint\t===> \t-9.637756\n",
      "     unpleas\t===> \t-9.601158\n",
      "       uniqu\t===> \t9.594695\n"
     ]
    }
   ],
   "source": [
    "absolute_weights = np.absolute(W_before_epsilon)\n",
    "sorted_absolute_index = np.argsort(absolute_weights)[:,::-1]\n",
    "top_index = sorted_absolute_index[0,0:20]\n",
    "\n",
    "all_features = count_vect.get_feature_names()\n",
    "weight_values = lr.coef_\n",
    "\n",
    "# Top 20 features are    \n",
    "print(\"Top 20 features with their weight values :\")\n",
    "\n",
    "for j in top_index:\n",
    "    print(\"%12s\\t===> \\t%f\"%(all_features[j],weight_values[0,j]))"
   ]
  },
  {
   "cell_type": "markdown",
   "metadata": {},
   "source": [
    "## 5. Using L2 Regularization\n"
   ]
  },
  {
   "cell_type": "code",
   "execution_count": 41,
   "metadata": {},
   "outputs": [
    {
     "name": "stdout",
     "output_type": "stream",
     "text": [
      "The optimal value of C(1/lambda) is :  LogisticRegression(C=10, class_weight='balanced', dual=False,\n",
      "          fit_intercept=True, intercept_scaling=1, max_iter=100,\n",
      "          multi_class='warn', n_jobs=None, penalty='l2', random_state=None,\n",
      "          solver='warn', tol=0.0001, verbose=0, warm_start=False)\n",
      "\n",
      " Accuracy of model using L2 Regularization 0.9344472664082342\n"
     ]
    }
   ],
   "source": [
    "\n",
    "# Finding the best parameters using Random Seach CV using 2-fold Cross-Validation in Logistic Regression\n",
    "\n",
    "from sklearn.model_selection import RandomizedSearchCV\n",
    "param_distributions = {'C': [10**-4,10**-3, 10**-2,10**-1, 1, 10**1,10**2,10**3, 10**4]}\n",
    "model = RandomizedSearchCV(LogisticRegression(penalty = 'l2',class_weight='balanced'), param_distributions, scoring = 'f1',cv=2, n_iter=4, n_jobs=-1,pre_dispatch=2)\n",
    "model.fit(standardized_data_train, y_train)\n",
    "print(\"The optimal value of C(1/lambda) is : \",model.best_estimator_)\n",
    "optimal_C = model.best_estimator_.C\n",
    "print(\"\\n Accuracy of model using L2 Regularization\",model.score(standardized_data_test, y_test))\n"
   ]
  },
  {
   "cell_type": "code",
   "execution_count": 42,
   "metadata": {},
   "outputs": [
    {
     "data": {
      "text/plain": [
       "array([0.90223424, 0.92453348, 0.93339376, 0.93061559])"
      ]
     },
     "execution_count": 42,
     "metadata": {},
     "output_type": "execute_result"
    }
   ],
   "source": [
    "model.best_params_\n",
    "results = model.cv_results_\n",
    "results['mean_test_score']\n"
   ]
  },
  {
   "cell_type": "code",
   "execution_count": 43,
   "metadata": {},
   "outputs": [
    {
     "data": {
      "image/png": "[encoded data removed]",
      "text/plain": [
       "<matplotlib.figure.Figure at 0x182acb30e48>"
      ]
     },
     "metadata": {},
     "output_type": "display_data"
    }
   ],
   "source": [
    "C= 10**-2,10**1,10**2,10**3\n",
    "plt.plot(C,results['mean_test_score'],marker='o')\n",
    "plt.xlabel('C')\n",
    "plt.ylabel('f1score')\n",
    "plt.title(\"F1score vs hyperparameter C\")\n",
    "plt.grid()\n",
    "plt.show()"
   ]
  },
  {
   "cell_type": "code",
   "execution_count": 44,
   "metadata": {},
   "outputs": [],
   "source": [
    "# Logistic Regression with Optimal value of C(1/lambda)\n",
    "lr = LogisticRegression(penalty='l2',class_weight='balanced', C=optimal_C, n_jobs=-1)\n",
    "lr.fit(standardized_data_train,y_train)\n",
    "pred_bow = lr.predict(standardized_data_test)"
   ]
  },
  {
   "cell_type": "markdown",
   "metadata": {},
   "source": [
    "## 5.1 Confusion Matrix"
   ]
  },
  {
   "cell_type": "code",
   "execution_count": 45,
   "metadata": {},
   "outputs": [
    {
     "name": "stdout",
     "output_type": "stream",
     "text": [
      "Confusion Matrix:\n"
     ]
    },
    {
     "data": {
      "image/png": "[encoded data removed]",
      "text/plain": [
       "<matplotlib.figure.Figure at 0x182acb30940>"
      ]
     },
     "metadata": {},
     "output_type": "display_data"
    }
   ],
   "source": [
    "cm_bow=confusion_matrix(y_test,pred_bow)\n",
    "print(\"Confusion Matrix:\")\n",
    "sns.heatmap(cm_bow, annot=True, fmt='d')\n",
    "plt.show()"
   ]
  },
  {
   "cell_type": "code",
   "execution_count": 46,
   "metadata": {},
   "outputs": [
    {
     "name": "stdout",
     "output_type": "stream",
     "text": [
      " true negitves are 5143 \n",
      " false positives are 971 \n",
      " false negatives are 3933\n",
      " true positives are 34953 \n",
      " \n"
     ]
    }
   ],
   "source": [
    "#finding out  true negative , false positive , false negative and true positve \n",
    "tn, fp, fn, tp = cm_bow.ravel()\n",
    "( tp, fp, fn, tp)\n",
    "print(\" true negitves are {} \\n false positives are {} \\n false negatives are {}\\n true positives are {} \\n \".format(tn,fp,fn,tp))"
   ]
  },
  {
   "cell_type": "markdown",
   "metadata": {},
   "source": [
    "## 5.2 Calculating Accuracy,Error on test data,Precision,Recall,Classification Report"
   ]
  },
  {
   "cell_type": "code",
   "execution_count": 47,
   "metadata": {},
   "outputs": [
    {
     "name": "stdout",
     "output_type": "stream",
     "text": [
      "\n",
      "The Test Accuracy of the Logistic Regression classifier for C = 10.000 is 89.102222%\n",
      "\n",
      "Test Error  Logistic Regression classifier is  10.897778%\n",
      "\n",
      "The Test Precision of the Logistic Regression classifier for C = 10.000 is 0.972971\n",
      "\n",
      "The Test Recall of the Logistic Regression classifier for C = 10.000 is 0.898858\n",
      "\n",
      "The Test classification report of the Logistic regression classifier for C \n",
      "\n",
      "                precision    recall  f1-score   support\n",
      "\n",
      "           0       0.57      0.84      0.68      6114\n",
      "           1       0.97      0.90      0.93     38886\n",
      "\n",
      "   micro avg       0.89      0.89      0.89     45000\n",
      "   macro avg       0.77      0.87      0.81     45000\n",
      "weighted avg       0.92      0.89      0.90     45000\n",
      "\n"
     ]
    }
   ],
   "source": [
    "from sklearn.metrics import recall_score\n",
    "from sklearn.metrics import precision_score\n",
    "from sklearn.metrics import classification_report\n",
    "\n",
    "\n",
    "# evaluating accuracy\n",
    "acc_bow = accuracy_score(y_test, pred_bow) * 100\n",
    "print('\\nThe Test Accuracy of the Logistic Regression classifier for C = %.3f is %f%%' % (optimal_C, acc_bow))\n",
    "\n",
    "# Error on test data\n",
    "test_error_bow = 100-acc_bow\n",
    "print(\"\\nTest Error  Logistic Regression classifier is  %f%%\" % (test_error_bow))\n",
    "\n",
    "# evaluating precision\n",
    "precision_score = precision_score(y_test, pred_bow) \n",
    "print('\\nThe Test Precision of the Logistic Regression classifier for C = %.3f is %f' % (optimal_C, precision_score))\n",
    "\n",
    "# evaluating recall\n",
    "recall_score = recall_score(y_test, pred_bow)\n",
    "print('\\nThe Test Recall of the Logistic Regression classifier for C = %.3f is %f' % (optimal_C, recall_score))\n",
    "\n",
    "# evaluating Classification report\n",
    "classification_report = classification_report(y_test, pred_bow)\n",
    "print('\\nThe Test classification report of the Logistic regression classifier for C \\n\\n ',(classification_report))"
   ]
  },
  {
   "cell_type": "markdown",
   "metadata": {},
   "source": [
    "## 5.3 Perturbation Test\n",
    "\n",
    "Pertubation test means adding noise to one of the data point and comparing the difference b/w change in previous weights and New \n",
    "\n",
    "weights to find of collinearity."
   ]
  },
  {
   "cell_type": "code",
   "execution_count": 48,
   "metadata": {},
   "outputs": [
    {
     "name": "stdout",
     "output_type": "stream",
     "text": [
      "(105000, 38300)\n",
      "(105000, 38300)\n"
     ]
    }
   ],
   "source": [
    "import scipy as sp\n",
    "epsilon = sp.stats.distributions.norm.rvs(loc=0,scale=0.0001)\n",
    "# Vector before the addition of epsilon\n",
    "W_before_epsilon = lr.coef_\n",
    "\n",
    "# Number of non zero elements in Standardized_train sparse matrix\n",
    "no_of_non_zero = standardized_data_train.count_nonzero()\n",
    "\n",
    "# Importing library to create a sparse matrix of epsilon\n",
    "from scipy.sparse import csr_matrix\n",
    "\n",
    "# Creating new sparse matrix with epsilon at same position of non-zero elements of standardized_data_train\n",
    "x_train_indices = standardized_data_train.indices\n",
    "x_train_indptr = standardized_data_train.indptr #CSR format index pointer array of the matrix\n",
    "\n",
    "# Creating a list of same element with repetition\n",
    "data = [epsilon] * no_of_non_zero\n",
    "Shape = standardized_data_train.shape\n",
    "\n",
    "# Creating sparse matrix\n",
    "sparse_epsilon = csr_matrix((data,x_train_indices,x_train_indptr),shape=Shape,dtype=float)\n",
    "\n",
    "# Add sparse_epsilon and X-standardized_data_train to get a new sparse matrix with epsilon added to each \n",
    "# non-zero element of standardized_data_train\n",
    "epsilon_train = standardized_data_train + sparse_epsilon\n",
    "\n",
    "print(standardized_data_train.shape)\n",
    "print(epsilon_train.shape)"
   ]
  },
  {
   "cell_type": "code",
   "execution_count": 49,
   "metadata": {},
   "outputs": [
    {
     "name": "stdout",
     "output_type": "stream",
     "text": [
      "change_vector [[ 0.01054712 -0.00348103 -0.00072059 ... -0.01447428 -0.00601319\n",
      "  -0.04338689]]\n"
     ]
    },
    {
     "data": {
      "text/plain": [
       "array([5.99059881, 5.50707802, 5.47037243, 5.35516691, 4.94093859,\n",
       "       4.69522282, 4.68573963, 4.62902979, 4.56943911, 4.46549101,\n",
       "       4.38718433, 4.335611  , 4.32770104, 4.27473725, 4.26287705,\n",
       "       4.1774262 , 4.16278218, 4.1283014 , 4.12705468, 4.10878494])"
      ]
     },
     "execution_count": 49,
     "metadata": {},
     "output_type": "execute_result"
    }
   ],
   "source": [
    "# training Logistic Regression Classifier with epsilon_train\n",
    "epsilon_lr = LogisticRegression(penalty='l2', C=optimal_C, n_jobs=-1)\n",
    "epsilon_lr.fit(epsilon_train,y_train)\n",
    "\n",
    "# Vector after the addition of epsilon\n",
    "W_after_epsilon = epsilon_lr.coef_\n",
    "\n",
    "# Change in vectors after adding epsilon\n",
    "change_vector = W_after_epsilon - W_before_epsilon\n",
    "print(\"change_vector\",change_vector)\n",
    "\n",
    "\n",
    "# Sort this change_vector array after making all the elements positive in ascending order to visualize the change\n",
    "sorted_change_vector = np.sort(np.absolute(change_vector))[:,::-1]\n",
    "\n",
    "sorted_change_vector[0,0:20]"
   ]
  },
  {
   "cell_type": "code",
   "execution_count": 50,
   "metadata": {},
   "outputs": [
    {
     "name": "stdout",
     "output_type": "stream",
     "text": [
      "Top 20 features with their weight values :\n",
      "       worst\t===> \t-18.771736\n",
      "     terribl\t===> \t-12.983687\n",
      "     mediocr\t===> \t-12.628431\n",
      "     skeptic\t===> \t11.907594\n",
      "     horribl\t===> \t-11.429740\n",
      "   disapoint\t===> \t-11.296132\n",
      "     concept\t===> \t-11.143636\n",
      "        hook\t===> \t10.959550\n",
      "     disgust\t===> \t-10.506773\n",
      "        beat\t===> \t10.491044\n",
      "   tasteless\t===> \t-10.346076\n",
      "          aw\t===> \t-10.191086\n",
      "        amaz\t===> \t10.184085\n",
      "  disappoint\t===> \t-10.070497\n",
      "  flavorless\t===> \t-9.961854\n",
      "       threw\t===> \t-9.892857\n",
      "      delici\t===> \t9.715198\n",
      "       broke\t===> \t-9.606893\n",
      "     downsid\t===> \t9.535177\n",
      "     unpleas\t===> \t-9.490418\n"
     ]
    }
   ],
   "source": [
    "absolute_weights = np.absolute(W_before_epsilon)\n",
    "sorted_absolute_index = np.argsort(absolute_weights)[:,::-1]\n",
    "top_index = sorted_absolute_index[0,0:20]\n",
    "\n",
    "all_features = count_vect.get_feature_names()\n",
    "weight_values = lr.coef_\n",
    "\n",
    "# Top 20 features are    \n",
    "print(\"Top 20 features with their weight values :\")\n",
    "\n",
    "for j in top_index:\n",
    "    print(\"%12s\\t===> \\t%f\"%(all_features[j],weight_values[0,j]))"
   ]
  },
  {
   "cell_type": "markdown",
   "metadata": {},
   "source": [
    "## 6. TF-IDF"
   ]
  },
  {
   "cell_type": "code",
   "execution_count": 51,
   "metadata": {},
   "outputs": [
    {
     "name": "stdout",
     "output_type": "stream",
     "text": [
      "the type of count vectorizer  <class 'scipy.sparse.csr.csr_matrix'>\n",
      "the shape of out text tfidf vectorizer  (105000, 38300)\n",
      "the number of unique words  38300\n",
      "the type of count vectorizer  <class 'scipy.sparse.csr.csr_matrix'>\n",
      "the shape of out text tfidf vectorizer  (45000, 38300)\n",
      "the number of unique words  38300\n"
     ]
    }
   ],
   "source": [
    "#tf-idf\n",
    "from sklearn.feature_extraction.text import TfidfVectorizer\n",
    "tf_idf_vect = TfidfVectorizer()\n",
    "\n",
    "final_counts_tfidf_tr= tf_idf_vect.fit_transform(x_train)\n",
    "print(\"the type of count vectorizer \",type(final_counts_tfidf_tr))\n",
    "print(\"the shape of out text tfidf vectorizer \",final_counts_tfidf_tr.get_shape())\n",
    "print(\"the number of unique words \", final_counts_tfidf_tr.get_shape()[1])\n",
    "final_counts_tfidf_test= tf_idf_vect.transform(x_test)\n",
    "print(\"the type of count vectorizer \",type(final_counts_tfidf_test))\n",
    "print(\"the shape of out text tfidf vectorizer \",final_counts_tfidf_test.get_shape())\n",
    "print(\"the number of unique words \", final_counts_tfidf_test.get_shape()[1])"
   ]
  },
  {
   "cell_type": "markdown",
   "metadata": {},
   "source": [
    "## 6.1 Standardizing Data"
   ]
  },
  {
   "cell_type": "code",
   "execution_count": 52,
   "metadata": {},
   "outputs": [
    {
     "name": "stdout",
     "output_type": "stream",
     "text": [
      "(105000, 38300)\n",
      "(45000, 38300)\n"
     ]
    }
   ],
   "source": [
    "# Data-preprocessing: Standardizing the data\n",
    "from sklearn import preprocessing\n",
    "standardized_data_train = preprocessing.normalize(final_counts_tfidf_tr)\n",
    "print(standardized_data_train.shape)\n",
    "standardized_data_test = preprocessing.normalize(final_counts_tfidf_test)\n",
    "print(standardized_data_test.shape)\n"
   ]
  },
  {
   "cell_type": "markdown",
   "metadata": {},
   "source": [
    "## 6.2 Applying Logistic Regression Algorithm\n"
   ]
  },
  {
   "cell_type": "markdown",
   "metadata": {},
   "source": [
    "## 6.2.1 Gridsearch Cross Validation"
   ]
  },
  {
   "cell_type": "markdown",
   "metadata": {},
   "source": [
    "## 6.2.1.1 Using L1 Regularization\n"
   ]
  },
  {
   "cell_type": "code",
   "execution_count": 53,
   "metadata": {},
   "outputs": [
    {
     "name": "stdout",
     "output_type": "stream",
     "text": [
      "The optimal value of C(1/lambda) is :  LogisticRegression(C=10, class_weight='balanced', dual=False,\n",
      "          fit_intercept=True, intercept_scaling=1, max_iter=100,\n",
      "          multi_class='warn', n_jobs=None, penalty='l1', random_state=None,\n",
      "          solver='warn', tol=0.0001, verbose=0, warm_start=False)\n",
      "\n",
      " Accuracy of model using L1 Regularization 0.9351884979791957\n"
     ]
    }
   ],
   "source": [
    "# Finding the best parameters using Grid Seach CV using 2-fold Cross-Validation in Logistic Regression\n",
    "\n",
    "from sklearn.model_selection import GridSearchCV\n",
    "tuned_parameters = [{'C': [10**-4,10**-3, 10**-2,10**-1, 1, 10**1,10**2,10**3, 10**4]}]\n",
    "model = GridSearchCV(LogisticRegression(penalty = 'l1',class_weight='balanced'), tuned_parameters, scoring = 'f1', cv=2, n_jobs=-1)\n",
    "model.fit(standardized_data_train, y_train)\n",
    "print(\"The optimal value of C(1/lambda) is : \",model.best_estimator_)\n",
    "optimal_C = model.best_estimator_.C\n",
    "print(\"\\n Accuracy of model using L1 Regularization\",model.score(standardized_data_test, y_test))"
   ]
  },
  {
   "cell_type": "code",
   "execution_count": 54,
   "metadata": {},
   "outputs": [
    {
     "data": {
      "text/plain": [
       "array([0.        , 0.        , 0.70993004, 0.893637  , 0.92683598,\n",
       "       0.93496381, 0.92388628, 0.91156309, 0.90634564])"
      ]
     },
     "execution_count": 54,
     "metadata": {},
     "output_type": "execute_result"
    }
   ],
   "source": [
    "model.best_params_\n",
    "results = model.cv_results_\n",
    "results['mean_test_score']\n"
   ]
  },
  {
   "cell_type": "code",
   "execution_count": 55,
   "metadata": {},
   "outputs": [
    {
     "data": {
      "image/png": "[encoded data removed]",
      "text/plain": [
       "<matplotlib.figure.Figure at 0x182ac326198>"
      ]
     },
     "metadata": {},
     "output_type": "display_data"
    }
   ],
   "source": [
    "C=10**-4,10**-3, 10**-2,10**-1, 1, 10**1,10**2,10**3, 10**4\n",
    "plt.plot(C,results['mean_test_score'],marker='o')\n",
    "plt.xlabel('C')\n",
    "plt.ylabel('f1score')\n",
    "plt.title(\"F1score vs hyperparameter C\")\n",
    "plt.grid()\n",
    "plt.show()"
   ]
  },
  {
   "cell_type": "code",
   "execution_count": 56,
   "metadata": {},
   "outputs": [],
   "source": [
    "# Logistic Regression with Optimal value of C(1/lambda)\n",
    "lr = LogisticRegression(penalty='l1', class_weight='balanced',C=optimal_C, n_jobs=-1)\n",
    "lr.fit(standardized_data_train,y_train)\n",
    "pred_tfidf = lr.predict(standardized_data_test)"
   ]
  },
  {
   "cell_type": "markdown",
   "metadata": {},
   "source": [
    "## 6.3 Confusion Matrix"
   ]
  },
  {
   "cell_type": "code",
   "execution_count": 57,
   "metadata": {},
   "outputs": [
    {
     "name": "stdout",
     "output_type": "stream",
     "text": [
      "Confusion Matrix:\n"
     ]
    },
    {
     "data": {
      "image/png": "[encoded data removed]",
      "text/plain": [
       "<matplotlib.figure.Figure at 0x182ae4f9940>"
      ]
     },
     "metadata": {},
     "output_type": "display_data"
    }
   ],
   "source": [
    "cm_tfidf=confusion_matrix(y_test,pred_tfidf)\n",
    "print(\"Confusion Matrix:\")\n",
    "sns.heatmap(cm_tfidf, annot=True, fmt='d')\n",
    "plt.show()"
   ]
  },
  {
   "cell_type": "code",
   "execution_count": 58,
   "metadata": {},
   "outputs": [
    {
     "name": "stdout",
     "output_type": "stream",
     "text": [
      " true negitves are 4822 \n",
      " false positives are 1292 \n",
      " false negatives are 3601\n",
      " true positives are 35285 \n",
      " \n"
     ]
    }
   ],
   "source": [
    "#finding out  true negative , false positive , false negative and true positve \n",
    "tn, fp, fn, tp = cm_tfidf.ravel()\n",
    "( tp, fp, fn, tp)\n",
    "print(\" true negitves are {} \\n false positives are {} \\n false negatives are {}\\n true positives are {} \\n \".format(tn,fp,fn,tp))"
   ]
  },
  {
   "cell_type": "markdown",
   "metadata": {},
   "source": [
    "## 6.4 Calculating Accuracy,Error on test data,Precision,Recall,Classification Report"
   ]
  },
  {
   "cell_type": "code",
   "execution_count": 59,
   "metadata": {},
   "outputs": [
    {
     "name": "stdout",
     "output_type": "stream",
     "text": [
      "\n",
      "The Test Accuracy of the Logistic Regression classifier for C = 10.000 is 89.126667%\n",
      "\n",
      "Test Error  Logistic Regression classifier is  10.873333%\n",
      "\n",
      "The Test Precision of the Logistic Regression classifier for C = 10.000 is 0.964677\n",
      "\n",
      "The Test Recall of the Logistic Regression classifier for C = 10.000 is 0.907396\n",
      "\n",
      "The Test classification report of the Logistic regression classifier for C \n",
      "\n",
      "                precision    recall  f1-score   support\n",
      "\n",
      "           0       0.57      0.79      0.66      6114\n",
      "           1       0.96      0.91      0.94     38886\n",
      "\n",
      "   micro avg       0.89      0.89      0.89     45000\n",
      "   macro avg       0.77      0.85      0.80     45000\n",
      "weighted avg       0.91      0.89      0.90     45000\n",
      "\n"
     ]
    }
   ],
   "source": [
    "from sklearn.metrics import recall_score\n",
    "from sklearn.metrics import precision_score\n",
    "from sklearn.metrics import classification_report\n",
    "\n",
    "\n",
    "# evaluating accuracy\n",
    "acc_tfidf = accuracy_score(y_test, pred_tfidf) * 100\n",
    "print('\\nThe Test Accuracy of the Logistic Regression classifier for C = %.3f is %f%%' % (optimal_C, acc_tfidf))\n",
    "\n",
    "# Error on test data\n",
    "test_error_tfidf = 100-acc_tfidf\n",
    "print(\"\\nTest Error  Logistic Regression classifier is  %f%%\" % (test_error_tfidf))\n",
    "\n",
    "# evaluating precision\n",
    "precision_score = precision_score(y_test, pred_tfidf) \n",
    "print('\\nThe Test Precision of the Logistic Regression classifier for C = %.3f is %f' % (optimal_C, precision_score))\n",
    "\n",
    "# evaluating recall\n",
    "recall_score = recall_score(y_test, pred_tfidf)\n",
    "print('\\nThe Test Recall of the Logistic Regression classifier for C = %.3f is %f' % (optimal_C, recall_score))\n",
    "\n",
    "# evaluating Classification report\n",
    "classification_report = classification_report(y_test, pred_tfidf)\n",
    "print('\\nThe Test classification report of the Logistic regression classifier for C \\n\\n ',(classification_report))"
   ]
  },
  {
   "cell_type": "markdown",
   "metadata": {},
   "source": [
    "## 6.5 Perturbation Test\n",
    "\n",
    "Pertubation test means adding noise to one of the data point and comparing the difference b/w change in previous weights and New \n",
    "\n",
    "weights to find of collinearity."
   ]
  },
  {
   "cell_type": "code",
   "execution_count": 60,
   "metadata": {},
   "outputs": [
    {
     "name": "stdout",
     "output_type": "stream",
     "text": [
      "(105000, 38300)\n",
      "(105000, 38300)\n"
     ]
    }
   ],
   "source": [
    "import scipy as sp\n",
    "epsilon = sp.stats.distributions.norm.rvs(loc=0,scale=0.0001)\n",
    "# Vector before the addition of epsilon\n",
    "W_before_epsilon = lr.coef_\n",
    "\n",
    "# Number of non zero elements in Standardized_train sparse matrix\n",
    "no_of_non_zero = standardized_data_train.count_nonzero()\n",
    "\n",
    "# Importing library to create a sparse matrix of epsilon\n",
    "from scipy.sparse import csr_matrix\n",
    "\n",
    "# Creating new sparse matrix with epsilon at same position of non-zero elements of standardized_data_train\n",
    "x_train_indices = standardized_data_train.indices\n",
    "x_train_indptr = standardized_data_train.indptr #CSR format index pointer array of the matrix\n",
    "\n",
    "# Creating a list of same element with repetition\n",
    "data = [epsilon] * no_of_non_zero\n",
    "Shape = standardized_data_train.shape\n",
    "\n",
    "# Creating sparse matrix\n",
    "sparse_epsilon = csr_matrix((data,x_train_indices,x_train_indptr),shape=Shape,dtype=float)\n",
    "\n",
    "# Add sparse_epsilon and X-standardized_data_train to get a new sparse matrix with epsilon added to each \n",
    "# non-zero element of standardized_data_train\n",
    "epsilon_train = standardized_data_train + sparse_epsilon\n",
    "\n",
    "print(standardized_data_train.shape)\n",
    "print(epsilon_train.shape)"
   ]
  },
  {
   "cell_type": "code",
   "execution_count": 61,
   "metadata": {},
   "outputs": [
    {
     "name": "stdout",
     "output_type": "stream",
     "text": [
      "change_vector [[-0.27728179  0.00680161  0.0017184  ...  0.17524598  0.00779493\n",
      "   0.07936795]]\n"
     ]
    },
    {
     "data": {
      "text/plain": [
       "array([47.28059579, 42.82750087, 39.70044163, 38.34530067, 36.99798654,\n",
       "       35.19641698, 35.06358269, 33.58207186, 32.48653166, 32.02846903,\n",
       "       31.50426041, 31.1021987 , 30.92176469, 29.27284061, 29.19117597,\n",
       "       28.75996981, 28.68942139, 28.64270993, 28.5468826 , 28.50683567])"
      ]
     },
     "execution_count": 61,
     "metadata": {},
     "output_type": "execute_result"
    }
   ],
   "source": [
    "# training Logistic Regression Classifier with epsilon_train\n",
    "epsilon_lr = LogisticRegression(penalty='l2', C=optimal_C, n_jobs=-1)\n",
    "epsilon_lr.fit(epsilon_train,y_train)\n",
    "\n",
    "# Vector after the addition of epsilon\n",
    "W_after_epsilon = epsilon_lr.coef_\n",
    "\n",
    "# Change in vectors after adding epsilon\n",
    "change_vector = W_after_epsilon - W_before_epsilon\n",
    "print(\"change_vector\",change_vector)\n",
    "\n",
    "\n",
    "# Sort this change_vector array after making all the elements positive in ascending order to visualize the change\n",
    "sorted_change_vector = np.sort(np.absolute(change_vector))[:,::-1]\n",
    "\n",
    "sorted_change_vector[0,0:20]"
   ]
  },
  {
   "cell_type": "code",
   "execution_count": 62,
   "metadata": {},
   "outputs": [
    {
     "name": "stdout",
     "output_type": "stream",
     "text": [
      "Top 20 features with their weight values :\n",
      "      corect\t===> \t-48.871742\n",
      "   mozzerela\t===> \t-44.469358\n",
      "    sonewher\t===> \t-41.609672\n",
      "     fishier\t===> \t-39.331008\n",
      "     goodwil\t===> \t-38.454883\n",
      "          ov\t===> \t-37.042565\n",
      "     jivalim\t===> \t-36.048681\n",
      "     devault\t===> \t-35.922976\n",
      "yadayadayada\t===> \t-35.870203\n",
      "        ridx\t===> \t-33.451772\n",
      "faeriesfinest\t===> \t-32.667537\n",
      "   grainiest\t===> \t-32.595303\n",
      "    advantix\t===> \t-32.031692\n",
      "   insuffici\t===> \t-31.828142\n",
      "     merritt\t===> \t-31.443158\n",
      "   voluntari\t===> \t-31.355717\n",
      "disstributor\t===> \t30.593020\n",
      " opportunist\t===> \t-30.297799\n",
      "   pessimist\t===> \t-30.115845\n",
      "       dcide\t===> \t-29.952639\n"
     ]
    }
   ],
   "source": [
    "absolute_weights = np.absolute(W_before_epsilon)\n",
    "sorted_absolute_index = np.argsort(absolute_weights)[:,::-1]\n",
    "top_index = sorted_absolute_index[0,0:20]\n",
    "\n",
    "all_features = tf_idf_vect.get_feature_names()\n",
    "weight_values = lr.coef_\n",
    "\n",
    "# Top 20 features are    \n",
    "print(\"Top 20 features with their weight values :\")\n",
    "\n",
    "for j in top_index:\n",
    "    print(\"%12s\\t===> \\t%f\"%(all_features[j],weight_values[0,j]))"
   ]
  },
  {
   "cell_type": "markdown",
   "metadata": {},
   "source": [
    "## 7. Using L2 Regularization\n"
   ]
  },
  {
   "cell_type": "code",
   "execution_count": 63,
   "metadata": {},
   "outputs": [
    {
     "name": "stdout",
     "output_type": "stream",
     "text": [
      "The optimal value of C(1/lambda) is :  LogisticRegression(C=10, class_weight='balanced', dual=False,\n",
      "          fit_intercept=True, intercept_scaling=1, max_iter=100,\n",
      "          multi_class='warn', n_jobs=None, penalty='l2', random_state=None,\n",
      "          solver='warn', tol=0.0001, verbose=0, warm_start=False)\n",
      "\n",
      " Accuracy of model using L2 Regularization 0.9363146336594129\n"
     ]
    }
   ],
   "source": [
    "# Finding the best parameters using Grid Seach CV using 2-fold Cross-Validation in Logistic Regression\n",
    "\n",
    "from sklearn.model_selection import GridSearchCV\n",
    "tuned_parameters = [{'C': [10**-4,10**-3, 10**-2,10**-1, 1, 10**1,10**2,10**3, 10**4]}]\n",
    "model = GridSearchCV(LogisticRegression(penalty = 'l2',class_weight='balanced'), tuned_parameters, scoring = 'f1', cv=2, n_jobs=-1)\n",
    "model.fit(standardized_data_train, y_train)\n",
    "print(\"The optimal value of C(1/lambda) is : \",model.best_estimator_)\n",
    "optimal_C = model.best_estimator_.C\n",
    "print(\"\\n Accuracy of model using L2 Regularization\",model.score(standardized_data_test, y_test))"
   ]
  },
  {
   "cell_type": "code",
   "execution_count": 64,
   "metadata": {},
   "outputs": [
    {
     "data": {
      "text/plain": [
       "array([0.89110448, 0.89003152, 0.89807317, 0.91589431, 0.93000845,\n",
       "       0.93620371, 0.93377054, 0.926172  , 0.91919104])"
      ]
     },
     "execution_count": 64,
     "metadata": {},
     "output_type": "execute_result"
    }
   ],
   "source": [
    "model.best_params_\n",
    "results = model.cv_results_\n",
    "results['mean_test_score']\n"
   ]
  },
  {
   "cell_type": "code",
   "execution_count": 65,
   "metadata": {},
   "outputs": [
    {
     "data": {
      "image/png": "[encoded data removed]",
      "text/plain": [
       "<matplotlib.figure.Figure at 0x182a93f6ba8>"
      ]
     },
     "metadata": {},
     "output_type": "display_data"
    }
   ],
   "source": [
    "C=10**-6,10**-5,10**-4,10**-3, 10**-2,10**-1, 1, 10**1,10**2\n",
    "plt.plot(C,results['mean_test_score'],marker='o')\n",
    "plt.xlabel('C')\n",
    "plt.ylabel('f1score')\n",
    "plt.title(\"F1score vs hyperparameter C\")\n",
    "plt.grid()\n",
    "plt.show()"
   ]
  },
  {
   "cell_type": "code",
   "execution_count": 66,
   "metadata": {},
   "outputs": [],
   "source": [
    "# Logistic Regression with Optimal value of C(1/lambda)\n",
    "lr = LogisticRegression(penalty='l2',class_weight='balanced', C=optimal_C, n_jobs=-1)\n",
    "lr.fit(standardized_data_train,y_train)\n",
    "pred_tfidf = lr.predict(standardized_data_test)\n",
    "\n"
   ]
  },
  {
   "cell_type": "markdown",
   "metadata": {},
   "source": [
    "## 7.1 Confusion Matrix"
   ]
  },
  {
   "cell_type": "code",
   "execution_count": 67,
   "metadata": {},
   "outputs": [
    {
     "name": "stdout",
     "output_type": "stream",
     "text": [
      "Confusion Matrix:\n"
     ]
    },
    {
     "data": {
      "image/png": "[encoded data removed]",
      "text/plain": [
       "<matplotlib.figure.Figure at 0x182c04805f8>"
      ]
     },
     "metadata": {},
     "output_type": "display_data"
    }
   ],
   "source": [
    "cm_tfidf=confusion_matrix(y_test,pred_tfidf)\n",
    "print(\"Confusion Matrix:\")\n",
    "sns.heatmap(cm_tfidf, annot=True, fmt='d')\n",
    "plt.show()"
   ]
  },
  {
   "cell_type": "code",
   "execution_count": 68,
   "metadata": {},
   "outputs": [
    {
     "name": "stdout",
     "output_type": "stream",
     "text": [
      " true negitves are 5040 \n",
      " false positives are 1074 \n",
      " false negatives are 3711\n",
      " true positives are 35175 \n",
      " \n"
     ]
    }
   ],
   "source": [
    "#finding out  true negative , false positive , false negative and true positve \n",
    "tn, fp, fn, tp = cm_tfidf.ravel()\n",
    "( tp, fp, fn, tp)\n",
    "print(\" true negitves are {} \\n false positives are {} \\n false negatives are {}\\n true positives are {} \\n \".format(tn,fp,fn,tp))"
   ]
  },
  {
   "cell_type": "markdown",
   "metadata": {},
   "source": [
    "## 7.2 Calculating Accuracy,Error on test data,Precision,Recall,Classification Report"
   ]
  },
  {
   "cell_type": "code",
   "execution_count": 69,
   "metadata": {},
   "outputs": [
    {
     "name": "stdout",
     "output_type": "stream",
     "text": [
      "\n",
      "The Test Accuracy of the Logistic Regression classifier for C = 10.000 is 89.366667%\n",
      "\n",
      "Test Error  Logistic Regression classifier is  10.633333%\n",
      "\n",
      "The Test Precision of the Logistic Regression classifier for C = 10.000 is 0.970372\n",
      "\n",
      "The Test Recall of the Logistic Regression classifier for C = 10.000 is 0.904567\n",
      "\n",
      "The Test classification report of the Logistic regression classifier for C \n",
      "\n",
      "                precision    recall  f1-score   support\n",
      "\n",
      "           0       0.58      0.82      0.68      6114\n",
      "           1       0.97      0.90      0.94     38886\n",
      "\n",
      "   micro avg       0.89      0.89      0.89     45000\n",
      "   macro avg       0.77      0.86      0.81     45000\n",
      "weighted avg       0.92      0.89      0.90     45000\n",
      "\n"
     ]
    }
   ],
   "source": [
    "from sklearn.metrics import recall_score\n",
    "from sklearn.metrics import precision_score\n",
    "from sklearn.metrics import classification_report\n",
    "\n",
    "\n",
    "# evaluating accuracy\n",
    "acc_tfidf = accuracy_score(y_test, pred_tfidf) * 100\n",
    "print('\\nThe Test Accuracy of the Logistic Regression classifier for C = %.3f is %f%%' % (optimal_C, acc_tfidf))\n",
    "\n",
    "# Error on test data\n",
    "test_error_tfidf = 100-acc_tfidf\n",
    "print(\"\\nTest Error  Logistic Regression classifier is  %f%%\" % (test_error_tfidf))\n",
    "\n",
    "# evaluating precision\n",
    "precision_score = precision_score(y_test, pred_tfidf) \n",
    "print('\\nThe Test Precision of the Logistic Regression classifier for C = %.3f is %f' % (optimal_C, precision_score))\n",
    "\n",
    "# evaluating recall\n",
    "recall_score = recall_score(y_test, pred_tfidf)\n",
    "print('\\nThe Test Recall of the Logistic Regression classifier for C = %.3f is %f' % (optimal_C, recall_score))\n",
    "\n",
    "# evaluating Classification report\n",
    "classification_report = classification_report(y_test, pred_tfidf)\n",
    "print('\\nThe Test classification report of the Logistic regression classifier for C \\n\\n ',(classification_report))"
   ]
  },
  {
   "cell_type": "markdown",
   "metadata": {},
   "source": [
    "## 7.3 Perturbation Test\n",
    "\n",
    "Pertubation test means adding noise to one of the data point and comparing the difference b/w change in previous weights and New \n",
    "\n",
    "weights to find of collinearity."
   ]
  },
  {
   "cell_type": "code",
   "execution_count": 70,
   "metadata": {},
   "outputs": [
    {
     "name": "stdout",
     "output_type": "stream",
     "text": [
      "(105000, 38300)\n",
      "(105000, 38300)\n"
     ]
    }
   ],
   "source": [
    "import scipy as sp\n",
    "epsilon = sp.stats.distributions.norm.rvs(loc=0,scale=0.0001)\n",
    "# Vector before the addition of epsilon\n",
    "W_before_epsilon = lr.coef_\n",
    "\n",
    "# Number of non zero elements in Standardized_train sparse matrix\n",
    "no_of_non_zero = standardized_data_train.count_nonzero()\n",
    "\n",
    "# Importing library to create a sparse matrix of epsilon\n",
    "from scipy.sparse import csr_matrix\n",
    "\n",
    "# Creating new sparse matrix with epsilon at same position of non-zero elements of standardized_data_train\n",
    "x_train_indices = standardized_data_train.indices\n",
    "x_train_indptr = standardized_data_train.indptr #CSR format index pointer array of the matrix\n",
    "\n",
    "# Creating a list of same element with repetition\n",
    "data = [epsilon] * no_of_non_zero\n",
    "Shape = standardized_data_train.shape\n",
    "\n",
    "# Creating sparse matrix\n",
    "sparse_epsilon = csr_matrix((data,x_train_indices,x_train_indptr),shape=Shape,dtype=float)\n",
    "\n",
    "# Add sparse_epsilon and X-standardized_data_train to get a new sparse matrix with epsilon added to each \n",
    "# non-zero element of standardized_data_train\n",
    "epsilon_train = standardized_data_train + sparse_epsilon\n",
    "\n",
    "print(standardized_data_train.shape)\n",
    "print(epsilon_train.shape)"
   ]
  },
  {
   "cell_type": "code",
   "execution_count": 71,
   "metadata": {},
   "outputs": [
    {
     "name": "stdout",
     "output_type": "stream",
     "text": [
      "change_vector [[ 0.01660915 -0.00743725 -0.00155775 ... -0.04210292 -0.01314449\n",
      "  -0.08439693]]\n"
     ]
    },
    {
     "data": {
      "text/plain": [
       "array([5.69379142, 4.94551756, 4.81323172, 4.67703345, 4.58159246,\n",
       "       4.39447687, 4.38197718, 4.29358987, 4.29291008, 4.21032314,\n",
       "       4.16504705, 4.00458588, 3.96943251, 3.94490101, 3.77214577,\n",
       "       3.6930313 , 3.67549271, 3.54732121, 3.52897366, 3.52631338])"
      ]
     },
     "execution_count": 71,
     "metadata": {},
     "output_type": "execute_result"
    }
   ],
   "source": [
    "# training Logistic Regression Classifier with epsilon_train\n",
    "epsilon_lr = LogisticRegression(penalty='l2', C=optimal_C, n_jobs=-1)\n",
    "epsilon_lr.fit(epsilon_train,y_train)\n",
    "\n",
    "# Vector after the addition of epsilon\n",
    "W_after_epsilon = epsilon_lr.coef_\n",
    "\n",
    "# Change in vectors after adding epsilon\n",
    "change_vector = W_after_epsilon - W_before_epsilon\n",
    "print(\"change_vector\",change_vector)\n",
    "\n",
    "\n",
    "# Sort this change_vector array after making all the elements positive in ascending order to visualize the change\n",
    "sorted_change_vector = np.sort(np.absolute(change_vector))[:,::-1]\n",
    "\n",
    "sorted_change_vector[0,0:20]"
   ]
  },
  {
   "cell_type": "code",
   "execution_count": 72,
   "metadata": {},
   "outputs": [
    {
     "name": "stdout",
     "output_type": "stream",
     "text": [
      "Top 20 features with their weight values :\n",
      "       worst\t===> \t-16.506951\n",
      "       great\t===> \t13.935730\n",
      "      delici\t===> \t13.480723\n",
      "        best\t===> \t12.510217\n",
      "     perfect\t===> \t12.193924\n",
      "        amaz\t===> \t11.647141\n",
      "     terribl\t===> \t-11.615157\n",
      "        love\t===> \t11.590088\n",
      "  disappoint\t===> \t-11.466222\n",
      "     skeptic\t===> \t10.841683\n",
      "        hook\t===> \t10.564185\n",
      "        beat\t===> \t10.195173\n",
      "     horribl\t===> \t-10.162472\n",
      "      addict\t===> \t9.747685\n",
      "       excel\t===> \t9.613320\n",
      "     finnish\t===> \t-9.521802\n",
      "   sleepless\t===> \t-9.335866\n",
      "      awesom\t===> \t9.327967\n",
      "     mediocr\t===> \t-9.293983\n",
      "     concept\t===> \t-9.088311\n"
     ]
    }
   ],
   "source": [
    "absolute_weights = np.absolute(W_before_epsilon)\n",
    "sorted_absolute_index = np.argsort(absolute_weights)[:,::-1]\n",
    "top_index = sorted_absolute_index[0,0:20]\n",
    "\n",
    "all_features = tf_idf_vect.get_feature_names()\n",
    "weight_values = lr.coef_\n",
    "\n",
    "# Top 20 features are    \n",
    "print(\"Top 20 features with their weight values :\")\n",
    "\n",
    "for j in top_index:\n",
    "    print(\"%12s\\t===> \\t%f\"%(all_features[j],weight_values[0,j]))"
   ]
  },
  {
   "cell_type": "markdown",
   "metadata": {},
   "source": [
    "## 8. Randomized Search Cross Validation\n"
   ]
  },
  {
   "cell_type": "markdown",
   "metadata": {},
   "source": [
    "## 8.1 Using L1 Regularization\n"
   ]
  },
  {
   "cell_type": "code",
   "execution_count": 73,
   "metadata": {},
   "outputs": [
    {
     "name": "stdout",
     "output_type": "stream",
     "text": [
      "The optimal value of C(1/lambda) is :  LogisticRegression(C=1, class_weight='balanced', dual=False,\n",
      "          fit_intercept=True, intercept_scaling=1, max_iter=100,\n",
      "          multi_class='warn', n_jobs=None, penalty='l1', random_state=None,\n",
      "          solver='warn', tol=0.0001, verbose=0, warm_start=False)\n",
      "\n",
      " Accuracy of model using L1 Regularization 0.9300554389364335\n"
     ]
    }
   ],
   "source": [
    "# Finding the best parameters using Random Seach CV using 2-fold Cross-Validation in Logistic Regression\n",
    "\n",
    "from sklearn.model_selection import RandomizedSearchCV\n",
    "param_distributions = {'C': [10**-4,10**-3, 10**-2,10**-1, 1, 10**1,10**2,10**3, 10**4]}\n",
    "model = RandomizedSearchCV(LogisticRegression(penalty = 'l1',class_weight='balanced'), param_distributions, scoring = 'f1',cv=2, n_iter=4, n_jobs=-1,pre_dispatch=2)\n",
    "model.fit(standardized_data_train, y_train)\n",
    "print(\"The optimal value of C(1/lambda) is : \",model.best_estimator_)\n",
    "optimal_C = model.best_estimator_.C\n",
    "print(\"\\n Accuracy of model using L1 Regularization\",model.score(standardized_data_test, y_test))"
   ]
  },
  {
   "cell_type": "code",
   "execution_count": 74,
   "metadata": {},
   "outputs": [
    {
     "data": {
      "text/plain": [
       "array([0.        , 0.893637  , 0.91151103, 0.92683598])"
      ]
     },
     "execution_count": 74,
     "metadata": {},
     "output_type": "execute_result"
    }
   ],
   "source": [
    "model.best_params_\n",
    "results = model.cv_results_\n",
    "results['mean_test_score']\n"
   ]
  },
  {
   "cell_type": "code",
   "execution_count": 75,
   "metadata": {},
   "outputs": [
    {
     "data": {
      "image/png": "[encoded data removed]",
      "text/plain": [
       "<matplotlib.figure.Figure at 0x182bafb1a58>"
      ]
     },
     "metadata": {},
     "output_type": "display_data"
    }
   ],
   "source": [
    "C= 10**-2,10**-1, 10**1,10**2,\n",
    "plt.plot(C,results['mean_test_score'],marker='o')\n",
    "plt.xlabel('C')\n",
    "plt.ylabel('f1score')\n",
    "plt.title(\"F1score vs hyperparameter C\")\n",
    "plt.grid()\n",
    "plt.show()"
   ]
  },
  {
   "cell_type": "code",
   "execution_count": 76,
   "metadata": {},
   "outputs": [],
   "source": [
    "# Logistic Regression with Optimal value of C(1/lambda)\n",
    "lr = LogisticRegression(penalty='l1', C=optimal_C,class_weight='balanced', n_jobs=-1)\n",
    "lr.fit(standardized_data_train,y_train)\n",
    "pred_tfidf = lr.predict(standardized_data_test)\n",
    "\n"
   ]
  },
  {
   "cell_type": "markdown",
   "metadata": {},
   "source": [
    "## 8.2 Confusion Matrix"
   ]
  },
  {
   "cell_type": "code",
   "execution_count": 77,
   "metadata": {},
   "outputs": [
    {
     "name": "stdout",
     "output_type": "stream",
     "text": [
      "Confusion Matrix:\n"
     ]
    },
    {
     "data": {
      "image/png": "[encoded data removed]",
      "text/plain": [
       "<matplotlib.figure.Figure at 0x182bb5494e0>"
      ]
     },
     "metadata": {},
     "output_type": "display_data"
    }
   ],
   "source": [
    "cm_tfidf=confusion_matrix(y_test,pred_tfidf)\n",
    "print(\"Confusion Matrix:\")\n",
    "sns.heatmap(cm_tfidf, annot=True, fmt='d')\n",
    "plt.show()"
   ]
  },
  {
   "cell_type": "code",
   "execution_count": 78,
   "metadata": {},
   "outputs": [
    {
     "name": "stdout",
     "output_type": "stream",
     "text": [
      " true negitves are 5243 \n",
      " false positives are 871 \n",
      " false negatives are 4327\n",
      " true positives are 34559 \n",
      " \n"
     ]
    }
   ],
   "source": [
    "#finding out  true negative , false positive , false negative and true positve \n",
    "tn, fp, fn, tp = cm_tfidf.ravel()\n",
    "( tp, fp, fn, tp)\n",
    "print(\" true negitves are {} \\n false positives are {} \\n false negatives are {}\\n true positives are {} \\n \".format(tn,fp,fn,tp))"
   ]
  },
  {
   "cell_type": "markdown",
   "metadata": {},
   "source": [
    "## 8.3 Calculating Accuracy,Error on test data,Precision,Recall,Classification Report"
   ]
  },
  {
   "cell_type": "code",
   "execution_count": 79,
   "metadata": {},
   "outputs": [
    {
     "name": "stdout",
     "output_type": "stream",
     "text": [
      "\n",
      "The Test Accuracy of the Logistic Regression classifier for C = 1.000 is 88.448889%\n",
      "\n",
      "Test Error  Logistic Regression classifier is  11.551111%\n",
      "\n",
      "The Test Precision of the Logistic Regression classifier for C = 1.000 is 0.975416\n",
      "\n",
      "The Test Recall of the Logistic Regression classifier for C = 1.000 is 0.888726\n",
      "\n",
      "The Test classification report of the Logistic regression classifier for C \n",
      "\n",
      "                precision    recall  f1-score   support\n",
      "\n",
      "           0       0.55      0.86      0.67      6114\n",
      "           1       0.98      0.89      0.93     38886\n",
      "\n",
      "   micro avg       0.88      0.88      0.88     45000\n",
      "   macro avg       0.76      0.87      0.80     45000\n",
      "weighted avg       0.92      0.88      0.89     45000\n",
      "\n"
     ]
    }
   ],
   "source": [
    "from sklearn.metrics import recall_score\n",
    "from sklearn.metrics import precision_score\n",
    "from sklearn.metrics import classification_report\n",
    "\n",
    "\n",
    "# evaluating accuracy\n",
    "acc_tfidf = accuracy_score(y_test, pred_tfidf) * 100\n",
    "print('\\nThe Test Accuracy of the Logistic Regression classifier for C = %.3f is %f%%' % (optimal_C, acc_tfidf))\n",
    "\n",
    "# Error on test data\n",
    "test_error_tfidf = 100-acc_tfidf\n",
    "print(\"\\nTest Error  Logistic Regression classifier is  %f%%\" % (test_error_tfidf))\n",
    "\n",
    "# evaluating precision\n",
    "precision_score = precision_score(y_test, pred_tfidf) \n",
    "print('\\nThe Test Precision of the Logistic Regression classifier for C = %.3f is %f' % (optimal_C, precision_score))\n",
    "\n",
    "# evaluating recall\n",
    "recall_score = recall_score(y_test, pred_tfidf)\n",
    "print('\\nThe Test Recall of the Logistic Regression classifier for C = %.3f is %f' % (optimal_C, recall_score))\n",
    "\n",
    "# evaluating Classification report\n",
    "classification_report = classification_report(y_test, pred_tfidf)\n",
    "print('\\nThe Test classification report of the Logistic regression classifier for C \\n\\n ',(classification_report))"
   ]
  },
  {
   "cell_type": "markdown",
   "metadata": {},
   "source": [
    "## 8.4 Perturbation Test\n",
    "\n",
    "Pertubation test means adding noise to one of the data point and comparing the difference b/w change in previous weights and New \n",
    "\n",
    "weights to find of collinearity."
   ]
  },
  {
   "cell_type": "code",
   "execution_count": 80,
   "metadata": {},
   "outputs": [
    {
     "name": "stdout",
     "output_type": "stream",
     "text": [
      "(105000, 38300)\n",
      "(105000, 38300)\n"
     ]
    }
   ],
   "source": [
    "import scipy as sp\n",
    "epsilon = sp.stats.distributions.norm.rvs(loc=0,scale=0.0001)\n",
    "# Vector before the addition of epsilon\n",
    "W_before_epsilon = lr.coef_\n",
    "\n",
    "# Number of non zero elements in Standardized_train sparse matrix\n",
    "no_of_non_zero = standardized_data_train.count_nonzero()\n",
    "\n",
    "# Importing library to create a sparse matrix of epsilon\n",
    "from scipy.sparse import csr_matrix\n",
    "\n",
    "# Creating new sparse matrix with epsilon at same position of non-zero elements of standardized_data_train\n",
    "x_train_indices = standardized_data_train.indices\n",
    "x_train_indptr = standardized_data_train.indptr #CSR format index pointer array of the matrix\n",
    "\n",
    "# Creating a list of same element with repetition\n",
    "data = [epsilon] * no_of_non_zero\n",
    "Shape = standardized_data_train.shape\n",
    "\n",
    "# Creating sparse matrix\n",
    "sparse_epsilon = csr_matrix((data,x_train_indices,x_train_indptr),shape=Shape,dtype=float)\n",
    "\n",
    "# Add sparse_epsilon and X-standardized_data_train to get a new sparse matrix with epsilon added to each \n",
    "# non-zero element of standardized_data_train\n",
    "epsilon_train = standardized_data_train + sparse_epsilon\n",
    "\n",
    "print(standardized_data_train.shape)\n",
    "print(epsilon_train.shape)"
   ]
  },
  {
   "cell_type": "code",
   "execution_count": 81,
   "metadata": {},
   "outputs": [
    {
     "name": "stdout",
     "output_type": "stream",
     "text": [
      "change_vector [[-0.07292583  0.0018349   0.00097091 ...  0.01937371  0.00278843\n",
      "   0.01067941]]\n"
     ]
    },
    {
     "data": {
      "text/plain": [
       "array([8.69811668, 8.30776435, 8.28944573, 7.43429387, 7.32158219,\n",
       "       6.89028413, 6.44075804, 6.27246625, 6.25564712, 6.19544349,\n",
       "       5.86077886, 5.44274785, 5.44223902, 5.35032615, 5.19127286,\n",
       "       5.10959871, 5.10217839, 5.08781766, 5.04879578, 4.86708177])"
      ]
     },
     "execution_count": 81,
     "metadata": {},
     "output_type": "execute_result"
    }
   ],
   "source": [
    "# training Logistic Regression Classifier with epsilon_train\n",
    "epsilon_lr = LogisticRegression(penalty='l2', C=optimal_C, n_jobs=-1)\n",
    "epsilon_lr.fit(epsilon_train,y_train)\n",
    "\n",
    "# Vector after the addition of epsilon\n",
    "W_after_epsilon = epsilon_lr.coef_\n",
    "\n",
    "# Change in vectors after adding epsilon\n",
    "change_vector = W_after_epsilon - W_before_epsilon\n",
    "print(\"change_vector\",change_vector)\n",
    "\n",
    "\n",
    "# Sort this change_vector array after making all the elements positive in ascending order to visualize the change\n",
    "sorted_change_vector = np.sort(np.absolute(change_vector))[:,::-1]\n",
    "\n",
    "sorted_change_vector[0,0:20]"
   ]
  },
  {
   "cell_type": "code",
   "execution_count": 82,
   "metadata": {},
   "outputs": [
    {
     "name": "stdout",
     "output_type": "stream",
     "text": [
      "Top 20 features with their weight values :\n",
      "       worst\t===> \t-16.314820\n",
      "       great\t===> \t13.289632\n",
      "      delici\t===> \t13.189909\n",
      "        best\t===> \t12.204975\n",
      "     perfect\t===> \t11.592786\n",
      "     skeptic\t===> \t11.365765\n",
      "     terribl\t===> \t-11.155655\n",
      "        love\t===> \t11.075896\n",
      "        amaz\t===> \t10.879753\n",
      "  disappoint\t===> \t-10.871159\n",
      "        hook\t===> \t10.273254\n",
      "     mediocr\t===> \t-9.868479\n",
      "        beat\t===> \t9.699968\n",
      "     horribl\t===> \t-9.594413\n",
      "       excel\t===> \t9.484366\n",
      "      addict\t===> \t9.182978\n",
      "     finnish\t===> \t-9.143331\n",
      "       uniqu\t===> \t8.866093\n",
      "     compass\t===> \t-8.800127\n",
      "      awesom\t===> \t8.763191\n"
     ]
    }
   ],
   "source": [
    "absolute_weights = np.absolute(W_before_epsilon)\n",
    "sorted_absolute_index = np.argsort(absolute_weights)[:,::-1]\n",
    "top_index = sorted_absolute_index[0,0:20]\n",
    "\n",
    "all_features = tf_idf_vect.get_feature_names()\n",
    "weight_values = lr.coef_\n",
    "\n",
    "# Top 20 features are    \n",
    "print(\"Top 20 features with their weight values :\")\n",
    "\n",
    "for j in top_index:\n",
    "    print(\"%12s\\t===> \\t%f\"%(all_features[j],weight_values[0,j]))"
   ]
  },
  {
   "cell_type": "markdown",
   "metadata": {},
   "source": [
    "## 9. Using L2 Regularization\n"
   ]
  },
  {
   "cell_type": "code",
   "execution_count": 83,
   "metadata": {},
   "outputs": [
    {
     "name": "stdout",
     "output_type": "stream",
     "text": [
      "The optimal value of C(1/lambda) is :  LogisticRegression(C=10, class_weight='balanced', dual=False,\n",
      "          fit_intercept=True, intercept_scaling=1, max_iter=100,\n",
      "          multi_class='warn', n_jobs=None, penalty='l2', random_state=None,\n",
      "          solver='warn', tol=0.0001, verbose=0, warm_start=False)\n",
      "\n",
      " Accuracy of model using L2 Regularization 0.9363146336594129\n"
     ]
    }
   ],
   "source": [
    "# Finding the best parameters using Random Seach CV using 2-fold Cross-Validation in Logistic Regression\n",
    "\n",
    "from sklearn.model_selection import RandomizedSearchCV\n",
    "param_distributions = {'C': [10**-4,10**-3, 10**-2,10**-1, 1, 10**1,10**2,10**3, 10**4]}\n",
    "model = RandomizedSearchCV(LogisticRegression(penalty = 'l2',class_weight='balanced'), param_distributions, scoring = 'f1',cv=2, n_iter=4, n_jobs=-1,pre_dispatch=2)\n",
    "model.fit(standardized_data_train, y_train)\n",
    "print(\"The optimal value of C(1/lambda) is : \",model.best_estimator_)\n",
    "optimal_C = model.best_estimator_.C\n",
    "print(\"\\n Accuracy of model using L2 Regularization\",model.score(standardized_data_test, y_test))"
   ]
  },
  {
   "cell_type": "code",
   "execution_count": 84,
   "metadata": {},
   "outputs": [
    {
     "data": {
      "text/plain": [
       "array([0.91919104, 0.89110448, 0.93377054, 0.93620371])"
      ]
     },
     "execution_count": 84,
     "metadata": {},
     "output_type": "execute_result"
    }
   ],
   "source": [
    "model.best_params_\n",
    "results = model.cv_results_\n",
    "results['mean_test_score']\n"
   ]
  },
  {
   "cell_type": "code",
   "execution_count": 85,
   "metadata": {},
   "outputs": [
    {
     "data": {
      "image/png": "[encoded data removed]",
      "text/plain": [
       "<matplotlib.figure.Figure at 0x182bb02d7b8>"
      ]
     },
     "metadata": {},
     "output_type": "display_data"
    }
   ],
   "source": [
    "C= 10**-2,10**-1, 10**1,10**2\n",
    "plt.plot(C,results['mean_test_score'],marker='o')\n",
    "plt.xlabel('C')\n",
    "plt.ylabel('f1score')\n",
    "plt.title(\"F1score vs hyperparameter C\")\n",
    "plt.grid()\n",
    "plt.show()"
   ]
  },
  {
   "cell_type": "code",
   "execution_count": 86,
   "metadata": {},
   "outputs": [],
   "source": [
    "# Logistic Regression with Optimal value of C(1/lambda)\n",
    "lr = LogisticRegression(penalty='l2', class_weight='balanced',C=optimal_C, n_jobs=-1)\n",
    "lr.fit(standardized_data_train,y_train)\n",
    "pred_tfidf = lr.predict(standardized_data_test)\n",
    "\n"
   ]
  },
  {
   "cell_type": "markdown",
   "metadata": {},
   "source": [
    "## 9.1 Confusion Matrix"
   ]
  },
  {
   "cell_type": "code",
   "execution_count": 87,
   "metadata": {},
   "outputs": [
    {
     "name": "stdout",
     "output_type": "stream",
     "text": [
      "Confusion Matrix:\n"
     ]
    },
    {
     "data": {
      "image/png": "[encoded data removed]",
      "text/plain": [
       "<matplotlib.figure.Figure at 0x182b3cfc320>"
      ]
     },
     "metadata": {},
     "output_type": "display_data"
    }
   ],
   "source": [
    "cm_tfidf=confusion_matrix(y_test,pred_tfidf)\n",
    "print(\"Confusion Matrix:\")\n",
    "sns.heatmap(cm_tfidf, annot=True, fmt='d')\n",
    "plt.show()"
   ]
  },
  {
   "cell_type": "code",
   "execution_count": 88,
   "metadata": {},
   "outputs": [
    {
     "name": "stdout",
     "output_type": "stream",
     "text": [
      " true negitves are 5040 \n",
      " false positives are 1074 \n",
      " false negatives are 3711\n",
      " true positives are 35175 \n",
      " \n"
     ]
    }
   ],
   "source": [
    "#finding out  true negative , false positive , false negative and true positve \n",
    "tn, fp, fn, tp = cm_tfidf.ravel()\n",
    "( tp, fp, fn, tp)\n",
    "print(\" true negitves are {} \\n false positives are {} \\n false negatives are {}\\n true positives are {} \\n \".format(tn,fp,fn,tp))"
   ]
  },
  {
   "cell_type": "markdown",
   "metadata": {},
   "source": [
    "## 9.2 Calculating Accuracy,Error on test data,Precision,Recall,Classification Report"
   ]
  },
  {
   "cell_type": "code",
   "execution_count": 89,
   "metadata": {},
   "outputs": [
    {
     "name": "stdout",
     "output_type": "stream",
     "text": [
      "\n",
      "The Test Accuracy of the Logistic Regression classifier for C = 10.000 is 89.366667%\n",
      "\n",
      "Test Error  Logistic Regression classifier is  10.633333%\n",
      "\n",
      "The Test Precision of the Logistic Regression classifier for C = 10.000 is 0.970372\n",
      "\n",
      "The Test Recall of the Logistic Regression classifier for C = 10.000 is 0.904567\n",
      "\n",
      "The Test classification report of the Logistic regression classifier for C \n",
      "\n",
      "                precision    recall  f1-score   support\n",
      "\n",
      "           0       0.58      0.82      0.68      6114\n",
      "           1       0.97      0.90      0.94     38886\n",
      "\n",
      "   micro avg       0.89      0.89      0.89     45000\n",
      "   macro avg       0.77      0.86      0.81     45000\n",
      "weighted avg       0.92      0.89      0.90     45000\n",
      "\n"
     ]
    }
   ],
   "source": [
    "from sklearn.metrics import recall_score\n",
    "from sklearn.metrics import precision_score\n",
    "from sklearn.metrics import classification_report\n",
    "\n",
    "\n",
    "# evaluating accuracy\n",
    "acc_tfidf = accuracy_score(y_test, pred_tfidf) * 100\n",
    "print('\\nThe Test Accuracy of the Logistic Regression classifier for C = %.3f is %f%%' % (optimal_C, acc_tfidf))\n",
    "\n",
    "# Error on test data\n",
    "test_error_tfidf = 100-acc_tfidf\n",
    "print(\"\\nTest Error  Logistic Regression classifier is  %f%%\" % (test_error_tfidf))\n",
    "\n",
    "# evaluating precision\n",
    "precision_score = precision_score(y_test, pred_tfidf) \n",
    "print('\\nThe Test Precision of the Logistic Regression classifier for C = %.3f is %f' % (optimal_C, precision_score))\n",
    "\n",
    "# evaluating recall\n",
    "recall_score = recall_score(y_test, pred_tfidf)\n",
    "print('\\nThe Test Recall of the Logistic Regression classifier for C = %.3f is %f' % (optimal_C, recall_score))\n",
    "\n",
    "# evaluating Classification report\n",
    "classification_report = classification_report(y_test, pred_tfidf)\n",
    "print('\\nThe Test classification report of the Logistic regression classifier for C \\n\\n ',(classification_report))"
   ]
  },
  {
   "cell_type": "markdown",
   "metadata": {},
   "source": [
    "## 9.3 Perturbation Test\n",
    "\n",
    "Pertubation test means adding noise to one of the data point and comparing the difference b/w change in previous weights and New \n",
    "\n",
    "weights to find of collinearity."
   ]
  },
  {
   "cell_type": "code",
   "execution_count": 90,
   "metadata": {},
   "outputs": [
    {
     "name": "stdout",
     "output_type": "stream",
     "text": [
      "(105000, 38300)\n",
      "(105000, 38300)\n"
     ]
    }
   ],
   "source": [
    "import scipy as sp\n",
    "epsilon = sp.stats.distributions.norm.rvs(loc=0,scale=0.0001)\n",
    "# Vector before the addition of epsilon\n",
    "W_before_epsilon = lr.coef_\n",
    "\n",
    "# Number of non zero elements in Standardized_train sparse matrix\n",
    "no_of_non_zero = standardized_data_train.count_nonzero()\n",
    "\n",
    "# Importing library to create a sparse matrix of epsilon\n",
    "from scipy.sparse import csr_matrix\n",
    "\n",
    "# Creating new sparse matrix with epsilon at same position of non-zero elements of standardized_data_train\n",
    "x_train_indices = standardized_data_train.indices\n",
    "x_train_indptr = standardized_data_train.indptr #CSR format index pointer array of the matrix\n",
    "\n",
    "# Creating a list of same element with repetition\n",
    "data = [epsilon] * no_of_non_zero\n",
    "Shape = standardized_data_train.shape\n",
    "\n",
    "# Creating sparse matrix\n",
    "sparse_epsilon = csr_matrix((data,x_train_indices,x_train_indptr),shape=Shape,dtype=float)\n",
    "\n",
    "# Add sparse_epsilon and X-standardized_data_train to get a new sparse matrix with epsilon added to each \n",
    "# non-zero element of standardized_data_train\n",
    "epsilon_train = standardized_data_train + sparse_epsilon\n",
    "\n",
    "print(standardized_data_train.shape)\n",
    "print(epsilon_train.shape)"
   ]
  },
  {
   "cell_type": "code",
   "execution_count": 91,
   "metadata": {},
   "outputs": [
    {
     "name": "stdout",
     "output_type": "stream",
     "text": [
      "change_vector [[ 0.01693745 -0.00744999 -0.0015547  ... -0.04179338 -0.0132322\n",
      "  -0.08475733]]\n"
     ]
    },
    {
     "data": {
      "text/plain": [
       "array([5.70146967, 4.94566477, 4.8190358 , 4.69320107, 4.59339545,\n",
       "       4.3911236 , 4.3821337 , 4.3175084 , 4.30677805, 4.21040668,\n",
       "       4.16150323, 4.01837509, 3.98276153, 3.96020341, 3.77089133,\n",
       "       3.70838235, 3.69774091, 3.54625368, 3.54237984, 3.53774226])"
      ]
     },
     "execution_count": 91,
     "metadata": {},
     "output_type": "execute_result"
    }
   ],
   "source": [
    "# training Logistic Regression Classifier with epsilon_train\n",
    "epsilon_lr = LogisticRegression(penalty='l2', C=optimal_C, n_jobs=-1)\n",
    "epsilon_lr.fit(epsilon_train,y_train)\n",
    "\n",
    "# Vector after the addition of epsilon\n",
    "W_after_epsilon = epsilon_lr.coef_\n",
    "\n",
    "# Change in vectors after adding epsilon\n",
    "change_vector = W_after_epsilon - W_before_epsilon\n",
    "print(\"change_vector\",change_vector)\n",
    "\n",
    "\n",
    "# Sort this change_vector array after making all the elements positive in ascending order to visualize the change\n",
    "sorted_change_vector = np.sort(np.absolute(change_vector))[:,::-1]\n",
    "\n",
    "sorted_change_vector[0,0:20]"
   ]
  },
  {
   "cell_type": "code",
   "execution_count": 92,
   "metadata": {},
   "outputs": [
    {
     "name": "stdout",
     "output_type": "stream",
     "text": [
      "Top 20 features with their weight values :\n",
      "       worst\t===> \t-16.506951\n",
      "       great\t===> \t13.935730\n",
      "      delici\t===> \t13.480723\n",
      "        best\t===> \t12.510217\n",
      "     perfect\t===> \t12.193924\n",
      "        amaz\t===> \t11.647141\n",
      "     terribl\t===> \t-11.615157\n",
      "        love\t===> \t11.590088\n",
      "  disappoint\t===> \t-11.466222\n",
      "     skeptic\t===> \t10.841683\n",
      "        hook\t===> \t10.564185\n",
      "        beat\t===> \t10.195173\n",
      "     horribl\t===> \t-10.162472\n",
      "      addict\t===> \t9.747685\n",
      "       excel\t===> \t9.613320\n",
      "     finnish\t===> \t-9.521802\n",
      "   sleepless\t===> \t-9.335866\n",
      "      awesom\t===> \t9.327967\n",
      "     mediocr\t===> \t-9.293983\n",
      "     concept\t===> \t-9.088311\n"
     ]
    }
   ],
   "source": [
    "absolute_weights = np.absolute(W_before_epsilon)\n",
    "sorted_absolute_index = np.argsort(absolute_weights)[:,::-1]\n",
    "top_index = sorted_absolute_index[0,0:20]\n",
    "\n",
    "all_features = tf_idf_vect.get_feature_names()\n",
    "weight_values = lr.coef_\n",
    "\n",
    "# Top 20 features are    \n",
    "print(\"Top 20 features with their weight values :\")\n",
    "\n",
    "for j in top_index:\n",
    "    print(\"%12s\\t===> \\t%f\"%(all_features[j],weight_values[0,j]))"
   ]
  },
  {
   "cell_type": "markdown",
   "metadata": {},
   "source": [
    "## 10. WORD2VEC\n"
   ]
  },
  {
   "cell_type": "code",
   "execution_count": 93,
   "metadata": {},
   "outputs": [
    {
     "name": "stdout",
     "output_type": "stream",
     "text": [
      "number of words that occured minimum 5 times  12829\n"
     ]
    }
   ],
   "source": [
    "from gensim.models import Word2Vec\n",
    "# List of sentence in X_train text\n",
    "sent_of_train=[]\n",
    "for sent in x_train:\n",
    "    sent_of_train.append(sent.split())\n",
    "\n",
    "# List of sentence in X_est text\n",
    "sent_of_test=[]\n",
    "for sent in x_test:\n",
    "    sent_of_test.append(sent.split())   \n",
    "    \n",
    "# Train your own Word2Vec model using your own train text corpus \n",
    "# min_count = 5 considers only words that occured atleast 5 times\n",
    "w2v_model=Word2Vec(sent_of_train,min_count=5,size=50, workers=4)\n",
    "\n",
    "w2v_words = list(w2v_model.wv.vocab)\n",
    "print(\"number of words that occured minimum 5 times \",len(w2v_words))"
   ]
  },
  {
   "cell_type": "markdown",
   "metadata": {},
   "source": [
    "## 11. Avg Word2Vec\n"
   ]
  },
  {
   "cell_type": "code",
   "execution_count": 94,
   "metadata": {},
   "outputs": [],
   "source": [
    "# compute average word2vec for each review for X_train .\n",
    "train_vectors = []; \n",
    "for sent in sent_of_train:\n",
    "    sent_vec = np.zeros(50) \n",
    "    cnt_words =0; \n",
    "    for word in sent: # \n",
    "        if word in w2v_words:\n",
    "            vec = w2v_model.wv[word]\n",
    "            sent_vec += vec\n",
    "            cnt_words += 1\n",
    "    if cnt_words != 0:\n",
    "        sent_vec /= cnt_words\n",
    "    train_vectors.append(sent_vec)\n",
    "    \n",
    "# compute average word2vec for each review for X_test .\n",
    "test_vectors = []; \n",
    "for sent in sent_of_test:\n",
    "    sent_vec = np.zeros(50) \n",
    "    cnt_words =0; \n",
    "    for word in sent: # \n",
    "        if word in w2v_words:\n",
    "            vec = w2v_model.wv[word]\n",
    "            sent_vec += vec\n",
    "            cnt_words += 1\n",
    "    if cnt_words != 0:\n",
    "        sent_vec /= cnt_words\n",
    "    test_vectors.append(sent_vec)"
   ]
  },
  {
   "cell_type": "markdown",
   "metadata": {},
   "source": [
    "## 11.1 Standardizing Data"
   ]
  },
  {
   "cell_type": "code",
   "execution_count": 95,
   "metadata": {},
   "outputs": [
    {
     "name": "stdout",
     "output_type": "stream",
     "text": [
      "(105000, 50)\n",
      "(45000, 50)\n"
     ]
    }
   ],
   "source": [
    "# Data-preprocessing: Standardizing the data\n",
    "from sklearn import preprocessing\n",
    "standardized_data_train = preprocessing.normalize(train_vectors)\n",
    "print(standardized_data_train.shape)\n",
    "standardized_data_test = preprocessing.normalize(test_vectors)\n",
    "print(standardized_data_test.shape)\n"
   ]
  },
  {
   "cell_type": "markdown",
   "metadata": {},
   "source": [
    "## 11.2 Applying Logistic Regression Algorithm\n"
   ]
  },
  {
   "cell_type": "markdown",
   "metadata": {},
   "source": [
    "## 11.2.1 Gridsearch Cross Validation"
   ]
  },
  {
   "cell_type": "markdown",
   "metadata": {},
   "source": [
    "## 11.2.1.1 Using L1 Regularization\n"
   ]
  },
  {
   "cell_type": "code",
   "execution_count": 96,
   "metadata": {},
   "outputs": [
    {
     "name": "stdout",
     "output_type": "stream",
     "text": [
      "The optimal value of C(1/lambda) is :  LogisticRegression(C=1, class_weight='balanced', dual=False,\n",
      "          fit_intercept=True, intercept_scaling=1, max_iter=100,\n",
      "          multi_class='warn', n_jobs=None, penalty='l1', random_state=None,\n",
      "          solver='warn', tol=0.0001, verbose=0, warm_start=False)\n",
      "\n",
      " Accuracy of model using L1 Regularization 0.8898586577349102\n"
     ]
    }
   ],
   "source": [
    "# Finding the best parameters using Grid Seach CV using 2-fold Cross-Validation in Logistic Regression\n",
    "\n",
    "from sklearn.model_selection import GridSearchCV\n",
    "tuned_parameters = [{'C': [10**-4,10**-3, 10**-2,10**-1, 1, 10**1,10**2,10**3, 10**4]}]\n",
    "model = GridSearchCV(LogisticRegression(penalty = 'l1',class_weight='balanced'), tuned_parameters, scoring = 'f1', cv=2, n_jobs=-1)\n",
    "model.fit(standardized_data_train, y_train)\n",
    "print(\"The optimal value of C(1/lambda) is : \",model.best_estimator_)\n",
    "optimal_C = model.best_estimator_.C\n",
    "print(\"\\n Accuracy of model using L1 Regularization\",model.score(standardized_data_test, y_test))"
   ]
  },
  {
   "cell_type": "code",
   "execution_count": 97,
   "metadata": {},
   "outputs": [
    {
     "data": {
      "text/plain": [
       "array([0.        , 0.6385385 , 0.87904993, 0.88848874, 0.8891577 ,\n",
       "       0.88909251, 0.88909247, 0.88909908, 0.88909908])"
      ]
     },
     "execution_count": 97,
     "metadata": {},
     "output_type": "execute_result"
    }
   ],
   "source": [
    "model.best_params_\n",
    "results = model.cv_results_\n",
    "results['mean_test_score']\n"
   ]
  },
  {
   "cell_type": "code",
   "execution_count": 98,
   "metadata": {},
   "outputs": [
    {
     "data": {
      "image/png": "[encoded data removed]",
      "text/plain": [
       "<matplotlib.figure.Figure at 0x182b4d88358>"
      ]
     },
     "metadata": {},
     "output_type": "display_data"
    }
   ],
   "source": [
    "C=10**-4,10**-3, 10**-2,10**-1, 1, 10**1,10**2,10**3, 10**4\n",
    "plt.plot(C,results['mean_test_score'],marker='o')\n",
    "plt.xlabel('C')\n",
    "plt.ylabel('f1score')\n",
    "plt.title(\"F1score vs hyperparameter C\")\n",
    "plt.grid()\n",
    "plt.show()"
   ]
  },
  {
   "cell_type": "code",
   "execution_count": 99,
   "metadata": {},
   "outputs": [],
   "source": [
    "# Logistic Regression with Optimal value of C(1/lambda)\n",
    "lr = LogisticRegression(penalty='l1', class_weight='balanced',C=optimal_C, n_jobs=-1)\n",
    "lr.fit(standardized_data_train,y_train)\n",
    "pred_avgw2v = lr.predict(standardized_data_test)\n",
    "\n"
   ]
  },
  {
   "cell_type": "markdown",
   "metadata": {},
   "source": [
    "## 11.3 Confusion Matrix"
   ]
  },
  {
   "cell_type": "code",
   "execution_count": 100,
   "metadata": {},
   "outputs": [
    {
     "name": "stdout",
     "output_type": "stream",
     "text": [
      "Confusion Matrix:\n"
     ]
    },
    {
     "data": {
      "image/png": "[encoded data removed]",
      "text/plain": [
       "<matplotlib.figure.Figure at 0x182f81037b8>"
      ]
     },
     "metadata": {},
     "output_type": "display_data"
    }
   ],
   "source": [
    "cm_avgw2v=confusion_matrix(y_test,pred_avgw2v)\n",
    "print(\"Confusion Matrix:\")\n",
    "sns.heatmap(cm_avgw2v, annot=True, fmt='d')\n",
    "plt.show()"
   ]
  },
  {
   "cell_type": "code",
   "execution_count": 101,
   "metadata": {},
   "outputs": [
    {
     "name": "stdout",
     "output_type": "stream",
     "text": [
      " true negitves are 5061 \n",
      " false positives are 1053 \n",
      " false negatives are 6872\n",
      " true positives are 32014 \n",
      " \n"
     ]
    }
   ],
   "source": [
    "#finding out  true negative , false positive , false negative and true positve \n",
    "tn, fp, fn, tp = cm_avgw2v.ravel()\n",
    "( tp, fp, fn, tp)\n",
    "print(\" true negitves are {} \\n false positives are {} \\n false negatives are {}\\n true positives are {} \\n \".format(tn,fp,fn,tp))"
   ]
  },
  {
   "cell_type": "markdown",
   "metadata": {},
   "source": [
    "## 11.4 Calculating Accuracy,Error on test data,Precision,Recall,Classification Report"
   ]
  },
  {
   "cell_type": "code",
   "execution_count": 102,
   "metadata": {},
   "outputs": [
    {
     "name": "stdout",
     "output_type": "stream",
     "text": [
      "\n",
      "The Test Accuracy of the Logistic Regression classifier for C = 1.000 is 82.388889%\n",
      "\n",
      "Test Error  Logistic Regression classifier is  17.611111%\n",
      "\n",
      "The Test Precision of the Logistic Regression classifier for C = 1.000 is 0.968156\n",
      "\n",
      "The Test Recall of the Logistic Regression classifier for C = 1.000 is 0.823278\n",
      "\n",
      "The Test classification report of the Logistic regression classifier for C \n",
      "\n",
      "                precision    recall  f1-score   support\n",
      "\n",
      "           0       0.42      0.83      0.56      6114\n",
      "           1       0.97      0.82      0.89     38886\n",
      "\n",
      "   micro avg       0.82      0.82      0.82     45000\n",
      "   macro avg       0.70      0.83      0.73     45000\n",
      "weighted avg       0.89      0.82      0.85     45000\n",
      "\n"
     ]
    }
   ],
   "source": [
    "from sklearn.metrics import recall_score\n",
    "from sklearn.metrics import precision_score\n",
    "from sklearn.metrics import classification_report\n",
    "\n",
    "\n",
    "# evaluating accuracy\n",
    "acc_avgw2v = accuracy_score(y_test, pred_avgw2v) * 100\n",
    "print('\\nThe Test Accuracy of the Logistic Regression classifier for C = %.3f is %f%%' % (optimal_C, acc_avgw2v))\n",
    "\n",
    "# Error on test data\n",
    "test_error_avgw2v = 100-acc_avgw2v\n",
    "print(\"\\nTest Error  Logistic Regression classifier is  %f%%\" % (test_error_avgw2v))\n",
    "\n",
    "# evaluating precision\n",
    "precision_score = precision_score(y_test, pred_avgw2v) \n",
    "print('\\nThe Test Precision of the Logistic Regression classifier for C = %.3f is %f' % (optimal_C, precision_score))\n",
    "\n",
    "# evaluating recall\n",
    "recall_score = recall_score(y_test, pred_avgw2v)\n",
    "print('\\nThe Test Recall of the Logistic Regression classifier for C = %.3f is %f' % (optimal_C, recall_score))\n",
    "\n",
    "# evaluating Classification report\n",
    "classification_report = classification_report(y_test, pred_avgw2v)\n",
    "print('\\nThe Test classification report of the Logistic regression classifier for C \\n\\n ',(classification_report))"
   ]
  },
  {
   "cell_type": "markdown",
   "metadata": {},
   "source": [
    "## 11.5 Checking sparsity with increasing value of lambda(decreasing C)¶"
   ]
  },
  {
   "cell_type": "code",
   "execution_count": 103,
   "metadata": {},
   "outputs": [
    {
     "name": "stdout",
     "output_type": "stream",
     "text": [
      "lambda=0.0001 ; non-zeros=50\n",
      "lambda=0.001 ; non-zeros=50\n",
      "lambda=0.01 ; non-zeros=50\n",
      "lambda=0.1 ; non-zeros=50\n",
      "lambda=1.0 ; non-zeros=49\n",
      "lambda=10.0 ; non-zeros=47\n",
      "lambda=100.0 ; non-zeros=26\n",
      "lambda=1000.0 ; non-zeros=2\n",
      "lambda=10000.0 ; non-zeros=0\n"
     ]
    }
   ],
   "source": [
    "lambd = [0.0001, 0.001, 0.01, 0.1, 1, 10, 100, 1000, 10000]\n",
    "for i in lambd[::-1]:\n",
    "    lrr = LogisticRegression(penalty = 'l1', C = i)\n",
    "    lrr.fit(standardized_data_train, y_train)\n",
    "    print(\"lambda=\"+str(1/i)+\" ; non-zeros=\"+str(np.count_nonzero(lrr.coef_)))"
   ]
  },
  {
   "cell_type": "code",
   "execution_count": 104,
   "metadata": {},
   "outputs": [
    {
     "data": {
      "text/plain": [
       "LogisticRegression(C=0.01, class_weight=None, dual=False, fit_intercept=True,\n",
       "          intercept_scaling=1, max_iter=100, multi_class='warn',\n",
       "          n_jobs=None, penalty='l2', random_state=None, solver='warn',\n",
       "          tol=0.0001, verbose=0, warm_start=False)"
      ]
     },
     "execution_count": 104,
     "metadata": {},
     "output_type": "execute_result"
    }
   ],
   "source": [
    "lr = LogisticRegression(penalty='l2', C=0.01)\n",
    "lr.fit(standardized_data_train, y_train)"
   ]
  },
  {
   "cell_type": "code",
   "execution_count": 105,
   "metadata": {},
   "outputs": [
    {
     "name": "stdout",
     "output_type": "stream",
     "text": [
      "Noise= -0.015656389247922235\n"
     ]
    }
   ],
   "source": [
    "# Applying perturbation and checking if the coefficients differ too much\n",
    "# Will not add noise to zeros\n",
    "\n",
    "noise = np.random.normal(0 , 0.1 , 1)\n",
    "print(\"Noise= \"+str(noise[0]))\n",
    "standardized_data_train.data = standardized_data_train.data + noise[0]"
   ]
  },
  {
   "cell_type": "code",
   "execution_count": 106,
   "metadata": {},
   "outputs": [
    {
     "data": {
      "text/plain": [
       "LogisticRegression(C=0.01, class_weight=None, dual=False, fit_intercept=True,\n",
       "          intercept_scaling=1, max_iter=100, multi_class='warn',\n",
       "          n_jobs=None, penalty='l2', random_state=None, solver='warn',\n",
       "          tol=0.0001, verbose=0, warm_start=False)"
      ]
     },
     "execution_count": 106,
     "metadata": {},
     "output_type": "execute_result"
    }
   ],
   "source": [
    "# Fitting the new model on the transformed data\n",
    "\n",
    "lr2 = LogisticRegression(penalty='l2', C=0.01)\n",
    "lr2.fit(standardized_data_train, y_train)"
   ]
  },
  {
   "cell_type": "code",
   "execution_count": 107,
   "metadata": {},
   "outputs": [
    {
     "name": "stdout",
     "output_type": "stream",
     "text": [
      "Number of features whose coefficients changed by more than 40% = 2\n"
     ]
    }
   ],
   "source": [
    "# Calculating the percentage change between the old and new coefficients\n",
    "count=0\n",
    "for i in range(standardized_data_train.shape[1]):\n",
    "    delta = abs((((lr.coef_[0][i] - lr2.coef_[0][i]) * 100))/ lr.coef_[0][i])\n",
    "    if delta>40:\n",
    "        count+=1\n",
    "        \n",
    "print(\"Number of features whose coefficients changed by more than 40% =\",count)"
   ]
  },
  {
   "cell_type": "markdown",
   "metadata": {},
   "source": [
    "Hence Number of Features whose coefficients changed by more than 40% is less collinear hence we cannot calculate feature importance"
   ]
  },
  {
   "cell_type": "markdown",
   "metadata": {},
   "source": [
    "As weight vector values before and after pertubation changes significantly, then we can't use |w| as feature importance measure."
   ]
  },
  {
   "cell_type": "markdown",
   "metadata": {},
   "source": [
    "## 12. Using L2 Regularization\n"
   ]
  },
  {
   "cell_type": "code",
   "execution_count": 108,
   "metadata": {},
   "outputs": [
    {
     "name": "stdout",
     "output_type": "stream",
     "text": [
      "LogisticRegression(C=100, class_weight='balanced', dual=False,\n",
      "          fit_intercept=True, intercept_scaling=1, max_iter=100,\n",
      "          multi_class='warn', n_jobs=None, penalty='l2', random_state=None,\n",
      "          solver='warn', tol=0.0001, verbose=0, warm_start=False)\n",
      "Optimal F-score: 0.86\n",
      "0.8618518252886753\n"
     ]
    }
   ],
   "source": [
    "# Finding the best parameters using Grid Seach CV using 2-fold Cross-Validation in Logistic Regression\n",
    "\n",
    "from sklearn.model_selection import GridSearchCV\n",
    "tuned_parameters = [{'C': [10**-4,10**-3,10**-2,10**-1, 1, 10**2,10**3, 10**4]}]\n",
    "model = GridSearchCV(LogisticRegression(penalty = 'l2',class_weight='balanced'), tuned_parameters, scoring = 'f1', cv=2, n_jobs=-1)\n",
    "model.fit(standardized_data_train, y_train)\n",
    "\n",
    "print(model.best_estimator_)\n",
    "print(\"Optimal F-score: {:.2f}\".format(model.score(standardized_data_test, y_test)))\n",
    "print(model.score(standardized_data_test, y_test))\n"
   ]
  },
  {
   "cell_type": "code",
   "execution_count": 109,
   "metadata": {},
   "outputs": [
    {
     "data": {
      "text/plain": [
       "array([0.84817229, 0.87082515, 0.88259124, 0.88785519, 0.88904915,\n",
       "       0.88909247, 0.88909247, 0.88909247])"
      ]
     },
     "execution_count": 109,
     "metadata": {},
     "output_type": "execute_result"
    }
   ],
   "source": [
    "model.best_params_\n",
    "results = model.cv_results_\n",
    "results['mean_test_score']\n"
   ]
  },
  {
   "cell_type": "code",
   "execution_count": 110,
   "metadata": {},
   "outputs": [
    {
     "data": {
      "image/png": "[encoded data removed]",
      "text/plain": [
       "<matplotlib.figure.Figure at 0x182b4d886a0>"
      ]
     },
     "metadata": {},
     "output_type": "display_data"
    }
   ],
   "source": [
    "C=10**-3, 10**-2,10**-1, 1, 10**1,10**2,10**3, 10**4\n",
    "plt.plot(C,results['mean_test_score'],marker='o')\n",
    "plt.xlabel('C')\n",
    "plt.ylabel('f1score')\n",
    "plt.title(\"F1score vs hyperparameter C\")\n",
    "plt.grid()\n",
    "plt.show()"
   ]
  },
  {
   "cell_type": "code",
   "execution_count": 111,
   "metadata": {},
   "outputs": [],
   "source": [
    "# Logistic Regression with Optimal value of C(1/lambda)\n",
    "lr = LogisticRegression(penalty='l2', class_weight='balanced',C=optimal_C, n_jobs=-1)\n",
    "lr.fit(standardized_data_train,y_train)\n",
    "pred_avgw2v = lr.predict(standardized_data_test)\n",
    "\n"
   ]
  },
  {
   "cell_type": "markdown",
   "metadata": {},
   "source": [
    "## 12.1 Confusion Matrix"
   ]
  },
  {
   "cell_type": "code",
   "execution_count": 112,
   "metadata": {},
   "outputs": [
    {
     "name": "stdout",
     "output_type": "stream",
     "text": [
      "Confusion Matrix:\n"
     ]
    },
    {
     "data": {
      "image/png": "[encoded data removed]",
      "text/plain": [
       "<matplotlib.figure.Figure at 0x182b47d1748>"
      ]
     },
     "metadata": {},
     "output_type": "display_data"
    }
   ],
   "source": [
    "cm_avgw2v=confusion_matrix(y_test,pred_avgw2v)\n",
    "print(\"Confusion Matrix:\")\n",
    "sns.heatmap(cm_avgw2v, annot=True, fmt='d')\n",
    "plt.show()"
   ]
  },
  {
   "cell_type": "code",
   "execution_count": 113,
   "metadata": {},
   "outputs": [
    {
     "name": "stdout",
     "output_type": "stream",
     "text": [
      " true negitves are 5324 \n",
      " false positives are 790 \n",
      " false negatives are 8828\n",
      " true positives are 30058 \n",
      " \n"
     ]
    }
   ],
   "source": [
    "#finding out  true negative , false positive , false negative and true positve \n",
    "tn, fp, fn, tp = cm_avgw2v.ravel()\n",
    "( tp, fp, fn, tp)\n",
    "print(\" true negitves are {} \\n false positives are {} \\n false negatives are {}\\n true positives are {} \\n \".format(tn,fp,fn,tp))"
   ]
  },
  {
   "cell_type": "markdown",
   "metadata": {},
   "source": [
    "## 12.2 Calculating Accuracy,Error on test data,Precision,Recall,Classification Report"
   ]
  },
  {
   "cell_type": "code",
   "execution_count": 114,
   "metadata": {},
   "outputs": [
    {
     "name": "stdout",
     "output_type": "stream",
     "text": [
      "\n",
      "The Test Accuracy of the Logistic Regression classifier for C = 1.000 is 78.626667%\n",
      "\n",
      "Test Error  Logistic Regression classifier is  21.373333%\n",
      "\n",
      "The Test Precision of the Logistic Regression classifier for C = 1.000 is 0.974391\n",
      "\n",
      "The Test Recall of the Logistic Regression classifier for C = 1.000 is 0.772977\n",
      "\n",
      "The Test classification report of the Logistic regression classifier for C \n",
      "\n",
      "                precision    recall  f1-score   support\n",
      "\n",
      "           0       0.38      0.87      0.53      6114\n",
      "           1       0.97      0.77      0.86     38886\n",
      "\n",
      "   micro avg       0.79      0.79      0.79     45000\n",
      "   macro avg       0.68      0.82      0.69     45000\n",
      "weighted avg       0.89      0.79      0.82     45000\n",
      "\n"
     ]
    }
   ],
   "source": [
    "from sklearn.metrics import recall_score\n",
    "from sklearn.metrics import precision_score\n",
    "from sklearn.metrics import classification_report\n",
    "\n",
    "\n",
    "# evaluating accuracy\n",
    "acc_avgw2v = accuracy_score(y_test, pred_avgw2v) * 100\n",
    "print('\\nThe Test Accuracy of the Logistic Regression classifier for C = %.3f is %f%%' % (optimal_C, acc_avgw2v))\n",
    "\n",
    "# Error on test data\n",
    "test_error_avgw2v = 100-acc_avgw2v\n",
    "print(\"\\nTest Error  Logistic Regression classifier is  %f%%\" % (test_error_avgw2v))\n",
    "\n",
    "# evaluating precision\n",
    "precision_score = precision_score(y_test, pred_avgw2v) \n",
    "print('\\nThe Test Precision of the Logistic Regression classifier for C = %.3f is %f' % (optimal_C, precision_score))\n",
    "\n",
    "# evaluating recall\n",
    "recall_score = recall_score(y_test, pred_avgw2v)\n",
    "print('\\nThe Test Recall of the Logistic Regression classifier for C = %.3f is %f' % (optimal_C, recall_score))\n",
    "\n",
    "# evaluating Classification report\n",
    "classification_report = classification_report(y_test, pred_avgw2v)\n",
    "print('\\nThe Test classification report of the Logistic regression classifier for C \\n\\n ',(classification_report))"
   ]
  },
  {
   "cell_type": "markdown",
   "metadata": {},
   "source": [
    "## 12.3 Checking sparsity with increasing value of lambda(decreasing C)¶\n"
   ]
  },
  {
   "cell_type": "code",
   "execution_count": 115,
   "metadata": {},
   "outputs": [
    {
     "name": "stdout",
     "output_type": "stream",
     "text": [
      "lambda=0.0001 ; non-zeros=50\n",
      "lambda=0.001 ; non-zeros=50\n",
      "lambda=0.01 ; non-zeros=50\n",
      "lambda=0.1 ; non-zeros=50\n",
      "lambda=1.0 ; non-zeros=49\n",
      "lambda=10.0 ; non-zeros=47\n",
      "lambda=100.0 ; non-zeros=26\n",
      "lambda=1000.0 ; non-zeros=2\n",
      "lambda=10000.0 ; non-zeros=0\n"
     ]
    }
   ],
   "source": [
    "lambd = [0.0001, 0.001, 0.01, 0.1, 1, 10, 100, 1000, 10000]\n",
    "for i in lambd[::-1]:\n",
    "    lrr = LogisticRegression(penalty = 'l1', C = i)\n",
    "    lrr.fit(standardized_data_train, y_train)\n",
    "    print(\"lambda=\"+str(1/i)+\" ; non-zeros=\"+str(np.count_nonzero(lrr.coef_)))"
   ]
  },
  {
   "cell_type": "code",
   "execution_count": 116,
   "metadata": {},
   "outputs": [
    {
     "data": {
      "text/plain": [
       "LogisticRegression(C=0.01, class_weight=None, dual=False, fit_intercept=True,\n",
       "          intercept_scaling=1, max_iter=100, multi_class='warn',\n",
       "          n_jobs=None, penalty='l2', random_state=None, solver='warn',\n",
       "          tol=0.0001, verbose=0, warm_start=False)"
      ]
     },
     "execution_count": 116,
     "metadata": {},
     "output_type": "execute_result"
    }
   ],
   "source": [
    "lr = LogisticRegression(penalty='l2', C=0.01)\n",
    "lr.fit(standardized_data_train, y_train)"
   ]
  },
  {
   "cell_type": "code",
   "execution_count": 117,
   "metadata": {},
   "outputs": [
    {
     "name": "stdout",
     "output_type": "stream",
     "text": [
      "Noise= 0.04927314088689588\n"
     ]
    }
   ],
   "source": [
    "# Applying perturbation and checking if the coefficients differ too much\n",
    "# Will not add noise to zeros\n",
    "\n",
    "noise = np.random.normal(0 , 0.1 , 1)\n",
    "print(\"Noise= \"+str(noise[0]))\n",
    "standardized_data_train.data = standardized_data_train.data + noise[0]"
   ]
  },
  {
   "cell_type": "code",
   "execution_count": 118,
   "metadata": {},
   "outputs": [
    {
     "data": {
      "text/plain": [
       "LogisticRegression(C=0.01, class_weight=None, dual=False, fit_intercept=True,\n",
       "          intercept_scaling=1, max_iter=100, multi_class='warn',\n",
       "          n_jobs=None, penalty='l2', random_state=None, solver='warn',\n",
       "          tol=0.0001, verbose=0, warm_start=False)"
      ]
     },
     "execution_count": 118,
     "metadata": {},
     "output_type": "execute_result"
    }
   ],
   "source": [
    "# Fitting the new model on the transformed data\n",
    "\n",
    "lr2 = LogisticRegression(penalty='l2', C=0.01)\n",
    "lr2.fit(standardized_data_train, y_train)"
   ]
  },
  {
   "cell_type": "code",
   "execution_count": 119,
   "metadata": {},
   "outputs": [
    {
     "name": "stdout",
     "output_type": "stream",
     "text": [
      "Number of features whose coefficients changed by more than 40% = 6\n"
     ]
    }
   ],
   "source": [
    "# Calculating the percentage change between the old and new coefficients\n",
    "count=0\n",
    "for i in range(standardized_data_train.shape[1]):\n",
    "    delta = abs((((lr.coef_[0][i] - lr2.coef_[0][i]) * 100))/ lr.coef_[0][i])\n",
    "    if delta>40:\n",
    "        count+=1\n",
    "        \n",
    "print(\"Number of features whose coefficients changed by more than 40% =\",count)"
   ]
  },
  {
   "cell_type": "markdown",
   "metadata": {},
   "source": [
    "Hence Number of Features whose coefficients changed by more than 40% is less collinear hence we cannot calculate feature importance"
   ]
  },
  {
   "cell_type": "markdown",
   "metadata": {},
   "source": [
    "## 13. Randomized Search Cross Validation\n"
   ]
  },
  {
   "cell_type": "markdown",
   "metadata": {},
   "source": [
    "## 13.1 Using L1 Regularization\n"
   ]
  },
  {
   "cell_type": "code",
   "execution_count": 120,
   "metadata": {},
   "outputs": [
    {
     "name": "stdout",
     "output_type": "stream",
     "text": [
      "The optimal value of C(1/lambda) is :  LogisticRegression(C=10000, class_weight='balanced', dual=False,\n",
      "          fit_intercept=True, intercept_scaling=1, max_iter=100,\n",
      "          multi_class='warn', n_jobs=None, penalty='l1', random_state=None,\n",
      "          solver='warn', tol=0.0001, verbose=0, warm_start=False)\n",
      "\n",
      " Accuracy of model using L1 Regularization 0.92753394379539\n"
     ]
    }
   ],
   "source": [
    "# Finding the best parameters using Random Seach CV using 2-fold Cross-Validation in Logistic Regression\n",
    "\n",
    "from sklearn.model_selection import RandomizedSearchCV\n",
    "param_distributions = {'C': [10**-4,10**-3, 10**-2,10**-1, 1, 10**1,10**2,10**3, 10**4]}\n",
    "model = RandomizedSearchCV(LogisticRegression(penalty = 'l1',class_weight='balanced'), param_distributions, scoring = 'f1',cv=2, n_iter=4, n_jobs=-1,pre_dispatch=2)\n",
    "model.fit(standardized_data_train, y_train)\n",
    "print(\"The optimal value of C(1/lambda) is : \",model.best_estimator_)\n",
    "optimal_C = model.best_estimator_.C\n",
    "print(\"\\n Accuracy of model using L1 Regularization\",model.score(standardized_data_test, y_test))"
   ]
  },
  {
   "cell_type": "code",
   "execution_count": 121,
   "metadata": {},
   "outputs": [
    {
     "data": {
      "text/plain": [
       "array([0.87895204, 0.88910569, 0.        , 0.88909904])"
      ]
     },
     "execution_count": 121,
     "metadata": {},
     "output_type": "execute_result"
    }
   ],
   "source": [
    "model.best_params_\n",
    "results = model.cv_results_\n",
    "results['mean_test_score']\n"
   ]
  },
  {
   "cell_type": "code",
   "execution_count": 122,
   "metadata": {},
   "outputs": [
    {
     "data": {
      "image/png": "[encoded data removed]",
      "text/plain": [
       "<matplotlib.figure.Figure at 0x18289991eb8>"
      ]
     },
     "metadata": {},
     "output_type": "display_data"
    }
   ],
   "source": [
    "C= 10**-1,10**1,10**2,10**3\n",
    "plt.plot(C,results['mean_test_score'],marker='o')\n",
    "plt.xlabel('C')\n",
    "plt.ylabel('f1score')\n",
    "plt.title(\"F1score vs hyperparameter C\")\n",
    "plt.grid()\n",
    "plt.show()"
   ]
  },
  {
   "cell_type": "code",
   "execution_count": 123,
   "metadata": {},
   "outputs": [],
   "source": [
    "# Logistic Regression with Optimal value of C(1/lambda)\n",
    "lr = LogisticRegression(penalty='l1',class_weight='balanced', C=optimal_C, n_jobs=-1)\n",
    "lr.fit(standardized_data_train,y_train)\n",
    "pred_avgw2v = lr.predict(standardized_data_test)\n",
    "\n"
   ]
  },
  {
   "cell_type": "markdown",
   "metadata": {},
   "source": [
    "## 13.2 Confusion Matrix"
   ]
  },
  {
   "cell_type": "code",
   "execution_count": 124,
   "metadata": {},
   "outputs": [
    {
     "name": "stdout",
     "output_type": "stream",
     "text": [
      "Confusion Matrix:\n"
     ]
    },
    {
     "data": {
      "image/png": "[encoded data removed]",
      "text/plain": [
       "<matplotlib.figure.Figure at 0x18289991400>"
      ]
     },
     "metadata": {},
     "output_type": "display_data"
    }
   ],
   "source": [
    "cm_avgw2v=confusion_matrix(y_test,pred_avgw2v)\n",
    "print(\"Confusion Matrix:\")\n",
    "sns.heatmap(cm_bow, annot=True, fmt='d')\n",
    "plt.show()"
   ]
  },
  {
   "cell_type": "code",
   "execution_count": 125,
   "metadata": {},
   "outputs": [
    {
     "name": "stdout",
     "output_type": "stream",
     "text": [
      " true negitves are 4241 \n",
      " false positives are 1873 \n",
      " false negatives are 3633\n",
      " true positives are 35253 \n",
      " \n"
     ]
    }
   ],
   "source": [
    "#finding out  true negative , false positive , false negative and true positve \n",
    "tn, fp, fn, tp = cm_avgw2v.ravel()\n",
    "( tp, fp, fn, tp)\n",
    "print(\" true negitves are {} \\n false positives are {} \\n false negatives are {}\\n true positives are {} \\n \".format(tn,fp,fn,tp))"
   ]
  },
  {
   "cell_type": "markdown",
   "metadata": {},
   "source": [
    "## 13.3 Calculating Accuracy,Error on test data,Precision,Recall,Classification Report"
   ]
  },
  {
   "cell_type": "code",
   "execution_count": 126,
   "metadata": {},
   "outputs": [
    {
     "name": "stdout",
     "output_type": "stream",
     "text": [
      "\n",
      "The Test Accuracy of the Logistic Regression classifier for C = 10000.000 is 87.764444%\n",
      "\n",
      "Test Error  Logistic Regression classifier is  12.235556%\n",
      "\n",
      "The Test Precision of the Logistic Regression classifier for C = 10000.000 is 0.949550\n",
      "\n",
      "The Test Recall of the Logistic Regression classifier for C = 10000.000 is 0.906573\n",
      "\n",
      "The Test classification report of the Logistic regression classifier for C \n",
      "\n",
      "                precision    recall  f1-score   support\n",
      "\n",
      "           0       0.54      0.69      0.61      6114\n",
      "           1       0.95      0.91      0.93     38886\n",
      "\n",
      "   micro avg       0.88      0.88      0.88     45000\n",
      "   macro avg       0.74      0.80      0.77     45000\n",
      "weighted avg       0.89      0.88      0.88     45000\n",
      "\n"
     ]
    }
   ],
   "source": [
    "from sklearn.metrics import recall_score\n",
    "from sklearn.metrics import precision_score\n",
    "from sklearn.metrics import classification_report\n",
    "\n",
    "\n",
    "# evaluating accuracy\n",
    "acc_avgw2v = accuracy_score(y_test, pred_avgw2v) * 100\n",
    "print('\\nThe Test Accuracy of the Logistic Regression classifier for C = %.3f is %f%%' % (optimal_C, acc_avgw2v))\n",
    "\n",
    "# Error on test data\n",
    "test_error_avgw2v = 100-acc_avgw2v\n",
    "print(\"\\nTest Error  Logistic Regression classifier is  %f%%\" % (test_error_avgw2v))\n",
    "\n",
    "# evaluating precision\n",
    "precision_score = precision_score(y_test, pred_avgw2v) \n",
    "print('\\nThe Test Precision of the Logistic Regression classifier for C = %.3f is %f' % (optimal_C, precision_score))\n",
    "\n",
    "# evaluating recall\n",
    "recall_score = recall_score(y_test, pred_avgw2v)\n",
    "print('\\nThe Test Recall of the Logistic Regression classifier for C = %.3f is %f' % (optimal_C, recall_score))\n",
    "\n",
    "# evaluating Classification report\n",
    "classification_report = classification_report(y_test, pred_avgw2v)\n",
    "print('\\nThe Test classification report of the Logistic regression classifier for C \\n\\n ',(classification_report))"
   ]
  },
  {
   "cell_type": "markdown",
   "metadata": {},
   "source": [
    "## 13.4 Perturbation Test\n",
    "\n",
    "Pertubation test means adding noise to one of the data point and comparing the difference b/w change in previous weights and New \n",
    "\n",
    "weights to find of collinearity."
   ]
  },
  {
   "cell_type": "code",
   "execution_count": 127,
   "metadata": {},
   "outputs": [
    {
     "name": "stdout",
     "output_type": "stream",
     "text": [
      "lambda=0.0001 ; non-zeros=50\n",
      "lambda=0.001 ; non-zeros=50\n",
      "lambda=0.01 ; non-zeros=50\n",
      "lambda=0.1 ; non-zeros=50\n",
      "lambda=1.0 ; non-zeros=49\n",
      "lambda=10.0 ; non-zeros=47\n",
      "lambda=100.0 ; non-zeros=26\n",
      "lambda=1000.0 ; non-zeros=1\n",
      "lambda=10000.0 ; non-zeros=0\n"
     ]
    }
   ],
   "source": [
    "lambd = [0.0001, 0.001, 0.01, 0.1, 1, 10, 100, 1000, 10000]\n",
    "for i in lambd[::-1]:\n",
    "    lrr = LogisticRegression(penalty = 'l1', C = i)\n",
    "    lrr.fit(standardized_data_train, y_train)\n",
    "    print(\"lambda=\"+str(1/i)+\" ; non-zeros=\"+str(np.count_nonzero(lrr.coef_)))"
   ]
  },
  {
   "cell_type": "code",
   "execution_count": 128,
   "metadata": {},
   "outputs": [
    {
     "data": {
      "text/plain": [
       "LogisticRegression(C=0.01, class_weight=None, dual=False, fit_intercept=True,\n",
       "          intercept_scaling=1, max_iter=100, multi_class='warn',\n",
       "          n_jobs=None, penalty='l2', random_state=None, solver='warn',\n",
       "          tol=0.0001, verbose=0, warm_start=False)"
      ]
     },
     "execution_count": 128,
     "metadata": {},
     "output_type": "execute_result"
    }
   ],
   "source": [
    "lr = LogisticRegression(penalty='l2', C=0.01)\n",
    "lr.fit(standardized_data_train, y_train)"
   ]
  },
  {
   "cell_type": "code",
   "execution_count": 129,
   "metadata": {},
   "outputs": [
    {
     "name": "stdout",
     "output_type": "stream",
     "text": [
      "Noise= -0.03935033248641992\n"
     ]
    }
   ],
   "source": [
    "# Applying perturbation and checking if the coefficients differ too much\n",
    "# Will not add noise to zeros\n",
    "\n",
    "noise = np.random.normal(0 , 0.1 , 1)\n",
    "print(\"Noise= \"+str(noise[0]))\n",
    "standardized_data_train.data = standardized_data_train.data + noise[0]"
   ]
  },
  {
   "cell_type": "code",
   "execution_count": 130,
   "metadata": {},
   "outputs": [
    {
     "data": {
      "text/plain": [
       "LogisticRegression(C=0.01, class_weight=None, dual=False, fit_intercept=True,\n",
       "          intercept_scaling=1, max_iter=100, multi_class='warn',\n",
       "          n_jobs=None, penalty='l2', random_state=None, solver='warn',\n",
       "          tol=0.0001, verbose=0, warm_start=False)"
      ]
     },
     "execution_count": 130,
     "metadata": {},
     "output_type": "execute_result"
    }
   ],
   "source": [
    "# Fitting the new model on the transformed data\n",
    "\n",
    "lr2 = LogisticRegression(penalty='l2', C=0.01)\n",
    "lr2.fit(standardized_data_train.data, y_train)"
   ]
  },
  {
   "cell_type": "code",
   "execution_count": 131,
   "metadata": {},
   "outputs": [
    {
     "name": "stdout",
     "output_type": "stream",
     "text": [
      "Number of features whose coefficients changed by more than 40% = 3\n"
     ]
    }
   ],
   "source": [
    "# Calculating the percentage change between the old and new coefficients\n",
    "count=0\n",
    "for i in range(standardized_data_train.shape[1]):\n",
    "    delta = abs((((lr.coef_[0][i] - lr2.coef_[0][i]) * 100))/ lr.coef_[0][i])\n",
    "    if delta>40:\n",
    "        count+=1\n",
    "        \n",
    "print(\"Number of features whose coefficients changed by more than 40% =\",count)"
   ]
  },
  {
   "cell_type": "markdown",
   "metadata": {},
   "source": [
    "Hence Number of Features whose coefficients changed by more than 40% is less collinear hence we cannot calculate feature importance"
   ]
  },
  {
   "cell_type": "markdown",
   "metadata": {},
   "source": [
    "## 14. Using L2 Regularization\n"
   ]
  },
  {
   "cell_type": "code",
   "execution_count": 132,
   "metadata": {},
   "outputs": [
    {
     "name": "stdout",
     "output_type": "stream",
     "text": [
      "The optimal value of C(1/lambda) is :  LogisticRegression(C=10, class_weight='balanced', dual=False,\n",
      "          fit_intercept=True, intercept_scaling=1, max_iter=100,\n",
      "          multi_class='warn', n_jobs=None, penalty='l2', random_state=None,\n",
      "          solver='warn', tol=0.0001, verbose=0, warm_start=False)\n",
      "\n",
      " Accuracy of model using L2 Regularization 0.8810312868617649\n"
     ]
    }
   ],
   "source": [
    "# Finding the best parameters using Random Seach CV using 2-fold Cross-Validation in Logistic Regression\n",
    "\n",
    "from sklearn.model_selection import RandomizedSearchCV\n",
    "param_distributions = {'C': [10**-4,10**-3, 10**-2,10**-1, 1, 10**1,10**2,10**3, 10**4]}\n",
    "model = RandomizedSearchCV(LogisticRegression(penalty = 'l2',class_weight='balanced'), param_distributions, scoring = 'f1',cv=2, n_iter=4, n_jobs=-1,pre_dispatch=2)\n",
    "model.fit(standardized_data_train, y_train)\n",
    "print(\"The optimal value of C(1/lambda) is : \",model.best_estimator_)\n",
    "optimal_C = model.best_estimator_.C\n",
    "print(\"\\n Accuracy of model using L2 Regularization\",model.score(standardized_data_test, y_test))"
   ]
  },
  {
   "cell_type": "code",
   "execution_count": 133,
   "metadata": {},
   "outputs": [
    {
     "data": {
      "text/plain": [
       "array([0.88909247, 0.88911242, 0.88904119, 0.88909247])"
      ]
     },
     "execution_count": 133,
     "metadata": {},
     "output_type": "execute_result"
    }
   ],
   "source": [
    "model.best_params_\n",
    "results = model.cv_results_\n",
    "results['mean_test_score']\n"
   ]
  },
  {
   "cell_type": "code",
   "execution_count": 134,
   "metadata": {},
   "outputs": [
    {
     "data": {
      "image/png": "[encoded data removed]",
      "text/plain": [
       "<matplotlib.figure.Figure at 0x182899aa4e0>"
      ]
     },
     "metadata": {},
     "output_type": "display_data"
    }
   ],
   "source": [
    "C= 10**1,10**2,10**3, 10**4\n",
    "plt.plot(C,results['mean_test_score'],marker='o')\n",
    "plt.xlabel('C')\n",
    "plt.ylabel('f1score')\n",
    "plt.title(\"F1score vs hyperparameter C\")\n",
    "plt.grid()\n",
    "plt.show()"
   ]
  },
  {
   "cell_type": "code",
   "execution_count": 135,
   "metadata": {},
   "outputs": [],
   "source": [
    "# Logistic Regression with Optimal value of C(1/lambda)\n",
    "lr = LogisticRegression(penalty='l2', class_weight='balanced',C=optimal_C, n_jobs=-1)\n",
    "lr.fit(standardized_data_train,y_train)\n",
    "pred_avgw2v = lr.predict(standardized_data_test)"
   ]
  },
  {
   "cell_type": "markdown",
   "metadata": {},
   "source": [
    "## 14..1 Confusion Matrix\n"
   ]
  },
  {
   "cell_type": "code",
   "execution_count": 136,
   "metadata": {},
   "outputs": [
    {
     "name": "stdout",
     "output_type": "stream",
     "text": [
      "Confusion Matrix:\n"
     ]
    },
    {
     "data": {
      "image/png": "[encoded data removed]",
      "text/plain": [
       "<matplotlib.figure.Figure at 0x1828715b710>"
      ]
     },
     "metadata": {},
     "output_type": "display_data"
    }
   ],
   "source": [
    "cm_avgw2v=confusion_matrix(y_test,pred_avgw2v)\n",
    "print(\"Confusion Matrix:\")\n",
    "sns.heatmap(cm_avgw2v, annot=True, fmt='d')\n",
    "plt.show()"
   ]
  },
  {
   "cell_type": "code",
   "execution_count": 137,
   "metadata": {},
   "outputs": [
    {
     "name": "stdout",
     "output_type": "stream",
     "text": [
      " true negitves are 5158 \n",
      " false positives are 956 \n",
      " false negatives are 7516\n",
      " true positives are 31370 \n",
      " \n"
     ]
    }
   ],
   "source": [
    "#finding out  true negative , false positive , false negative and true positve \n",
    "tn, fp, fn, tp = cm_avgw2v.ravel()\n",
    "( tp, fp, fn, tp)\n",
    "print(\" true negitves are {} \\n false positives are {} \\n false negatives are {}\\n true positives are {} \\n \".format(tn,fp,fn,tp))"
   ]
  },
  {
   "cell_type": "markdown",
   "metadata": {},
   "source": [
    "## 14.2 Calculating Accuracy,Error on test data,Precision,Recall,Classification Report"
   ]
  },
  {
   "cell_type": "code",
   "execution_count": 138,
   "metadata": {},
   "outputs": [
    {
     "name": "stdout",
     "output_type": "stream",
     "text": [
      "\n",
      "The Test Accuracy of the Logistic Regression classifier for C = 10.000 is 81.173333%\n",
      "\n",
      "Test Error  Logistic Regression classifier is  18.826667%\n",
      "\n",
      "The Test Precision of the Logistic Regression classifier for C = 10.000 is 0.970426\n",
      "\n",
      "The Test Recall of the Logistic Regression classifier for C = 10.000 is 0.806717\n",
      "\n",
      "The Test classification report of the Logistic regression classifier for C \n",
      "\n",
      "                precision    recall  f1-score   support\n",
      "\n",
      "           0       0.41      0.84      0.55      6114\n",
      "           1       0.97      0.81      0.88     38886\n",
      "\n",
      "   micro avg       0.81      0.81      0.81     45000\n",
      "   macro avg       0.69      0.83      0.72     45000\n",
      "weighted avg       0.89      0.81      0.84     45000\n",
      "\n"
     ]
    }
   ],
   "source": [
    "from sklearn.metrics import recall_score\n",
    "from sklearn.metrics import precision_score\n",
    "from sklearn.metrics import classification_report\n",
    "\n",
    "\n",
    "# evaluating accuracy\n",
    "acc_avgw2v = accuracy_score(y_test, pred_avgw2v) * 100\n",
    "print('\\nThe Test Accuracy of the Logistic Regression classifier for C = %.3f is %f%%' % (optimal_C, acc_avgw2v))\n",
    "\n",
    "# Error on test data\n",
    "test_error_avgw2v = 100-acc_avgw2v\n",
    "print(\"\\nTest Error  Logistic Regression classifier is  %f%%\" % (test_error_avgw2v))\n",
    "\n",
    "# evaluating precision\n",
    "precision_score = precision_score(y_test, pred_avgw2v) \n",
    "print('\\nThe Test Precision of the Logistic Regression classifier for C = %.3f is %f' % (optimal_C, precision_score))\n",
    "\n",
    "# evaluating recall\n",
    "recall_score = recall_score(y_test, pred_avgw2v)\n",
    "print('\\nThe Test Recall of the Logistic Regression classifier for C = %.3f is %f' % (optimal_C, recall_score))\n",
    "\n",
    "# evaluating Classification report\n",
    "classification_report = classification_report(y_test, pred_avgw2v)\n",
    "print('\\nThe Test classification report of the Logistic regression classifier for C \\n\\n ',(classification_report))"
   ]
  },
  {
   "cell_type": "markdown",
   "metadata": {},
   "source": [
    "## 14.3 Perturbation Test\n",
    "\n",
    "Pertubation test means adding noise to one of the data point and comparing the difference b/w change in previous weights and New \n",
    "\n",
    "weights to find of collinearity."
   ]
  },
  {
   "cell_type": "code",
   "execution_count": 139,
   "metadata": {},
   "outputs": [
    {
     "name": "stdout",
     "output_type": "stream",
     "text": [
      "lambda=0.0001 ; non-zeros=50\n",
      "lambda=0.001 ; non-zeros=50\n",
      "lambda=0.01 ; non-zeros=50\n",
      "lambda=0.1 ; non-zeros=50\n",
      "lambda=1.0 ; non-zeros=49\n",
      "lambda=10.0 ; non-zeros=47\n",
      "lambda=100.0 ; non-zeros=26\n",
      "lambda=1000.0 ; non-zeros=2\n",
      "lambda=10000.0 ; non-zeros=0\n"
     ]
    }
   ],
   "source": [
    "lambd = [0.0001, 0.001, 0.01, 0.1, 1, 10, 100, 1000, 10000]\n",
    "for i in lambd[::-1]:\n",
    "    lrr = LogisticRegression(penalty = 'l1', C = i)\n",
    "    lrr.fit(standardized_data_train, y_train)\n",
    "    print(\"lambda=\"+str(1/i)+\" ; non-zeros=\"+str(np.count_nonzero(lrr.coef_)))"
   ]
  },
  {
   "cell_type": "code",
   "execution_count": 140,
   "metadata": {},
   "outputs": [
    {
     "data": {
      "text/plain": [
       "LogisticRegression(C=0.01, class_weight=None, dual=False, fit_intercept=True,\n",
       "          intercept_scaling=1, max_iter=100, multi_class='warn',\n",
       "          n_jobs=None, penalty='l2', random_state=None, solver='warn',\n",
       "          tol=0.0001, verbose=0, warm_start=False)"
      ]
     },
     "execution_count": 140,
     "metadata": {},
     "output_type": "execute_result"
    }
   ],
   "source": [
    "lr = LogisticRegression(penalty='l2', C=0.01)\n",
    "lr.fit(standardized_data_train, y_train)"
   ]
  },
  {
   "cell_type": "code",
   "execution_count": 141,
   "metadata": {},
   "outputs": [
    {
     "name": "stdout",
     "output_type": "stream",
     "text": [
      "Noise= 0.07270451602395143\n"
     ]
    }
   ],
   "source": [
    "# Applying perturbation and checking if the coefficients differ too much\n",
    "# Will not add noise to zeros\n",
    "\n",
    "noise = np.random.normal(0 , 0.1 , 1)\n",
    "print(\"Noise= \"+str(noise[0]))\n",
    "standardized_data_train.data = standardized_data_train.data + noise[0]"
   ]
  },
  {
   "cell_type": "code",
   "execution_count": 142,
   "metadata": {},
   "outputs": [
    {
     "data": {
      "text/plain": [
       "LogisticRegression(C=0.01, class_weight=None, dual=False, fit_intercept=True,\n",
       "          intercept_scaling=1, max_iter=100, multi_class='warn',\n",
       "          n_jobs=None, penalty='l2', random_state=None, solver='warn',\n",
       "          tol=0.0001, verbose=0, warm_start=False)"
      ]
     },
     "execution_count": 142,
     "metadata": {},
     "output_type": "execute_result"
    }
   ],
   "source": [
    "# Fitting the new model on the transformed data\n",
    "\n",
    "lr2 = LogisticRegression(penalty='l2', C=0.01)\n",
    "lr2.fit(standardized_data_train, y_train)"
   ]
  },
  {
   "cell_type": "code",
   "execution_count": 143,
   "metadata": {},
   "outputs": [
    {
     "name": "stdout",
     "output_type": "stream",
     "text": [
      "Number of features whose coefficients changed by more than 40% = 7\n"
     ]
    }
   ],
   "source": [
    "# Calculating the percentage change between the old and new coefficients\n",
    "count=0\n",
    "for i in range(standardized_data_train.shape[1]):\n",
    "    delta = abs((((lr.coef_[0][i] - lr2.coef_[0][i]) * 100))/ lr.coef_[0][i])\n",
    "    if delta>40:\n",
    "        count+=1\n",
    "        \n",
    "print(\"Number of features whose coefficients changed by more than 40% =\",count)"
   ]
  },
  {
   "cell_type": "markdown",
   "metadata": {},
   "source": [
    "Hence Number of Features whose coefficients changed by more than 40% is less collinear hence we cannot calculate feature importance"
   ]
  },
  {
   "cell_type": "markdown",
   "metadata": {},
   "source": [
    "## 15.TFIDF-Word2Vec\n"
   ]
  },
  {
   "cell_type": "code",
   "execution_count": 144,
   "metadata": {},
   "outputs": [
    {
     "name": "stdout",
     "output_type": "stream",
     "text": [
      "<class 'scipy.sparse.csr.csr_matrix'>\n",
      "(105000, 38300)\n",
      "<class 'scipy.sparse.csr.csr_matrix'>\n",
      "(45000, 38300)\n"
     ]
    }
   ],
   "source": [
    "#tf-idf weighted w2v\n",
    "\n",
    "from sklearn.feature_extraction.text import TfidfVectorizer\n",
    "\n",
    "tfidfw2v_vect = TfidfVectorizer()\n",
    "final_counts_tfidfw2v_train= tfidfw2v_vect.fit_transform(x_train) \n",
    "print(type(final_counts_tfidfw2v_train))\n",
    "print(final_counts_tfidfw2v_train.shape)\n",
    "\n",
    "final_counts_tfidfw2v_test= tfidfw2v_vect.transform(x_test) \n",
    "print(type(final_counts_tfidfw2v_test))\n",
    "print(final_counts_tfidfw2v_test.shape)"
   ]
  },
  {
   "cell_type": "code",
   "execution_count": 145,
   "metadata": {},
   "outputs": [
    {
     "name": "stdout",
     "output_type": "stream",
     "text": [
      "105000\n",
      "45000\n"
     ]
    }
   ],
   "source": [
    "# we are converting a dictionary with word as a key, and the idf as a value\n",
    "dictionary = dict(zip(tfidfw2v_vect.get_feature_names(), list(tfidfw2v_vect.idf_)))\n",
    "\n",
    "\n",
    "# TF-IDF weighted Word2Vec\n",
    "tfidf_feat = tfidfw2v_vect.get_feature_names() # tfidf words/col-names\n",
    "# final_tf_idf is the sparse matrix with row= sentence, col=word and cell_val = tfidf\n",
    "\n",
    "tfidf_sent_vectors = []; # the tfidf-w2v for each sentence/review is stored in this list\n",
    "row=0;\n",
    "for sent in sent_of_train: # for each review/sentence \n",
    "    sent_vec = np.zeros(50) # as word vectors are of zero length\n",
    "    weight_sum =0; # num of words with a valid vector in the sentence/review\n",
    "    for word in sent: # for each word in a review/sentence\n",
    "        if word in w2v_words:\n",
    "            vec = w2v_model.wv[word]\n",
    "#             tf_idf = tf_idf_matrix[row, tfidf_feat.index(word)]\n",
    "            # to reduce the computation we are \n",
    "            # dictionary[word] = idf value of word in whole courpus\n",
    "            # sent.count(word) = tf valeus of word in this review\n",
    "            tf_idf = dictionary[word]*(sent.count(word)/len(sent))\n",
    "            sent_vec += (vec * tf_idf)\n",
    "            weight_sum += tf_idf\n",
    "    if weight_sum != 0:\n",
    "        sent_vec /= weight_sum\n",
    "    tfidf_sent_vectors.append(sent_vec)\n",
    "    row += 1\n",
    "\n",
    "#Test case\n",
    "\n",
    "tfidf_sent_vectors1 = []; # the tfidf-w2v for each sentence/review is stored in this list\n",
    "row=0;\n",
    "for sent in sent_of_test: # for each review/sentence \n",
    "    sent_vec = np.zeros(50) # as word vectors are of zero length\n",
    "    weight_sum =0; # num of words with a valid vector in the sentence/review\n",
    "    for word in sent: # for each word in a review/sentence\n",
    "        if word in w2v_words:\n",
    "            vec = w2v_model.wv[word]\n",
    "#             tf_idf = tf_idf_matrix[row, tfidf_feat.index(word)]\n",
    "            # to reduce the computation we are \n",
    "            # dictionary[word] = idf value of word in whole courpus\n",
    "            # sent.count(word) = tf valeus of word in this review\n",
    "            tf_idf = dictionary[word]*(sent.count(word)/len(sent))\n",
    "            sent_vec += (vec * tf_idf)\n",
    "            weight_sum += tf_idf\n",
    "    if weight_sum != 0:\n",
    "        sent_vec /= weight_sum\n",
    "    tfidf_sent_vectors1.append(sent_vec)\n",
    "    row += 1\n",
    "print(len(tfidf_sent_vectors))\n",
    "print(len(tfidf_sent_vectors1))\n",
    "\n",
    "\n"
   ]
  },
  {
   "cell_type": "markdown",
   "metadata": {},
   "source": [
    "## 15.1 Standardizing Data"
   ]
  },
  {
   "cell_type": "code",
   "execution_count": 146,
   "metadata": {},
   "outputs": [
    {
     "name": "stdout",
     "output_type": "stream",
     "text": [
      "(105000, 50)\n",
      "(45000, 50)\n"
     ]
    }
   ],
   "source": [
    "# Data-preprocessing: Standardizing the data\n",
    "from sklearn import preprocessing\n",
    "standardized_data_train = preprocessing.normalize(tfidf_sent_vectors)\n",
    "print(standardized_data_train.shape)\n",
    "standardized_data_test = preprocessing.normalize(tfidf_sent_vectors1)\n",
    "print(standardized_data_test.shape)\n"
   ]
  },
  {
   "cell_type": "markdown",
   "metadata": {},
   "source": [
    "## 15.2 Applying Logistic Regression Algorithm\n"
   ]
  },
  {
   "cell_type": "markdown",
   "metadata": {},
   "source": [
    "## 15.2.1 Gridsearch Cross Validation"
   ]
  },
  {
   "cell_type": "markdown",
   "metadata": {},
   "source": [
    "## 15.2.1.1 Using L1 Regularization\n"
   ]
  },
  {
   "cell_type": "code",
   "execution_count": 147,
   "metadata": {},
   "outputs": [
    {
     "name": "stdout",
     "output_type": "stream",
     "text": [
      "The optimal value of C(1/lambda) is :  LogisticRegression(C=0.1, class_weight='balanced', dual=False,\n",
      "          fit_intercept=True, intercept_scaling=1, max_iter=100,\n",
      "          multi_class='warn', n_jobs=None, penalty='l1', random_state=None,\n",
      "          solver='warn', tol=0.0001, verbose=0, warm_start=False)\n",
      "\n",
      " Accuracy of model using L1 Regularization 0.8730737923484997\n"
     ]
    }
   ],
   "source": [
    "# Finding the best parameters using Grid Seach CV using 2-fold Cross-Validation in Logistic Regression\n",
    "\n",
    "from sklearn.model_selection import GridSearchCV\n",
    "tuned_parameters = [{'C': [10**-4,10**-3, 10**-2,10**-1, 1, 10**1,10**2,10**3, 10**4]}]\n",
    "model = GridSearchCV(LogisticRegression(penalty = 'l1',class_weight='balanced'), tuned_parameters, scoring = 'f1', cv=2, n_jobs=-1)\n",
    "model.fit(standardized_data_train, y_train)\n",
    "print(\"The optimal value of C(1/lambda) is : \",model.best_estimator_)\n",
    "optimal_C = model.best_estimator_.C\n",
    "print(\"\\n Accuracy of model using L1 Regularization\",model.score(standardized_data_test, y_test))"
   ]
  },
  {
   "cell_type": "code",
   "execution_count": 148,
   "metadata": {},
   "outputs": [
    {
     "data": {
      "text/plain": [
       "array([0.        , 0.57046139, 0.86394916, 0.87178012, 0.87173324,\n",
       "       0.87170356, 0.87167311, 0.87165945, 0.87167311])"
      ]
     },
     "execution_count": 148,
     "metadata": {},
     "output_type": "execute_result"
    }
   ],
   "source": [
    "model.best_params_\n",
    "results = model.cv_results_\n",
    "results['mean_test_score']\n"
   ]
  },
  {
   "cell_type": "code",
   "execution_count": 149,
   "metadata": {},
   "outputs": [
    {
     "data": {
      "image/png": "[encoded data removed]",
      "text/plain": [
       "<matplotlib.figure.Figure at 0x182faff1390>"
      ]
     },
     "metadata": {},
     "output_type": "display_data"
    }
   ],
   "source": [
    "C=10**-4,10**-3, 10**-2,10**-1, 1, 10**1,10**2,10**3, 10**4\n",
    "plt.plot(C,results['mean_test_score'],marker='o')\n",
    "plt.xlabel('C')\n",
    "plt.ylabel('f1score')\n",
    "plt.title(\"F1score vs hyperparameter C\")\n",
    "plt.grid()\n",
    "plt.show()"
   ]
  },
  {
   "cell_type": "code",
   "execution_count": 150,
   "metadata": {},
   "outputs": [],
   "source": [
    "# Logistic Regression with Optimal value of C(1/lambda)\n",
    "lr = LogisticRegression(penalty='l2',class_weight='balanced', C=optimal_C, n_jobs=-1)\n",
    "lr.fit(standardized_data_train,y_train)\n",
    "pred_tfidfw2v = lr.predict(standardized_data_test)"
   ]
  },
  {
   "cell_type": "markdown",
   "metadata": {},
   "source": [
    "## 15.3 Confusion Matrix"
   ]
  },
  {
   "cell_type": "code",
   "execution_count": 151,
   "metadata": {},
   "outputs": [
    {
     "name": "stdout",
     "output_type": "stream",
     "text": [
      "Confusion Matrix:\n"
     ]
    },
    {
     "data": {
      "image/png": "[encoded data removed]",
      "text/plain": [
       "<matplotlib.figure.Figure at 0x18287927f98>"
      ]
     },
     "metadata": {},
     "output_type": "display_data"
    }
   ],
   "source": [
    "cm_tfidfw2v=confusion_matrix(y_test,pred_tfidfw2v)\n",
    "print(\"Confusion Matrix:\")\n",
    "sns.heatmap(cm_tfidfw2v, annot=True, fmt='d')\n",
    "plt.show()"
   ]
  },
  {
   "cell_type": "code",
   "execution_count": 152,
   "metadata": {},
   "outputs": [
    {
     "name": "stdout",
     "output_type": "stream",
     "text": [
      " true negitves are 4847 \n",
      " false positives are 1267 \n",
      " false negatives are 7791\n",
      " true positives are 31095 \n",
      " \n"
     ]
    }
   ],
   "source": [
    "#finding out  true negative , false positive , false negative and true positve \n",
    "tn, fp, fn, tp = cm_tfidfw2v.ravel()\n",
    "( tp, fp, fn, tp)\n",
    "print(\" true negitves are {} \\n false positives are {} \\n false negatives are {}\\n true positives are {} \\n \".format(tn,fp,fn,tp))"
   ]
  },
  {
   "cell_type": "markdown",
   "metadata": {},
   "source": [
    "## 15.4 Calculating Accuracy,Error on test data,Precision,Recall,Classification Report"
   ]
  },
  {
   "cell_type": "code",
   "execution_count": 153,
   "metadata": {},
   "outputs": [
    {
     "name": "stdout",
     "output_type": "stream",
     "text": [
      "\n",
      "The Test Accuracy of the Logistic Regression classifier for C = 0.100 is 79.871111%\n",
      "\n",
      "Test Error  Logistic Regression classifier is  20.128889%\n",
      "\n",
      "The Test Precision of the Logistic Regression classifier for C = 0.100 is 0.960849\n",
      "\n",
      "The Test Recall of the Logistic Regression classifier for C = 0.100 is 0.799645\n",
      "\n",
      "The Test classification report of the Logistic regression classifier for C \n",
      "\n",
      "                precision    recall  f1-score   support\n",
      "\n",
      "           0       0.38      0.79      0.52      6114\n",
      "           1       0.96      0.80      0.87     38886\n",
      "\n",
      "   micro avg       0.80      0.80      0.80     45000\n",
      "   macro avg       0.67      0.80      0.69     45000\n",
      "weighted avg       0.88      0.80      0.82     45000\n",
      "\n"
     ]
    }
   ],
   "source": [
    "from sklearn.metrics import recall_score\n",
    "from sklearn.metrics import precision_score\n",
    "from sklearn.metrics import classification_report\n",
    "\n",
    "\n",
    "# evaluating accuracy\n",
    "acc_tfidfw2v = accuracy_score(y_test, pred_tfidfw2v) * 100\n",
    "print('\\nThe Test Accuracy of the Logistic Regression classifier for C = %.3f is %f%%' % (optimal_C, acc_tfidfw2v))\n",
    "\n",
    "# Error on test data\n",
    "test_error_tfidfw2v = 100-acc_tfidfw2v\n",
    "print(\"\\nTest Error  Logistic Regression classifier is  %f%%\" % (test_error_tfidfw2v))\n",
    "\n",
    "# evaluating precision\n",
    "precision_score = precision_score(y_test, pred_tfidfw2v) \n",
    "print('\\nThe Test Precision of the Logistic Regression classifier for C = %.3f is %f' % (optimal_C, precision_score))\n",
    "\n",
    "# evaluating recall\n",
    "recall_score = recall_score(y_test, pred_tfidfw2v)\n",
    "print('\\nThe Test Recall of the Logistic Regression classifier for C = %.3f is %f' % (optimal_C, recall_score))\n",
    "\n",
    "# evaluating Classification report\n",
    "classification_report = classification_report(y_test, pred_tfidfw2v)\n",
    "print('\\nThe Test classification report of the Logistic regression classifier for C \\n\\n ',(classification_report))"
   ]
  },
  {
   "cell_type": "markdown",
   "metadata": {},
   "source": [
    "## 15.5 Perturbation Test\n",
    "\n",
    "Pertubation test means adding noise to one of the data point and comparing the difference b/w change in previous weights and New \n",
    "\n",
    "weights to find of collinearity."
   ]
  },
  {
   "cell_type": "code",
   "execution_count": 154,
   "metadata": {},
   "outputs": [
    {
     "name": "stdout",
     "output_type": "stream",
     "text": [
      "lambda=0.0001 ; non-zeros=50\n",
      "lambda=0.001 ; non-zeros=50\n",
      "lambda=0.01 ; non-zeros=50\n",
      "lambda=0.1 ; non-zeros=50\n",
      "lambda=1.0 ; non-zeros=50\n",
      "lambda=10.0 ; non-zeros=46\n",
      "lambda=100.0 ; non-zeros=27\n",
      "lambda=1000.0 ; non-zeros=1\n",
      "lambda=10000.0 ; non-zeros=0\n"
     ]
    }
   ],
   "source": [
    "lambd = [0.0001, 0.001, 0.01, 0.1, 1, 10, 100, 1000, 10000]\n",
    "for i in lambd[::-1]:\n",
    "    lrr = LogisticRegression(penalty = 'l1', C = i)\n",
    "    lrr.fit(standardized_data_train, y_train)\n",
    "    print(\"lambda=\"+str(1/i)+\" ; non-zeros=\"+str(np.count_nonzero(lrr.coef_)))"
   ]
  },
  {
   "cell_type": "code",
   "execution_count": 155,
   "metadata": {},
   "outputs": [
    {
     "data": {
      "text/plain": [
       "LogisticRegression(C=0.01, class_weight=None, dual=False, fit_intercept=True,\n",
       "          intercept_scaling=1, max_iter=100, multi_class='warn',\n",
       "          n_jobs=None, penalty='l2', random_state=None, solver='warn',\n",
       "          tol=0.0001, verbose=0, warm_start=False)"
      ]
     },
     "execution_count": 155,
     "metadata": {},
     "output_type": "execute_result"
    }
   ],
   "source": [
    "lr = LogisticRegression(penalty='l2', C=0.01)\n",
    "lr.fit(standardized_data_train, y_train)"
   ]
  },
  {
   "cell_type": "code",
   "execution_count": 156,
   "metadata": {},
   "outputs": [
    {
     "name": "stdout",
     "output_type": "stream",
     "text": [
      "Noise= -0.1665073684144514\n"
     ]
    }
   ],
   "source": [
    "# Applying perturbation and checking if the coefficients differ too much\n",
    "# Will not add noise to zeros\n",
    "\n",
    "noise = np.random.normal(0 , 0.1 , 1)\n",
    "print(\"Noise= \"+str(noise[0]))\n",
    "standardized_data_train.data = standardized_data_train.data + noise[0]"
   ]
  },
  {
   "cell_type": "code",
   "execution_count": 157,
   "metadata": {},
   "outputs": [
    {
     "data": {
      "text/plain": [
       "LogisticRegression(C=0.01, class_weight=None, dual=False, fit_intercept=True,\n",
       "          intercept_scaling=1, max_iter=100, multi_class='warn',\n",
       "          n_jobs=None, penalty='l2', random_state=None, solver='warn',\n",
       "          tol=0.0001, verbose=0, warm_start=False)"
      ]
     },
     "execution_count": 157,
     "metadata": {},
     "output_type": "execute_result"
    }
   ],
   "source": [
    "# Fitting the new model on the transformed data\n",
    "\n",
    "lr2 = LogisticRegression(penalty='l2', C=0.01)\n",
    "lr2.fit(standardized_data_train, y_train)"
   ]
  },
  {
   "cell_type": "code",
   "execution_count": 158,
   "metadata": {},
   "outputs": [
    {
     "name": "stdout",
     "output_type": "stream",
     "text": [
      "Number of features whose coefficients changed by more than 40% = 6\n"
     ]
    }
   ],
   "source": [
    "# Calculating the percentage change between the old and new coefficients\n",
    "count=0\n",
    "for i in range(standardized_data_train.shape[1]):\n",
    "    delta = abs((((lr.coef_[0][i] - lr2.coef_[0][i]) * 100))/ lr.coef_[0][i])\n",
    "    if delta>40:\n",
    "        count+=1\n",
    "        \n",
    "print(\"Number of features whose coefficients changed by more than 40% =\",count)"
   ]
  },
  {
   "cell_type": "markdown",
   "metadata": {},
   "source": [
    "Hence Number of Features whose coefficients changed by more than 40% is less tese are less collineare hence we cannot calculate feature importance"
   ]
  },
  {
   "cell_type": "markdown",
   "metadata": {},
   "source": [
    "## 16 Using L2 Regularization\n"
   ]
  },
  {
   "cell_type": "code",
   "execution_count": 159,
   "metadata": {},
   "outputs": [
    {
     "name": "stdout",
     "output_type": "stream",
     "text": [
      "LogisticRegression(C=1e-05, class_weight='balanced', dual=False,\n",
      "          fit_intercept=True, intercept_scaling=1, max_iter=100,\n",
      "          multi_class='warn', n_jobs=None, penalty='l2', random_state=None,\n",
      "          solver='warn', tol=0.0001, verbose=0, warm_start=False)\n",
      "Optimal F-score: 0.76\n",
      "0.7578441018913306\n"
     ]
    }
   ],
   "source": [
    "# Finding the best parameters using Grid Seach CV using 2-fold Cross-Validation in Logistic Regression\n",
    "\n",
    "from sklearn.model_selection import GridSearchCV\n",
    "tuned_parameters = [{'C': [10**-5,10**-4,10**-3,10**-2,10**-1, 1, 10**2,10**3, 10**4]}]\n",
    "model = GridSearchCV(LogisticRegression(penalty = 'l2',class_weight='balanced'), tuned_parameters, scoring = 'f1', cv=2, n_jobs=-1)\n",
    "model.fit(standardized_data_train, y_train)\n",
    "\n",
    "print(model.best_estimator_)\n",
    "print(\"Optimal F-score: {:.2f}\".format(model.score(standardized_data_test, y_test)))\n",
    "print(model.score(standardized_data_test, y_test))\n"
   ]
  },
  {
   "cell_type": "code",
   "execution_count": 160,
   "metadata": {},
   "outputs": [
    {
     "data": {
      "text/plain": [
       "array([0.90855596, 0.87482889, 0.86472308, 0.86956968, 0.8713644 ,\n",
       "       0.87166628, 0.87167994, 0.87167307, 0.87167307])"
      ]
     },
     "execution_count": 160,
     "metadata": {},
     "output_type": "execute_result"
    }
   ],
   "source": [
    "model.best_params_\n",
    "results = model.cv_results_\n",
    "results['mean_test_score']\n"
   ]
  },
  {
   "cell_type": "code",
   "execution_count": 161,
   "metadata": {},
   "outputs": [
    {
     "data": {
      "image/png": "[encoded data removed]",
      "text/plain": [
       "<matplotlib.figure.Figure at 0x1828791ba20>"
      ]
     },
     "metadata": {},
     "output_type": "display_data"
    }
   ],
   "source": [
    "C=10**-4,10**-3, 10**-2,10**-1, 1, 10**1,10**2,10**3, 10**4\n",
    "plt.plot(C,results['mean_test_score'],marker='o')\n",
    "plt.xlabel('C')\n",
    "plt.ylabel('f1score')\n",
    "plt.title(\"F1score vs hyperparameter C\")\n",
    "plt.grid()\n",
    "plt.show()"
   ]
  },
  {
   "cell_type": "code",
   "execution_count": 162,
   "metadata": {},
   "outputs": [],
   "source": [
    "# Logistic Regression with Optimal value of C(1/lambda)\n",
    "lr = LogisticRegression(penalty='l2',class_weight='balanced', C=optimal_C, n_jobs=-1)\n",
    "lr.fit(standardized_data_train,y_train)\n",
    "pred_tfidfw2v = lr.predict(standardized_data_test)"
   ]
  },
  {
   "cell_type": "markdown",
   "metadata": {},
   "source": [
    "## 16.1 Confusion Matrix"
   ]
  },
  {
   "cell_type": "code",
   "execution_count": 163,
   "metadata": {},
   "outputs": [
    {
     "name": "stdout",
     "output_type": "stream",
     "text": [
      "Confusion Matrix:\n"
     ]
    },
    {
     "data": {
      "image/png": "[encoded data removed]",
      "text/plain": [
       "<matplotlib.figure.Figure at 0x1828109ce48>"
      ]
     },
     "metadata": {},
     "output_type": "display_data"
    }
   ],
   "source": [
    "cm_tfidfw2v=confusion_matrix(y_test,pred_tfidfw2v)\n",
    "print(\"Confusion Matrix:\")\n",
    "sns.heatmap(cm_tfidfw2v, annot=True, fmt='d')\n",
    "plt.show()"
   ]
  },
  {
   "cell_type": "code",
   "execution_count": 164,
   "metadata": {},
   "outputs": [
    {
     "name": "stdout",
     "output_type": "stream",
     "text": [
      " true negitves are 6053 \n",
      " false positives are 61 \n",
      " false negatives are 29422\n",
      " true positives are 9464 \n",
      " \n"
     ]
    }
   ],
   "source": [
    "#finding out  true negative , false positive , false negative and true positve \n",
    "tn, fp, fn, tp = cm_tfidfw2v.ravel()\n",
    "( tp, fp, fn, tp)\n",
    "print(\" true negitves are {} \\n false positives are {} \\n false negatives are {}\\n true positives are {} \\n \".format(tn,fp,fn,tp))"
   ]
  },
  {
   "cell_type": "markdown",
   "metadata": {},
   "source": [
    "## 16.2 Calculating Accuracy,Error on test data,Precision,Recall,Classification Report"
   ]
  },
  {
   "cell_type": "code",
   "execution_count": 165,
   "metadata": {},
   "outputs": [
    {
     "name": "stdout",
     "output_type": "stream",
     "text": [
      "\n",
      "The Test Accuracy of the Logistic Regression classifier for C = 0.100 is 34.482222%\n",
      "\n",
      "Test Error  Logistic Regression classifier is  65.517778%\n",
      "\n",
      "The Test Precision of the Logistic Regression classifier for C = 0.100 is 0.993596\n",
      "\n",
      "The Test Recall of the Logistic Regression classifier for C = 0.100 is 0.243378\n",
      "\n",
      "The Test classification report of the Logistic regression classifier for C \n",
      "\n",
      "                precision    recall  f1-score   support\n",
      "\n",
      "           0       0.17      0.99      0.29      6114\n",
      "           1       0.99      0.24      0.39     38886\n",
      "\n",
      "   micro avg       0.34      0.34      0.34     45000\n",
      "   macro avg       0.58      0.62      0.34     45000\n",
      "weighted avg       0.88      0.34      0.38     45000\n",
      "\n"
     ]
    }
   ],
   "source": [
    "from sklearn.metrics import recall_score\n",
    "from sklearn.metrics import precision_score\n",
    "from sklearn.metrics import classification_report\n",
    "\n",
    "\n",
    "# evaluating accuracy\n",
    "acc_tfidfw2v = accuracy_score(y_test, pred_tfidfw2v) * 100\n",
    "print('\\nThe Test Accuracy of the Logistic Regression classifier for C = %.3f is %f%%' % (optimal_C, acc_tfidfw2v))\n",
    "\n",
    "# Error on test data\n",
    "test_error_tfidfw2v = 100-acc_tfidfw2v\n",
    "print(\"\\nTest Error  Logistic Regression classifier is  %f%%\" % (test_error_tfidfw2v))\n",
    "\n",
    "# evaluating precision\n",
    "precision_score = precision_score(y_test, pred_tfidfw2v) \n",
    "print('\\nThe Test Precision of the Logistic Regression classifier for C = %.3f is %f' % (optimal_C, precision_score))\n",
    "\n",
    "# evaluating recall\n",
    "recall_score = recall_score(y_test, pred_tfidfw2v)\n",
    "print('\\nThe Test Recall of the Logistic Regression classifier for C = %.3f is %f' % (optimal_C, recall_score))\n",
    "\n",
    "# evaluating Classification report\n",
    "classification_report = classification_report(y_test, pred_tfidfw2v)\n",
    "print('\\nThe Test classification report of the Logistic regression classifier for C \\n\\n ',(classification_report))"
   ]
  },
  {
   "cell_type": "markdown",
   "metadata": {},
   "source": [
    "## 16.3 Perturbation Test\n",
    "\n",
    "Pertubation test means adding noise to one of the data point and comparing the difference b/w change in previous weights and New \n",
    "\n",
    "weights to find of collinearity."
   ]
  },
  {
   "cell_type": "code",
   "execution_count": 166,
   "metadata": {},
   "outputs": [
    {
     "name": "stdout",
     "output_type": "stream",
     "text": [
      "lambda=0.0001 ; non-zeros=50\n",
      "lambda=0.001 ; non-zeros=50\n",
      "lambda=0.01 ; non-zeros=50\n",
      "lambda=0.1 ; non-zeros=50\n",
      "lambda=1.0 ; non-zeros=50\n",
      "lambda=10.0 ; non-zeros=46\n",
      "lambda=100.0 ; non-zeros=29\n",
      "lambda=1000.0 ; non-zeros=2\n",
      "lambda=10000.0 ; non-zeros=0\n"
     ]
    }
   ],
   "source": [
    "lambd = [0.0001, 0.001, 0.01, 0.1, 1, 10, 100, 1000, 10000]\n",
    "for i in lambd[::-1]:\n",
    "    lrr = LogisticRegression(penalty = 'l1', C = i)\n",
    "    lrr.fit(standardized_data_train, y_train)\n",
    "    print(\"lambda=\"+str(1/i)+\" ; non-zeros=\"+str(np.count_nonzero(lrr.coef_)))"
   ]
  },
  {
   "cell_type": "code",
   "execution_count": 167,
   "metadata": {},
   "outputs": [
    {
     "data": {
      "text/plain": [
       "LogisticRegression(C=0.01, class_weight=None, dual=False, fit_intercept=True,\n",
       "          intercept_scaling=1, max_iter=100, multi_class='warn',\n",
       "          n_jobs=None, penalty='l2', random_state=None, solver='warn',\n",
       "          tol=0.0001, verbose=0, warm_start=False)"
      ]
     },
     "execution_count": 167,
     "metadata": {},
     "output_type": "execute_result"
    }
   ],
   "source": [
    "lr = LogisticRegression(penalty='l2', C=0.01)\n",
    "lr.fit(standardized_data_train, y_train)"
   ]
  },
  {
   "cell_type": "code",
   "execution_count": 168,
   "metadata": {},
   "outputs": [
    {
     "name": "stdout",
     "output_type": "stream",
     "text": [
      "Noise= -0.06077136778394751\n"
     ]
    }
   ],
   "source": [
    "# Applying perturbation and checking if the coefficients differ too much\n",
    "# Will not add noise to zeros\n",
    "\n",
    "noise = np.random.normal(0 , 0.1 , 1)\n",
    "print(\"Noise= \"+str(noise[0]))\n",
    "standardized_data_train.data = standardized_data_train.data + noise[0]"
   ]
  },
  {
   "cell_type": "code",
   "execution_count": 169,
   "metadata": {},
   "outputs": [
    {
     "data": {
      "text/plain": [
       "LogisticRegression(C=0.01, class_weight=None, dual=False, fit_intercept=True,\n",
       "          intercept_scaling=1, max_iter=100, multi_class='warn',\n",
       "          n_jobs=None, penalty='l2', random_state=None, solver='warn',\n",
       "          tol=0.0001, verbose=0, warm_start=False)"
      ]
     },
     "execution_count": 169,
     "metadata": {},
     "output_type": "execute_result"
    }
   ],
   "source": [
    "# Fitting the new model on the transformed data\n",
    "\n",
    "lr2 = LogisticRegression(penalty='l2', C=0.01)\n",
    "lr2.fit(standardized_data_train, y_train)"
   ]
  },
  {
   "cell_type": "code",
   "execution_count": 170,
   "metadata": {},
   "outputs": [
    {
     "name": "stdout",
     "output_type": "stream",
     "text": [
      "Number of features whose coefficients changed by more than 40% = 4\n"
     ]
    }
   ],
   "source": [
    "# Calculating the percentage change between the old and new coefficients\n",
    "count=0\n",
    "for i in range(standardized_data_train.shape[1]):\n",
    "    delta = abs((((lr.coef_[0][i] - lr2.coef_[0][i]) * 100))/ lr.coef_[0][i])\n",
    "    if delta>40:\n",
    "        count+=1\n",
    "        \n",
    "print(\"Number of features whose coefficients changed by more than 40% =\",count)"
   ]
  },
  {
   "cell_type": "markdown",
   "metadata": {},
   "source": [
    "Hence Number of Features whose coefficients changed by more than 40% is less collinear hence we cannot calculate feature importance"
   ]
  },
  {
   "cell_type": "markdown",
   "metadata": {},
   "source": [
    "## 17. Randomized Search Cross Validation\n"
   ]
  },
  {
   "cell_type": "markdown",
   "metadata": {},
   "source": [
    "## 17.1 Using L1 Regularization\n"
   ]
  },
  {
   "cell_type": "code",
   "execution_count": 171,
   "metadata": {},
   "outputs": [
    {
     "name": "stdout",
     "output_type": "stream",
     "text": [
      "The optimal value of C(1/lambda) is :  LogisticRegression(C=0.001, class_weight='balanced', dual=False,\n",
      "          fit_intercept=True, intercept_scaling=1, max_iter=100,\n",
      "          multi_class='warn', n_jobs=None, penalty='l1', random_state=None,\n",
      "          solver='warn', tol=0.0001, verbose=0, warm_start=False)\n",
      "\n",
      " Accuracy of model using L1 Regularization 0.5788149000431468\n"
     ]
    }
   ],
   "source": [
    "# Finding the best parameters using Random Seach CV using 2-fold Cross-Validation in Logistic Regression\n",
    "\n",
    "from sklearn.model_selection import RandomizedSearchCV\n",
    "param_distributions = {'C': [10**-4,10**-3, 10**-2,10**-1, 1, 10**1,10**2,10**3, 10**4]}\n",
    "model = RandomizedSearchCV(LogisticRegression(penalty = 'l1',class_weight='balanced'), param_distributions, scoring = 'f1',cv=2, n_iter=4, n_jobs=-1,pre_dispatch=2)\n",
    "model.fit(standardized_data_train, y_train)\n",
    "print(\"The optimal value of C(1/lambda) is : \",model.best_estimator_)\n",
    "optimal_C = model.best_estimator_.C\n",
    "print(\"\\n Accuracy of model using L1 Regularization\",model.score(standardized_data_test, y_test))"
   ]
  },
  {
   "cell_type": "code",
   "execution_count": 172,
   "metadata": {},
   "outputs": [
    {
     "data": {
      "text/plain": [
       "array([0.87185215, 0.90359562, 0.        , 0.87166408])"
      ]
     },
     "execution_count": 172,
     "metadata": {},
     "output_type": "execute_result"
    }
   ],
   "source": [
    "model.best_params_\n",
    "results = model.cv_results_\n",
    "results['mean_test_score']\n"
   ]
  },
  {
   "cell_type": "code",
   "execution_count": 173,
   "metadata": {},
   "outputs": [
    {
     "data": {
      "image/png": "[encoded data removed]",
      "text/plain": [
       "<matplotlib.figure.Figure at 0x1828bb43358>"
      ]
     },
     "metadata": {},
     "output_type": "display_data"
    }
   ],
   "source": [
    "C= 10**-2,10**-1, 1, 10**2\n",
    "plt.plot(C,results['mean_test_score'],marker='o')\n",
    "plt.xlabel('C')\n",
    "plt.ylabel('f1score')\n",
    "plt.title(\"F1score vs hyperparameter C\")\n",
    "plt.grid()\n",
    "plt.show()"
   ]
  },
  {
   "cell_type": "code",
   "execution_count": 174,
   "metadata": {},
   "outputs": [],
   "source": [
    "# Logistic Regression with Optimal value of C(1/lambda)\n",
    "lr = LogisticRegression(penalty='l2', class_weight='balanced',C=optimal_C, n_jobs=-1)\n",
    "lr.fit(standardized_data_train,y_train)\n",
    "pred_tfidfw2v = lr.predict(standardized_data_test)"
   ]
  },
  {
   "cell_type": "markdown",
   "metadata": {},
   "source": [
    "## 17.2 Confusion Matrix"
   ]
  },
  {
   "cell_type": "code",
   "execution_count": 175,
   "metadata": {},
   "outputs": [
    {
     "name": "stdout",
     "output_type": "stream",
     "text": [
      "Confusion Matrix:\n"
     ]
    },
    {
     "data": {
      "image/png": "[encoded data removed]",
      "text/plain": [
       "<matplotlib.figure.Figure at 0x1828bb35048>"
      ]
     },
     "metadata": {},
     "output_type": "display_data"
    }
   ],
   "source": [
    "cm_tfidfw2v=confusion_matrix(y_test,pred_tfidfw2v)\n",
    "print(\"Confusion Matrix:\")\n",
    "sns.heatmap(cm_tfidfw2v, annot=True, fmt='d')\n",
    "plt.show()"
   ]
  },
  {
   "cell_type": "code",
   "execution_count": 176,
   "metadata": {},
   "outputs": [
    {
     "name": "stdout",
     "output_type": "stream",
     "text": [
      " true negitves are 5841 \n",
      " false positives are 273 \n",
      " false negatives are 21683\n",
      " true positives are 17203 \n",
      " \n"
     ]
    }
   ],
   "source": [
    "#finding out  true negative , false positive , false negative and true positve \n",
    "tn, fp, fn, tp = cm_tfidfw2v.ravel()\n",
    "( tp, fp, fn, tp)\n",
    "print(\" true negitves are {} \\n false positives are {} \\n false negatives are {}\\n true positives are {} \\n \".format(tn,fp,fn,tp))"
   ]
  },
  {
   "cell_type": "markdown",
   "metadata": {},
   "source": [
    "## 17.3 Calculating Accuracy,Error on test data,Precision,Recall,Classification Report"
   ]
  },
  {
   "cell_type": "code",
   "execution_count": 177,
   "metadata": {},
   "outputs": [
    {
     "name": "stdout",
     "output_type": "stream",
     "text": [
      "\n",
      "The Test Accuracy of the Logistic Regression classifier for C = 0.001 is 51.208889%\n",
      "\n",
      "Test Error  Logistic Regression classifier is  48.791111%\n",
      "\n",
      "The Test Precision of the Logistic Regression classifier for C = 0.001 is 0.984379\n",
      "\n",
      "The Test Recall of the Logistic Regression classifier for C = 0.001 is 0.442396\n",
      "\n",
      "The Test classification report of the Logistic regression classifier for C \n",
      "\n",
      "                precision    recall  f1-score   support\n",
      "\n",
      "           0       0.21      0.96      0.35      6114\n",
      "           1       0.98      0.44      0.61     38886\n",
      "\n",
      "   micro avg       0.51      0.51      0.51     45000\n",
      "   macro avg       0.60      0.70      0.48     45000\n",
      "weighted avg       0.88      0.51      0.57     45000\n",
      "\n"
     ]
    }
   ],
   "source": [
    "from sklearn.metrics import recall_score\n",
    "from sklearn.metrics import precision_score\n",
    "from sklearn.metrics import classification_report\n",
    "\n",
    "\n",
    "# evaluating accuracy\n",
    "acc_tfidfw2v = accuracy_score(y_test, pred_tfidfw2v) * 100\n",
    "print('\\nThe Test Accuracy of the Logistic Regression classifier for C = %.3f is %f%%' % (optimal_C, acc_tfidfw2v))\n",
    "\n",
    "# Error on test data\n",
    "test_error_tfidfw2v = 100-acc_tfidfw2v\n",
    "print(\"\\nTest Error  Logistic Regression classifier is  %f%%\" % (test_error_tfidfw2v))\n",
    "\n",
    "# evaluating precision\n",
    "precision_score = precision_score(y_test, pred_tfidfw2v) \n",
    "print('\\nThe Test Precision of the Logistic Regression classifier for C = %.3f is %f' % (optimal_C, precision_score))\n",
    "\n",
    "# evaluating recall\n",
    "recall_score = recall_score(y_test, pred_tfidfw2v)\n",
    "print('\\nThe Test Recall of the Logistic Regression classifier for C = %.3f is %f' % (optimal_C, recall_score))\n",
    "\n",
    "# evaluating Classification report\n",
    "classification_report = classification_report(y_test, pred_tfidfw2v)\n",
    "print('\\nThe Test classification report of the Logistic regression classifier for C \\n\\n ',(classification_report))"
   ]
  },
  {
   "cell_type": "markdown",
   "metadata": {},
   "source": [
    "## 17.4 Perturbation Test\n",
    "\n",
    "Pertubation test means adding noise to one of the data point and comparing the difference b/w change in previous weights and New \n",
    "\n",
    "weights to find of collinearity."
   ]
  },
  {
   "cell_type": "code",
   "execution_count": 178,
   "metadata": {},
   "outputs": [
    {
     "name": "stdout",
     "output_type": "stream",
     "text": [
      "lambda=0.0001 ; non-zeros=50\n",
      "lambda=0.001 ; non-zeros=50\n",
      "lambda=0.01 ; non-zeros=50\n",
      "lambda=0.1 ; non-zeros=50\n",
      "lambda=1.0 ; non-zeros=50\n",
      "lambda=10.0 ; non-zeros=46\n",
      "lambda=100.0 ; non-zeros=29\n",
      "lambda=1000.0 ; non-zeros=2\n",
      "lambda=10000.0 ; non-zeros=0\n"
     ]
    }
   ],
   "source": [
    "lambd = [0.0001, 0.001, 0.01, 0.1, 1, 10, 100, 1000, 10000]\n",
    "for i in lambd[::-1]:\n",
    "    lrr = LogisticRegression(penalty = 'l1', C = i)\n",
    "    lrr.fit(standardized_data_train, y_train)\n",
    "    print(\"lambda=\"+str(1/i)+\" ; non-zeros=\"+str(np.count_nonzero(lrr.coef_)))"
   ]
  },
  {
   "cell_type": "code",
   "execution_count": 179,
   "metadata": {},
   "outputs": [
    {
     "data": {
      "text/plain": [
       "LogisticRegression(C=0.01, class_weight=None, dual=False, fit_intercept=True,\n",
       "          intercept_scaling=1, max_iter=100, multi_class='warn',\n",
       "          n_jobs=None, penalty='l2', random_state=None, solver='warn',\n",
       "          tol=0.0001, verbose=0, warm_start=False)"
      ]
     },
     "execution_count": 179,
     "metadata": {},
     "output_type": "execute_result"
    }
   ],
   "source": [
    "lr = LogisticRegression(penalty='l2', C=0.01)\n",
    "lr.fit(standardized_data_train, y_train)"
   ]
  },
  {
   "cell_type": "code",
   "execution_count": 180,
   "metadata": {},
   "outputs": [
    {
     "name": "stdout",
     "output_type": "stream",
     "text": [
      "Noise= -0.23088376788552464\n"
     ]
    }
   ],
   "source": [
    "# Applying perturbation and checking if the coefficients differ too much\n",
    "# Will not add noise to zeros\n",
    "\n",
    "noise = np.random.normal(0 , 0.1 , 1)\n",
    "print(\"Noise= \"+str(noise[0]))\n",
    "standardized_data_train.data = standardized_data_train.data + noise[0]"
   ]
  },
  {
   "cell_type": "code",
   "execution_count": 181,
   "metadata": {},
   "outputs": [
    {
     "data": {
      "text/plain": [
       "LogisticRegression(C=0.01, class_weight=None, dual=False, fit_intercept=True,\n",
       "          intercept_scaling=1, max_iter=100, multi_class='warn',\n",
       "          n_jobs=None, penalty='l2', random_state=None, solver='warn',\n",
       "          tol=0.0001, verbose=0, warm_start=False)"
      ]
     },
     "execution_count": 181,
     "metadata": {},
     "output_type": "execute_result"
    }
   ],
   "source": [
    "# Fitting the new model on the transformed data\n",
    "\n",
    "lr2 = LogisticRegression(penalty='l2', C=0.01)\n",
    "lr2.fit(standardized_data_train, y_train)"
   ]
  },
  {
   "cell_type": "code",
   "execution_count": 182,
   "metadata": {},
   "outputs": [
    {
     "name": "stdout",
     "output_type": "stream",
     "text": [
      "Number of features whose coefficients changed by more than 40% = 9\n"
     ]
    }
   ],
   "source": [
    "# Calculating the percentage change between the old and new coefficients\n",
    "count=0\n",
    "for i in range(standardized_data_train.shape[1]):\n",
    "    delta = abs((((lr.coef_[0][i] - lr2.coef_[0][i]) * 100))/ lr.coef_[0][i])\n",
    "    if delta>40:\n",
    "        count+=1\n",
    "        \n",
    "print(\"Number of features whose coefficients changed by more than 40% =\",count)"
   ]
  },
  {
   "cell_type": "markdown",
   "metadata": {},
   "source": [
    "Hence Number of Features whose coefficients changed by more than 40% is less collinear hence we cannot calculate feature importance"
   ]
  },
  {
   "cell_type": "markdown",
   "metadata": {},
   "source": [
    "## 18. Using L2 Regularization\n"
   ]
  },
  {
   "cell_type": "code",
   "execution_count": 183,
   "metadata": {},
   "outputs": [
    {
     "name": "stdout",
     "output_type": "stream",
     "text": [
      "The optimal value of C(1/lambda) is :  LogisticRegression(C=1000, class_weight='balanced', dual=False,\n",
      "          fit_intercept=True, intercept_scaling=1, max_iter=100,\n",
      "          multi_class='warn', n_jobs=None, penalty='l2', random_state=None,\n",
      "          solver='warn', tol=0.0001, verbose=0, warm_start=False)\n",
      "\n",
      " Accuracy of model using L2 Regularization 0.00030854674483184197\n"
     ]
    }
   ],
   "source": [
    "# Finding the best parameters using Random Seach CV using 2-fold Cross-Validation in Logistic Regression\n",
    "\n",
    "from sklearn.model_selection import RandomizedSearchCV\n",
    "param_distributions = {'C': [10**-4,10**-3, 10**-2,10**-1, 1, 10**1,10**2,10**3, 10**4]}\n",
    "model = RandomizedSearchCV(LogisticRegression(penalty = 'l2',class_weight='balanced'), param_distributions, scoring = 'f1',cv=2, n_iter=4, n_jobs=-1,pre_dispatch=2)\n",
    "model.fit(standardized_data_train, y_train)\n",
    "print(\"The optimal value of C(1/lambda) is : \",model.best_estimator_)\n",
    "optimal_C = model.best_estimator_.C\n",
    "print(\"\\n Accuracy of model using L2 Regularization\",model.score(standardized_data_test, y_test))"
   ]
  },
  {
   "cell_type": "code",
   "execution_count": 184,
   "metadata": {},
   "outputs": [
    {
     "data": {
      "text/plain": [
       "array([0.86160476, 0.87163863, 0.8716799 , 0.87088299])"
      ]
     },
     "execution_count": 184,
     "metadata": {},
     "output_type": "execute_result"
    }
   ],
   "source": [
    "model.best_params_\n",
    "results = model.cv_results_\n",
    "results['mean_test_score']\n"
   ]
  },
  {
   "cell_type": "code",
   "execution_count": 185,
   "metadata": {},
   "outputs": [
    {
     "data": {
      "image/png": "[encoded data removed]",
      "text/plain": [
       "<matplotlib.figure.Figure at 0x1828bc17908>"
      ]
     },
     "metadata": {},
     "output_type": "display_data"
    }
   ],
   "source": [
    "C=10**-1, 1, 10**1,10**2\n",
    "plt.plot(C,results['mean_test_score'],marker='o')\n",
    "plt.xlabel('C')\n",
    "plt.ylabel('f1score')\n",
    "plt.title(\"F1score vs hyperparameter C\")\n",
    "plt.grid()\n",
    "plt.show()"
   ]
  },
  {
   "cell_type": "code",
   "execution_count": 186,
   "metadata": {},
   "outputs": [],
   "source": [
    "# Logistic Regression with Optimal value of C(1/lambda)\n",
    "lr = LogisticRegression(penalty='l2',class_weight='balanced', C=optimal_C, n_jobs=-1)\n",
    "lr.fit(standardized_data_train,y_train)\n",
    "pred_tfidfw2v = lr.predict(standardized_data_test)"
   ]
  },
  {
   "cell_type": "markdown",
   "metadata": {},
   "source": [
    "## 18.1 Confusion Matrix"
   ]
  },
  {
   "cell_type": "code",
   "execution_count": 187,
   "metadata": {},
   "outputs": [
    {
     "name": "stdout",
     "output_type": "stream",
     "text": [
      "Confusion Matrix:\n"
     ]
    },
    {
     "data": {
      "image/png": "[encoded data removed]",
      "text/plain": [
       "<matplotlib.figure.Figure at 0x1828bc17c88>"
      ]
     },
     "metadata": {},
     "output_type": "display_data"
    }
   ],
   "source": [
    "cm_tfidfw2v=confusion_matrix(y_test,pred_tfidfw2v)\n",
    "print(\"Confusion Matrix:\")\n",
    "sns.heatmap(cm_tfidfw2v, annot=True, fmt='d')\n",
    "plt.show()"
   ]
  },
  {
   "cell_type": "code",
   "execution_count": 188,
   "metadata": {},
   "outputs": [
    {
     "name": "stdout",
     "output_type": "stream",
     "text": [
      " true negitves are 6114 \n",
      " false positives are 0 \n",
      " false negatives are 38880\n",
      " true positives are 6 \n",
      " \n"
     ]
    }
   ],
   "source": [
    "#finding out  true negative , false positive , false negative and true positve \n",
    "tn, fp, fn, tp = cm_tfidfw2v.ravel()\n",
    "( tp, fp, fn, tp)\n",
    "print(\" true negitves are {} \\n false positives are {} \\n false negatives are {}\\n true positives are {} \\n \".format(tn,fp,fn,tp))"
   ]
  },
  {
   "cell_type": "markdown",
   "metadata": {},
   "source": [
    "## 18.2 Calculating Accuracy,Error on test data,Precision,Recall,Classification Report"
   ]
  },
  {
   "cell_type": "code",
   "execution_count": 189,
   "metadata": {},
   "outputs": [
    {
     "name": "stdout",
     "output_type": "stream",
     "text": [
      "\n",
      "The Test Accuracy of the Logistic Regression classifier for C = 1000.000 is 13.600000%\n",
      "\n",
      "Test Error  Logistic Regression classifier is  86.400000%\n",
      "\n",
      "The Test Precision of the Logistic Regression classifier for C = 1000.000 is 1.000000\n",
      "\n",
      "The Test Recall of the Logistic Regression classifier for C = 1000.000 is 0.000154\n",
      "\n",
      "The Test classification report of the Logistic regression classifier for C \n",
      "\n",
      "                precision    recall  f1-score   support\n",
      "\n",
      "           0       0.14      1.00      0.24      6114\n",
      "           1       1.00      0.00      0.00     38886\n",
      "\n",
      "   micro avg       0.14      0.14      0.14     45000\n",
      "   macro avg       0.57      0.50      0.12     45000\n",
      "weighted avg       0.88      0.14      0.03     45000\n",
      "\n"
     ]
    }
   ],
   "source": [
    "from sklearn.metrics import recall_score\n",
    "from sklearn.metrics import precision_score\n",
    "from sklearn.metrics import classification_report\n",
    "\n",
    "\n",
    "# evaluating accuracy\n",
    "acc_tfidfw2v = accuracy_score(y_test, pred_tfidfw2v) * 100\n",
    "print('\\nThe Test Accuracy of the Logistic Regression classifier for C = %.3f is %f%%' % (optimal_C, acc_tfidfw2v))\n",
    "\n",
    "# Error on test data\n",
    "test_error_tfidfw2v = 100-acc_tfidfw2v\n",
    "print(\"\\nTest Error  Logistic Regression classifier is  %f%%\" % (test_error_tfidfw2v))\n",
    "\n",
    "# evaluating precision\n",
    "precision_score = precision_score(y_test, pred_tfidfw2v) \n",
    "print('\\nThe Test Precision of the Logistic Regression classifier for C = %.3f is %f' % (optimal_C, precision_score))\n",
    "\n",
    "# evaluating recall\n",
    "recall_score = recall_score(y_test, pred_tfidfw2v)\n",
    "print('\\nThe Test Recall of the Logistic Regression classifier for C = %.3f is %f' % (optimal_C, recall_score))\n",
    "\n",
    "# evaluating Classification report\n",
    "classification_report = classification_report(y_test, pred_tfidfw2v)\n",
    "print('\\nThe Test classification report of the Logistic regression classifier for C \\n\\n ',(classification_report))"
   ]
  },
  {
   "cell_type": "markdown",
   "metadata": {},
   "source": [
    "## 18.3 Perturbation Test\n",
    "\n",
    "Pertubation test means adding noise to one of the data point and comparing the difference b/w change in previous weights and New \n",
    "\n",
    "weights to find of collinearity."
   ]
  },
  {
   "cell_type": "code",
   "execution_count": 190,
   "metadata": {},
   "outputs": [
    {
     "name": "stdout",
     "output_type": "stream",
     "text": [
      "lambda=0.0001 ; non-zeros=50\n",
      "lambda=0.001 ; non-zeros=50\n",
      "lambda=0.01 ; non-zeros=50\n",
      "lambda=0.1 ; non-zeros=50\n",
      "lambda=1.0 ; non-zeros=50\n",
      "lambda=10.0 ; non-zeros=48\n",
      "lambda=100.0 ; non-zeros=31\n",
      "lambda=1000.0 ; non-zeros=4\n",
      "lambda=10000.0 ; non-zeros=0\n"
     ]
    }
   ],
   "source": [
    "lambd = [0.0001, 0.001, 0.01, 0.1, 1, 10, 100, 1000, 10000]\n",
    "for i in lambd[::-1]:\n",
    "    lrr = LogisticRegression(penalty = 'l1', C = i)\n",
    "    lrr.fit(standardized_data_train, y_train)\n",
    "    print(\"lambda=\"+str(1/i)+\" ; non-zeros=\"+str(np.count_nonzero(lrr.coef_)))"
   ]
  },
  {
   "cell_type": "code",
   "execution_count": 191,
   "metadata": {},
   "outputs": [
    {
     "data": {
      "text/plain": [
       "LogisticRegression(C=0.01, class_weight=None, dual=False, fit_intercept=True,\n",
       "          intercept_scaling=1, max_iter=100, multi_class='warn',\n",
       "          n_jobs=None, penalty='l2', random_state=None, solver='warn',\n",
       "          tol=0.0001, verbose=0, warm_start=False)"
      ]
     },
     "execution_count": 191,
     "metadata": {},
     "output_type": "execute_result"
    }
   ],
   "source": [
    "lr = LogisticRegression(penalty='l2', C=0.01)\n",
    "lr.fit(standardized_data_train, y_train)"
   ]
  },
  {
   "cell_type": "code",
   "execution_count": 192,
   "metadata": {},
   "outputs": [
    {
     "name": "stdout",
     "output_type": "stream",
     "text": [
      "Noise= -0.061877811121505734\n"
     ]
    }
   ],
   "source": [
    "# Applying perturbation and checking if the coefficients differ too much\n",
    "# Will not add noise to zeros\n",
    "\n",
    "noise = np.random.normal(0 , 0.1 , 1)\n",
    "print(\"Noise= \"+str(noise[0]))\n",
    "standardized_data_train.data = standardized_data_train.data + noise[0]"
   ]
  },
  {
   "cell_type": "code",
   "execution_count": 193,
   "metadata": {},
   "outputs": [
    {
     "data": {
      "text/plain": [
       "LogisticRegression(C=0.01, class_weight=None, dual=False, fit_intercept=True,\n",
       "          intercept_scaling=1, max_iter=100, multi_class='warn',\n",
       "          n_jobs=None, penalty='l2', random_state=None, solver='warn',\n",
       "          tol=0.0001, verbose=0, warm_start=False)"
      ]
     },
     "execution_count": 193,
     "metadata": {},
     "output_type": "execute_result"
    }
   ],
   "source": [
    "# Fitting the new model on the transformed data\n",
    "\n",
    "lr2 = LogisticRegression(penalty='l2', C=0.01)\n",
    "lr2.fit(standardized_data_train, y_train)"
   ]
  },
  {
   "cell_type": "code",
   "execution_count": 194,
   "metadata": {},
   "outputs": [
    {
     "name": "stdout",
     "output_type": "stream",
     "text": [
      "Number of features whose coefficients changed by more than 40% = 2\n"
     ]
    }
   ],
   "source": [
    "# Calculating the percentage change between the old and new coefficients\n",
    "count=0\n",
    "for i in range(standardized_data_train.shape[1]):\n",
    "    delta = abs((((lr.coef_[0][i] - lr2.coef_[0][i]) * 100))/ lr.coef_[0][i])\n",
    "    if delta>40:\n",
    "        count+=1\n",
    "        \n",
    "print(\"Number of features whose coefficients changed by more than 40% =\",count)"
   ]
  },
  {
   "cell_type": "markdown",
   "metadata": {},
   "source": [
    "Hence Number of Features whose coefficients changed by more than 40% is less collinear hence we cannot calculate feature importance"
   ]
  },
  {
   "cell_type": "markdown",
   "metadata": {},
   "source": [
    "## 19.Conclusion"
   ]
  },
  {
   "cell_type": "markdown",
   "metadata": {},
   "source": [
    "## Model performance table"
   ]
  },
  {
   "cell_type": "markdown",
   "metadata": {},
   "source": [
    "-----------------------------------------------------------------------------------------------------------------------\n",
    "|                                            GRID SEARCH                                                              |\n",
    "-----------------------------------------------------------------------------------------------------------------------------\n",
    "|           Model                    | Hyper parameter(c) with GRID search  | Regularizer  | Train Error  | Accuracy  |\n",
    "|:----------------------------------:|:------------------------------------:|:------------:|:------------:|:---------:|\n",
    "| Logistic Regression with Bow       | 100                                  |   L2         |11.724444     |88.275556  |\n",
    "| Logistic Regression with Tfidf     | 10                                   |   L2         |10.63333      |89.366667  |\n",
    "| Logistic Regression with Avgw2v    | 1                                    |   L2         |21.37333      |78.626667  |\n",
    "| Logistic Regression with Tfidfw2v  | 0.100                                |   L2         |65.517778     |34.482222  |\n",
    "-----------------------------------------------------------------------------------------------------------------------------\n",
    "|                                            RANDOM SEARCH                                                            |\n",
    "-----------------------------------------------------------------------------------------------------------------------------\n",
    "|           Model                    | Hyper parameter(c) with Random search| Regularizer  | Train Error  | Accuracy  |\n",
    "|:----------------------------------:|:------------------------------------:|:------------:|:------------:|:---------:|\n",
    "| Logistic Regression with Bow       | 10                                   |   L2         |10.897778     |89.102222  |\n",
    "| Logistic Regression with Tfidf     | 10                                   |   L2         |10.633333     |89.366667  |\n",
    "| Logistic Regression with Avgw2v    | 10                                   |   L2         |18.826667     |81.173333  |\n",
    "| Logistic Regression with Tfidfw2v  | 1000                                 |   L2         |86.400000     |13.600000  |\n",
    "-----------------------------------------------------------------------------------------------------------------------------"
   ]
  },
  {
   "cell_type": "markdown",
   "metadata": {},
   "source": [
    " Logistic regression is used to describe data and to explain the relationship between one dependent binary variable and one or more nominal, ordinal, interval or ratio-level independent variables.\n",
    "\n",
    "Logistic regression is used to obtain odds ratio in the presence of more than one explanatory variable.\n",
    "\n",
    "Logistic regression does not assume a linear relationship between the dependent variable and the independent variables, but it does assume linear relationship between the logit of the explanatory variables and the response.\n",
    "\n",
    "Independent variables can be even the power terms or some other nonlinear transformations of the original independent variables\n",
    "\n",
    "The dependent variable does NOT need to be normally distributed, but it typically assumes a distribution from an exponential family (e.g. binomial, Poisson, multinomial, normal,...); binary logistic regression assume binomial distribution of the response\n",
    "\n",
    "The goal of logistic regression is to correctly predict the category of outcome for individual cases using the most parsimonious model. To accomplish this goal, a model is created that includes all predictor variables that are useful in predicting the response variable.\n",
    "\n",
    "Assumptions of Logistic Regression\n",
    "\n",
    "1)logistic regression does not require a linear relationship between the dependent and independent variables. \n",
    "\n",
    "2)Second, the error terms (residuals) do not need to be normally distributed.  \n",
    "\n",
    "3)Third, homoscedasticity is not required.  \n",
    "\n",
    "4)Finally, the dependent variable in logistic regression is not measured on an interval or ratio scale.\n",
    "\n",
    "Steps Involved:-\n",
    "\n",
    "1)Connecting SQL file\n",
    "\n",
    "2)Data Preprocessing(Already i had done preprocessing no need to do again)\n",
    "\n",
    "3)Sorting the data based on time\n",
    "\n",
    "4)Mapping the data (i had changed my partition positive=1 and Negative=0)\n",
    "\n",
    "5)Taking 1st 150K Rows (Due to low Ram)\n",
    "\n",
    "6)Spliting data into train and test based on time (70:30)\n",
    "\n",
    "7)Techniques For Vectorization Bow,TF-IDF,Avgword2vec,Tfidfword2vec\n",
    "\n",
    "8)Standardizing Data and Applying Logistic Regression Algorithm\n",
    "\n",
    "9)Plotting graph between f1score vs alpha\n",
    "\n",
    "9)I calculated Accuracy,Error on Test Data, Confusion Matrix, Classification Report,Precision Score,Recall Score,\n",
    "F1-Score,Feature Importance,Log-Probabilities.\n",
    "\n",
    "10)Performing perturbation test\n",
    "\n",
    "11)Gettting Important Features \n",
    "\n",
    "12)I Designed Model Performance Table\n",
    "\n",
    "13)Conclusion\n",
    "\n",
    "\n"
   ]
  },
  {
   "cell_type": "code",
   "execution_count": null,
   "metadata": {},
   "outputs": [],
   "source": []
  }
 ],
 "metadata": {
  "kernelspec": {
   "display_name": "Python 3",
   "language": "python",
   "name": "python3"
  },
  "language_info": {
   "codemirror_mode": {
    "name": "ipython",
    "version": 3
   },
   "file_extension": ".py",
   "mimetype": "text/x-python",
   "name": "python",
   "nbconvert_exporter": "python",
   "pygments_lexer": "ipython3",
   "version": "3.6.4"
  }
 },
 "nbformat": 4,
 "nbformat_minor": 2
}
